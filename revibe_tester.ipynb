{
  "nbformat": 4,
  "nbformat_minor": 0,
  "metadata": {
    "accelerator": "GPU",
    "colab": {
      "name": "revibe_tester.ipynb",
      "provenance": [],
      "collapsed_sections": [
        "_JZveEyzUcK8"
      ]
    },
    "kernelspec": {
      "display_name": "Python 3",
      "name": "python3"
    },
    "language_info": {
      "name": "python"
    }
  },
  "cells": [
    {
      "cell_type": "markdown",
      "metadata": {
        "id": "Hys4JgzKS1Un"
      },
      "source": [
        "# Text questions"
      ]
    },
    {
      "cell_type": "markdown",
      "metadata": {
        "id": "5LzD_X_RG2m-"
      },
      "source": [
        "# INTEGRACIÓN BACKEND AI"
      ]
    },
    {
      "cell_type": "code",
      "metadata": {
        "colab": {
          "base_uri": "https://localhost:8080/"
        },
        "id": "JzSdgCYOj-6e",
        "outputId": "03dfab58-0808-4738-e5ae-0cb300ccbee7"
      },
      "source": [
        "!pip install pickle5"
      ],
      "execution_count": null,
      "outputs": [
        {
          "output_type": "stream",
          "name": "stdout",
          "text": [
            "Collecting pickle5\n",
            "  Downloading pickle5-0.0.11.tar.gz (132 kB)\n",
            "\u001b[?25l\r\u001b[K     |██▌                             | 10 kB 21.2 MB/s eta 0:00:01\r\u001b[K     |█████                           | 20 kB 9.6 MB/s eta 0:00:01\r\u001b[K     |███████▍                        | 30 kB 8.0 MB/s eta 0:00:01\r\u001b[K     |██████████                      | 40 kB 7.5 MB/s eta 0:00:01\r\u001b[K     |████████████▍                   | 51 kB 4.0 MB/s eta 0:00:01\r\u001b[K     |██████████████▉                 | 61 kB 4.3 MB/s eta 0:00:01\r\u001b[K     |█████████████████▍              | 71 kB 4.5 MB/s eta 0:00:01\r\u001b[K     |███████████████████▉            | 81 kB 5.0 MB/s eta 0:00:01\r\u001b[K     |██████████████████████▎         | 92 kB 3.8 MB/s eta 0:00:01\r\u001b[K     |████████████████████████▉       | 102 kB 4.1 MB/s eta 0:00:01\r\u001b[K     |███████████████████████████▎    | 112 kB 4.1 MB/s eta 0:00:01\r\u001b[K     |█████████████████████████████▊  | 122 kB 4.1 MB/s eta 0:00:01\r\u001b[K     |████████████████████████████████| 132 kB 4.1 MB/s \n",
            "\u001b[?25hBuilding wheels for collected packages: pickle5\n",
            "  Building wheel for pickle5 (setup.py) ... \u001b[?25l\u001b[?25hdone\n",
            "  Created wheel for pickle5: filename=pickle5-0.0.11-cp37-cp37m-linux_x86_64.whl size=219318 sha256=7e996cc04bf60bc4bde9d6837abb3b269bfd8d3d116fd7dc542ba9c1e7cddfd5\n",
            "  Stored in directory: /root/.cache/pip/wheels/7e/6a/00/67136a90d6aca437d806d1d3cedf98106e840c97a3e5188198\n",
            "Successfully built pickle5\n",
            "Installing collected packages: pickle5\n",
            "Successfully installed pickle5-0.0.11\n"
          ]
        }
      ]
    },
    {
      "cell_type": "code",
      "metadata": {
        "colab": {
          "base_uri": "https://localhost:8080/",
          "height": 159
        },
        "id": "JdWWa5AJtv3K",
        "outputId": "95e7c7a1-8f03-4fbc-c9d1-45f39a76d5ae"
      },
      "source": [
        "import random\n",
        "import os\n",
        "import pickle5 as pickle\n",
        "import requests\n",
        "import pandas as pd\n",
        "import numpy as np\n",
        "basic_spotify_url = \"https://open.spotify.com/playlist/\"\n",
        "\n",
        "# LINEAS IMPORTANTES DE FIREBASE\n",
        "\n",
        "# __location__ = os.path.realpath(os.path.join(\n",
        "#     os.getcwd(), os.path.dirname(__file__))) + '/models/'\n",
        "\n",
        "\n",
        "def test_model(request):\n",
        "\n",
        "    question_set = request[\"set\"]\n",
        "    file_name = \"rf_\" + \"\".join([str(i) for i in question_set]) + \".sav\"\n",
        "    answers = request[\"arrayOfAnswers\"]\n",
        "\n",
        "    # try:\n",
        "        # LINEAS IMPORTANTES DE FIREBASE\n",
        "  \n",
        "        # with open(os.path.join(__location__, file_name), 'rb') as f:\n",
        "        #     rf_predictor = pickle.loads(f.read())\n",
        "        #     test_result = rf_predictor.predict([answers])\n",
        "        #     return str(generate_playlist(test_result, request))\n",
        "        # return str(generate_playlist(3.26665, request))\n",
        "    return str(generate_playlist(3.26665, request))\n",
        "\n",
        "    # except Exception as e:\n",
        "    #     return \"{state:true, err:{msg:{\" + str(e) + \"}}}\"\n",
        "\n",
        "def generate_playlist(initial_test_result, request):\n",
        "\n",
        "    token = \"Bearer \" + request[\"access_token\"]\n",
        "    \n",
        "    top_tracks = requests.get(\"https://api.spotify.com/v1/me/top/tracks\", headers={\"Authorization\": token}).json()\n",
        "    top_artists = requests.get(\"https://api.spotify.com/v1/me/top/artists\", headers={\"Authorization\": token}).json()\n",
        "    songs_ids = []\n",
        "\n",
        "    for song in top_tracks[\"items\"]:\n",
        "      album_id = song[\"album\"][\"id\"]\n",
        "      url_album = f\"https://api.spotify.com/v1/albums/{album_id}/tracks\"\n",
        "      album_songs = requests.get(url_album, headers={\"Authorization\": token}).json()\n",
        "      for song in album_songs[\"items\"]:\n",
        "          songs_ids.append(song[\"id\"])\n",
        "    \n",
        "    top_artists_songs_features = np.array([])\n",
        "\n",
        "    for artist in top_artists[\"items\"]:\n",
        "        url = f\"https://api.spotify.com/v1/artists/{artist['id']}/top-tracks?market=US\"\n",
        "        top_tracks = requests.get(url, headers={\"Authorization\": token}).json()[\"tracks\"]\n",
        "        \n",
        "    for song in top_tracks:\n",
        "        songs_ids.append(song[\"id\"])\n",
        "\n",
        "    songs_ids = list(set(songs_ids))\n",
        "    songs_features = np.array([])\n",
        "\n",
        "    for i in range(0, len(songs_ids), 100):\n",
        "        end = i + 100 if len(songs_ids) - i >= 100 else len(songs_ids) \n",
        "        batch = songs_ids[i:end]\n",
        "        ids = \",\".join(batch)\n",
        "        URL = f\"https://api.spotify.com/v1/audio-features?ids={ids}\"\n",
        "        batch_songs_features = np.array(requests.get(URL, headers={\"Authorization\": token}).json()[\"audio_features\"])\n",
        "        songs_features = np.concatenate((songs_features, batch_songs_features))\n",
        "\n",
        "    df_songs_complete = pd.DataFrame(songs_features.tolist())\n",
        "    df_songs = df_songs_complete.drop([\"analysis_url\", \"id\", \"track_href\", \"track_href\", \"uri\", \"type\"], axis=1)\n",
        "    \n",
        "    print(df_songs.values.tolist())\n",
        "    \n",
        "    # songs_mean = AGARRAR DE LA DATABASE\n",
        "    # songs_std = AGARRAR DE LA DATABASE\n",
        "    # normalized_df_songs = (df_songs - songs_mean) / songs_std\n",
        "    normalized_df_songs = (df_songs - df_songs.mean()) / df_songs.std()\n",
        "\n",
        "    print(\"size = \", normalized_df_songs.size)\n",
        "    print(normalized_df_songs.iloc(0))\n",
        "\n",
        "    correlative_weights = np.random.rand(13)\n",
        "    # correlative_weights = AGARRAR DE LA DATABASE\n",
        "    normalized_songs = normalized_df_songs.values\n",
        "    scores = normalized_songs.dot(correlative_weights)\n",
        "    normalized_df_songs[\"score\"] = scores\n",
        "\n",
        "    number_of_songs = 3\n",
        "    normalized_df_songs = normalized_df_songs.sort_values(\"score\", ascending=False)\n",
        "    songs_id = df_songs_complete.loc[normalized_df_songs.index[range(number_of_songs)]][\"id\"].values\n",
        "    for song_id in songs_id:\n",
        "      url_song = f\"https://api.spotify.com/v1/tracks/{song_id}\"\n",
        "      song = requests.get(url_song, headers={\"Authorization\": token}).json()\n",
        "      print(song[\"name\"] + \", \" + song[\"artists\"][0][\"name\"])\n",
        "\n",
        "# SI TIRA UNA EXCEPTION CON ALGO DE [\"items\"] o [\"audio_features\"] hay que refrescar el access token de spotify que seguró se venció\n",
        "# aca podes agarrar uno nuevo https://developer.spotify.com/console/get-current-user-top-artists-and-tracks/?type=artists&time_range=&limit=&offset= \n",
        "req = {\n",
        "    \"arrayOfAnswers\":[0,2,1,2,1,2],\n",
        "    \"set\": [\n",
        "        3,\n",
        "        6,\n",
        "        10,\n",
        "        12,\n",
        "        16,\n",
        "    ],\n",
        "    \"access_token\":\"BQDB76aUXI_ORuUhLjVS4MuwlyRUQJchIFelCplw9pyDEZvI9WToJ11ng5-rIQ2WhfEs3d9fCzT0Ag9O2hzGyLgjbRfSHYONj6mCALOZ2gfQwExsxZCcSFzp_dWH-Far60UFZgRx89xoNjwtBbv8EysuMTSKteHMFOe4kjR7fjhwlsOpK2PHpIfdYuYVeTpGkWicAf5IAUsNKSefb-33lTMiwlMTdTvhmMcEIr75oy8wRMlh0ck\"\n",
        "}\n",
        "\n",
        "test_model(req)"
      ],
      "execution_count": null,
      "outputs": [
        {
          "output_type": "stream",
          "name": "stdout",
          "text": [
            "[[0.743, 0.352, 9.0, -17.225, 0.0, 0.061, 0.146, 0.104, 0.0585, 0.722, 108.785, 350600.0, 4.0], [0.699, 0.61, 2.0, -9.308, 0.0, 0.0541, 0.511, 2.31e-06, 0.127, 0.846, 178.112, 237107.0, 4.0], [0.688, 0.491, 5.0, -7.494, 1.0, 0.269, 0.334, 0.0, 0.0914, 0.737, 79.009, 249771.0, 4.0], [0.537, 0.0498, 10.0, -16.722, 1.0, 0.0239, 0.769, 0.272, 0.105, 0.0692, 59.991, 190379.0, 4.0], [0.892, 0.685, 10.0, -4.906, 0.0, 0.072, 0.301, 0.000744, 0.0775, 0.61, 95.958, 263090.0, 4.0], [0.596, 0.422, 7.0, -9.457, 1.0, 0.0307, 0.725, 1.5e-06, 0.111, 0.642, 179.965, 232333.0, 3.0], [0.595, 0.751, 0.0, -4.711, 0.0, 0.0601, 0.133, 0.0, 0.317, 0.837, 109.493, 175747.0, 4.0], [0.719, 0.222, 10.0, -18.644, 1.0, 0.052, 0.623, 0.91, 0.0991, 0.499, 92.409, 326773.0, 4.0], [0.587, 0.362, 7.0, -7.636, 1.0, 0.0276, 0.199, 1.09e-05, 0.0819, 0.248, 145.961, 340920.0, 4.0], [0.672, 0.875, 1.0, -5.398, 0.0, 0.04, 0.0126, 3.38e-05, 0.135, 0.856, 114.924, 182877.0, 4.0], [0.549, 0.425, 9.0, -15.87, 0.0, 0.0292, 0.404, 0.337, 0.362, 0.507, 82.101, 393987.0, 4.0], [0.449, 0.465, 0.0, -8.964, 1.0, 0.0791, 0.524, 1.02e-06, 0.303, 0.543, 89.087, 198371.0, 3.0], [0.743, 0.429, 10.0, -14.576, 0.0, 0.0902, 0.447, 0.362, 0.0455, 0.597, 95.406, 443773.0, 4.0], [0.811, 0.231, 4.0, -10.22, 1.0, 0.0576, 0.85, 0.913, 0.153, 0.402, 97.002, 220864.0, 4.0], [0.785, 0.302, 0.0, -14.555, 0.0, 0.0551, 0.735, 0.12, 0.123, 0.467, 122.979, 392027.0, 4.0], [0.555, 0.0845, 4.0, -18.348, 1.0, 0.0518, 0.871, 2.27e-06, 0.138, 0.375, 137.001, 46200.0, 4.0], [0.721, 0.622, 0.0, -6.627, 1.0, 0.0256, 0.765, 0.000249, 0.117, 0.334, 102.907, 189133.0, 4.0], [0.665, 0.839, 1.0, -4.383, 1.0, 0.0375, 0.254, 2.75e-06, 0.249, 0.636, 123.982, 258107.0, 4.0], [0.608, 0.776, 11.0, -3.635, 1.0, 0.0511, 0.241, 0.0, 0.0713, 0.814, 89.996, 263733.0, 4.0], [0.592, 0.214, 1.0, -13.468, 1.0, 0.115, 0.936, 1.62e-05, 0.253, 0.422, 81.672, 117037.0, 4.0], [0.468, 0.686, 4.0, -10.579, 0.0, 0.0307, 0.0134, 0.000479, 0.163, 0.305, 111.099, 460293.0, 4.0], [0.495, 0.291, 9.0, -19.429, 1.0, 0.0293, 0.562, 0.452, 0.1, 0.52, 79.059, 279827.0, 4.0], [0.774, 0.872, 1.0, -3.956, 1.0, 0.0757, 0.247, 0.0, 0.0903, 0.76, 120.881, 210773.0, 4.0], [0.476, 0.764, 9.0, -6.454, 1.0, 0.032, 0.00325, 0.112, 0.138, 0.545, 171.903, 448307.0, 4.0], [0.331, 0.772, 9.0, -6.376, 0.0, 0.0546, 0.474, 0.576, 0.338, 0.545, 184.031, 283880.0, 4.0], [0.506, 0.909, 0.0, -5.746, 0.0, 0.08, 0.00145, 0.457, 0.17, 0.499, 100.101, 315187.0, 4.0], [0.684, 0.24, 11.0, -13.391, 0.0, 0.0372, 0.928, 2.86e-05, 0.105, 0.262, 117.005, 226733.0, 4.0], [0.664, 0.688, 7.0, -9.052, 1.0, 0.031, 0.625, 0.0785, 0.111, 0.194, 95.041, 390213.0, 4.0], [0.338, 0.812, 9.0, -8.363, 0.0, 0.0767, 0.505, 0.33, 0.945, 0.173, 199.797, 562133.0, 4.0], [0.561, 0.223, 1.0, -13.406, 0.0, 0.0322, 0.936, 0.000239, 0.107, 0.153, 121.916, 214853.0, 4.0], [0.53, 0.592, 9.0, -13.444, 1.0, 0.0309, 0.189, 0.00174, 0.198, 0.795, 150.224, 312240.0, 4.0], [0.685, 0.483, 4.0, -8.55, 0.0, 0.0291, 0.306, 0.00833, 0.105, 0.497, 124.933, 287267.0, 4.0], [0.641, 0.426, 2.0, -12.009, 0.0, 0.0339, 0.638, 0.848, 0.116, 0.714, 97.398, 177467.0, 4.0], [0.648, 0.792, 0.0, -6.058, 1.0, 0.035, 0.0657, 5.31e-06, 0.0788, 0.935, 159.968, 260867.0, 4.0], [0.616, 0.766, 4.0, -6.59, 0.0, 0.0382, 0.0776, 0.0, 0.361, 0.373, 83.965, 259840.0, 4.0], [0.78, 0.716, 6.0, -4.551, 0.0, 0.0439, 0.0489, 5.92e-06, 0.0704, 0.362, 105.017, 253680.0, 4.0], [0.571, 0.939, 7.0, -4.222, 1.0, 0.0592, 0.0489, 0.0, 0.414, 0.655, 122.061, 211993.0, 4.0], [0.429, 0.661, 11.0, -7.227, 1.0, 0.0281, 0.00239, 0.000121, 0.234, 0.285, 173.372, 266773.0, 4.0], [0.448, 0.618, 9.0, -11.343, 1.0, 0.0264, 0.438, 0.916, 0.106, 0.798, 81.898, 209587.0, 4.0], [0.235, 0.945, 11.0, -6.221, 0.0, 0.0921, 0.142, 0.949, 0.346, 0.632, 166.414, 193240.0, 4.0], [0.521, 0.293, 7.0, -12.54, 0.0, 0.037, 0.842, 0.0, 0.113, 0.492, 104.774, 220032.0, 4.0], [0.47, 0.563, 2.0, -8.838, 0.0, 0.036, 0.571, 0.00804, 0.109, 0.586, 105.5, 244333.0, 4.0], [0.637, 0.805, 0.0, -4.087, 0.0, 0.0399, 0.206, 0.0, 0.2, 0.531, 152.964, 219093.0, 3.0], [0.521, 0.755, 4.0, -7.223, 1.0, 0.0272, 0.319, 0.769, 0.129, 0.617, 93.986, 258347.0, 4.0], [0.345, 0.628, 11.0, -6.199, 1.0, 0.0351, 0.00783, 0.000378, 0.405, 0.198, 173.988, 251997.0, 4.0], [0.543, 0.473, 6.0, -9.638, 1.0, 0.157, 0.124, 4.04e-06, 0.0922, 0.519, 86.534, 193750.0, 4.0], [0.576, 0.173, 11.0, -11.239, 0.0, 0.0392, 0.899, 0.0, 0.108, 0.354, 124.973, 162261.0, 4.0], [0.444, 0.57, 7.0, -11.623, 1.0, 0.0288, 0.101, 0.858, 0.104, 0.296, 204.468, 181320.0, 4.0], [0.547, 0.522, 0.0, -9.15, 1.0, 0.027, 0.061, 0.308, 0.0745, 0.25, 82.524, 218027.0, 4.0], [0.71, 0.558, 9.0, -5.97, 1.0, 0.0274, 0.371, 4.7e-05, 0.355, 0.858, 100.999, 237637.0, 4.0], [0.446, 0.76, 7.0, -3.608, 1.0, 0.0453, 0.00891, 0.000108, 0.232, 0.512, 150.033, 308388.0, 4.0], [0.535, 0.409, 7.0, -9.517, 0.0, 0.0855, 0.777, 0.0, 0.129, 0.138, 170.123, 172907.0, 4.0], [0.616, 0.789, 9.0, -6.316, 0.0, 0.0417, 0.0755, 2.08e-05, 0.914, 0.272, 90.968, 249013.0, 4.0], [0.561, 0.427, 11.0, -12.446, 1.0, 0.0301, 0.144, 0.853, 0.122, 0.0831, 100.012, 176821.0, 4.0], [0.7, 0.492, 0.0, -7.782, 1.0, 0.0346, 0.464, 0.000155, 0.0878, 0.695, 127.949, 325227.0, 4.0], [0.766, 0.381, 10.0, -14.456, 0.0, 0.0805, 0.18, 0.0844, 0.48, 0.634, 98.862, 452573.0, 4.0], [0.74, 0.727, 2.0, -6.253, 1.0, 0.278, 0.187, 0.0, 0.627, 0.792, 101.409, 186543.0, 4.0], [0.72, 0.666, 7.0, -6.914, 1.0, 0.328, 0.399, 0.0, 0.0844, 0.383, 138.03, 127578.0, 4.0], [0.584, 0.833, 6.0, -5.9, 1.0, 0.041, 0.00359, 3.44e-05, 0.169, 0.324, 140.013, 267387.0, 4.0], [0.438, 0.564, 10.0, -11.121, 1.0, 0.046, 0.000236, 0.129, 0.0754, 0.0392, 90.778, 200981.0, 5.0], [0.795, 0.409, 9.0, -8.334, 0.0, 0.372, 0.684, 0.0, 0.0548, 0.577, 77.879, 112742.0, 3.0], [0.59, 0.943, 2.0, -5.941, 1.0, 0.056, 0.32, 0.0291, 0.366, 0.128, 122.016, 499853.0, 4.0], [0.616, 0.426, 0.0, -12.022, 1.0, 0.0259, 0.671, 0.0609, 0.103, 0.255, 99.975, 334467.0, 4.0], [0.526, 0.763, 0.0, -12.663, 0.0, 0.0341, 0.00126, 6.75e-05, 0.359, 0.514, 136.205, 215160.0, 4.0], [0.438, 0.373, 0.0, -9.769, 0.0, 0.0291, 0.803, 0.0, 0.123, 0.274, 77.415, 97050.0, 4.0], [0.766, 0.519, 9.0, -7.355, 0.0, 0.0366, 0.098, 0.0, 0.0855, 0.612, 129.972, 267720.0, 4.0], [0.734, 0.576, 10.0, -8.296, 1.0, 0.0398, 0.021, 1.54e-05, 0.11, 0.908, 160.033, 214493.0, 4.0], [0.703, 0.676, 9.0, -5.839, 0.0, 0.0276, 0.133, 1.22e-06, 0.169, 0.779, 108.967, 243040.0, 4.0], [0.781, 0.565, 1.0, -8.087, 0.0, 0.0332, 0.588, 0.00572, 0.112, 0.917, 133.982, 207147.0, 4.0], [0.698, 0.649, 8.0, -6.764, 1.0, 0.415, 0.15, 0.0, 0.0903, 0.568, 180.466, 333154.0, 4.0], [0.68, 0.413, 8.0, -9.41, 1.0, 0.492, 0.177, 0.0, 0.205, 0.383, 158.576, 321697.0, 4.0], [0.416, 0.455, 7.0, -9.911, 1.0, 0.0923, 0.464, 2.05e-05, 0.619, 0.408, 81.735, 164967.0, 4.0], [0.562, 0.594, 2.0, -9.701, 1.0, 0.041, 0.283, 0.0337, 0.115, 0.553, 110.132, 159987.0, 4.0], [0.398, 0.596, 6.0, -10.225, 1.0, 0.0296, 0.697, 0.292, 0.3, 0.568, 85.006, 192293.0, 4.0], [0.528, 0.308, 9.0, -9.769, 1.0, 0.0341, 0.816, 0.0, 0.0934, 0.256, 80.017, 236040.0, 4.0], [0.385, 0.364, 5.0, -16.837, 1.0, 0.0309, 0.28, 0.441, 0.164, 0.299, 150.285, 330800.0, 4.0], [0.667, 0.287, 0.0, -9.718, 1.0, 0.0334, 0.769, 3.61e-06, 0.106, 0.545, 127.981, 279213.0, 4.0], [0.607, 0.604, 6.0, -7.69, 1.0, 0.0279, 0.0541, 1.77e-05, 0.541, 0.61, 104.897, 257177.0, 4.0], [0.382, 0.552, 7.0, -12.911, 0.0, 0.075, 0.572, 0.857, 0.115, 0.288, 219.346, 163904.0, 3.0], [0.309, 0.673, 1.0, -5.524, 0.0, 0.0319, 0.0236, 0.000144, 0.0635, 0.0732, 147.599, 318773.0, 4.0], [0.559, 0.578, 8.0, -9.155, 1.0, 0.0364, 0.694, 0.0, 0.143, 0.538, 99.957, 274280.0, 4.0], [0.854, 0.327, 8.0, -10.834, 1.0, 0.507, 0.41, 0.0, 0.0889, 0.688, 131.352, 69901.0, 4.0], [0.572, 0.61, 2.0, -12.196, 0.0, 0.029, 0.494, 0.00523, 0.31, 0.632, 108.205, 310560.0, 4.0], [0.519, 0.862, 8.0, -9.468, 1.0, 0.0604, 0.0827, 0.679, 0.286, 0.82, 89.465, 159307.0, 4.0], [0.361, 0.428, 0.0, -9.282, 1.0, 0.0306, 0.00451, 0.66, 0.0879, 0.125, 86.884, 317347.0, 4.0], [0.362, 0.602, 9.0, -8.093, 1.0, 0.03, 0.0404, 0.764, 0.224, 0.624, 94.743, 168147.0, 4.0], [0.602, 0.612, 0.0, -8.409, 1.0, 0.0335, 0.206, 0.00607, 0.107, 0.453, 122.062, 136867.0, 4.0], [0.433, 0.288, 6.0, -10.801, 0.0, 0.0296, 0.535, 0.000169, 0.105, 0.131, 136.939, 249400.0, 3.0], [0.553, 0.794, 6.0, -12.635, 0.0, 0.0425, 0.226, 0.0378, 0.0904, 0.558, 128.176, 261960.0, 4.0], [0.565, 0.68, 7.0, -7.609, 1.0, 0.0269, 0.0046, 0.0936, 0.076, 0.121, 116.973, 367427.0, 4.0], [0.734, 0.752, 9.0, -6.049, 0.0, 0.0386, 0.00859, 1.84e-05, 0.0852, 0.541, 117.998, 211507.0, 4.0], [0.558, 0.653, 0.0, -10.268, 1.0, 0.034, 0.00476, 0.418, 0.109, 0.0853, 123.907, 106965.0, 4.0], [0.396, 0.803, 4.0, -6.186, 1.0, 0.0487, 0.0334, 0.0, 0.0688, 0.286, 116.705, 304200.0, 3.0], [0.625, 0.827, 4.0, -6.763, 0.0, 0.0602, 0.0802, 0.0, 0.164, 0.613, 165.912, 278920.0, 4.0], [0.123, 0.246, 10.0, -12.139, 1.0, 0.0312, 0.594, 0.955, 0.114, 0.121, 82.82, 115403.0, 4.0], [0.707, 0.593, 5.0, -8.581, 0.0, 0.0949, 0.287, 0.0, 0.15, 0.478, 123.772, 329228.0, 4.0], [0.718, 0.714, 0.0, -5.699, 1.0, 0.0622, 0.0963, 0.0, 0.141, 0.84, 149.949, 229120.0, 4.0], [0.607, 0.466, 0.0, -7.562, 1.0, 0.0578, 0.39, 0.0, 0.135, 0.434, 121.741, 208321.0, 4.0], [0.589, 0.507, 0.0, -7.085, 1.0, 0.0661, 0.271, 0.0, 0.335, 0.33, 144.137, 193467.0, 4.0], [0.424, 0.34, 4.0, -17.682, 1.0, 0.49, 0.681, 0.0, 0.463, 0.147, 113.385, 45283.0, 3.0], [0.777, 0.421, 10.0, -14.194, 1.0, 0.0498, 0.768, 0.398, 0.0962, 0.767, 132.81, 374107.0, 4.0], [0.831, 0.76, 6.0, -4.184, 1.0, 0.0807, 0.167, 0.0, 0.0871, 0.865, 113.969, 146813.0, 4.0], [0.732, 0.643, 10.0, -8.318, 0.0, 0.474, 0.378, 0.0, 0.363, 0.644, 88.543, 83632.0, 4.0], [0.714, 0.8, 11.0, -4.808, 0.0, 0.0504, 0.127, 0.0, 0.359, 0.589, 134.002, 211560.0, 4.0], [0.69, 0.678, 0.0, -6.52, 1.0, 0.154, 0.11, 0.0, 0.246, 0.409, 173.995, 239015.0, 4.0], [0.541, 0.216, 10.0, -11.292, 0.0, 0.0311, 0.301, 0.0325, 0.726, 0.346, 128.609, 209406.0, 3.0], [0.887, 0.516, 10.0, -8.187, 0.0, 0.658, 0.0691, 0.0, 0.617, 0.828, 77.977, 106646.0, 4.0], [0.719, 0.553, 9.0, -10.646, 1.0, 0.0349, 0.186, 0.677, 0.0659, 0.573, 94.093, 248187.0, 4.0], [0.495, 0.525, 7.0, -9.342, 0.0, 0.0301, 0.396, 0.00736, 0.0961, 0.249, 154.466, 256467.0, 4.0], [0.499, 0.2, 2.0, -10.276, 1.0, 0.0355, 0.819, 0.0, 0.115, 0.185, 137.367, 178446.0, 4.0], [0.658, 0.892, 6.0, -2.928, 0.0, 0.036, 0.00723, 0.0, 0.0723, 0.919, 107.944, 162013.0, 4.0], [0.609, 0.435, 11.0, -7.861, 0.0, 0.285, 0.522, 0.0, 0.118, 0.552, 131.995, 236738.0, 4.0], [0.614, 0.867, 2.0, -3.484, 1.0, 0.114, 0.0231, 0.0, 0.0821, 0.775, 148.885, 161040.0, 4.0], [0.694, 0.595, 9.0, -7.658, 1.0, 0.0331, 0.138, 2.7e-06, 0.0896, 0.315, 106.949, 230960.0, 4.0], [0.491, 0.693, 9.0, -8.68, 0.0, 0.0259, 0.132, 0.727, 0.104, 0.566, 156.085, 426013.0, 4.0], [0.723, 0.415, 0.0, -10.394, 0.0, 0.395, 0.471, 0.0, 0.0995, 0.581, 159.65, 159103.0, 4.0], [0.84, 0.608, 6.0, -6.176, 1.0, 0.0458, 0.248, 1.25e-06, 0.0874, 0.727, 115.012, 231320.0, 4.0], [0.537, 0.0231, 7.0, -14.407, 1.0, 0.0475, 0.994, 0.0471, 0.146, 0.342, 120.322, 142547.0, 4.0], [0.371, 0.268, 1.0, -10.506, 1.0, 0.0281, 0.748, 0.0517, 0.104, 0.165, 102.617, 227093.0, 3.0], [0.646, 0.439, 7.0, -10.837, 1.0, 0.818, 0.272, 0.0, 0.0945, 0.528, 160.387, 156631.0, 4.0], [0.542, 0.298, 0.0, -9.545, 1.0, 0.0272, 0.839, 1.43e-06, 0.113, 0.285, 149.775, 227773.0, 4.0], [0.678, 0.355, 10.0, -7.757, 0.0, 0.0627, 0.759, 7.06e-05, 0.114, 0.438, 119.772, 260776.0, 3.0], [0.671, 0.885, 7.0, -5.39, 0.0, 0.0305, 0.0191, 3.83e-06, 0.223, 0.55, 119.959, 252293.0, 4.0], [0.611, 0.791, 9.0, -7.7, 0.0, 0.0286, 0.326, 0.862, 0.217, 0.856, 140.12, 208267.0, 4.0], [0.573, 0.658, 1.0, -5.557, 0.0, 0.0396, 0.0195, 0.0, 0.209, 0.481, 105.052, 236613.0, 4.0], [0.68, 0.693, 0.0, -7.234, 1.0, 0.0435, 0.445, 0.0, 0.208, 0.851, 114.948, 163880.0, 4.0], [0.794, 0.549, 8.0, -5.98, 0.0, 0.0786, 0.791, 0.0, 0.122, 0.65, 124.023, 142756.0, 4.0], [0.658, 0.709, 0.0, -7.965, 1.0, 0.0365, 0.198, 0.0048, 0.174, 0.823, 159.01, 297347.0, 4.0], [0.79, 0.775, 11.0, -5.042, 1.0, 0.0505, 0.149, 0.0, 0.189, 0.832, 109.944, 184387.0, 4.0], [0.479, 0.793, 7.0, -11.515, 0.0, 0.0481, 0.031, 0.398, 0.0822, 0.403, 112.13, 410360.0, 4.0], [0.714, 0.52, 7.0, -5.625, 0.0, 0.0367, 0.264, 2.64e-06, 0.344, 0.541, 129.911, 203827.0, 4.0], [0.684, 0.803, 10.0, -10.713, 0.0, 0.176, 0.538, 0.0, 0.111, 0.547, 105.874, 224740.0, 4.0], [0.454, 0.442, 9.0, -8.377, 1.0, 0.0291, 0.287, 0.021, 0.151, 0.219, 138.803, 276613.0, 4.0], [0.76, 0.883, 9.0, -5.397, 0.0, 0.25, 0.297, 0.0, 0.727, 0.51, 98.012, 242588.0, 4.0], [0.807, 0.287, 1.0, -9.852, 0.0, 0.0386, 0.6, 0.0, 0.105, 0.466, 89.975, 157334.0, 4.0], [0.565, 0.546, 11.0, -7.496, 0.0, 0.0314, 0.189, 0.0015, 0.17, 0.195, 139.757, 273427.0, 4.0], [0.628, 0.407, 11.0, -12.928, 0.0, 0.0631, 0.392, 0.0, 0.121, 0.574, 99.916, 183600.0, 4.0], [0.746, 0.324, 1.0, -10.169, 0.0, 0.0644, 0.792, 1.09e-05, 0.103, 0.473, 114.894, 178696.0, 4.0], [0.798, 0.318, 10.0, -6.849, 0.0, 0.0431, 0.0437, 0.0, 0.158, 0.425, 92.49, 229000.0, 4.0], [0.852, 0.286, 10.0, -12.846, 0.0, 0.0549, 0.458, 4.4e-06, 0.0851, 0.856, 130.031, 149539.0, 4.0], [0.494, 0.237, 4.0, -10.579, 1.0, 0.0517, 0.835, 0.0, 0.648, 0.625, 95.219, 91981.0, 3.0], [0.724, 0.305, 5.0, -12.763, 0.0, 0.257, 0.68, 0.0, 0.128, 0.594, 81.874, 115880.0, 4.0], [0.268, 0.758, 5.0, -10.158, 1.0, 0.0461, 0.00482, 0.313, 0.65, 0.223, 172.262, 405107.0, 4.0], [0.585, 0.643, 3.0, -8.392, 1.0, 0.0395, 0.201, 0.000306, 0.144, 0.592, 152.98, 221800.0, 3.0], [0.516, 0.304, 9.0, -9.611, 1.0, 0.0453, 0.476, 0.0317, 0.125, 0.27, 129.475, 205221.0, 4.0], [0.403, 0.364, 5.0, -8.544, 1.0, 0.0269, 0.549, 0.000589, 0.165, 0.149, 77.757, 282027.0, 4.0], [0.658, 0.35, 1.0, -14.343, 1.0, 0.0457, 0.456, 0.701, 0.0869, 0.0717, 106.026, 77237.0, 4.0], [0.684, 0.858, 1.0, -4.266, 1.0, 0.0342, 0.00694, 0.000167, 0.0828, 0.518, 129.963, 273336.0, 4.0], [0.649, 0.509, 3.0, -9.502, 0.0, 0.0659, 0.181, 0.000655, 0.932, 0.223, 99.813, 205663.0, 4.0], [0.626, 0.718, 11.0, -12.05, 0.0, 0.0305, 0.0193, 0.00102, 0.0566, 0.783, 114.799, 212840.0, 4.0], [0.374, 0.456, 6.0, -7.35, 0.0, 0.0368, 0.104, 0.000176, 0.197, 0.0763, 135.643, 436440.0, 4.0], [0.517, 0.703, 11.0, -11.43, 0.0, 0.0423, 0.158, 0.86, 0.0961, 0.378, 143.954, 179755.0, 4.0], [0.423, 0.866, 4.0, -10.836, 0.0, 0.0638, 0.0399, 0.0, 0.529, 0.479, 134.105, 349800.0, 4.0]]\n",
            "size =  1989\n",
            "<pandas.core.indexing._iLocIndexer object at 0x7f7fa3431230>\n",
            "Ten Duel Commandments, Anthony Ramos\n",
            "The Schuyler Sisters, Renée Elise Goldsberry\n",
            "Yorktown (The World Turned Upside Down), Original Broadway Cast of Hamilton\n"
          ]
        },
        {
          "output_type": "execute_result",
          "data": {
            "application/vnd.google.colaboratory.intrinsic+json": {
              "type": "string"
            },
            "text/plain": [
              "'None'"
            ]
          },
          "metadata": {},
          "execution_count": 3
        }
      ]
    },
    {
      "cell_type": "code",
      "metadata": {
        "colab": {
          "base_uri": "https://localhost:8080/",
          "height": 201
        },
        "id": "0a0BdxkNv5jJ",
        "outputId": "62ca3c95-ea43-461f-c38d-0bb459930248"
      },
      "source": [
        "arr = np.array()\n",
        "arr = np.append(arr, 1)\n",
        "arr"
      ],
      "execution_count": null,
      "outputs": [
        {
          "ename": "TypeError",
          "evalue": "ignored",
          "output_type": "error",
          "traceback": [
            "\u001b[0;31m---------------------------------------------------------------------------\u001b[0m",
            "\u001b[0;31mTypeError\u001b[0m                                 Traceback (most recent call last)",
            "\u001b[0;32m<ipython-input-55-b129d6581bf2>\u001b[0m in \u001b[0;36m<module>\u001b[0;34m()\u001b[0m\n\u001b[0;32m----> 1\u001b[0;31m \u001b[0marr\u001b[0m \u001b[0;34m=\u001b[0m \u001b[0mnp\u001b[0m\u001b[0;34m.\u001b[0m\u001b[0marray\u001b[0m\u001b[0;34m(\u001b[0m\u001b[0;34m)\u001b[0m\u001b[0;34m\u001b[0m\u001b[0;34m\u001b[0m\u001b[0m\n\u001b[0m\u001b[1;32m      2\u001b[0m \u001b[0marr\u001b[0m \u001b[0;34m=\u001b[0m \u001b[0mnp\u001b[0m\u001b[0;34m.\u001b[0m\u001b[0mappend\u001b[0m\u001b[0;34m(\u001b[0m\u001b[0marr\u001b[0m\u001b[0;34m,\u001b[0m \u001b[0;36m1\u001b[0m\u001b[0;34m)\u001b[0m\u001b[0;34m\u001b[0m\u001b[0;34m\u001b[0m\u001b[0m\n\u001b[1;32m      3\u001b[0m \u001b[0marr\u001b[0m\u001b[0;34m\u001b[0m\u001b[0;34m\u001b[0m\u001b[0m\n",
            "\u001b[0;31mTypeError\u001b[0m: array() missing required argument 'object' (pos 1)"
          ]
        }
      ]
    },
    {
      "cell_type": "code",
      "metadata": {
        "id": "iXf3tWRzqIIR"
      },
      "source": [
        "# después de que haya respondido el segundo test\n",
        "from scipy.stats import pearsonr\n",
        "\n",
        "# complete_features_and_scores = np bidimensional array, canciones escuchadas anteriormente + el cambio en el score. Tiene shape (14 x # de canciones escuchadas)\n",
        "def train_model(initial_test_result, final_test_result, listened_songs_features, complete_features_and_scores):\n",
        "  result_change = final_test_result - initial_test_result\n",
        "\n",
        "  listened_songs_features_and_scores = np.concatenate((listened_songs_features, np.ones((listened_songs_features.shape[0], 1))*result_change), axis=1)\n",
        "  complete_features_and_scores = np.append(complete_features_and_scores, listened_songs_features_and_scores, axis=0)\n",
        "\n",
        "  scores = complete_features_and_scores[:,13]\n",
        "  weights = np.array([pearsonr(complete_features_and_scores[:,feature_index], scores)[0] for feature_index in range(13)])\n",
        "\n",
        "  print(weights)\n",
        "\n",
        "  # ACTUALIZAR WEIGHTS\n",
        "  # AGREGAR listened_songs_features_and_scores A complete_features_and_scores EN LA DATABASE"
      ],
      "execution_count": null,
      "outputs": []
    },
    {
      "cell_type": "code",
      "metadata": {
        "colab": {
          "base_uri": "https://localhost:8080/"
        },
        "id": "J3r429m1uqYq",
        "outputId": "db0ac301-bb5f-49f3-bca9-96dfb2adb583"
      },
      "source": [
        "initial_test_result = 5\n",
        "final_test_result = 2\n",
        "listened_songs_features = np.random.rand(3,13)\n",
        "complete_features_and_scores = np.random.rand(15,14)\n",
        "train_model(initial_test_result,final_test_result,listened_songs_features,complete_features_and_scores)"
      ],
      "execution_count": null,
      "outputs": [
        {
          "output_type": "stream",
          "name": "stdout",
          "text": [
            "[ 0.25964632  0.09126546  0.13837811 -0.31385181  0.07244685 -0.06957284\n",
            " -0.06978204  0.26320502 -0.18061766  0.01849117 -0.13893359  0.17591654\n",
            "  0.26552684]\n"
          ]
        }
      ]
    },
    {
      "cell_type": "code",
      "metadata": {
        "id": "qnGUOxIDTTqR"
      },
      "source": [
        "import numpy as np\n",
        "import math\n",
        "import os\n",
        "import csv\n",
        "import pandas as pd"
      ],
      "execution_count": null,
      "outputs": []
    },
    {
      "cell_type": "code",
      "metadata": {
        "id": "uLDKOQXiTQyn"
      },
      "source": [
        "import pandas as pd\n",
        "from sklearn.model_selection import train_test_split\n",
        "from keras.models import Sequential, load_model\n",
        "from keras.layers import Dense\n",
        "from keras.layers import BatchNormalization\n",
        "from keras.layers import Dropout\n",
        "from keras.optimizers import Adam"
      ],
      "execution_count": null,
      "outputs": []
    },
    {
      "cell_type": "code",
      "metadata": {
        "id": "ng13wLc71HdB"
      },
      "source": [
        ""
      ],
      "execution_count": null,
      "outputs": []
    },
    {
      "cell_type": "code",
      "metadata": {
        "colab": {
          "base_uri": "https://localhost:8080/",
          "height": 167
        },
        "id": "LSOX88BF2EFj",
        "outputId": "f8e706ed-c8a0-4ca9-b82c-4d829c4fc184"
      },
      "source": [
        "create_model([0,1,2,3,4,5])"
      ],
      "execution_count": null,
      "outputs": [
        {
          "ename": "NameError",
          "evalue": "ignored",
          "output_type": "error",
          "traceback": [
            "\u001b[0;31m---------------------------------------------------------------------------\u001b[0m",
            "\u001b[0;31mNameError\u001b[0m                                 Traceback (most recent call last)",
            "\u001b[0;32m<ipython-input-3-ca4bf6f72d70>\u001b[0m in \u001b[0;36m<module>\u001b[0;34m()\u001b[0m\n\u001b[0;32m----> 1\u001b[0;31m \u001b[0mcreate_model\u001b[0m\u001b[0;34m(\u001b[0m\u001b[0;34m[\u001b[0m\u001b[0;36m0\u001b[0m\u001b[0;34m,\u001b[0m\u001b[0;36m1\u001b[0m\u001b[0;34m,\u001b[0m\u001b[0;36m2\u001b[0m\u001b[0;34m,\u001b[0m\u001b[0;36m3\u001b[0m\u001b[0;34m,\u001b[0m\u001b[0;36m4\u001b[0m\u001b[0;34m,\u001b[0m\u001b[0;36m5\u001b[0m\u001b[0;34m]\u001b[0m\u001b[0;34m)\u001b[0m\u001b[0;34m\u001b[0m\u001b[0;34m\u001b[0m\u001b[0m\n\u001b[0m",
            "\u001b[0;31mNameError\u001b[0m: name 'create_model' is not defined"
          ]
        }
      ]
    },
    {
      "cell_type": "code",
      "metadata": {
        "id": "fppEOvC30q1w"
      },
      "source": [
        "import pandas as pd\n",
        "import pickle\n",
        "from sklearn.model_selection import train_test_split\n",
        "from sklearn.metrics import mean_absolute_error\n",
        "from sklearn.ensemble import RandomForestRegressor\n",
        "\n",
        "def create_model(indexes):\n",
        "  df = pd.read_excel('/content/dataset.xlsx')\n",
        "  df = df.drop(columns=df.columns[:4])\n",
        "\n",
        "  X = df.drop(df.columns[-1], axis=1)\n",
        "  y = df[df.columns[-1]]\n",
        "\n",
        "  X_train_complete, X_test_complete, y_train, y_test = train_test_split(X, y, test_size = 0.10, shuffle = True)\n",
        "\n",
        "  X_train = X_train_complete[X_train_complete.columns[indexes]]\n",
        "  X_test = X_test_complete[X_train_complete.columns[indexes]]\n",
        "\n",
        "  # Random Forest\n",
        "  rf = RandomForestRegressor(n_estimators = 1000)\n",
        "  rf.fit(X_train, y_train)\n",
        "\n",
        "  print(mean_absolute_error(y_test, rf.predict(X_test)))\n",
        "\n",
        "  pickle.dump(rf, open(\"rf_\" + \"\".join([str(i) for i in indexes]) + \".sav\", \"wb\"))"
      ],
      "execution_count": null,
      "outputs": []
    },
    {
      "cell_type": "code",
      "metadata": {
        "colab": {
          "base_uri": "https://localhost:8080/"
        },
        "id": "l8iKJpiL36iJ",
        "outputId": "a6979546-76a3-43ce-b048-3d1e0e415856"
      },
      "source": [
        "indexes = [0,1,2,3,4,5]\n",
        "\n",
        "create_model(indexes)"
      ],
      "execution_count": null,
      "outputs": [
        {
          "name": "stdout",
          "output_type": "stream",
          "text": [
            "3.4273089701432076\n"
          ]
        }
      ]
    },
    {
      "cell_type": "code",
      "metadata": {
        "id": "sD3Uq3RQKxn-"
      },
      "source": [
        "df = pd.read_excel('/content/dataset.xlsx')"
      ],
      "execution_count": null,
      "outputs": []
    },
    {
      "cell_type": "code",
      "metadata": {
        "id": "geIGqAh3K5AQ"
      },
      "source": [
        "df = df.drop(columns=df.columns[:4])"
      ],
      "execution_count": null,
      "outputs": []
    },
    {
      "cell_type": "code",
      "metadata": {
        "id": "fL_DeXKmSLSA"
      },
      "source": [
        "indexes = [i for i in range(6)]"
      ],
      "execution_count": null,
      "outputs": []
    },
    {
      "cell_type": "code",
      "metadata": {
        "id": "TjoqQBGTLZwJ"
      },
      "source": [
        "# ======================================\n",
        "# DIVIDE BETWEEN X AND Y, TRAIN AND TEST\n",
        "# ======================================\n",
        "X = df.drop(df.columns[-1], axis=1)\n",
        "y = df[df.columns[-1]]\n",
        "\n",
        "X_train_complete, X_test_complete, y_train, y_test = train_test_split(X, y, test_size = 0.10, shuffle = True)\n",
        "\n",
        "X_train = X_train_complete[X_train_complete.columns[indexes]]\n",
        "X_test = X_test_complete[X_train_complete.columns[indexes]]"
      ],
      "execution_count": null,
      "outputs": []
    },
    {
      "cell_type": "code",
      "metadata": {
        "id": "7OERXTYYW3eJ"
      },
      "source": [
        "model = Sequential()\n",
        "model.add(Dense(5, activation='relu', kernel_regularizer='l2', input_shape=(X_train.shape[1],)))\n",
        "# model.add(BatchNormalization())\n",
        "# model.add(Dropout(0.2))\n",
        "model.add(Dense(5, activation='relu', kernel_regularizer='l2'))\n",
        "# model.add(BatchNormalization())\n",
        "# model.add(Dropout(0.2))\n",
        "model.add(Dense(5, activation='relu', kernel_regularizer='l2'))\n",
        "# model.add(BatchNormalization())\n",
        "# model.add(Dropout(0.2))\n",
        "model.add(Dense(1, activation='relu'))\n",
        "\n",
        "model.compile(optimizer='adam', loss=\"mse\", metrics=['mean_absolute_error'])\n",
        "\n",
        "model.fit(X_train, y_train, epochs=20)"
      ],
      "execution_count": null,
      "outputs": []
    },
    {
      "cell_type": "code",
      "metadata": {
        "colab": {
          "base_uri": "https://localhost:8080/"
        },
        "id": "x2tnTRL5Xe9n",
        "outputId": "5cfbba7c-35da-4a2d-d53a-79aba7a43473"
      },
      "source": [
        "model.evaluate(X_test, y_test, batch_size=32)"
      ],
      "execution_count": null,
      "outputs": [
        {
          "name": "stdout",
          "output_type": "stream",
          "text": [
            "3/3 [==============================] - 0s 4ms/step - loss: 36.1265 - mean_absolute_error: 4.3402\n"
          ]
        },
        {
          "data": {
            "text/plain": [
              "[36.12651443481445, 4.340174674987793]"
            ]
          },
          "execution_count": 92,
          "metadata": {
            "tags": []
          },
          "output_type": "execute_result"
        }
      ]
    },
    {
      "cell_type": "code",
      "metadata": {
        "id": "de1QnfraX2OO"
      },
      "source": [
        "predictions_lr = np.concatenate((X_test_complete, np.transpose([y_test]), np.around(model.predict(X_test))), axis=1).astype(int)\n",
        "\n",
        "preds = open(\"/content/predictions_linear_regression.csv\", mode=\"w+\", encoding=\"utf-8\")\n",
        "\n",
        "preds_writer = csv.writer(preds)\n",
        "\n",
        "preds_writer.writerow(df.columns.tolist() + [\"Resultado original\", \"Resultado predicho\"])\n",
        "\n",
        "for prediction in predictions_lr:\n",
        "  preds_writer.writerow(prediction)"
      ],
      "execution_count": null,
      "outputs": []
    },
    {
      "cell_type": "code",
      "metadata": {
        "id": "ndvTxrJyi6iy"
      },
      "source": [
        "from sklearn.metrics import mean_absolute_error\n",
        "from sklearn.ensemble import RandomForestRegressor"
      ],
      "execution_count": null,
      "outputs": []
    },
    {
      "cell_type": "code",
      "metadata": {
        "colab": {
          "base_uri": "https://localhost:8080/"
        },
        "id": "ZPXUG2iLlnMG",
        "outputId": "6f507be2-d56d-4eda-cd94-dcc7339846d6"
      },
      "source": [
        "pip install pickle5"
      ],
      "execution_count": null,
      "outputs": [
        {
          "name": "stdout",
          "output_type": "stream",
          "text": [
            "Collecting pickle5\n",
            "  Downloading pickle5-0.0.11.tar.gz (132 kB)\n",
            "\u001b[?25l\r\u001b[K     |██▌                             | 10 kB 29.7 MB/s eta 0:00:01\r\u001b[K     |█████                           | 20 kB 27.4 MB/s eta 0:00:01\r\u001b[K     |███████▍                        | 30 kB 12.6 MB/s eta 0:00:01\r\u001b[K     |██████████                      | 40 kB 8.2 MB/s eta 0:00:01\r\u001b[K     |████████████▍                   | 51 kB 5.4 MB/s eta 0:00:01\r\u001b[K     |██████████████▉                 | 61 kB 5.9 MB/s eta 0:00:01\r\u001b[K     |█████████████████▍              | 71 kB 5.7 MB/s eta 0:00:01\r\u001b[K     |███████████████████▉            | 81 kB 6.4 MB/s eta 0:00:01\r\u001b[K     |██████████████████████▎         | 92 kB 4.9 MB/s eta 0:00:01\r\u001b[K     |████████████████████████▉       | 102 kB 5.3 MB/s eta 0:00:01\r\u001b[K     |███████████████████████████▎    | 112 kB 5.3 MB/s eta 0:00:01\r\u001b[K     |█████████████████████████████▊  | 122 kB 5.3 MB/s eta 0:00:01\r\u001b[K     |████████████████████████████████| 132 kB 5.3 MB/s \n",
            "\u001b[?25hBuilding wheels for collected packages: pickle5\n",
            "  Building wheel for pickle5 (setup.py) ... \u001b[?25l\u001b[?25hdone\n",
            "  Created wheel for pickle5: filename=pickle5-0.0.11-cp37-cp37m-linux_x86_64.whl size=219303 sha256=2eb245f8b0e8b9f98e3006a7259c0d2a54825ecf34472ad00232f28dbc028181\n",
            "  Stored in directory: /root/.cache/pip/wheels/7e/6a/00/67136a90d6aca437d806d1d3cedf98106e840c97a3e5188198\n",
            "Successfully built pickle5\n",
            "Installing collected packages: pickle5\n",
            "Successfully installed pickle5-0.0.11\n"
          ]
        }
      ]
    },
    {
      "cell_type": "code",
      "metadata": {
        "id": "91mlkzxPlCp8"
      },
      "source": [
        "generate_playlist(\"/content/rf_348101115.sav\", [[0,3,1,2,1,0]])"
      ],
      "execution_count": null,
      "outputs": []
    },
    {
      "cell_type": "code",
      "metadata": {
        "id": "dw2r64_6h7OE"
      },
      "source": [
        "# Random Forest\n",
        "rf = RandomForestRegressor(n_estimators = 1000)\n",
        "rf.fit(X_train, y_train)\n",
        "predictions_rf = np.concatenate((X_test_complete, np.transpose([y_test]), np.transpose([np.around(rf.predict(X_test))])), axis=1).astype(int)"
      ],
      "execution_count": null,
      "outputs": []
    },
    {
      "cell_type": "code",
      "metadata": {
        "colab": {
          "base_uri": "https://localhost:8080/"
        },
        "id": "gvMEAEfLi_8b",
        "outputId": "2cc2df7c-e151-418c-c666-cdb26fbf31b8"
      },
      "source": [
        "mean_absolute_error(y_test, rf.predict(X_test))"
      ],
      "execution_count": null,
      "outputs": [
        {
          "data": {
            "text/plain": [
              "3.3101753614590703"
            ]
          },
          "execution_count": 112,
          "metadata": {
            "tags": []
          },
          "output_type": "execute_result"
        }
      ]
    },
    {
      "cell_type": "code",
      "metadata": {
        "id": "fW6hIBhaiYST"
      },
      "source": [
        "model.evaluate(X_test, y_test, batch_size=32)"
      ],
      "execution_count": null,
      "outputs": []
    },
    {
      "cell_type": "code",
      "metadata": {
        "id": "qu7InnLgiFWI"
      },
      "source": [
        "preds = open(\"/content/predictions_random_forest.csv\", mode=\"w+\")\n",
        "preds_writer = csv.writer(preds)\n",
        "\n",
        "preds_writer.writerow(df.columns.tolist() + [\"Resultado original\", \"Resultado predicho\"])\n",
        "\n",
        "for prediction in predictions_rf:\n",
        "  preds_writer.writerow(prediction)"
      ],
      "execution_count": null,
      "outputs": []
    },
    {
      "cell_type": "markdown",
      "metadata": {
        "id": "jxAaZDn8GfC7"
      },
      "source": [
        "### Dataset generator"
      ]
    },
    {
      "cell_type": "code",
      "metadata": {
        "id": "RNzQY4SvNUKw"
      },
      "source": [
        "def get_truncated_normal(mean=0, sd=1, low=0, upp=10):\n",
        "    return truncnorm(\n",
        "        (low - mean) / sd, (upp - mean) / sd, loc=mean, scale=sd)"
      ],
      "execution_count": null,
      "outputs": []
    },
    {
      "cell_type": "code",
      "metadata": {
        "id": "aM4Y5gq3GbuW"
      },
      "source": [
        "import numpy as np\n",
        "import math\n",
        "import os\n",
        "import csv\n",
        "from scipy.stats import truncnorm"
      ],
      "execution_count": null,
      "outputs": []
    },
    {
      "cell_type": "code",
      "metadata": {
        "id": "bw7QcZO0GqR8"
      },
      "source": [
        "os.mkdir(\"/content/dataset\")\n",
        "f = open(\"/content/dataset/fake_dataset.csv\", mode=\"w+\")\n",
        "f_writer = csv.writer(f)\n",
        "\n",
        "f_writer.writerow([\"pregunta_1\",\"pregunta_2\",\"pregunta_3\",\"pregunta_4\",\"pregunta_5\",\"pregunta_6\",\"pregunta_7\",\"pregunta_8\",\"pregunta_9\",\"pregunta_10\",\"pregunta_11\",\"pregunta_12\",\"pregunta_13\",\"pregunta_14\",\"pregunta_15\",\"pregunta_16\",\"pregunta_17\",\"pregunta_18\",\"pregunta_19\",\"pregunta_20\",\"pregunta_21\",\"resultado\"])\n",
        "\n",
        "for mean in range(1,5):\n",
        "  for i in range(2000):\n",
        "    x = get_truncated_normal(mean,1,0,4)\n",
        "    numbers = np.around(x.rvs(21)).astype(int)\n",
        "    f_writer.writerow(np.append(numbers, np.sum(numbers)))"
      ],
      "execution_count": null,
      "outputs": []
    },
    {
      "cell_type": "markdown",
      "metadata": {
        "id": "qn4NQt2SIqBJ"
      },
      "source": [
        "### Prediction model"
      ]
    },
    {
      "cell_type": "markdown",
      "metadata": {
        "id": "L1D93NdLfzlO"
      },
      "source": [
        "#### Linear Regression"
      ]
    },
    {
      "cell_type": "code",
      "metadata": {
        "id": "rz_k9KqgIsvj"
      },
      "source": [
        "import pandas as pd\n",
        "from sklearn.model_selection import train_test_split\n",
        "from keras.models import Sequential, load_model\n",
        "from keras.layers import Dense\n",
        "from keras.layers import BatchNormalization\n",
        "from keras.layers import Dropout\n",
        "from keras.optimizers import Adam"
      ],
      "execution_count": null,
      "outputs": []
    },
    {
      "cell_type": "code",
      "metadata": {
        "id": "i6niqevbO6VQ"
      },
      "source": [
        "def questions_given_indexes(indexes):\n",
        "  questions = []\n",
        "  for index in indexes:\n",
        "    questions.append(\"pregunta_\" + str(index))\n",
        "  return questions"
      ],
      "execution_count": null,
      "outputs": []
    },
    {
      "cell_type": "code",
      "metadata": {
        "id": "QdkOdsq5P74a"
      },
      "source": [
        "indexes = [1,4,6,7,8,15,19]"
      ],
      "execution_count": null,
      "outputs": []
    },
    {
      "cell_type": "code",
      "metadata": {
        "colab": {
          "base_uri": "https://localhost:8080/"
        },
        "id": "P9zkqNFAqXAs",
        "outputId": "7d5e50a2-dcd0-44bf-8e3a-ca5cffee576c"
      },
      "source": [
        "questions_given_indexes(indexes)"
      ],
      "execution_count": null,
      "outputs": [
        {
          "data": {
            "text/plain": [
              "['pregunta_1',\n",
              " 'pregunta_4',\n",
              " 'pregunta_6',\n",
              " 'pregunta_7',\n",
              " 'pregunta_8',\n",
              " 'pregunta_15',\n",
              " 'pregunta_19']"
            ]
          },
          "execution_count": 8,
          "metadata": {
            "tags": []
          },
          "output_type": "execute_result"
        }
      ]
    },
    {
      "cell_type": "code",
      "metadata": {
        "id": "KvgOyL-xJmNq"
      },
      "source": [
        "# df = pd.read_csv(\"/content/dataset/fake_dataset.csv\")\n",
        "\n",
        "# # ======================================\n",
        "# # DIVIDE BETWEEN X AND Y, TRAIN AND TEST\n",
        "# # ======================================\n",
        "# # X = df.drop(['resultado'], axis=1)\n",
        "# X = df[questions_given_indexes(indexes)]\n",
        "# y = df['resultado']\n",
        "\n",
        "# X_train, X_test, y_train, y_test = train_test_split(X, y, test_size = 0.15, shuffle = False)\n",
        "\n",
        "# X_train = np.asarray(X_train).astype(np.float32)\n",
        "# y_train = np.asarray(y_train).astype(np.float32)\n",
        "# X_test = np.asarray(X_test).astype(np.float32)\n",
        "# y_test = np.asarray(y_test).astype(np.float32)"
      ],
      "execution_count": null,
      "outputs": []
    },
    {
      "cell_type": "code",
      "metadata": {
        "id": "-MKJuHdHVyjt"
      },
      "source": [
        "df = pd.read_csv(\"/content/dataset/fake_dataset.csv\")\n",
        "\n",
        "# ======================================\n",
        "# DIVIDE BETWEEN X AND Y, TRAIN AND TEST\n",
        "# ======================================\n",
        "X = df.drop(['resultado'], axis=1)\n",
        "y = df['resultado']\n",
        "\n",
        "X_train_complete, X_test_complete, y_train, y_test = train_test_split(X, y, test_size = 0.15, shuffle = True)\n",
        "\n",
        "X_train = X_train_complete[questions_given_indexes(indexes)]\n",
        "X_test = X_test_complete[questions_given_indexes(indexes)]"
      ],
      "execution_count": null,
      "outputs": []
    },
    {
      "cell_type": "markdown",
      "metadata": {
        "id": "pPNzPcwbV8G3"
      },
      "source": [
        ""
      ]
    },
    {
      "cell_type": "code",
      "metadata": {
        "colab": {
          "base_uri": "https://localhost:8080/",
          "height": 231
        },
        "id": "sl8H73saM8hR",
        "outputId": "03f62e3e-9adc-4b29-86b9-9cece12f1efc"
      },
      "source": [
        "model = Sequential()\n",
        "model.add(Dense(100, activation='relu', kernel_regularizer='l2', input_shape=(SAMPLE.shape[1],)))\n",
        "model.add(BatchNormalization())\n",
        "model.add(Dropout(0.2))\n",
        "model.add(Dense(100, activation='relu', kernel_regularizer='l2'))\n",
        "model.add(BatchNormalization())\n",
        "model.add(Dropout(0.2))\n",
        "model.add(Dense(100, activation='relu', kernel_regularizer='l2'))\n",
        "model.add(BatchNormalization())\n",
        "model.add(Dropout(0.2))\n",
        "model.add(Dense(100, activation='relu', kernel_regularizer='l2'))\n",
        "model.add(BatchNormalization())\n",
        "model.add(Dropout(0.2))\n",
        "model.add(Dense(1, activation='relu'))\n",
        "\n",
        "model.compile(optimizer='adam', loss=\"mse\", metrics=['mean_absolute_error'])\n",
        "\n",
        "model.fit(X_train, y_train, epochs=20)"
      ],
      "execution_count": null,
      "outputs": [
        {
          "ename": "NameError",
          "evalue": "ignored",
          "output_type": "error",
          "traceback": [
            "\u001b[0;31m---------------------------------------------------------------------------\u001b[0m",
            "\u001b[0;31mNameError\u001b[0m                                 Traceback (most recent call last)",
            "\u001b[0;32m<ipython-input-7-08a32af8a4de>\u001b[0m in \u001b[0;36m<module>\u001b[0;34m()\u001b[0m\n\u001b[0;32m----> 1\u001b[0;31m \u001b[0mmodel\u001b[0m \u001b[0;34m=\u001b[0m \u001b[0mSequential\u001b[0m\u001b[0;34m(\u001b[0m\u001b[0;34m)\u001b[0m\u001b[0;34m\u001b[0m\u001b[0;34m\u001b[0m\u001b[0m\n\u001b[0m\u001b[1;32m      2\u001b[0m \u001b[0mmodel\u001b[0m\u001b[0;34m.\u001b[0m\u001b[0madd\u001b[0m\u001b[0;34m(\u001b[0m\u001b[0mDense\u001b[0m\u001b[0;34m(\u001b[0m\u001b[0;36m100\u001b[0m\u001b[0;34m,\u001b[0m \u001b[0mactivation\u001b[0m\u001b[0;34m=\u001b[0m\u001b[0;34m'relu'\u001b[0m\u001b[0;34m,\u001b[0m \u001b[0mkernel_regularizer\u001b[0m\u001b[0;34m=\u001b[0m\u001b[0;34m'l2'\u001b[0m\u001b[0;34m,\u001b[0m \u001b[0minput_shape\u001b[0m\u001b[0;34m=\u001b[0m\u001b[0;34m(\u001b[0m\u001b[0mSAMPLE\u001b[0m\u001b[0;34m.\u001b[0m\u001b[0mshape\u001b[0m\u001b[0;34m[\u001b[0m\u001b[0;36m1\u001b[0m\u001b[0;34m]\u001b[0m\u001b[0;34m,\u001b[0m\u001b[0;34m)\u001b[0m\u001b[0;34m)\u001b[0m\u001b[0;34m)\u001b[0m\u001b[0;34m\u001b[0m\u001b[0;34m\u001b[0m\u001b[0m\n\u001b[1;32m      3\u001b[0m \u001b[0mmodel\u001b[0m\u001b[0;34m.\u001b[0m\u001b[0madd\u001b[0m\u001b[0;34m(\u001b[0m\u001b[0mBatchNormalization\u001b[0m\u001b[0;34m(\u001b[0m\u001b[0;34m)\u001b[0m\u001b[0;34m)\u001b[0m\u001b[0;34m\u001b[0m\u001b[0;34m\u001b[0m\u001b[0m\n\u001b[1;32m      4\u001b[0m \u001b[0mmodel\u001b[0m\u001b[0;34m.\u001b[0m\u001b[0madd\u001b[0m\u001b[0;34m(\u001b[0m\u001b[0mDropout\u001b[0m\u001b[0;34m(\u001b[0m\u001b[0;36m0.2\u001b[0m\u001b[0;34m)\u001b[0m\u001b[0;34m)\u001b[0m\u001b[0;34m\u001b[0m\u001b[0;34m\u001b[0m\u001b[0m\n\u001b[1;32m      5\u001b[0m \u001b[0mmodel\u001b[0m\u001b[0;34m.\u001b[0m\u001b[0madd\u001b[0m\u001b[0;34m(\u001b[0m\u001b[0mDense\u001b[0m\u001b[0;34m(\u001b[0m\u001b[0;36m100\u001b[0m\u001b[0;34m,\u001b[0m \u001b[0mactivation\u001b[0m\u001b[0;34m=\u001b[0m\u001b[0;34m'relu'\u001b[0m\u001b[0;34m,\u001b[0m \u001b[0mkernel_regularizer\u001b[0m\u001b[0;34m=\u001b[0m\u001b[0;34m'l2'\u001b[0m\u001b[0;34m)\u001b[0m\u001b[0;34m)\u001b[0m\u001b[0;34m\u001b[0m\u001b[0;34m\u001b[0m\u001b[0m\n",
            "\u001b[0;31mNameError\u001b[0m: name 'Sequential' is not defined"
          ]
        }
      ]
    },
    {
      "cell_type": "code",
      "metadata": {
        "id": "IMEhsco6bMYD"
      },
      "source": [
        "# estuve buscando y cambiando algunos valores\n",
        "# si sirve de algo con las configs de arriba da los siguientes valores:\n",
        "# loss: 39.0153 - mean_absolute_error: 4.3897\n",
        "# y con las cofiguraciones que puse aca abajo dan:\n",
        "# loss: 5.2230 - mean_absolute_error: 4.2538\n",
        "\n",
        "model = Sequential()\n",
        "model.add(Dense(100, activation='relu', kernel_regularizer='l2', input_shape=(X_train.shape[1],)))\n",
        "model.add(BatchNormalization())\n",
        "model.add(Dropout(0.3))\n",
        "model.add(Dense(150, activation='relu', kernel_regularizer='l2'))\n",
        "model.add(BatchNormalization())\n",
        "model.add(Dropout(0.3))\n",
        "model.add(Dense(150, activation='relu', kernel_regularizer='l2'))\n",
        "model.add(BatchNormalization())\n",
        "model.add(Dropout(0.3))\n",
        "model.add(Dense(100, activation='relu', kernel_regularizer='l2'))\n",
        "model.add(BatchNormalization())\n",
        "model.add(Dropout(0.3))\n",
        "model.add(Dense(1, activation='relu'))\n",
        "\n",
        "model.compile(optimizer='adam', loss=\"mae\", metrics=['mean_absolute_error'])\n",
        "\n",
        "model.fit(X_train, y_train, epochs=20)"
      ],
      "execution_count": null,
      "outputs": []
    },
    {
      "cell_type": "code",
      "metadata": {
        "colab": {
          "base_uri": "https://localhost:8080/"
        },
        "id": "lnlmw9WZQdC_",
        "outputId": "2c8ffd3a-21b2-46ce-df24-7ffe0a823208"
      },
      "source": [
        "model.evaluate(X_test, y_test, batch_size=32)"
      ],
      "execution_count": null,
      "outputs": [
        {
          "name": "stdout",
          "output_type": "stream",
          "text": [
            "37/37 [==============================] - 1s 2ms/step - loss: 5.1213 - mean_absolute_error: 4.2775\n"
          ]
        },
        {
          "data": {
            "text/plain": [
              "[5.121340274810791, 4.277517795562744]"
            ]
          },
          "execution_count": 56,
          "metadata": {
            "tags": []
          },
          "output_type": "execute_result"
        }
      ]
    },
    {
      "cell_type": "code",
      "metadata": {
        "id": "sbJFTxJ2VCdO"
      },
      "source": [
        "predictions_lr = np.concatenate((X_test_complete, np.transpose([y_test]), np.around(model.predict(X_test))), axis=1).astype(int)\n",
        "\n",
        "preds = open(\"/content/dataset/predictions_linear_regression.csv\", mode=\"w+\")\n",
        "preds_writer = csv.writer(preds)\n",
        "\n",
        "preds_writer.writerow([\"pregunta_1\",\"pregunta_2\",\"pregunta_3\",\"pregunta_4\",\"pregunta_5\",\"pregunta_6\",\"pregunta_7\",\"pregunta_8\",\"pregunta_9\",\"pregunta_10\",\"pregunta_11\",\"pregunta_12\",\"pregunta_13\",\"pregunta_14\",\"pregunta_15\",\"pregunta_16\",\"pregunta_17\",\"pregunta_18\",\"pregunta_19\",\"pregunta_20\",\"pregunta_21\",\"resultado\",\"prediccion\"])\n",
        "\n",
        "for prediction in predictions_lr:\n",
        "  preds_writer.writerow(prediction)"
      ],
      "execution_count": null,
      "outputs": []
    },
    {
      "cell_type": "markdown",
      "metadata": {
        "id": "oGHucQL9_xuD"
      },
      "source": [
        "\n",
        "\n",
        "Probando guardar el modelo en un pickle o en un h5 para exportar e importar en otro codigo."
      ]
    },
    {
      "cell_type": "code",
      "metadata": {
        "id": "pfiSCFW-_0t7"
      },
      "source": [
        "#save model\n",
        "model.save(\"/content/models/modelo.h5\")\n"
      ],
      "execution_count": null,
      "outputs": []
    },
    {
      "cell_type": "code",
      "metadata": {
        "id": "XVdOl5ZjEYBG"
      },
      "source": [
        "import pickle\n",
        "import os\n",
        "\n",
        "archivo = open('/content/pickles/modelo', 'ab+')\n",
        "pickle.dump(model, archivo, pickle.HIGHEST_PROTOCOL)\n",
        "\n",
        "archivo.close()"
      ],
      "execution_count": null,
      "outputs": []
    },
    {
      "cell_type": "markdown",
      "metadata": {
        "id": "8HbkPaUd_0MY"
      },
      "source": [
        ""
      ]
    },
    {
      "cell_type": "markdown",
      "metadata": {
        "id": "xUCMkonDf-Fe"
      },
      "source": [
        "\n",
        "#### Random Forest Regressor"
      ]
    },
    {
      "cell_type": "code",
      "metadata": {
        "id": "KR8y_-J-gEf2"
      },
      "source": [
        "from sklearn.ensemble import RandomForestRegressor"
      ],
      "execution_count": null,
      "outputs": []
    },
    {
      "cell_type": "code",
      "metadata": {
        "id": "7XdZo4RfgLqc"
      },
      "source": [
        "rf = RandomForestRegressor(n_estimators = 1000)\n",
        "rf.fit(X_train, y_train)\n",
        "predictions_rf = np.concatenate((X_test_complete, np.transpose([y_test]), np.transpose([np.around(rf.predict(X_test))])), axis=1).astype(int)"
      ],
      "execution_count": null,
      "outputs": []
    },
    {
      "cell_type": "code",
      "metadata": {
        "id": "NX8Q87uiggAI"
      },
      "source": [
        "preds = open(\"/content/dataset/predictions_random_forest.csv\", mode=\"w+\")\n",
        "preds_writer = csv.writer(preds)\n",
        "\n",
        "preds_writer.writerow([\"pregunta_1\",\"pregunta_2\",\"pregunta_3\",\"pregunta_4\",\"pregunta_5\",\"pregunta_6\",\"pregunta_7\",\"pregunta_8\",\"pregunta_9\",\"pregunta_10\",\"pregunta_11\",\"pregunta_12\",\"pregunta_13\",\"pregunta_14\",\"pregunta_15\",\"pregunta_16\",\"pregunta_17\",\"pregunta_18\",\"pregunta_19\",\"pregunta_20\",\"pregunta_21\",\"resultado\",\"prediccion\"])\n",
        "\n",
        "for prediction in predictions_rf:\n",
        "  preds_writer.writerow(prediction)"
      ],
      "execution_count": null,
      "outputs": []
    },
    {
      "cell_type": "markdown",
      "metadata": {
        "id": "1Jw09pKPil1X"
      },
      "source": [
        "[Bayesian Belief Network](https://towardsdatascience.com/bbn-bayesian-belief-networks-how-to-build-them-effectively-in-python-6b7f93435bba)"
      ]
    },
    {
      "cell_type": "markdown",
      "metadata": {
        "id": "MBseM_NkSqy_"
      },
      "source": [
        "# VGG 19"
      ]
    },
    {
      "cell_type": "markdown",
      "metadata": {
        "id": "pss-gj6KTAcm"
      },
      "source": [
        "[StackOverflow encoding with VGG](https://stackoverflow.com/questions/63465734/how-to-get-the-encoder-from-a-trained-vgg16-network)"
      ]
    },
    {
      "cell_type": "code",
      "metadata": {
        "id": "q1IJnC41S9uO"
      },
      "source": [
        "from tensorflow.keras.applications import VGG16\n",
        "from tensorflow.keras.applications.vgg16 import preprocess_input\n",
        "from tensorflow.keras.layers import Input, Flatten\n",
        "from tensorflow.keras import Model\n",
        "from tensorflow.keras.preprocessing.image import img_to_array\n",
        "from PIL import Image\n",
        "import requests"
      ],
      "execution_count": null,
      "outputs": []
    },
    {
      "cell_type": "code",
      "metadata": {
        "id": "B1oyrf5KQWZw"
      },
      "source": [
        "model_VGG16 = VGG16(include_top=False, input_shape=input_shape, weights=\"imagenet\")"
      ],
      "execution_count": null,
      "outputs": []
    },
    {
      "cell_type": "code",
      "metadata": {
        "colab": {
          "base_uri": "https://localhost:8080/"
        },
        "id": "KjAE6PS7QYys",
        "outputId": "e7ecf2d2-35d1-4d3d-d5a8-8c68b26799ab"
      },
      "source": [
        "model_VGG16.summary()"
      ],
      "execution_count": null,
      "outputs": [
        {
          "name": "stdout",
          "output_type": "stream",
          "text": [
            "Model: \"vgg16\"\n",
            "_________________________________________________________________\n",
            "Layer (type)                 Output Shape              Param #   \n",
            "=================================================================\n",
            "input_14 (InputLayer)        [(None, 640, 360, 3)]     0         \n",
            "_________________________________________________________________\n",
            "block1_conv1 (Conv2D)        (None, 640, 360, 64)      1792      \n",
            "_________________________________________________________________\n",
            "block1_conv2 (Conv2D)        (None, 640, 360, 64)      36928     \n",
            "_________________________________________________________________\n",
            "block1_pool (MaxPooling2D)   (None, 320, 180, 64)      0         \n",
            "_________________________________________________________________\n",
            "block2_conv1 (Conv2D)        (None, 320, 180, 128)     73856     \n",
            "_________________________________________________________________\n",
            "block2_conv2 (Conv2D)        (None, 320, 180, 128)     147584    \n",
            "_________________________________________________________________\n",
            "block2_pool (MaxPooling2D)   (None, 160, 90, 128)      0         \n",
            "_________________________________________________________________\n",
            "block3_conv1 (Conv2D)        (None, 160, 90, 256)      295168    \n",
            "_________________________________________________________________\n",
            "block3_conv2 (Conv2D)        (None, 160, 90, 256)      590080    \n",
            "_________________________________________________________________\n",
            "block3_conv3 (Conv2D)        (None, 160, 90, 256)      590080    \n",
            "_________________________________________________________________\n",
            "block3_pool (MaxPooling2D)   (None, 80, 45, 256)       0         \n",
            "_________________________________________________________________\n",
            "block4_conv1 (Conv2D)        (None, 80, 45, 512)       1180160   \n",
            "_________________________________________________________________\n",
            "block4_conv2 (Conv2D)        (None, 80, 45, 512)       2359808   \n",
            "_________________________________________________________________\n",
            "block4_conv3 (Conv2D)        (None, 80, 45, 512)       2359808   \n",
            "_________________________________________________________________\n",
            "block4_pool (MaxPooling2D)   (None, 40, 22, 512)       0         \n",
            "_________________________________________________________________\n",
            "block5_conv1 (Conv2D)        (None, 40, 22, 512)       2359808   \n",
            "_________________________________________________________________\n",
            "block5_conv2 (Conv2D)        (None, 40, 22, 512)       2359808   \n",
            "_________________________________________________________________\n",
            "block5_conv3 (Conv2D)        (None, 40, 22, 512)       2359808   \n",
            "_________________________________________________________________\n",
            "block5_pool (MaxPooling2D)   (None, 20, 11, 512)       0         \n",
            "=================================================================\n",
            "Total params: 14,714,688\n",
            "Trainable params: 14,714,688\n",
            "Non-trainable params: 0\n",
            "_________________________________________________________________\n"
          ]
        }
      ]
    },
    {
      "cell_type": "code",
      "metadata": {
        "id": "-q5ewsx-Q0xl"
      },
      "source": [
        "def get_encoder(old_model: Model) -> Model:\n",
        "  # Get encoder\n",
        "  encoder_input: Model = Model(inputs=old_model.layers[0].input,\n",
        "                              outputs=old_model.layers[18].output)\n",
        "\n",
        "  # Create Global Average Pooling.\n",
        "  encoder_output = encoder_input.layers[-1].output\n",
        "\n",
        "  # Create the encoder adding the GAP layer as output.\n",
        "  encoder: Model = Model(encoder_input.input, encoder_output, name='encoder')\n",
        "\n",
        "  return encoder"
      ],
      "execution_count": null,
      "outputs": []
    },
    {
      "cell_type": "code",
      "metadata": {
        "colab": {
          "base_uri": "https://localhost:8080/"
        },
        "id": "f3fYgz41RX3V",
        "outputId": "7c9ff398-6296-4f17-b35b-fe952d680b06"
      },
      "source": [
        "img_url = \"https://d25rq8gxcq0p71.cloudfront.net/dictionary-images/324/small.jpg\"\n",
        "img = Image.open(requests.get(img_url, stream=True).raw)\n",
        "input_shape_from_url = (img.height, img.width, 3)\n",
        "\n",
        "encoder = get_encoder(VGG16(include_top=False, input_shape=input_shape_from_url, weights=\"imagenet\"))\n",
        "encoder.summary()"
      ],
      "execution_count": null,
      "outputs": [
        {
          "name": "stdout",
          "output_type": "stream",
          "text": [
            "Model: \"encoder\"\n",
            "_________________________________________________________________\n",
            "Layer (type)                 Output Shape              Param #   \n",
            "=================================================================\n",
            "input_17 (InputLayer)        [(None, 216, 324, 3)]     0         \n",
            "_________________________________________________________________\n",
            "block1_conv1 (Conv2D)        (None, 216, 324, 64)      1792      \n",
            "_________________________________________________________________\n",
            "block1_conv2 (Conv2D)        (None, 216, 324, 64)      36928     \n",
            "_________________________________________________________________\n",
            "block1_pool (MaxPooling2D)   (None, 108, 162, 64)      0         \n",
            "_________________________________________________________________\n",
            "block2_conv1 (Conv2D)        (None, 108, 162, 128)     73856     \n",
            "_________________________________________________________________\n",
            "block2_conv2 (Conv2D)        (None, 108, 162, 128)     147584    \n",
            "_________________________________________________________________\n",
            "block2_pool (MaxPooling2D)   (None, 54, 81, 128)       0         \n",
            "_________________________________________________________________\n",
            "block3_conv1 (Conv2D)        (None, 54, 81, 256)       295168    \n",
            "_________________________________________________________________\n",
            "block3_conv2 (Conv2D)        (None, 54, 81, 256)       590080    \n",
            "_________________________________________________________________\n",
            "block3_conv3 (Conv2D)        (None, 54, 81, 256)       590080    \n",
            "_________________________________________________________________\n",
            "block3_pool (MaxPooling2D)   (None, 27, 40, 256)       0         \n",
            "_________________________________________________________________\n",
            "block4_conv1 (Conv2D)        (None, 27, 40, 512)       1180160   \n",
            "_________________________________________________________________\n",
            "block4_conv2 (Conv2D)        (None, 27, 40, 512)       2359808   \n",
            "_________________________________________________________________\n",
            "block4_conv3 (Conv2D)        (None, 27, 40, 512)       2359808   \n",
            "_________________________________________________________________\n",
            "block4_pool (MaxPooling2D)   (None, 13, 20, 512)       0         \n",
            "_________________________________________________________________\n",
            "block5_conv1 (Conv2D)        (None, 13, 20, 512)       2359808   \n",
            "_________________________________________________________________\n",
            "block5_conv2 (Conv2D)        (None, 13, 20, 512)       2359808   \n",
            "_________________________________________________________________\n",
            "block5_conv3 (Conv2D)        (None, 13, 20, 512)       2359808   \n",
            "_________________________________________________________________\n",
            "block5_pool (MaxPooling2D)   (None, 6, 10, 512)        0         \n",
            "=================================================================\n",
            "Total params: 14,714,688\n",
            "Trainable params: 14,714,688\n",
            "Non-trainable params: 0\n",
            "_________________________________________________________________\n"
          ]
        }
      ]
    },
    {
      "cell_type": "code",
      "metadata": {
        "colab": {
          "base_uri": "https://localhost:8080/"
        },
        "id": "nhb4JwGGTFym",
        "outputId": "f1875918-234d-4025-fb79-c11bfb444658"
      },
      "source": [
        "x = img_to_array(img)\n",
        "x = np.expand_dims(x, axis=0)\n",
        "x = preprocess_input(x)\n",
        "\n",
        "encoded_x = encoder.predict(x)"
      ],
      "execution_count": null,
      "outputs": [
        {
          "name": "stdout",
          "output_type": "stream",
          "text": [
            "WARNING:tensorflow:6 out of the last 11 calls to <function Model.make_predict_function.<locals>.predict_function at 0x7fe7041b4e60> triggered tf.function retracing. Tracing is expensive and the excessive number of tracings could be due to (1) creating @tf.function repeatedly in a loop, (2) passing tensors with different shapes, (3) passing Python objects instead of tensors. For (1), please define your @tf.function outside of the loop. For (2), @tf.function has experimental_relax_shapes=True option that relaxes argument shapes that can avoid unnecessary retracing. For (3), please refer to https://www.tensorflow.org/guide/function#controlling_retracing and https://www.tensorflow.org/api_docs/python/tf/function for  more details.\n"
          ]
        }
      ]
    },
    {
      "cell_type": "code",
      "metadata": {
        "colab": {
          "base_uri": "https://localhost:8080/"
        },
        "id": "S6Xrl1bpTHat",
        "outputId": "91efc2ea-0119-4832-da56-9a079cc32b68"
      },
      "source": [
        "encoded_x"
      ],
      "execution_count": null,
      "outputs": [
        {
          "data": {
            "text/plain": [
              "array([[[[ 0.       ,  0.       ,  0.       , ...,  0.       ,\n",
              "           0.       ,  0.       ],\n",
              "         [ 0.       ,  0.       ,  0.       , ...,  0.       ,\n",
              "           0.       ,  0.       ],\n",
              "         [ 0.       ,  0.       ,  0.       , ...,  0.       ,\n",
              "           0.       ,  0.       ],\n",
              "         ...,\n",
              "         [ 0.       ,  0.       ,  0.       , ...,  0.       ,\n",
              "           0.       ,  0.       ],\n",
              "         [ 0.       ,  0.       ,  0.       , ...,  0.       ,\n",
              "           0.       ,  0.       ],\n",
              "         [ 0.       ,  0.       ,  0.       , ...,  0.       ,\n",
              "           0.       ,  0.       ]],\n",
              "\n",
              "        [[ 0.       ,  0.       ,  0.       , ...,  0.       ,\n",
              "           0.       ,  0.       ],\n",
              "         [ 0.       ,  0.       ,  0.       , ...,  0.       ,\n",
              "           0.       ,  0.       ],\n",
              "         [ 0.       ,  0.       ,  0.       , ...,  0.       ,\n",
              "           0.       ,  0.       ],\n",
              "         ...,\n",
              "         [ 0.       ,  0.       ,  0.       , ...,  0.       ,\n",
              "           0.       ,  0.       ],\n",
              "         [ 0.       ,  0.       ,  0.       , ...,  0.       ,\n",
              "           0.       ,  0.       ],\n",
              "         [ 0.       ,  0.       ,  0.       , ...,  0.       ,\n",
              "           0.       ,  0.       ]],\n",
              "\n",
              "        [[ 0.       ,  0.       ,  0.       , ...,  0.       ,\n",
              "           0.       ,  0.       ],\n",
              "         [ 0.       ,  0.       ,  0.       , ...,  0.       ,\n",
              "           0.       ,  0.       ],\n",
              "         [ 0.       ,  0.       ,  0.       , ...,  0.       ,\n",
              "           0.       ,  0.       ],\n",
              "         ...,\n",
              "         [ 0.       ,  0.       ,  0.       , ...,  7.3262877,\n",
              "           0.       ,  0.       ],\n",
              "         [ 0.       ,  0.       ,  0.       , ...,  0.       ,\n",
              "           0.       ,  0.       ],\n",
              "         [ 0.       ,  0.       ,  0.       , ...,  0.       ,\n",
              "           0.       ,  0.       ]],\n",
              "\n",
              "        [[ 0.       ,  0.       ,  0.       , ...,  0.       ,\n",
              "           0.       ,  0.       ],\n",
              "         [ 0.       ,  0.       ,  0.       , ...,  0.       ,\n",
              "           0.       ,  0.       ],\n",
              "         [ 0.       ,  0.       ,  0.       , ...,  0.       ,\n",
              "           0.       ,  0.       ],\n",
              "         ...,\n",
              "         [ 0.       ,  0.       ,  0.       , ...,  0.       ,\n",
              "           0.       ,  0.       ],\n",
              "         [ 0.       ,  0.       ,  0.       , ...,  0.       ,\n",
              "           0.       ,  0.       ],\n",
              "         [ 0.       ,  0.       ,  0.       , ...,  0.       ,\n",
              "           0.       ,  0.       ]],\n",
              "\n",
              "        [[ 0.       ,  0.       ,  0.       , ...,  0.       ,\n",
              "           0.       ,  0.       ],\n",
              "         [ 0.       ,  0.       ,  0.       , ...,  0.       ,\n",
              "           0.       ,  0.       ],\n",
              "         [ 0.       ,  0.       ,  0.       , ...,  0.       ,\n",
              "           0.       ,  0.       ],\n",
              "         ...,\n",
              "         [ 0.       ,  0.       ,  0.       , ..., 28.622746 ,\n",
              "           0.       ,  0.       ],\n",
              "         [ 0.       ,  0.       ,  0.       , ...,  0.       ,\n",
              "           0.       ,  0.       ],\n",
              "         [ 0.       ,  0.       ,  0.       , ...,  0.       ,\n",
              "           0.       ,  0.       ]],\n",
              "\n",
              "        [[ 0.       ,  0.       ,  0.       , ...,  0.       ,\n",
              "           0.       ,  0.       ],\n",
              "         [ 0.       ,  0.       ,  0.       , ...,  0.       ,\n",
              "           0.       ,  0.       ],\n",
              "         [ 0.       ,  0.       ,  0.       , ...,  0.       ,\n",
              "           0.       ,  0.       ],\n",
              "         ...,\n",
              "         [ 0.       ,  0.       ,  0.       , ..., 27.639284 ,\n",
              "           0.       ,  0.       ],\n",
              "         [ 0.       ,  0.       ,  0.       , ...,  0.       ,\n",
              "           0.       ,  0.       ],\n",
              "         [ 0.       ,  0.       ,  0.       , ...,  0.       ,\n",
              "           0.       ,  0.       ]]]], dtype=float32)"
            ]
          },
          "execution_count": 130,
          "metadata": {
            "tags": []
          },
          "output_type": "execute_result"
        }
      ]
    },
    {
      "cell_type": "code",
      "metadata": {
        "id": "puBHMT0s6Hv-"
      },
      "source": [
        "def generate_encoder(input_shape):\n",
        "     model = VGG16(include_top=False, input_shape=input_shape, weights=\"imagenet\")\n",
        "     F1 = Flatten()(model.get_layer(index=1).output)\n",
        "     F2 = Flatten()(model.get_layer(index=2).output)\n",
        "     F3 = Flatten()(model.get_layer(index=3).output)\n",
        "     F4 = Flatten()(model.get_layer(index=4).output)\n",
        "     F5 = Flatten()(model.get_layer(index=5).output)   \n",
        "     M = Model(model.inputs,[F1,F2,F3,F4,F5])  \n",
        "     return M "
      ],
      "execution_count": null,
      "outputs": []
    },
    {
      "cell_type": "code",
      "metadata": {
        "colab": {
          "base_uri": "https://localhost:8080/"
        },
        "id": "0utwhtnR50Xj",
        "outputId": "b1265493-7851-4c4a-8378-e2119a06793d"
      },
      "source": [
        "img_url = \"https://d25rq8gxcq0p71.cloudfront.net/dictionary-images/324/small.jpg\"\n",
        "img = Image.open(requests.get(img_url, stream=True).raw)\n",
        "input_shape_from_url = (img.height, img.width, 3)\n",
        "\n",
        "encoder = generate_encoder(input_shape_from_url)\n",
        "encoder.summary()"
      ],
      "execution_count": null,
      "outputs": [
        {
          "name": "stdout",
          "output_type": "stream",
          "text": [
            "Model: \"model_11\"\n",
            "__________________________________________________________________________________________________\n",
            "Layer (type)                    Output Shape         Param #     Connected to                     \n",
            "==================================================================================================\n",
            "input_13 (InputLayer)           [(None, 216, 324, 3) 0                                            \n",
            "__________________________________________________________________________________________________\n",
            "block1_conv1 (Conv2D)           (None, 216, 324, 64) 1792        input_13[0][0]                   \n",
            "__________________________________________________________________________________________________\n",
            "block1_conv2 (Conv2D)           (None, 216, 324, 64) 36928       block1_conv1[0][0]               \n",
            "__________________________________________________________________________________________________\n",
            "block1_pool (MaxPooling2D)      (None, 108, 162, 64) 0           block1_conv2[0][0]               \n",
            "__________________________________________________________________________________________________\n",
            "block2_conv1 (Conv2D)           (None, 108, 162, 128 73856       block1_pool[0][0]                \n",
            "__________________________________________________________________________________________________\n",
            "block2_conv2 (Conv2D)           (None, 108, 162, 128 147584      block2_conv1[0][0]               \n",
            "__________________________________________________________________________________________________\n",
            "flatten_35 (Flatten)            (None, 4478976)      0           block1_conv1[0][0]               \n",
            "__________________________________________________________________________________________________\n",
            "flatten_36 (Flatten)            (None, 4478976)      0           block1_conv2[0][0]               \n",
            "__________________________________________________________________________________________________\n",
            "flatten_37 (Flatten)            (None, 1119744)      0           block1_pool[0][0]                \n",
            "__________________________________________________________________________________________________\n",
            "flatten_38 (Flatten)            (None, 2239488)      0           block2_conv1[0][0]               \n",
            "__________________________________________________________________________________________________\n",
            "flatten_39 (Flatten)            (None, 2239488)      0           block2_conv2[0][0]               \n",
            "==================================================================================================\n",
            "Total params: 260,160\n",
            "Trainable params: 260,160\n",
            "Non-trainable params: 0\n",
            "__________________________________________________________________________________________________\n"
          ]
        }
      ]
    },
    {
      "cell_type": "code",
      "metadata": {
        "colab": {
          "base_uri": "https://localhost:8080/"
        },
        "id": "xHexJEef6j-P",
        "outputId": "894e2c67-7375-4a31-ca1e-e5178e1c6271"
      },
      "source": [
        "mx = img_to_array(img)\n",
        "x = np.expand_dims(x, axis=0)\n",
        "x = preprocess_input(x)\n",
        "\n",
        "encoded_x = encoder.predict(x)"
      ],
      "execution_count": null,
      "outputs": [
        {
          "name": "stdout",
          "output_type": "stream",
          "text": [
            "WARNING:tensorflow:5 out of the last 10 calls to <function Model.make_predict_function.<locals>.predict_function at 0x7fe704115560> triggered tf.function retracing. Tracing is expensive and the excessive number of tracings could be due to (1) creating @tf.function repeatedly in a loop, (2) passing tensors with different shapes, (3) passing Python objects instead of tensors. For (1), please define your @tf.function outside of the loop. For (2), @tf.function has experimental_relax_shapes=True option that relaxes argument shapes that can avoid unnecessary retracing. For (3), please refer to https://www.tensorflow.org/guide/function#controlling_retracing and https://www.tensorflow.org/api_docs/python/tf/function for  more details.\n"
          ]
        }
      ]
    },
    {
      "cell_type": "code",
      "metadata": {
        "colab": {
          "base_uri": "https://localhost:8080/",
          "height": 163
        },
        "id": "4SFpZaDg97vO",
        "outputId": "098ce4e8-c202-487a-a49b-cdc158c0c696"
      },
      "source": [
        "print(f\"({len(encoded_x)}, {len(encoded_x[0])}, {len(encoded_x[0][0])})\")"
      ],
      "execution_count": null,
      "outputs": [
        {
          "ename": "NameError",
          "evalue": "ignored",
          "output_type": "error",
          "traceback": [
            "\u001b[0;31m---------------------------------------------------------------------------\u001b[0m",
            "\u001b[0;31mNameError\u001b[0m                                 Traceback (most recent call last)",
            "\u001b[0;32m<ipython-input-1-4ddf14e523ad>\u001b[0m in \u001b[0;36m<module>\u001b[0;34m()\u001b[0m\n\u001b[0;32m----> 1\u001b[0;31m \u001b[0mprint\u001b[0m\u001b[0;34m(\u001b[0m\u001b[0;34mf\"({len(encoded_x)}, {len(encoded_x[0])}, {len(encoded_x[0][0])})\"\u001b[0m\u001b[0;34m)\u001b[0m\u001b[0;34m\u001b[0m\u001b[0;34m\u001b[0m\u001b[0m\n\u001b[0m",
            "\u001b[0;31mNameError\u001b[0m: name 'encoded_x' is not defined"
          ]
        }
      ]
    },
    {
      "cell_type": "markdown",
      "metadata": {
        "id": "oGWgldozQPQt"
      },
      "source": [
        "# Preparar el dataset para la DA "
      ]
    },
    {
      "cell_type": "code",
      "metadata": {
        "id": "_geX-RAE4EB-"
      },
      "source": [
        "import pandas as pd\n",
        "\n",
        "df = pd.DataFrame(pd.read_excel(\"/content/dataset/revibe.xlsx\"))"
      ],
      "execution_count": null,
      "outputs": []
    },
    {
      "cell_type": "code",
      "metadata": {
        "id": "cF_XhwBs4Yje"
      },
      "source": [
        "df = df.drop(['Marca temporal', '¿Cuántos años tenés?', '¿De dónde sos? (ciudad y país)', '¿Cuál es tu género?'], axis=1)"
      ],
      "execution_count": null,
      "outputs": []
    },
    {
      "cell_type": "code",
      "metadata": {
        "id": "7hLIBUxh4MEm"
      },
      "source": [
        "df.to_csv(\"/content/dataset/dataset.csv\", index = None, header=True, encoding=\"utf-8\")"
      ],
      "execution_count": null,
      "outputs": []
    },
    {
      "cell_type": "markdown",
      "metadata": {
        "id": "oRzUSpruyFQ5"
      },
      "source": [
        "# Data Augmentation with a GAN\n",
        "\n"
      ]
    },
    {
      "cell_type": "code",
      "metadata": {
        "id": "AjClAa14qcV3"
      },
      "source": [
        "import csv\n",
        "import numpy\n",
        "import numpy as np\n",
        "from numpy.random import uniform\n",
        "import pandas as pd\n",
        "import matplotlib.pyplot as plt"
      ],
      "execution_count": null,
      "outputs": []
    },
    {
      "cell_type": "code",
      "metadata": {
        "id": "M3WXh63h8QWo"
      },
      "source": [
        "BATCH = 16\n",
        "SAMPLE_LEN = 19       # number N of points where a curve is sampled\n",
        "SAMPLE_SIZE = 919   # number of curves in the training set"
      ],
      "execution_count": null,
      "outputs": []
    },
    {
      "cell_type": "code",
      "metadata": {
        "id": "SRNxRI5fqlFH"
      },
      "source": [
        "df_x = pd.read_excel('/content/dataset/dataset.xlsx')"
      ],
      "execution_count": null,
      "outputs": []
    },
    {
      "cell_type": "code",
      "metadata": {
        "id": "2r1l6RrLp9IV"
      },
      "source": [
        "df_x = df_x.drop(columns=df_x.columns[:4])"
      ],
      "execution_count": null,
      "outputs": []
    },
    {
      "cell_type": "code",
      "metadata": {
        "id": "lhSvDl0IoAlw"
      },
      "source": [
        "reader = csv.reader(open(\"/content/dataset/dataset.csv\"), delimiter=\",\")\n",
        "next(reader)\n",
        "x = np.array(list(reader)).astype(\"float\")"
      ],
      "execution_count": null,
      "outputs": []
    },
    {
      "cell_type": "code",
      "metadata": {
        "id": "judJ9xxItKrM"
      },
      "source": [
        "positive = [0,1,4,6,8,9,13,14,17,18]\n",
        "negative = [i for i in range(20) if i not in positive]"
      ],
      "execution_count": null,
      "outputs": []
    },
    {
      "cell_type": "code",
      "metadata": {
        "id": "9Q8T2UNct5uO"
      },
      "source": [
        "arr_x = np.array(df_x).astype(\"float\")"
      ],
      "execution_count": null,
      "outputs": []
    },
    {
      "cell_type": "code",
      "metadata": {
        "colab": {
          "base_uri": "https://localhost:8080/"
        },
        "id": "tzbPi_nWuhXf",
        "outputId": "98123e2f-4fe1-4e95-c17c-c9a6e6580d25"
      },
      "source": [
        "arr_x[[positive, ]]"
      ],
      "execution_count": null,
      "outputs": [
        {
          "data": {
            "text/plain": [
              "(919, 20)"
            ]
          },
          "execution_count": 88,
          "metadata": {
            "tags": []
          },
          "output_type": "execute_result"
        }
      ]
    },
    {
      "cell_type": "code",
      "metadata": {
        "id": "vIrHUImquYVv"
      },
      "source": [
        "arr_x_test = np.sum(arr_x, axis=1)"
      ],
      "execution_count": null,
      "outputs": []
    },
    {
      "cell_type": "code",
      "metadata": {
        "colab": {
          "base_uri": "https://localhost:8080/"
        },
        "id": "bFHKQV1du9Qh",
        "outputId": "04012f62-ff87-4b30-f36a-18299fe6daba"
      },
      "source": [
        "o = np.array([1,2,3,4,5])\n",
        "o[[2,4]]"
      ],
      "execution_count": null,
      "outputs": [
        {
          "data": {
            "text/plain": [
              "array([3, 5])"
            ]
          },
          "execution_count": 98,
          "metadata": {
            "tags": []
          },
          "output_type": "execute_result"
        }
      ]
    },
    {
      "cell_type": "code",
      "metadata": {
        "colab": {
          "base_uri": "https://localhost:8080/",
          "height": 524
        },
        "id": "nu-1iTrItJN8",
        "outputId": "31a9689c-2877-4d86-916a-a86e30c09887"
      },
      "source": [
        "df_x"
      ],
      "execution_count": null,
      "outputs": [
        {
          "data": {
            "text/html": [
              "<div>\n",
              "<style scoped>\n",
              "    .dataframe tbody tr th:only-of-type {\n",
              "        vertical-align: middle;\n",
              "    }\n",
              "\n",
              "    .dataframe tbody tr th {\n",
              "        vertical-align: top;\n",
              "    }\n",
              "\n",
              "    .dataframe thead th {\n",
              "        text-align: right;\n",
              "    }\n",
              "</style>\n",
              "<table border=\"1\" class=\"dataframe\">\n",
              "  <thead>\n",
              "    <tr style=\"text-align: right;\">\n",
              "      <th></th>\n",
              "      <th>Me siento calmado</th>\n",
              "      <th>Me siento seguro</th>\n",
              "      <th>Estoy tenso</th>\n",
              "      <th>Estoy contrariado (malhumorado o disgustado)</th>\n",
              "      <th>Me siento cómodo (estoy a gusto)</th>\n",
              "      <th>Estoy preocupado ahora por posibles desgracias futuras</th>\n",
              "      <th>Me siento descansado</th>\n",
              "      <th>Me siento angustiado</th>\n",
              "      <th>Me siento confortable</th>\n",
              "      <th>Tengo confianza en mi mismo</th>\n",
              "      <th>Me siento nervioso</th>\n",
              "      <th>Estoy desasosegado (agitado e inquieto)</th>\n",
              "      <th>Me siento muy “atado” (como oprimido)</th>\n",
              "      <th>Estoy relajado</th>\n",
              "      <th>Me siento satisfecho</th>\n",
              "      <th>Estoy preocupado</th>\n",
              "      <th>Me siento aturdido y sobreexcitado</th>\n",
              "      <th>Me siento alegre</th>\n",
              "      <th>En este momento me siento bien</th>\n",
              "      <th>Me siento alterado</th>\n",
              "    </tr>\n",
              "  </thead>\n",
              "  <tbody>\n",
              "    <tr>\n",
              "      <th>0</th>\n",
              "      <td>0</td>\n",
              "      <td>1</td>\n",
              "      <td>3</td>\n",
              "      <td>0</td>\n",
              "      <td>0</td>\n",
              "      <td>0</td>\n",
              "      <td>0</td>\n",
              "      <td>1</td>\n",
              "      <td>1</td>\n",
              "      <td>0</td>\n",
              "      <td>0</td>\n",
              "      <td>1</td>\n",
              "      <td>1</td>\n",
              "      <td>0</td>\n",
              "      <td>0</td>\n",
              "      <td>0</td>\n",
              "      <td>0</td>\n",
              "      <td>1</td>\n",
              "      <td>1</td>\n",
              "      <td>1</td>\n",
              "    </tr>\n",
              "    <tr>\n",
              "      <th>1</th>\n",
              "      <td>2</td>\n",
              "      <td>2</td>\n",
              "      <td>0</td>\n",
              "      <td>0</td>\n",
              "      <td>2</td>\n",
              "      <td>0</td>\n",
              "      <td>1</td>\n",
              "      <td>1</td>\n",
              "      <td>2</td>\n",
              "      <td>3</td>\n",
              "      <td>1</td>\n",
              "      <td>0</td>\n",
              "      <td>0</td>\n",
              "      <td>2</td>\n",
              "      <td>2</td>\n",
              "      <td>1</td>\n",
              "      <td>0</td>\n",
              "      <td>2</td>\n",
              "      <td>2</td>\n",
              "      <td>0</td>\n",
              "    </tr>\n",
              "    <tr>\n",
              "      <th>2</th>\n",
              "      <td>2</td>\n",
              "      <td>3</td>\n",
              "      <td>0</td>\n",
              "      <td>1</td>\n",
              "      <td>3</td>\n",
              "      <td>1</td>\n",
              "      <td>2</td>\n",
              "      <td>0</td>\n",
              "      <td>2</td>\n",
              "      <td>3</td>\n",
              "      <td>0</td>\n",
              "      <td>0</td>\n",
              "      <td>0</td>\n",
              "      <td>2</td>\n",
              "      <td>2</td>\n",
              "      <td>0</td>\n",
              "      <td>0</td>\n",
              "      <td>3</td>\n",
              "      <td>3</td>\n",
              "      <td>1</td>\n",
              "    </tr>\n",
              "    <tr>\n",
              "      <th>3</th>\n",
              "      <td>2</td>\n",
              "      <td>2</td>\n",
              "      <td>1</td>\n",
              "      <td>1</td>\n",
              "      <td>3</td>\n",
              "      <td>1</td>\n",
              "      <td>1</td>\n",
              "      <td>0</td>\n",
              "      <td>2</td>\n",
              "      <td>3</td>\n",
              "      <td>1</td>\n",
              "      <td>0</td>\n",
              "      <td>1</td>\n",
              "      <td>2</td>\n",
              "      <td>2</td>\n",
              "      <td>1</td>\n",
              "      <td>0</td>\n",
              "      <td>2</td>\n",
              "      <td>3</td>\n",
              "      <td>1</td>\n",
              "    </tr>\n",
              "    <tr>\n",
              "      <th>4</th>\n",
              "      <td>2</td>\n",
              "      <td>3</td>\n",
              "      <td>0</td>\n",
              "      <td>1</td>\n",
              "      <td>3</td>\n",
              "      <td>2</td>\n",
              "      <td>3</td>\n",
              "      <td>0</td>\n",
              "      <td>2</td>\n",
              "      <td>3</td>\n",
              "      <td>1</td>\n",
              "      <td>0</td>\n",
              "      <td>2</td>\n",
              "      <td>3</td>\n",
              "      <td>2</td>\n",
              "      <td>1</td>\n",
              "      <td>0</td>\n",
              "      <td>2</td>\n",
              "      <td>3</td>\n",
              "      <td>1</td>\n",
              "    </tr>\n",
              "    <tr>\n",
              "      <th>...</th>\n",
              "      <td>...</td>\n",
              "      <td>...</td>\n",
              "      <td>...</td>\n",
              "      <td>...</td>\n",
              "      <td>...</td>\n",
              "      <td>...</td>\n",
              "      <td>...</td>\n",
              "      <td>...</td>\n",
              "      <td>...</td>\n",
              "      <td>...</td>\n",
              "      <td>...</td>\n",
              "      <td>...</td>\n",
              "      <td>...</td>\n",
              "      <td>...</td>\n",
              "      <td>...</td>\n",
              "      <td>...</td>\n",
              "      <td>...</td>\n",
              "      <td>...</td>\n",
              "      <td>...</td>\n",
              "      <td>...</td>\n",
              "    </tr>\n",
              "    <tr>\n",
              "      <th>914</th>\n",
              "      <td>1</td>\n",
              "      <td>1</td>\n",
              "      <td>3</td>\n",
              "      <td>1</td>\n",
              "      <td>1</td>\n",
              "      <td>3</td>\n",
              "      <td>1</td>\n",
              "      <td>2</td>\n",
              "      <td>1</td>\n",
              "      <td>1</td>\n",
              "      <td>3</td>\n",
              "      <td>3</td>\n",
              "      <td>1</td>\n",
              "      <td>0</td>\n",
              "      <td>1</td>\n",
              "      <td>3</td>\n",
              "      <td>2</td>\n",
              "      <td>1</td>\n",
              "      <td>1</td>\n",
              "      <td>2</td>\n",
              "    </tr>\n",
              "    <tr>\n",
              "      <th>915</th>\n",
              "      <td>1</td>\n",
              "      <td>2</td>\n",
              "      <td>1</td>\n",
              "      <td>1</td>\n",
              "      <td>2</td>\n",
              "      <td>0</td>\n",
              "      <td>1</td>\n",
              "      <td>1</td>\n",
              "      <td>1</td>\n",
              "      <td>1</td>\n",
              "      <td>0</td>\n",
              "      <td>1</td>\n",
              "      <td>1</td>\n",
              "      <td>2</td>\n",
              "      <td>2</td>\n",
              "      <td>0</td>\n",
              "      <td>1</td>\n",
              "      <td>1</td>\n",
              "      <td>2</td>\n",
              "      <td>1</td>\n",
              "    </tr>\n",
              "    <tr>\n",
              "      <th>916</th>\n",
              "      <td>2</td>\n",
              "      <td>3</td>\n",
              "      <td>0</td>\n",
              "      <td>0</td>\n",
              "      <td>2</td>\n",
              "      <td>0</td>\n",
              "      <td>0</td>\n",
              "      <td>0</td>\n",
              "      <td>2</td>\n",
              "      <td>3</td>\n",
              "      <td>1</td>\n",
              "      <td>0</td>\n",
              "      <td>0</td>\n",
              "      <td>2</td>\n",
              "      <td>2</td>\n",
              "      <td>0</td>\n",
              "      <td>0</td>\n",
              "      <td>2</td>\n",
              "      <td>3</td>\n",
              "      <td>0</td>\n",
              "    </tr>\n",
              "    <tr>\n",
              "      <th>917</th>\n",
              "      <td>2</td>\n",
              "      <td>1</td>\n",
              "      <td>1</td>\n",
              "      <td>1</td>\n",
              "      <td>1</td>\n",
              "      <td>0</td>\n",
              "      <td>1</td>\n",
              "      <td>0</td>\n",
              "      <td>1</td>\n",
              "      <td>2</td>\n",
              "      <td>1</td>\n",
              "      <td>1</td>\n",
              "      <td>0</td>\n",
              "      <td>2</td>\n",
              "      <td>2</td>\n",
              "      <td>1</td>\n",
              "      <td>0</td>\n",
              "      <td>2</td>\n",
              "      <td>2</td>\n",
              "      <td>1</td>\n",
              "    </tr>\n",
              "    <tr>\n",
              "      <th>918</th>\n",
              "      <td>1</td>\n",
              "      <td>2</td>\n",
              "      <td>1</td>\n",
              "      <td>2</td>\n",
              "      <td>3</td>\n",
              "      <td>1</td>\n",
              "      <td>3</td>\n",
              "      <td>0</td>\n",
              "      <td>2</td>\n",
              "      <td>2</td>\n",
              "      <td>0</td>\n",
              "      <td>1</td>\n",
              "      <td>0</td>\n",
              "      <td>1</td>\n",
              "      <td>2</td>\n",
              "      <td>1</td>\n",
              "      <td>0</td>\n",
              "      <td>2</td>\n",
              "      <td>1</td>\n",
              "      <td>1</td>\n",
              "    </tr>\n",
              "  </tbody>\n",
              "</table>\n",
              "<p>919 rows × 20 columns</p>\n",
              "</div>"
            ],
            "text/plain": [
              "     Me siento calmado  ...  Me siento alterado\n",
              "0                    0  ...                   1\n",
              "1                    2  ...                   0\n",
              "2                    2  ...                   1\n",
              "3                    2  ...                   1\n",
              "4                    2  ...                   1\n",
              "..                 ...  ...                 ...\n",
              "914                  1  ...                   2\n",
              "915                  1  ...                   1\n",
              "916                  2  ...                   0\n",
              "917                  2  ...                   1\n",
              "918                  1  ...                   1\n",
              "\n",
              "[919 rows x 20 columns]"
            ]
          },
          "execution_count": 73,
          "metadata": {
            "tags": []
          },
          "output_type": "execute_result"
        }
      ]
    },
    {
      "cell_type": "code",
      "metadata": {
        "colab": {
          "base_uri": "https://localhost:8080/",
          "height": 197
        },
        "id": "ATjN6GXkkhWt",
        "outputId": "4f5152ea-1176-402f-b363-9efd467ac2a8"
      },
      "source": [
        "for raw in x:\n",
        "  for repeat in range(10):\n",
        "    new_raw = raw\n",
        "    index_alterate = random.randint(0,18)\n",
        "    if (raw[index_alterate] == 0): new_raw[index_alterate] += 1\n",
        "    elif (raw[index_alterate] == 3): new_raw[index_alterate] -= 1\n",
        "    else:\n",
        "      change = random.randrange(-1,2,2)\n",
        "      print(type(new_raw[index_alterate]))\n",
        "      new_raw[index_alterate] += change\n",
        "    x.append(new_raw)"
      ],
      "execution_count": null,
      "outputs": [
        {
          "ename": "AttributeError",
          "evalue": "ignored",
          "output_type": "error",
          "traceback": [
            "\u001b[0;31m---------------------------------------------------------------------------\u001b[0m",
            "\u001b[0;31mAttributeError\u001b[0m                            Traceback (most recent call last)",
            "\u001b[0;32m<ipython-input-65-4ef2b38f1373>\u001b[0m in \u001b[0;36m<module>\u001b[0;34m()\u001b[0m\n\u001b[1;32m     15\u001b[0m       \u001b[0mprint\u001b[0m\u001b[0;34m(\u001b[0m\u001b[0mtype\u001b[0m\u001b[0;34m(\u001b[0m\u001b[0mnew_raw\u001b[0m\u001b[0;34m[\u001b[0m\u001b[0mindex_alterate\u001b[0m\u001b[0;34m]\u001b[0m\u001b[0;34m)\u001b[0m\u001b[0;34m)\u001b[0m\u001b[0;34m\u001b[0m\u001b[0;34m\u001b[0m\u001b[0m\n\u001b[1;32m     16\u001b[0m       \u001b[0mnew_raw\u001b[0m\u001b[0;34m[\u001b[0m\u001b[0mindex_alterate\u001b[0m\u001b[0;34m]\u001b[0m \u001b[0;34m+=\u001b[0m \u001b[0mchange\u001b[0m\u001b[0;34m\u001b[0m\u001b[0;34m\u001b[0m\u001b[0m\n\u001b[0;32m---> 17\u001b[0;31m     \u001b[0mx\u001b[0m\u001b[0;34m.\u001b[0m\u001b[0mappend\u001b[0m\u001b[0;34m(\u001b[0m\u001b[0mnew_raw\u001b[0m\u001b[0;34m)\u001b[0m\u001b[0;34m\u001b[0m\u001b[0;34m\u001b[0m\u001b[0m\n\u001b[0m",
            "\u001b[0;31mAttributeError\u001b[0m: 'numpy.ndarray' object has no attribute 'append'"
          ]
        }
      ]
    },
    {
      "cell_type": "code",
      "metadata": {
        "id": "rxzvRCyGRIhc"
      },
      "source": [
        "from keras.optimizers import Adam\n",
        "from keras.layers import Dense, Dropout, LeakyReLU\n",
        "from keras.models import Sequential\n",
        "import numpy as np\n",
        "from numpy.random import uniform\n",
        "import random\n",
        "\n",
        "LEAKY_RELU = LeakyReLU(0.3)\n",
        "DROPOUT = Dropout(0.4)\n",
        "ADAM = Adam(learning_rate=0.001, beta_1=.5) #previously 1"
      ],
      "execution_count": null,
      "outputs": []
    },
    {
      "cell_type": "code",
      "metadata": {
        "id": "DZCopEMizChM"
      },
      "source": [
        "generator = Sequential()\n",
        "generator.add(Dense(SAMPLE_LEN))\n",
        "generator.add(LEAKY_RELU)\n",
        "generator.add(DROPOUT) #a\n",
        "generator.add(Dense(SAMPLE_LEN))\n",
        "generator.add(LEAKY_RELU)\n",
        "generator.add(Dense(SAMPLE_LEN))\n",
        "generator.compile(optimizer = ADAM, loss = \"mse\", metrics = [\"accuracy\"])"
      ],
      "execution_count": null,
      "outputs": []
    },
    {
      "cell_type": "code",
      "metadata": {
        "id": "yr8aHf2ryLPX"
      },
      "source": [
        "discriminator = Sequential()\n",
        "discriminator.add(Dense(SAMPLE_LEN, activation=\"relu\"))\n",
        "discriminator.add(DROPOUT)\n",
        "discriminator.add(Dense(SAMPLE_LEN, activation=\"relu\"))\n",
        "discriminator.add(DROPOUT)\n",
        "discriminator.add(Dense(1, activation = \"sigmoid\"))\n",
        "discriminator.compile(optimizer = \"adam\", loss = \"binary_crossentropy\", metrics = [\"accuracy\"])"
      ],
      "execution_count": null,
      "outputs": []
    },
    {
      "cell_type": "code",
      "metadata": {
        "id": "0uGIeOnQzQJH"
      },
      "source": [
        "gan = Sequential()\n",
        "gan.add(generator)\n",
        "gan.add(discriminator)\n",
        "gan.compile(optimizer = \"adam\", loss = \"binary_crossentropy\", metrics = [\"accuracy\"])"
      ],
      "execution_count": null,
      "outputs": []
    },
    {
      "cell_type": "code",
      "metadata": {
        "id": "DnRWTGavz4Zn"
      },
      "source": [
        "EPOCHS = 64\n",
        " \n",
        "NOISE = (np.random.rand(SAMPLE_SIZE, 19) * 4).astype(int)\n",
        "ONES = np.ones((SAMPLE_SIZE))\n",
        "ZEROS = np.zeros((SAMPLE_SIZE))\n",
        "print(\"epoch | dis. loss | dis. acc | gen. loss | gen. acc\")\n",
        "print(\"------+-----------+----------+-----------+----------\")\n",
        "\n",
        "for e in range(EPOCHS):\n",
        "    for k in range(SAMPLE_SIZE//BATCH):\n",
        "        n = np.random.randint(0, SAMPLE_SIZE, size = BATCH)\n",
        "        p = generator.predict(NOISE[n])\n",
        "        x = np.concatenate((SAMPLE[n], p))\n",
        "        y = np.concatenate((ONES[n], ZEROS[n]))\n",
        "        d_result = discriminator.train_on_batch(x, y)\n",
        "        discriminator.trainable = False\n",
        "        g_result = gan.train_on_batch(NOISE[n], ONES[n])\n",
        "        discriminator.trainable = True\n",
        "    print(f\" {e:04n} |  {d_result[0]:.5f}  |  {d_result[1]:.5f} |  {g_result[0]:.5f}  |  {g_result[1]:.5f}\")"
      ],
      "execution_count": null,
      "outputs": []
    },
    {
      "cell_type": "code",
      "metadata": {
        "colab": {
          "base_uri": "https://localhost:8080/"
        },
        "id": "3J4kUTzmZXEV",
        "outputId": "36a78ab7-1d9c-4cec-caa2-2d4bbcc8c802"
      },
      "source": [
        "print(generator.predict(np.array([NOISE[0]])).astype(int)[0])\n",
        "print(generator.predict(np.array([NOISE[15]])).astype(int)[0])\n",
        "print(generator.predict(np.array([NOISE[29]])).astype(int)[0])\n",
        "print(generator.predict(np.array([NOISE[34]])).astype(int)[0])\n",
        "print(generator.predict(np.array([NOISE[56]])).astype(int)[0])\n",
        "print(generator.predict(np.array([NOISE[78]])).astype(int)[0])\n",
        "print(generator.predict(np.array([NOISE[12]])).astype(int)[0])\n",
        "print(generator.predict(np.array([NOISE[9]])).astype(int)[0])"
      ],
      "execution_count": null,
      "outputs": [
        {
          "name": "stdout",
          "output_type": "stream",
          "text": [
            "[ -69  614 -123 -141   25 -326  205  372  152  -39  167   51  -26  528\n",
            "  131   84  238   31 -238]\n",
            "[ -79  699 -142 -161   26 -367  232  426  173  -43  187   60  -27  603\n",
            "  149   91  269   31 -269]\n",
            "[ -75  682 -138 -156   26 -357  227  414  170  -43  181   58  -27  589\n",
            "  146   89  262   30 -262]\n",
            "[ -54  488 -100 -112   18 -256  162  297  121  -30  129   42  -20  422\n",
            "  104   63  187   20 -188]\n",
            "[ -52  475  -96 -109   18 -251  158  287  117  -30  127   38  -20  410\n",
            "  102   64  184   22 -183]\n",
            "[ -50  447  -92 -102   17 -236  149  272  111  -28  120   39  -19  387\n",
            "   94   59  171   20 -173]\n",
            "[ -67  606 -123 -140   22 -318  201  368  150  -37  161   51  -23  523\n",
            "  130   79  234   25 -233]\n",
            "[ -49  439  -89 -101   17 -231  145  268  109  -27  117   38  -17  380\n",
            "   94   56  169   19 -169]\n"
          ]
        }
      ]
    },
    {
      "cell_type": "code",
      "metadata": {
        "colab": {
          "base_uri": "https://localhost:8080/"
        },
        "id": "i92aNeW4Zk0O",
        "outputId": "506700f3-5c20-443c-8cb8-446a4dd4d016"
      },
      "source": [
        "y"
      ],
      "execution_count": null,
      "outputs": [
        {
          "data": {
            "text/plain": [
              "array([-297,  314,  -97,  787, -590,  -50,  545, -379, -393,  942,   69,\n",
              "        155,   50, -354,  129, -388,  333,  338, -367])"
            ]
          },
          "execution_count": 14,
          "metadata": {
            "tags": []
          },
          "output_type": "execute_result"
        }
      ]
    },
    {
      "cell_type": "markdown",
      "metadata": {
        "id": "Ch9srz3Bt7fs"
      },
      "source": [
        "## usanndo librería river.py\n",
        "\n",
        "[Docs](https://riverml.xyz/latest/)"
      ]
    },
    {
      "cell_type": "code",
      "metadata": {
        "colab": {
          "base_uri": "https://localhost:8080/"
        },
        "id": "2OBqWfiotuDE",
        "outputId": "729b8a21-5c94-4237-9e84-8f57490fee6a"
      },
      "source": [
        "pip install river"
      ],
      "execution_count": null,
      "outputs": [
        {
          "name": "stdout",
          "output_type": "stream",
          "text": [
            "Collecting river\n",
            "  Downloading river-0.8.0-cp37-cp37m-manylinux_2_5_x86_64.manylinux1_x86_64.manylinux_2_12_x86_64.manylinux2010_x86_64.whl (2.4 MB)\n",
            "\u001b[K     |████████████████████████████████| 2.4 MB 4.1 MB/s \n",
            "\u001b[?25hRequirement already satisfied: scipy>=1.4.1 in /usr/local/lib/python3.7/dist-packages (from river) (1.4.1)\n",
            "Requirement already satisfied: pandas>=1.0.1 in /usr/local/lib/python3.7/dist-packages (from river) (1.1.5)\n",
            "Requirement already satisfied: numpy>=1.18.1 in /usr/local/lib/python3.7/dist-packages (from river) (1.19.5)\n",
            "Requirement already satisfied: pytz>=2017.2 in /usr/local/lib/python3.7/dist-packages (from pandas>=1.0.1->river) (2018.9)\n",
            "Requirement already satisfied: python-dateutil>=2.7.3 in /usr/local/lib/python3.7/dist-packages (from pandas>=1.0.1->river) (2.8.2)\n",
            "Requirement already satisfied: six>=1.5 in /usr/local/lib/python3.7/dist-packages (from python-dateutil>=2.7.3->pandas>=1.0.1->river) (1.15.0)\n",
            "Installing collected packages: river\n",
            "Successfully installed river-0.8.0\n"
          ]
        }
      ]
    },
    {
      "cell_type": "code",
      "metadata": {
        "colab": {
          "base_uri": "https://localhost:8080/",
          "height": 561
        },
        "id": "SzqFQUSDuDPE",
        "outputId": "433a2c08-4873-4e02-ccf2-d6984569e67e"
      },
      "source": [
        "from river import datasets\n",
        "\n",
        "dataset = datasets.Bikes()\n",
        "dataset"
      ],
      "execution_count": null,
      "outputs": [
        {
          "ename": "ImportError",
          "evalue": "ignored",
          "output_type": "error",
          "traceback": [
            "\u001b[0;31m---------------------------------------------------------------------------\u001b[0m",
            "\u001b[0;31mRuntimeError\u001b[0m                              Traceback (most recent call last)",
            "\u001b[0;32m__init__.pxd\u001b[0m in \u001b[0;36mnumpy.import_array\u001b[0;34m()\u001b[0m\n",
            "\u001b[0;31mRuntimeError\u001b[0m: module compiled against API version 0xe but this version of numpy is 0xd",
            "\nDuring handling of the above exception, another exception occurred:\n",
            "\u001b[0;31mImportError\u001b[0m                               Traceback (most recent call last)",
            "\u001b[0;32m<ipython-input-3-aa3eb36a18a9>\u001b[0m in \u001b[0;36m<module>\u001b[0;34m()\u001b[0m\n\u001b[0;32m----> 1\u001b[0;31m \u001b[0;32mfrom\u001b[0m \u001b[0mriver\u001b[0m \u001b[0;32mimport\u001b[0m \u001b[0mdatasets\u001b[0m\u001b[0;34m\u001b[0m\u001b[0;34m\u001b[0m\u001b[0m\n\u001b[0m\u001b[1;32m      2\u001b[0m \u001b[0;34m\u001b[0m\u001b[0m\n\u001b[1;32m      3\u001b[0m \u001b[0mdataset\u001b[0m \u001b[0;34m=\u001b[0m \u001b[0mdatasets\u001b[0m\u001b[0;34m.\u001b[0m\u001b[0mBikes\u001b[0m\u001b[0;34m(\u001b[0m\u001b[0;34m)\u001b[0m\u001b[0;34m\u001b[0m\u001b[0;34m\u001b[0m\u001b[0m\n\u001b[1;32m      4\u001b[0m \u001b[0mdataset\u001b[0m\u001b[0;34m\u001b[0m\u001b[0;34m\u001b[0m\u001b[0m\n",
            "\u001b[0;32m/usr/local/lib/python3.7/dist-packages/river/__init__.py\u001b[0m in \u001b[0;36m<module>\u001b[0;34m()\u001b[0m\n\u001b[1;32m      7\u001b[0m \u001b[0mscikit\u001b[0m\u001b[0;34m-\u001b[0m\u001b[0mlearn\u001b[0m\u001b[0;34m,\u001b[0m \u001b[0menough\u001b[0m \u001b[0mso\u001b[0m \u001b[0mthat\u001b[0m \u001b[0musers\u001b[0m \u001b[0mwho\u001b[0m \u001b[0mare\u001b[0m \u001b[0mfamiliar\u001b[0m \u001b[0;32mwith\u001b[0m \u001b[0mscikit\u001b[0m\u001b[0;34m-\u001b[0m\u001b[0mlearn\u001b[0m \u001b[0mshould\u001b[0m \u001b[0mfeel\u001b[0m \u001b[0mright\u001b[0m \u001b[0mat\u001b[0m \u001b[0mhome\u001b[0m\u001b[0;34m.\u001b[0m\u001b[0;34m\u001b[0m\u001b[0;34m\u001b[0m\u001b[0m\n\u001b[1;32m      8\u001b[0m \"\"\"\n\u001b[0;32m----> 9\u001b[0;31m from . import (\n\u001b[0m\u001b[1;32m     10\u001b[0m     \u001b[0manomaly\u001b[0m\u001b[0;34m,\u001b[0m\u001b[0;34m\u001b[0m\u001b[0;34m\u001b[0m\u001b[0m\n\u001b[1;32m     11\u001b[0m     \u001b[0mbase\u001b[0m\u001b[0;34m,\u001b[0m\u001b[0;34m\u001b[0m\u001b[0;34m\u001b[0m\u001b[0m\n",
            "\u001b[0;32m/usr/local/lib/python3.7/dist-packages/river/ensemble/__init__.py\u001b[0m in \u001b[0;36m<module>\u001b[0;34m()\u001b[0m\n\u001b[1;32m      5\u001b[0m \u001b[0;34m\u001b[0m\u001b[0m\n\u001b[1;32m      6\u001b[0m \"\"\"\n\u001b[0;32m----> 7\u001b[0;31m from .adaptive_random_forest import (\n\u001b[0m\u001b[1;32m      8\u001b[0m     \u001b[0mAdaptiveRandomForestClassifier\u001b[0m\u001b[0;34m,\u001b[0m\u001b[0;34m\u001b[0m\u001b[0;34m\u001b[0m\u001b[0m\n\u001b[1;32m      9\u001b[0m     \u001b[0mAdaptiveRandomForestRegressor\u001b[0m\u001b[0;34m,\u001b[0m\u001b[0;34m\u001b[0m\u001b[0;34m\u001b[0m\u001b[0m\n",
            "\u001b[0;32m/usr/local/lib/python3.7/dist-packages/river/ensemble/adaptive_random_forest.py\u001b[0m in \u001b[0;36m<module>\u001b[0;34m()\u001b[0m\n\u001b[1;32m      7\u001b[0m \u001b[0;32mimport\u001b[0m \u001b[0mnumpy\u001b[0m \u001b[0;32mas\u001b[0m \u001b[0mnp\u001b[0m\u001b[0;34m\u001b[0m\u001b[0;34m\u001b[0m\u001b[0m\n\u001b[1;32m      8\u001b[0m \u001b[0;34m\u001b[0m\u001b[0m\n\u001b[0;32m----> 9\u001b[0;31m \u001b[0;32mfrom\u001b[0m \u001b[0mriver\u001b[0m \u001b[0;32mimport\u001b[0m \u001b[0mbase\u001b[0m\u001b[0;34m,\u001b[0m \u001b[0mmetrics\u001b[0m\u001b[0;34m,\u001b[0m \u001b[0mstats\u001b[0m\u001b[0;34m,\u001b[0m \u001b[0mtree\u001b[0m\u001b[0;34m\u001b[0m\u001b[0;34m\u001b[0m\u001b[0m\n\u001b[0m\u001b[1;32m     10\u001b[0m \u001b[0;32mfrom\u001b[0m \u001b[0mriver\u001b[0m\u001b[0;34m.\u001b[0m\u001b[0mdrift\u001b[0m \u001b[0;32mimport\u001b[0m \u001b[0mADWIN\u001b[0m\u001b[0;34m\u001b[0m\u001b[0;34m\u001b[0m\u001b[0m\n\u001b[1;32m     11\u001b[0m from river.tree.nodes.arf_htc_nodes import (\n",
            "\u001b[0;32m/usr/local/lib/python3.7/dist-packages/river/metrics/__init__.py\u001b[0m in \u001b[0;36m<module>\u001b[0;34m()\u001b[0m\n\u001b[1;32m     33\u001b[0m \u001b[0;32mfrom\u001b[0m \u001b[0;34m.\u001b[0m\u001b[0mcross_entropy\u001b[0m \u001b[0;32mimport\u001b[0m \u001b[0mCrossEntropy\u001b[0m\u001b[0;34m\u001b[0m\u001b[0;34m\u001b[0m\u001b[0m\n\u001b[1;32m     34\u001b[0m \u001b[0;32mfrom\u001b[0m \u001b[0;34m.\u001b[0m\u001b[0mexact_match\u001b[0m \u001b[0;32mimport\u001b[0m \u001b[0mExactMatch\u001b[0m\u001b[0;34m\u001b[0m\u001b[0;34m\u001b[0m\u001b[0m\n\u001b[0;32m---> 35\u001b[0;31m \u001b[0;32mfrom\u001b[0m \u001b[0;34m.\u001b[0m\u001b[0mexpected_mutual_info\u001b[0m \u001b[0;32mimport\u001b[0m \u001b[0mexpected_mutual_info\u001b[0m\u001b[0;34m\u001b[0m\u001b[0;34m\u001b[0m\u001b[0m\n\u001b[0m\u001b[1;32m     36\u001b[0m from .fbeta import (\n\u001b[1;32m     37\u001b[0m     \u001b[0mF1\u001b[0m\u001b[0;34m,\u001b[0m\u001b[0;34m\u001b[0m\u001b[0;34m\u001b[0m\u001b[0m\n",
            "\u001b[0;32m/usr/local/lib/python3.7/dist-packages/river/metrics/expected_mutual_info.pyx\u001b[0m in \u001b[0;36minit river.metrics.expected_mutual_info\u001b[0;34m()\u001b[0m\n",
            "\u001b[0;32m__init__.pxd\u001b[0m in \u001b[0;36mnumpy.import_array\u001b[0;34m()\u001b[0m\n",
            "\u001b[0;31mImportError\u001b[0m: numpy.core.multiarray failed to import",
            "",
            "\u001b[0;31m---------------------------------------------------------------------------\u001b[0;32m\nNOTE: If your import is failing due to a missing package, you can\nmanually install dependencies using either !pip or !apt.\n\nTo view examples of installing some common dependencies, click the\n\"Open Examples\" button below.\n\u001b[0;31m---------------------------------------------------------------------------\u001b[0m\n"
          ]
        }
      ]
    },
    {
      "cell_type": "code",
      "metadata": {
        "id": "LXpmGPg_uI-U"
      },
      "source": [
        ""
      ],
      "execution_count": null,
      "outputs": []
    },
    {
      "cell_type": "markdown",
      "metadata": {
        "id": "_JZveEyzUcK8"
      },
      "source": [
        "# Experimenting with autoencoders"
      ]
    },
    {
      "cell_type": "markdown",
      "metadata": {
        "id": "M1gIv2kkyEJG"
      },
      "source": [
        ""
      ]
    },
    {
      "cell_type": "code",
      "metadata": {
        "id": "caatNLTkaxGi"
      },
      "source": [
        "from tensorflow.keras.layers import Input\n",
        "from tensorflow.keras.layers import Conv2D\n",
        "from tensorflow.keras.layers import MaxPooling2D\n",
        "from tensorflow.keras.layers import UpSampling2D"
      ],
      "execution_count": null,
      "outputs": []
    },
    {
      "cell_type": "code",
      "metadata": {
        "id": "oITd3TRvbYeH"
      },
      "source": [
        "shape_img = (256,256,3)\n",
        "\n",
        "n_hidden_1, n_hidden_2, n_hidden_3 = 16, 8, 8\n",
        "convkernel = (3, 3)  # convolution kernel\n",
        "poolkernel = (2, 2)  # pooling kernel"
      ],
      "execution_count": null,
      "outputs": []
    },
    {
      "cell_type": "code",
      "metadata": {
        "id": "kCYj4n_zatFb"
      },
      "source": [
        "input = Input(shape=shape_img)\n",
        "x = Conv2D(n_hidden_1, convkernel, activation='relu', padding='same')(input)\n",
        "x = MaxPooling2D(poolkernel, padding='same')(x)\n",
        "x = Conv2D(n_hidden_2, convkernel, activation='relu', padding='same')(x)\n",
        "x = MaxPooling2D(poolkernel, padding='same')(x)\n",
        "x = Conv2D(n_hidden_3, convkernel, activation='relu', padding='same')(x)\n",
        "encoded = MaxPooling2D(poolkernel, padding='same')(x)\n",
        "\n",
        "x = Conv2D(n_hidden_3, convkernel, activation='relu', padding='same')(encoded)\n",
        "x = UpSampling2D(poolkernel)(x)\n",
        "x = Conv2D(n_hidden_2, convkernel, activation='relu', padding='same')(x)\n",
        "x = UpSampling2D(poolkernel)(x)\n",
        "x = Conv2D(n_hidden_1, convkernel, activation='relu')(x)\n",
        "x = UpSampling2D(poolkernel)(x)\n",
        "decoded = Conv2D(shape_img[2], convkernel, activation='sigmoid', padding='same')(x)\n",
        "\n",
        "autoencoder = tf.keras.Model(input, decoded)"
      ],
      "execution_count": null,
      "outputs": []
    },
    {
      "cell_type": "code",
      "metadata": {
        "id": "qGo35RB8b7Yq"
      },
      "source": [
        "autoencoder.compile(optimizer=\"adam\", loss=\"binay_crossentropy\")"
      ],
      "execution_count": null,
      "outputs": []
    },
    {
      "cell_type": "code",
      "metadata": {
        "id": "xWfoLouvcjUK"
      },
      "source": [
        "n_epochs = 50\n",
        "batch_size = 256"
      ],
      "execution_count": null,
      "outputs": []
    },
    {
      "cell_type": "code",
      "metadata": {
        "colab": {
          "base_uri": "https://localhost:8080/",
          "height": 357
        },
        "id": "18b-7qx3cWCt",
        "outputId": "226a14f5-6bbe-4151-eb0b-b20f05b98c08"
      },
      "source": [
        "indices_fracs = split(fracs=[0.9, 0.1], N=len(X), seed=0)\n",
        "X_train, X_valid = X[indices_fracs[0]], X[indices_fracs[1]]\n",
        "self.autoencoder.fit(X_train, X_train, epochs = n_epochs, batch_size = batch_size, shuffle = True, validation_data = (X_valid, X_valid))"
      ],
      "execution_count": null,
      "outputs": [
        {
          "ename": "KeyError",
          "evalue": "ignored",
          "output_type": "error",
          "traceback": [
            "\u001b[0;31m---------------------------------------------------------------------------\u001b[0m",
            "\u001b[0;31mKeyError\u001b[0m                                  Traceback (most recent call last)",
            "\u001b[0;32m<ipython-input-155-b2cf8595a71f>\u001b[0m in \u001b[0;36m<module>\u001b[0;34m()\u001b[0m\n\u001b[1;32m      1\u001b[0m \u001b[0mindices_fracs\u001b[0m \u001b[0;34m=\u001b[0m \u001b[0msplit\u001b[0m\u001b[0;34m(\u001b[0m\u001b[0mfracs\u001b[0m\u001b[0;34m=\u001b[0m\u001b[0;34m[\u001b[0m\u001b[0;36m0.9\u001b[0m\u001b[0;34m,\u001b[0m \u001b[0;36m0.1\u001b[0m\u001b[0;34m]\u001b[0m\u001b[0;34m,\u001b[0m \u001b[0mN\u001b[0m\u001b[0;34m=\u001b[0m\u001b[0mlen\u001b[0m\u001b[0;34m(\u001b[0m\u001b[0mX\u001b[0m\u001b[0;34m)\u001b[0m\u001b[0;34m,\u001b[0m \u001b[0mseed\u001b[0m\u001b[0;34m=\u001b[0m\u001b[0;36m0\u001b[0m\u001b[0;34m)\u001b[0m\u001b[0;34m\u001b[0m\u001b[0;34m\u001b[0m\u001b[0m\n\u001b[0;32m----> 2\u001b[0;31m \u001b[0mX_train\u001b[0m\u001b[0;34m,\u001b[0m \u001b[0mX_valid\u001b[0m \u001b[0;34m=\u001b[0m \u001b[0mX\u001b[0m\u001b[0;34m[\u001b[0m\u001b[0mindices_fracs\u001b[0m\u001b[0;34m[\u001b[0m\u001b[0;36m0\u001b[0m\u001b[0;34m]\u001b[0m\u001b[0;34m]\u001b[0m\u001b[0;34m,\u001b[0m \u001b[0mX\u001b[0m\u001b[0;34m[\u001b[0m\u001b[0mindices_fracs\u001b[0m\u001b[0;34m[\u001b[0m\u001b[0;36m1\u001b[0m\u001b[0;34m]\u001b[0m\u001b[0;34m]\u001b[0m\u001b[0;34m\u001b[0m\u001b[0;34m\u001b[0m\u001b[0m\n\u001b[0m\u001b[1;32m      3\u001b[0m \u001b[0mself\u001b[0m\u001b[0;34m.\u001b[0m\u001b[0mautoencoder\u001b[0m\u001b[0;34m.\u001b[0m\u001b[0mfit\u001b[0m\u001b[0;34m(\u001b[0m\u001b[0mX_train\u001b[0m\u001b[0;34m,\u001b[0m \u001b[0mX_train\u001b[0m\u001b[0;34m,\u001b[0m \u001b[0mepochs\u001b[0m \u001b[0;34m=\u001b[0m \u001b[0mn_epochs\u001b[0m\u001b[0;34m,\u001b[0m \u001b[0mbatch_size\u001b[0m \u001b[0;34m=\u001b[0m \u001b[0mbatch_size\u001b[0m\u001b[0;34m,\u001b[0m \u001b[0mshuffle\u001b[0m \u001b[0;34m=\u001b[0m \u001b[0;32mTrue\u001b[0m\u001b[0;34m,\u001b[0m \u001b[0mvalidation_data\u001b[0m \u001b[0;34m=\u001b[0m \u001b[0;34m(\u001b[0m\u001b[0mX_valid\u001b[0m\u001b[0;34m,\u001b[0m \u001b[0mX_valid\u001b[0m\u001b[0;34m)\u001b[0m\u001b[0;34m)\u001b[0m\u001b[0;34m\u001b[0m\u001b[0;34m\u001b[0m\u001b[0m\n",
            "\u001b[0;32m/usr/local/lib/python3.7/dist-packages/pandas/core/frame.py\u001b[0m in \u001b[0;36m__getitem__\u001b[0;34m(self, key)\u001b[0m\n\u001b[1;32m   2910\u001b[0m             \u001b[0;32mif\u001b[0m \u001b[0mis_iterator\u001b[0m\u001b[0;34m(\u001b[0m\u001b[0mkey\u001b[0m\u001b[0;34m)\u001b[0m\u001b[0;34m:\u001b[0m\u001b[0;34m\u001b[0m\u001b[0;34m\u001b[0m\u001b[0m\n\u001b[1;32m   2911\u001b[0m                 \u001b[0mkey\u001b[0m \u001b[0;34m=\u001b[0m \u001b[0mlist\u001b[0m\u001b[0;34m(\u001b[0m\u001b[0mkey\u001b[0m\u001b[0;34m)\u001b[0m\u001b[0;34m\u001b[0m\u001b[0;34m\u001b[0m\u001b[0m\n\u001b[0;32m-> 2912\u001b[0;31m             \u001b[0mindexer\u001b[0m \u001b[0;34m=\u001b[0m \u001b[0mself\u001b[0m\u001b[0;34m.\u001b[0m\u001b[0mloc\u001b[0m\u001b[0;34m.\u001b[0m\u001b[0m_get_listlike_indexer\u001b[0m\u001b[0;34m(\u001b[0m\u001b[0mkey\u001b[0m\u001b[0;34m,\u001b[0m \u001b[0maxis\u001b[0m\u001b[0;34m=\u001b[0m\u001b[0;36m1\u001b[0m\u001b[0;34m,\u001b[0m \u001b[0mraise_missing\u001b[0m\u001b[0;34m=\u001b[0m\u001b[0;32mTrue\u001b[0m\u001b[0;34m)\u001b[0m\u001b[0;34m[\u001b[0m\u001b[0;36m1\u001b[0m\u001b[0;34m]\u001b[0m\u001b[0;34m\u001b[0m\u001b[0;34m\u001b[0m\u001b[0m\n\u001b[0m\u001b[1;32m   2913\u001b[0m \u001b[0;34m\u001b[0m\u001b[0m\n\u001b[1;32m   2914\u001b[0m         \u001b[0;31m# take() does not accept boolean indexers\u001b[0m\u001b[0;34m\u001b[0m\u001b[0;34m\u001b[0m\u001b[0;34m\u001b[0m\u001b[0m\n",
            "\u001b[0;32m/usr/local/lib/python3.7/dist-packages/pandas/core/indexing.py\u001b[0m in \u001b[0;36m_get_listlike_indexer\u001b[0;34m(self, key, axis, raise_missing)\u001b[0m\n\u001b[1;32m   1252\u001b[0m             \u001b[0mkeyarr\u001b[0m\u001b[0;34m,\u001b[0m \u001b[0mindexer\u001b[0m\u001b[0;34m,\u001b[0m \u001b[0mnew_indexer\u001b[0m \u001b[0;34m=\u001b[0m \u001b[0max\u001b[0m\u001b[0;34m.\u001b[0m\u001b[0m_reindex_non_unique\u001b[0m\u001b[0;34m(\u001b[0m\u001b[0mkeyarr\u001b[0m\u001b[0;34m)\u001b[0m\u001b[0;34m\u001b[0m\u001b[0;34m\u001b[0m\u001b[0m\n\u001b[1;32m   1253\u001b[0m \u001b[0;34m\u001b[0m\u001b[0m\n\u001b[0;32m-> 1254\u001b[0;31m         \u001b[0mself\u001b[0m\u001b[0;34m.\u001b[0m\u001b[0m_validate_read_indexer\u001b[0m\u001b[0;34m(\u001b[0m\u001b[0mkeyarr\u001b[0m\u001b[0;34m,\u001b[0m \u001b[0mindexer\u001b[0m\u001b[0;34m,\u001b[0m \u001b[0maxis\u001b[0m\u001b[0;34m,\u001b[0m \u001b[0mraise_missing\u001b[0m\u001b[0;34m=\u001b[0m\u001b[0mraise_missing\u001b[0m\u001b[0;34m)\u001b[0m\u001b[0;34m\u001b[0m\u001b[0;34m\u001b[0m\u001b[0m\n\u001b[0m\u001b[1;32m   1255\u001b[0m         \u001b[0;32mreturn\u001b[0m \u001b[0mkeyarr\u001b[0m\u001b[0;34m,\u001b[0m \u001b[0mindexer\u001b[0m\u001b[0;34m\u001b[0m\u001b[0;34m\u001b[0m\u001b[0m\n\u001b[1;32m   1256\u001b[0m \u001b[0;34m\u001b[0m\u001b[0m\n",
            "\u001b[0;32m/usr/local/lib/python3.7/dist-packages/pandas/core/indexing.py\u001b[0m in \u001b[0;36m_validate_read_indexer\u001b[0;34m(self, key, indexer, axis, raise_missing)\u001b[0m\n\u001b[1;32m   1296\u001b[0m             \u001b[0;32mif\u001b[0m \u001b[0mmissing\u001b[0m \u001b[0;34m==\u001b[0m \u001b[0mlen\u001b[0m\u001b[0;34m(\u001b[0m\u001b[0mindexer\u001b[0m\u001b[0;34m)\u001b[0m\u001b[0;34m:\u001b[0m\u001b[0;34m\u001b[0m\u001b[0;34m\u001b[0m\u001b[0m\n\u001b[1;32m   1297\u001b[0m                 \u001b[0maxis_name\u001b[0m \u001b[0;34m=\u001b[0m \u001b[0mself\u001b[0m\u001b[0;34m.\u001b[0m\u001b[0mobj\u001b[0m\u001b[0;34m.\u001b[0m\u001b[0m_get_axis_name\u001b[0m\u001b[0;34m(\u001b[0m\u001b[0maxis\u001b[0m\u001b[0;34m)\u001b[0m\u001b[0;34m\u001b[0m\u001b[0;34m\u001b[0m\u001b[0m\n\u001b[0;32m-> 1298\u001b[0;31m                 \u001b[0;32mraise\u001b[0m \u001b[0mKeyError\u001b[0m\u001b[0;34m(\u001b[0m\u001b[0;34mf\"None of [{key}] are in the [{axis_name}]\"\u001b[0m\u001b[0;34m)\u001b[0m\u001b[0;34m\u001b[0m\u001b[0;34m\u001b[0m\u001b[0m\n\u001b[0m\u001b[1;32m   1299\u001b[0m \u001b[0;34m\u001b[0m\u001b[0m\n\u001b[1;32m   1300\u001b[0m             \u001b[0;31m# We (temporarily) allow for some missing keys with .loc, except in\u001b[0m\u001b[0;34m\u001b[0m\u001b[0;34m\u001b[0m\u001b[0;34m\u001b[0m\u001b[0m\n",
            "\u001b[0;31mKeyError\u001b[0m: \"None of [Int64Index([6682, 3170,  898, 6719, 7376, 2694, 6125, 4854, 3682, 3056,\\n            ...\\n             862, 2653, 5160, 1087, 5057, 4901,  265,  165, 7094, 6374],\\n           dtype='int64', length=7083)] are in the [columns]\""
          ]
        }
      ]
    },
    {
      "cell_type": "code",
      "metadata": {
        "colab": {
          "base_uri": "https://localhost:8080/"
        },
        "id": "m1JMYOyx4eGJ",
        "outputId": "405113ef-2ccd-4285-d175-b2c804017b07"
      },
      "source": [
        "from google.colab import drive\n",
        "drive.mount('/content/drive')"
      ],
      "execution_count": null,
      "outputs": [
        {
          "name": "stdout",
          "output_type": "stream",
          "text": [
            "Mounted at /content/drive\n"
          ]
        }
      ]
    },
    {
      "cell_type": "code",
      "metadata": {
        "colab": {
          "base_uri": "https://localhost:8080/"
        },
        "id": "8gylErTu0sgK",
        "outputId": "f8aa9f2d-fe38-43be-eda1-f4939de96dc1"
      },
      "source": [
        "# import pickle\n",
        "import random\n",
        "import os\n",
        "import pickle5 as pickle\n",
        "import requests\n",
        "import numpy as np\n",
        "basic_spotify_url = \"https://open.spotify.com/playlist/\"\n",
        "\n",
        "playlist_ids = {\n",
        "    \"triste_0\": \"4uEUHMAezybrAOKy7kfKYR\",\n",
        "    \"triste_1\": \"2SN6JTq4YbPigA7ZsHSuAD\",\n",
        "    \"triste_2\": \"7u3DeMpkH4seXT8MBvGtIT\",\n",
        "    \"estable_0\": \"3Qpwqo89iRx1P8QZ2ClgH4\",\n",
        "    \"estable_1\": \"5wQaXaytwCof9fUGbqRwyL\",\n",
        "    \"estable_2\": \"63M22uFRIkmofA3N1zPdpq\",\n",
        "    \"alegre_0\": \"0xHgSdTJkzDP6vX3pKIbLF\",\n",
        "    \"alegre_1\": \"0t9UUOQeGYWxhCqSpUnxGN\",\n",
        "    \"alegre_2\": \"63M22uFRIkmofA3N1zPdpq\"\n",
        "}\n",
        "\n",
        "# __location__ = os.path.realpath(os.path.join(\n",
        "#     os.getcwd(), os.path.dirname(__file__))) + '/models/'\n",
        "\n",
        "\n",
        "def test_model(request):\n",
        "\n",
        "    question_set = request[\"set\"]\n",
        "    file_name = \"rf_\" + \"\".join([str(i) for i in question_set]) + \".sav\"\n",
        "    answers = request[\"arrayOfAnswers\"]\n",
        "\n",
        "    try:\n",
        "        # with open(os.path.join(__location__, file_name), 'rb') as f:\n",
        "        #     rf_predictor = pickle.loads(f.read())\n",
        "        #     test_result = rf_predictor.predict([answers])\n",
        "\n",
        "        #     #---\n",
        "        #     return str(generate_playlist(test_result, request))\n",
        "        return str(generate_playlist(3.26665, request))\n",
        "\n",
        "    except Exception as e:\n",
        "        return str({\"exception\": str(e)})\n",
        "\n",
        "\n",
        "def generate_playlist(test_result, request):\n",
        "\n",
        "    token = \"Bearer \" + request[\"access_token\"]\n",
        "    \n",
        "    top_tracks = requests.get(\"https://api.spotify.com/v1/me/top/tracks\", headers={\"Authorization\": token}).json()\n",
        "    top_artists = requests.get(\"https://api.spotify.com/v1/me/top/artists\", headers={\"Authorization\": token}).json()\n",
        "    songs_features = np.array([])\n",
        "\n",
        "    for song in top_tracks[\"items\"]:\n",
        "      \n",
        "      album_id = song[\"album\"][\"id\"]\n",
        "      url_album = f\"https://api.spotify.com/v1/albums/{album_id}/tracks\"\n",
        "      album_songs = requests.get(url_album, headers={\"Authorization\": token}).json()\n",
        "      ids = \"\"\n",
        "      \n",
        "      for song in album_songs[\"items\"]:\n",
        "          ids += song[\"id\"] + \",\"\n",
        "      ids = ids[:-1]\n",
        "      url_new_songs_features = f\"https://api.spotify.com/v1/audio-features?ids={ids}\"\n",
        "      new_songs_features = np.array(requests.get(url_new_songs_features, headers={\"Authorization\": token}).json()[\"audio_features\"])\n",
        "      songs_features = np.concatenate((songs_features,new_songs_features))\n",
        "    \n",
        "    top_artists_songs_features = np.array([])\n",
        "\n",
        "    for artist in top_artists[\"items\"]:\n",
        "        url = f\"https://api.spotify.com/v1/artists/{artist['id']}/top-tracks?market=US\"\n",
        "        top_tracks = requests.get(url, headers={\"Authorization\": token}).json()[\"tracks\"]\n",
        "        # print(top_tracks)\n",
        "        #hacer el for devuelta\n",
        "        \n",
        "        for song in top_tracks:\n",
        "            ids += song[\"id\"] + \",\"\n",
        "        ids = ids[:-1]\n",
        "        url_new_songs_features = f\"https://api.spotify.com/v1/audio-features?ids={ids}\"\n",
        "        new_songs_features = np.array(requests.get(url_new_songs_features, headers={\"Authorization\": token}).json()[\"audio_features\"])\n",
        "        top_artists_songs_features = np.concatenate((songs_features,new_songs_features))\n",
        "\n",
        "    print(top_artists_songs_features)\n",
        "\n",
        "    random_playlist = random.randint(0, 2)\n",
        "    test_result = float(test_result)\n",
        "\n",
        "    if (test_result < 0):\n",
        "        # triste\n",
        "        return {\"test_result\": test_result, \"playlist_link\": basic_spotify_url + playlist_ids[\"triste_\" + str(random_playlist)]}\n",
        "    elif (test_result < 10):\n",
        "        # mediano\n",
        "        return {\"test_result\": test_result, \"playlist_link\":  basic_spotify_url + playlist_ids[\"estable_\" + str(random_playlist)]}\n",
        "    else:\n",
        "        # contento\n",
        "        return {\"test_result\": test_result, \"playlist_link\":  basic_spotify_url + playlist_ids[\"alegre_\" + str(random_playlist)]}\n",
        "\n",
        "req = {\n",
        "    \"arrayOfAnswers\":[0,2,1,2,1,2],\n",
        "    \"set\": [\n",
        "        3,\n",
        "        6,\n",
        "        10,\n",
        "        12,\n",
        "        16,\n",
        "    ],\n",
        "    \"access_token\":\"BQDvR6b6hS4JHqLUQpS7B57loBVKSNwxp-9CR5WRLsI0gNUpO4Zri9768FgJiXXs8t3eTSgg7F7E5YHCq_GTh6hznuQHOWKxGgVF9AJiwR8MluuBHTrcaOp92NAVQ16CuLz2HQThMYWvMGybVrrAlih3urtd9JMMYQU4iy9S_VOGMELZfQeErG2So1Zz89VkgMeoAqwtllGdKsoCPkW5I0xwb6Y\"\n",
        "}\n",
        "\n",
        "\n",
        "print(test_model(req))\n"
      ],
      "execution_count": null,
      "outputs": [
        {
          "name": "stdout",
          "output_type": "stream",
          "text": [
            "{'audio_features': [{'danceability': 0.648, 'energy': 0.792, 'key': 0, 'loudness': -6.058, 'mode': 1, 'speechiness': 0.035, 'acousticness': 0.0657, 'instrumentalness': 5.31e-06, 'liveness': 0.0788, 'valence': 0.935, 'tempo': 159.968, 'type': 'audio_features', 'id': '6Vk5QUhQ0v5OjYQIYvL5VL', 'uri': 'spotify:track:6Vk5QUhQ0v5OjYQIYvL5VL', 'track_href': 'https://api.spotify.com/v1/tracks/6Vk5QUhQ0v5OjYQIYvL5VL', 'analysis_url': 'https://api.spotify.com/v1/audio-analysis/6Vk5QUhQ0v5OjYQIYvL5VL', 'duration_ms': 260867, 'time_signature': 4}, {'danceability': 0.573, 'energy': 0.658, 'key': 1, 'loudness': -5.557, 'mode': 0, 'speechiness': 0.0396, 'acousticness': 0.0195, 'instrumentalness': 0, 'liveness': 0.209, 'valence': 0.481, 'tempo': 105.052, 'type': 'audio_features', 'id': '0uCKawvDKjr0AegelrzSuX', 'uri': 'spotify:track:0uCKawvDKjr0AegelrzSuX', 'track_href': 'https://api.spotify.com/v1/tracks/0uCKawvDKjr0AegelrzSuX', 'analysis_url': 'https://api.spotify.com/v1/audio-analysis/0uCKawvDKjr0AegelrzSuX', 'duration_ms': 236613, 'time_signature': 4}, {'danceability': 0.616, 'energy': 0.766, 'key': 4, 'loudness': -6.59, 'mode': 0, 'speechiness': 0.0382, 'acousticness': 0.0776, 'instrumentalness': 0, 'liveness': 0.361, 'valence': 0.373, 'tempo': 83.965, 'type': 'audio_features', 'id': '1kEoU9Dmivr2JoOf7ramyT', 'uri': 'spotify:track:1kEoU9Dmivr2JoOf7ramyT', 'track_href': 'https://api.spotify.com/v1/tracks/1kEoU9Dmivr2JoOf7ramyT', 'analysis_url': 'https://api.spotify.com/v1/audio-analysis/1kEoU9Dmivr2JoOf7ramyT', 'duration_ms': 259840, 'time_signature': 4}, {'danceability': 0.671, 'energy': 0.885, 'key': 7, 'loudness': -5.39, 'mode': 0, 'speechiness': 0.0305, 'acousticness': 0.0191, 'instrumentalness': 3.83e-06, 'liveness': 0.223, 'valence': 0.55, 'tempo': 119.959, 'type': 'audio_features', 'id': '2eqbY9whZVv4cnwvzbDAfD', 'uri': 'spotify:track:2eqbY9whZVv4cnwvzbDAfD', 'track_href': 'https://api.spotify.com/v1/tracks/2eqbY9whZVv4cnwvzbDAfD', 'analysis_url': 'https://api.spotify.com/v1/audio-analysis/2eqbY9whZVv4cnwvzbDAfD', 'duration_ms': 252293, 'time_signature': 4}, {'danceability': 0.616, 'energy': 0.789, 'key': 9, 'loudness': -6.316, 'mode': 0, 'speechiness': 0.0417, 'acousticness': 0.0755, 'instrumentalness': 2.08e-05, 'liveness': 0.914, 'valence': 0.272, 'tempo': 90.968, 'type': 'audio_features', 'id': '4OYMdVXY6xE9GTvUT5UdCh', 'uri': 'spotify:track:4OYMdVXY6xE9GTvUT5UdCh', 'track_href': 'https://api.spotify.com/v1/tracks/4OYMdVXY6xE9GTvUT5UdCh', 'analysis_url': 'https://api.spotify.com/v1/audio-analysis/4OYMdVXY6xE9GTvUT5UdCh', 'duration_ms': 249013, 'time_signature': 4}, {'danceability': 0.528, 'energy': 0.308, 'key': 9, 'loudness': -9.769, 'mode': 1, 'speechiness': 0.0341, 'acousticness': 0.816, 'instrumentalness': 0, 'liveness': 0.0934, 'valence': 0.256, 'tempo': 80.017, 'type': 'audio_features', 'id': '3iOFY423D3690MfhE74F8A', 'uri': 'spotify:track:3iOFY423D3690MfhE74F8A', 'track_href': 'https://api.spotify.com/v1/tracks/3iOFY423D3690MfhE74F8A', 'analysis_url': 'https://api.spotify.com/v1/audio-analysis/3iOFY423D3690MfhE74F8A', 'duration_ms': 236040, 'time_signature': 4}, {'danceability': 0.721, 'energy': 0.622, 'key': 0, 'loudness': -6.627, 'mode': 1, 'speechiness': 0.0256, 'acousticness': 0.765, 'instrumentalness': 0.000249, 'liveness': 0.117, 'valence': 0.334, 'tempo': 102.907, 'type': 'audio_features', 'id': '1XekWoZnWxXD7yZODzIDmo', 'uri': 'spotify:track:1XekWoZnWxXD7yZODzIDmo', 'track_href': 'https://api.spotify.com/v1/tracks/1XekWoZnWxXD7yZODzIDmo', 'analysis_url': 'https://api.spotify.com/v1/audio-analysis/1XekWoZnWxXD7yZODzIDmo', 'duration_ms': 189133, 'time_signature': 4}, {'danceability': 0.625, 'energy': 0.827, 'key': 4, 'loudness': -6.763, 'mode': 0, 'speechiness': 0.0602, 'acousticness': 0.0802, 'instrumentalness': 0, 'liveness': 0.164, 'valence': 0.613, 'tempo': 165.912, 'type': 'audio_features', 'id': '0fvKgQ0XzWJKEDJSPdNDid', 'uri': 'spotify:track:0fvKgQ0XzWJKEDJSPdNDid', 'track_href': 'https://api.spotify.com/v1/tracks/0fvKgQ0XzWJKEDJSPdNDid', 'analysis_url': 'https://api.spotify.com/v1/audio-analysis/0fvKgQ0XzWJKEDJSPdNDid', 'duration_ms': 278920, 'time_signature': 4}, {'danceability': 0.734, 'energy': 0.752, 'key': 9, 'loudness': -6.049, 'mode': 0, 'speechiness': 0.0386, 'acousticness': 0.00859, 'instrumentalness': 1.84e-05, 'liveness': 0.0852, 'valence': 0.541, 'tempo': 117.998, 'type': 'audio_features', 'id': '37l4Qgcn1CuGlXx0jKhLpi', 'uri': 'spotify:track:37l4Qgcn1CuGlXx0jKhLpi', 'track_href': 'https://api.spotify.com/v1/tracks/37l4Qgcn1CuGlXx0jKhLpi', 'analysis_url': 'https://api.spotify.com/v1/audio-analysis/37l4Qgcn1CuGlXx0jKhLpi', 'duration_ms': 211507, 'time_signature': 4}, None, {'danceability': 0.465, 'energy': 0.841, 'key': 11, 'loudness': -5.767, 'mode': 0, 'speechiness': 0.0633, 'acousticness': 0.00486, 'instrumentalness': 0, 'liveness': 0.109, 'valence': 0.689, 'tempo': 168.743, 'type': 'audio_features', 'id': '4dneV7C1yDt9UtyxrQY375', 'uri': 'spotify:track:4dneV7C1yDt9UtyxrQY375', 'track_href': 'https://api.spotify.com/v1/tracks/4dneV7C1yDt9UtyxrQY375', 'analysis_url': 'https://api.spotify.com/v1/audio-analysis/4dneV7C1yDt9UtyxrQY375', 'duration_ms': 157533, 'time_signature': 4}, {'danceability': 0.43, 'energy': 0.971, 'key': 9, 'loudness': -3.845, 'mode': 1, 'speechiness': 0.0524, 'acousticness': 0.0271, 'instrumentalness': 2.16e-05, 'liveness': 0.185, 'valence': 0.764, 'tempo': 151.219, 'type': 'audio_features', 'id': '76GlO5H5RT6g7y0gev86Nk', 'uri': 'spotify:track:76GlO5H5RT6g7y0gev86Nk', 'track_href': 'https://api.spotify.com/v1/tracks/76GlO5H5RT6g7y0gev86Nk', 'analysis_url': 'https://api.spotify.com/v1/audio-analysis/76GlO5H5RT6g7y0gev86Nk', 'duration_ms': 212000, 'time_signature': 4}, {'danceability': 0.725, 'energy': 0.524, 'key': 11, 'loudness': -11.121, 'mode': 1, 'speechiness': 0.116, 'acousticness': 0.0748, 'instrumentalness': 0.764, 'liveness': 0.0819, 'valence': 0.961, 'tempo': 185.134, 'type': 'audio_features', 'id': '7ABE6G4uQxbNtYgVrpBBPA', 'uri': 'spotify:track:7ABE6G4uQxbNtYgVrpBBPA', 'track_href': 'https://api.spotify.com/v1/tracks/7ABE6G4uQxbNtYgVrpBBPA', 'analysis_url': 'https://api.spotify.com/v1/audio-analysis/7ABE6G4uQxbNtYgVrpBBPA', 'duration_ms': 203267, 'time_signature': 4}, {'danceability': 0.611, 'energy': 0.813, 'key': 9, 'loudness': -7.689, 'mode': 0, 'speechiness': 0.0279, 'acousticness': 0.339, 'instrumentalness': 0.898, 'liveness': 0.224, 'valence': 0.821, 'tempo': 140.112, 'type': 'audio_features', 'id': '0X5C4WjQNubRysTkHOubz3', 'uri': 'spotify:track:0X5C4WjQNubRysTkHOubz3', 'track_href': 'https://api.spotify.com/v1/tracks/0X5C4WjQNubRysTkHOubz3', 'analysis_url': 'https://api.spotify.com/v1/audio-analysis/0X5C4WjQNubRysTkHOubz3', 'duration_ms': 209573, 'time_signature': 4}, {'danceability': 0.541, 'energy': 0.83, 'key': 9, 'loudness': -6.246, 'mode': 1, 'speechiness': 0.0316, 'acousticness': 0.109, 'instrumentalness': 0.701, 'liveness': 0.167, 'valence': 0.711, 'tempo': 142.592, 'type': 'audio_features', 'id': '07CyrZF9eVd02zzIse7tZA', 'uri': 'spotify:track:07CyrZF9eVd02zzIse7tZA', 'track_href': 'https://api.spotify.com/v1/tracks/07CyrZF9eVd02zzIse7tZA', 'analysis_url': 'https://api.spotify.com/v1/audio-analysis/07CyrZF9eVd02zzIse7tZA', 'duration_ms': 177987, 'time_signature': 4}, {'danceability': 0.633, 'energy': 0.62, 'key': 0, 'loudness': -11.271, 'mode': 1, 'speechiness': 0.0648, 'acousticness': 0.34, 'instrumentalness': 0.605, 'liveness': 0.0977, 'valence': 0.421, 'tempo': 81.117, 'type': 'audio_features', 'id': '3O4TPMOgChXOerSdB5WENH', 'uri': 'spotify:track:3O4TPMOgChXOerSdB5WENH', 'track_href': 'https://api.spotify.com/v1/tracks/3O4TPMOgChXOerSdB5WENH', 'analysis_url': 'https://api.spotify.com/v1/audio-analysis/3O4TPMOgChXOerSdB5WENH', 'duration_ms': 354933, 'time_signature': 4}, {'danceability': 0.718, 'energy': 0.557, 'key': 9, 'loudness': -10.679, 'mode': 1, 'speechiness': 0.0328, 'acousticness': 0.185, 'instrumentalness': 0.707, 'liveness': 0.055, 'valence': 0.586, 'tempo': 94.095, 'type': 'audio_features', 'id': '4d4oXk7O2lEhZ83ivV93li', 'uri': 'spotify:track:4d4oXk7O2lEhZ83ivV93li', 'track_href': 'https://api.spotify.com/v1/tracks/4d4oXk7O2lEhZ83ivV93li', 'analysis_url': 'https://api.spotify.com/v1/audio-analysis/4d4oXk7O2lEhZ83ivV93li', 'duration_ms': 249880, 'time_signature': 4}, {'danceability': 0.484, 'energy': 0.776, 'key': 9, 'loudness': -6.48, 'mode': 1, 'speechiness': 0.0312, 'acousticness': 0.00371, 'instrumentalness': 0.109, 'liveness': 0.131, 'valence': 0.495, 'tempo': 171.935, 'type': 'audio_features', 'id': '1tuwC1Ob5vnYZhvg3zyzJg', 'uri': 'spotify:track:1tuwC1Ob5vnYZhvg3zyzJg', 'track_href': 'https://api.spotify.com/v1/tracks/1tuwC1Ob5vnYZhvg3zyzJg', 'analysis_url': 'https://api.spotify.com/v1/audio-analysis/1tuwC1Ob5vnYZhvg3zyzJg', 'duration_ms': 448467, 'time_signature': 4}, {'danceability': 0.74, 'energy': 0.816, 'key': 0, 'loudness': -4.764, 'mode': 1, 'speechiness': 0.0765, 'acousticness': 0.497, 'instrumentalness': 0, 'liveness': 0.195, 'valence': 0.963, 'tempo': 91.91, 'type': 'audio_features', 'id': '5GHwCpwEos0FzYe55slXEp', 'uri': 'spotify:track:5GHwCpwEos0FzYe55slXEp', 'track_href': 'https://api.spotify.com/v1/tracks/5GHwCpwEos0FzYe55slXEp', 'analysis_url': 'https://api.spotify.com/v1/audio-analysis/5GHwCpwEos0FzYe55slXEp', 'duration_ms': 220427, 'time_signature': 4}]}\n",
            "{'audio_features': [{'danceability': 0.648, 'energy': 0.792, 'key': 0, 'loudness': -6.058, 'mode': 1, 'speechiness': 0.035, 'acousticness': 0.0657, 'instrumentalness': 5.31e-06, 'liveness': 0.0788, 'valence': 0.935, 'tempo': 159.968, 'type': 'audio_features', 'id': '6Vk5QUhQ0v5OjYQIYvL5VL', 'uri': 'spotify:track:6Vk5QUhQ0v5OjYQIYvL5VL', 'track_href': 'https://api.spotify.com/v1/tracks/6Vk5QUhQ0v5OjYQIYvL5VL', 'analysis_url': 'https://api.spotify.com/v1/audio-analysis/6Vk5QUhQ0v5OjYQIYvL5VL', 'duration_ms': 260867, 'time_signature': 4}, {'danceability': 0.573, 'energy': 0.658, 'key': 1, 'loudness': -5.557, 'mode': 0, 'speechiness': 0.0396, 'acousticness': 0.0195, 'instrumentalness': 0, 'liveness': 0.209, 'valence': 0.481, 'tempo': 105.052, 'type': 'audio_features', 'id': '0uCKawvDKjr0AegelrzSuX', 'uri': 'spotify:track:0uCKawvDKjr0AegelrzSuX', 'track_href': 'https://api.spotify.com/v1/tracks/0uCKawvDKjr0AegelrzSuX', 'analysis_url': 'https://api.spotify.com/v1/audio-analysis/0uCKawvDKjr0AegelrzSuX', 'duration_ms': 236613, 'time_signature': 4}, {'danceability': 0.616, 'energy': 0.766, 'key': 4, 'loudness': -6.59, 'mode': 0, 'speechiness': 0.0382, 'acousticness': 0.0776, 'instrumentalness': 0, 'liveness': 0.361, 'valence': 0.373, 'tempo': 83.965, 'type': 'audio_features', 'id': '1kEoU9Dmivr2JoOf7ramyT', 'uri': 'spotify:track:1kEoU9Dmivr2JoOf7ramyT', 'track_href': 'https://api.spotify.com/v1/tracks/1kEoU9Dmivr2JoOf7ramyT', 'analysis_url': 'https://api.spotify.com/v1/audio-analysis/1kEoU9Dmivr2JoOf7ramyT', 'duration_ms': 259840, 'time_signature': 4}, {'danceability': 0.671, 'energy': 0.885, 'key': 7, 'loudness': -5.39, 'mode': 0, 'speechiness': 0.0305, 'acousticness': 0.0191, 'instrumentalness': 3.83e-06, 'liveness': 0.223, 'valence': 0.55, 'tempo': 119.959, 'type': 'audio_features', 'id': '2eqbY9whZVv4cnwvzbDAfD', 'uri': 'spotify:track:2eqbY9whZVv4cnwvzbDAfD', 'track_href': 'https://api.spotify.com/v1/tracks/2eqbY9whZVv4cnwvzbDAfD', 'analysis_url': 'https://api.spotify.com/v1/audio-analysis/2eqbY9whZVv4cnwvzbDAfD', 'duration_ms': 252293, 'time_signature': 4}, {'danceability': 0.616, 'energy': 0.789, 'key': 9, 'loudness': -6.316, 'mode': 0, 'speechiness': 0.0417, 'acousticness': 0.0755, 'instrumentalness': 2.08e-05, 'liveness': 0.914, 'valence': 0.272, 'tempo': 90.968, 'type': 'audio_features', 'id': '4OYMdVXY6xE9GTvUT5UdCh', 'uri': 'spotify:track:4OYMdVXY6xE9GTvUT5UdCh', 'track_href': 'https://api.spotify.com/v1/tracks/4OYMdVXY6xE9GTvUT5UdCh', 'analysis_url': 'https://api.spotify.com/v1/audio-analysis/4OYMdVXY6xE9GTvUT5UdCh', 'duration_ms': 249013, 'time_signature': 4}, {'danceability': 0.528, 'energy': 0.308, 'key': 9, 'loudness': -9.769, 'mode': 1, 'speechiness': 0.0341, 'acousticness': 0.816, 'instrumentalness': 0, 'liveness': 0.0934, 'valence': 0.256, 'tempo': 80.017, 'type': 'audio_features', 'id': '3iOFY423D3690MfhE74F8A', 'uri': 'spotify:track:3iOFY423D3690MfhE74F8A', 'track_href': 'https://api.spotify.com/v1/tracks/3iOFY423D3690MfhE74F8A', 'analysis_url': 'https://api.spotify.com/v1/audio-analysis/3iOFY423D3690MfhE74F8A', 'duration_ms': 236040, 'time_signature': 4}, {'danceability': 0.721, 'energy': 0.622, 'key': 0, 'loudness': -6.627, 'mode': 1, 'speechiness': 0.0256, 'acousticness': 0.765, 'instrumentalness': 0.000249, 'liveness': 0.117, 'valence': 0.334, 'tempo': 102.907, 'type': 'audio_features', 'id': '1XekWoZnWxXD7yZODzIDmo', 'uri': 'spotify:track:1XekWoZnWxXD7yZODzIDmo', 'track_href': 'https://api.spotify.com/v1/tracks/1XekWoZnWxXD7yZODzIDmo', 'analysis_url': 'https://api.spotify.com/v1/audio-analysis/1XekWoZnWxXD7yZODzIDmo', 'duration_ms': 189133, 'time_signature': 4}, {'danceability': 0.625, 'energy': 0.827, 'key': 4, 'loudness': -6.763, 'mode': 0, 'speechiness': 0.0602, 'acousticness': 0.0802, 'instrumentalness': 0, 'liveness': 0.164, 'valence': 0.613, 'tempo': 165.912, 'type': 'audio_features', 'id': '0fvKgQ0XzWJKEDJSPdNDid', 'uri': 'spotify:track:0fvKgQ0XzWJKEDJSPdNDid', 'track_href': 'https://api.spotify.com/v1/tracks/0fvKgQ0XzWJKEDJSPdNDid', 'analysis_url': 'https://api.spotify.com/v1/audio-analysis/0fvKgQ0XzWJKEDJSPdNDid', 'duration_ms': 278920, 'time_signature': 4}, {'danceability': 0.734, 'energy': 0.752, 'key': 9, 'loudness': -6.049, 'mode': 0, 'speechiness': 0.0386, 'acousticness': 0.00859, 'instrumentalness': 1.84e-05, 'liveness': 0.0852, 'valence': 0.541, 'tempo': 117.998, 'type': 'audio_features', 'id': '37l4Qgcn1CuGlXx0jKhLpi', 'uri': 'spotify:track:37l4Qgcn1CuGlXx0jKhLpi', 'track_href': 'https://api.spotify.com/v1/tracks/37l4Qgcn1CuGlXx0jKhLpi', 'analysis_url': 'https://api.spotify.com/v1/audio-analysis/37l4Qgcn1CuGlXx0jKhLpi', 'duration_ms': 211507, 'time_signature': 4}, None, {'danceability': 0.465, 'energy': 0.841, 'key': 11, 'loudness': -5.767, 'mode': 0, 'speechiness': 0.0633, 'acousticness': 0.00486, 'instrumentalness': 0, 'liveness': 0.109, 'valence': 0.689, 'tempo': 168.743, 'type': 'audio_features', 'id': '4dneV7C1yDt9UtyxrQY375', 'uri': 'spotify:track:4dneV7C1yDt9UtyxrQY375', 'track_href': 'https://api.spotify.com/v1/tracks/4dneV7C1yDt9UtyxrQY375', 'analysis_url': 'https://api.spotify.com/v1/audio-analysis/4dneV7C1yDt9UtyxrQY375', 'duration_ms': 157533, 'time_signature': 4}, {'danceability': 0.43, 'energy': 0.971, 'key': 9, 'loudness': -3.845, 'mode': 1, 'speechiness': 0.0524, 'acousticness': 0.0271, 'instrumentalness': 2.16e-05, 'liveness': 0.185, 'valence': 0.764, 'tempo': 151.219, 'type': 'audio_features', 'id': '76GlO5H5RT6g7y0gev86Nk', 'uri': 'spotify:track:76GlO5H5RT6g7y0gev86Nk', 'track_href': 'https://api.spotify.com/v1/tracks/76GlO5H5RT6g7y0gev86Nk', 'analysis_url': 'https://api.spotify.com/v1/audio-analysis/76GlO5H5RT6g7y0gev86Nk', 'duration_ms': 212000, 'time_signature': 4}, {'danceability': 0.725, 'energy': 0.524, 'key': 11, 'loudness': -11.121, 'mode': 1, 'speechiness': 0.116, 'acousticness': 0.0748, 'instrumentalness': 0.764, 'liveness': 0.0819, 'valence': 0.961, 'tempo': 185.134, 'type': 'audio_features', 'id': '7ABE6G4uQxbNtYgVrpBBPA', 'uri': 'spotify:track:7ABE6G4uQxbNtYgVrpBBPA', 'track_href': 'https://api.spotify.com/v1/tracks/7ABE6G4uQxbNtYgVrpBBPA', 'analysis_url': 'https://api.spotify.com/v1/audio-analysis/7ABE6G4uQxbNtYgVrpBBPA', 'duration_ms': 203267, 'time_signature': 4}, {'danceability': 0.611, 'energy': 0.813, 'key': 9, 'loudness': -7.689, 'mode': 0, 'speechiness': 0.0279, 'acousticness': 0.339, 'instrumentalness': 0.898, 'liveness': 0.224, 'valence': 0.821, 'tempo': 140.112, 'type': 'audio_features', 'id': '0X5C4WjQNubRysTkHOubz3', 'uri': 'spotify:track:0X5C4WjQNubRysTkHOubz3', 'track_href': 'https://api.spotify.com/v1/tracks/0X5C4WjQNubRysTkHOubz3', 'analysis_url': 'https://api.spotify.com/v1/audio-analysis/0X5C4WjQNubRysTkHOubz3', 'duration_ms': 209573, 'time_signature': 4}, {'danceability': 0.541, 'energy': 0.83, 'key': 9, 'loudness': -6.246, 'mode': 1, 'speechiness': 0.0316, 'acousticness': 0.109, 'instrumentalness': 0.701, 'liveness': 0.167, 'valence': 0.711, 'tempo': 142.592, 'type': 'audio_features', 'id': '07CyrZF9eVd02zzIse7tZA', 'uri': 'spotify:track:07CyrZF9eVd02zzIse7tZA', 'track_href': 'https://api.spotify.com/v1/tracks/07CyrZF9eVd02zzIse7tZA', 'analysis_url': 'https://api.spotify.com/v1/audio-analysis/07CyrZF9eVd02zzIse7tZA', 'duration_ms': 177987, 'time_signature': 4}, {'danceability': 0.633, 'energy': 0.62, 'key': 0, 'loudness': -11.271, 'mode': 1, 'speechiness': 0.0648, 'acousticness': 0.34, 'instrumentalness': 0.605, 'liveness': 0.0977, 'valence': 0.421, 'tempo': 81.117, 'type': 'audio_features', 'id': '3O4TPMOgChXOerSdB5WENH', 'uri': 'spotify:track:3O4TPMOgChXOerSdB5WENH', 'track_href': 'https://api.spotify.com/v1/tracks/3O4TPMOgChXOerSdB5WENH', 'analysis_url': 'https://api.spotify.com/v1/audio-analysis/3O4TPMOgChXOerSdB5WENH', 'duration_ms': 354933, 'time_signature': 4}, {'danceability': 0.718, 'energy': 0.557, 'key': 9, 'loudness': -10.679, 'mode': 1, 'speechiness': 0.0328, 'acousticness': 0.185, 'instrumentalness': 0.707, 'liveness': 0.055, 'valence': 0.586, 'tempo': 94.095, 'type': 'audio_features', 'id': '4d4oXk7O2lEhZ83ivV93li', 'uri': 'spotify:track:4d4oXk7O2lEhZ83ivV93li', 'track_href': 'https://api.spotify.com/v1/tracks/4d4oXk7O2lEhZ83ivV93li', 'analysis_url': 'https://api.spotify.com/v1/audio-analysis/4d4oXk7O2lEhZ83ivV93li', 'duration_ms': 249880, 'time_signature': 4}, {'danceability': 0.484, 'energy': 0.776, 'key': 9, 'loudness': -6.48, 'mode': 1, 'speechiness': 0.0312, 'acousticness': 0.00371, 'instrumentalness': 0.109, 'liveness': 0.131, 'valence': 0.495, 'tempo': 171.935, 'type': 'audio_features', 'id': '1tuwC1Ob5vnYZhvg3zyzJg', 'uri': 'spotify:track:1tuwC1Ob5vnYZhvg3zyzJg', 'track_href': 'https://api.spotify.com/v1/tracks/1tuwC1Ob5vnYZhvg3zyzJg', 'analysis_url': 'https://api.spotify.com/v1/audio-analysis/1tuwC1Ob5vnYZhvg3zyzJg', 'duration_ms': 448467, 'time_signature': 4}, None, {'danceability': 0.645, 'energy': 0.713, 'key': 6, 'loudness': -5.355, 'mode': 1, 'speechiness': 0.0393, 'acousticness': 0.00835, 'instrumentalness': 0, 'liveness': 0.113, 'valence': 0.566, 'tempo': 74.989, 'type': 'audio_features', 'id': '2Z8WuEywRWYTKe1NybPQEW', 'uri': 'spotify:track:2Z8WuEywRWYTKe1NybPQEW', 'track_href': 'https://api.spotify.com/v1/tracks/2Z8WuEywRWYTKe1NybPQEW', 'analysis_url': 'https://api.spotify.com/v1/audio-analysis/2Z8WuEywRWYTKe1NybPQEW', 'duration_ms': 214507, 'time_signature': 4}, {'danceability': 0.732, 'energy': 0.396, 'key': 4, 'loudness': -9.348, 'mode': 0, 'speechiness': 0.0286, 'acousticness': 0.0841, 'instrumentalness': 3.58e-05, 'liveness': 0.105, 'valence': 0.548, 'tempo': 90.024, 'type': 'audio_features', 'id': '6i0V12jOa3mr6uu4WYhUBr', 'uri': 'spotify:track:6i0V12jOa3mr6uu4WYhUBr', 'track_href': 'https://api.spotify.com/v1/tracks/6i0V12jOa3mr6uu4WYhUBr', 'analysis_url': 'https://api.spotify.com/v1/audio-analysis/6i0V12jOa3mr6uu4WYhUBr', 'duration_ms': 195920, 'time_signature': 4}, {'danceability': 0.609, 'energy': 0.674, 'key': 10, 'loudness': -7.388, 'mode': 0, 'speechiness': 0.0548, 'acousticness': 0.0735, 'instrumentalness': 0.06, 'liveness': 0.345, 'valence': 0.315, 'tempo': 90.009, 'type': 'audio_features', 'id': '23OXdR7YuUBVWh5hSnYJau', 'uri': 'spotify:track:23OXdR7YuUBVWh5hSnYJau', 'track_href': 'https://api.spotify.com/v1/tracks/23OXdR7YuUBVWh5hSnYJau', 'analysis_url': 'https://api.spotify.com/v1/audio-analysis/23OXdR7YuUBVWh5hSnYJau', 'duration_ms': 324467, 'time_signature': 4}, {'danceability': 0.588, 'energy': 0.856, 'key': 9, 'loudness': -5.242, 'mode': 0, 'speechiness': 0.0316, 'acousticness': 0.000818, 'instrumentalness': 0.0739, 'liveness': 0.238, 'valence': 0.635, 'tempo': 96.966, 'type': 'audio_features', 'id': '2nG54Y4a3sH9YpfxMolOyi', 'uri': 'spotify:track:2nG54Y4a3sH9YpfxMolOyi', 'track_href': 'https://api.spotify.com/v1/tracks/2nG54Y4a3sH9YpfxMolOyi', 'analysis_url': 'https://api.spotify.com/v1/audio-analysis/2nG54Y4a3sH9YpfxMolOyi', 'duration_ms': 175044, 'time_signature': 4}, {'danceability': 0.687, 'energy': 0.89, 'key': 8, 'loudness': -5.99, 'mode': 1, 'speechiness': 0.0344, 'acousticness': 0.00396, 'instrumentalness': 0.000939, 'liveness': 0.0436, 'valence': 0.854, 'tempo': 113.06, 'type': 'audio_features', 'id': '60dwJ8dnqZ4WrIdiu7LkNR', 'uri': 'spotify:track:60dwJ8dnqZ4WrIdiu7LkNR', 'track_href': 'https://api.spotify.com/v1/tracks/60dwJ8dnqZ4WrIdiu7LkNR', 'analysis_url': 'https://api.spotify.com/v1/audio-analysis/60dwJ8dnqZ4WrIdiu7LkNR', 'duration_ms': 172232, 'time_signature': 4}, {'danceability': 0.655, 'energy': 0.632, 'key': 2, 'loudness': -4.802, 'mode': 1, 'speechiness': 0.0489, 'acousticness': 0.0189, 'instrumentalness': 0, 'liveness': 0.0722, 'valence': 0.447, 'tempo': 120.113, 'type': 'audio_features', 'id': '3bnVBN67NBEzedqQuWrpP4', 'uri': 'spotify:track:3bnVBN67NBEzedqQuWrpP4', 'track_href': 'https://api.spotify.com/v1/tracks/3bnVBN67NBEzedqQuWrpP4', 'analysis_url': 'https://api.spotify.com/v1/audio-analysis/3bnVBN67NBEzedqQuWrpP4', 'duration_ms': 188493, 'time_signature': 4}, {'danceability': 0.754, 'energy': 0.583, 'key': 4, 'loudness': -7.34, 'mode': 0, 'speechiness': 0.0432, 'acousticness': 0.32, 'instrumentalness': 0.00015, 'liveness': 0.144, 'valence': 0.77, 'tempo': 122.012, 'type': 'audio_features', 'id': '6xZ4Q2k2ompmDppyeESIY8', 'uri': 'spotify:track:6xZ4Q2k2ompmDppyeESIY8', 'track_href': 'https://api.spotify.com/v1/tracks/6xZ4Q2k2ompmDppyeESIY8', 'analysis_url': 'https://api.spotify.com/v1/audio-analysis/6xZ4Q2k2ompmDppyeESIY8', 'duration_ms': 220051, 'time_signature': 4}, {'danceability': 0.766, 'energy': 0.519, 'key': 9, 'loudness': -7.355, 'mode': 0, 'speechiness': 0.0366, 'acousticness': 0.098, 'instrumentalness': 0, 'liveness': 0.0855, 'valence': 0.612, 'tempo': 129.972, 'type': 'audio_features', 'id': '5cbpoIu3YjoOwbBDGUEp3P', 'uri': 'spotify:track:5cbpoIu3YjoOwbBDGUEp3P', 'track_href': 'https://api.spotify.com/v1/tracks/5cbpoIu3YjoOwbBDGUEp3P', 'analysis_url': 'https://api.spotify.com/v1/audio-analysis/5cbpoIu3YjoOwbBDGUEp3P', 'duration_ms': 267720, 'time_signature': 4}, {'danceability': 0.613, 'energy': 0.873, 'key': 7, 'loudness': -6.376, 'mode': 0, 'speechiness': 0.0449, 'acousticness': 0.00397, 'instrumentalness': 0.00111, 'liveness': 0.367, 'valence': 0.392, 'tempo': 129.989, 'type': 'audio_features', 'id': '7i9763l5SSfOnqZ35VOcfy', 'uri': 'spotify:track:7i9763l5SSfOnqZ35VOcfy', 'track_href': 'https://api.spotify.com/v1/tracks/7i9763l5SSfOnqZ35VOcfy', 'analysis_url': 'https://api.spotify.com/v1/audio-analysis/7i9763l5SSfOnqZ35VOcfy', 'duration_ms': 234813, 'time_signature': 4}]}\n",
            "{'audio_features': [{'danceability': 0.648, 'energy': 0.792, 'key': 0, 'loudness': -6.058, 'mode': 1, 'speechiness': 0.035, 'acousticness': 0.0657, 'instrumentalness': 5.31e-06, 'liveness': 0.0788, 'valence': 0.935, 'tempo': 159.968, 'type': 'audio_features', 'id': '6Vk5QUhQ0v5OjYQIYvL5VL', 'uri': 'spotify:track:6Vk5QUhQ0v5OjYQIYvL5VL', 'track_href': 'https://api.spotify.com/v1/tracks/6Vk5QUhQ0v5OjYQIYvL5VL', 'analysis_url': 'https://api.spotify.com/v1/audio-analysis/6Vk5QUhQ0v5OjYQIYvL5VL', 'duration_ms': 260867, 'time_signature': 4}, {'danceability': 0.573, 'energy': 0.658, 'key': 1, 'loudness': -5.557, 'mode': 0, 'speechiness': 0.0396, 'acousticness': 0.0195, 'instrumentalness': 0, 'liveness': 0.209, 'valence': 0.481, 'tempo': 105.052, 'type': 'audio_features', 'id': '0uCKawvDKjr0AegelrzSuX', 'uri': 'spotify:track:0uCKawvDKjr0AegelrzSuX', 'track_href': 'https://api.spotify.com/v1/tracks/0uCKawvDKjr0AegelrzSuX', 'analysis_url': 'https://api.spotify.com/v1/audio-analysis/0uCKawvDKjr0AegelrzSuX', 'duration_ms': 236613, 'time_signature': 4}, {'danceability': 0.616, 'energy': 0.766, 'key': 4, 'loudness': -6.59, 'mode': 0, 'speechiness': 0.0382, 'acousticness': 0.0776, 'instrumentalness': 0, 'liveness': 0.361, 'valence': 0.373, 'tempo': 83.965, 'type': 'audio_features', 'id': '1kEoU9Dmivr2JoOf7ramyT', 'uri': 'spotify:track:1kEoU9Dmivr2JoOf7ramyT', 'track_href': 'https://api.spotify.com/v1/tracks/1kEoU9Dmivr2JoOf7ramyT', 'analysis_url': 'https://api.spotify.com/v1/audio-analysis/1kEoU9Dmivr2JoOf7ramyT', 'duration_ms': 259840, 'time_signature': 4}, {'danceability': 0.671, 'energy': 0.885, 'key': 7, 'loudness': -5.39, 'mode': 0, 'speechiness': 0.0305, 'acousticness': 0.0191, 'instrumentalness': 3.83e-06, 'liveness': 0.223, 'valence': 0.55, 'tempo': 119.959, 'type': 'audio_features', 'id': '2eqbY9whZVv4cnwvzbDAfD', 'uri': 'spotify:track:2eqbY9whZVv4cnwvzbDAfD', 'track_href': 'https://api.spotify.com/v1/tracks/2eqbY9whZVv4cnwvzbDAfD', 'analysis_url': 'https://api.spotify.com/v1/audio-analysis/2eqbY9whZVv4cnwvzbDAfD', 'duration_ms': 252293, 'time_signature': 4}, {'danceability': 0.616, 'energy': 0.789, 'key': 9, 'loudness': -6.316, 'mode': 0, 'speechiness': 0.0417, 'acousticness': 0.0755, 'instrumentalness': 2.08e-05, 'liveness': 0.914, 'valence': 0.272, 'tempo': 90.968, 'type': 'audio_features', 'id': '4OYMdVXY6xE9GTvUT5UdCh', 'uri': 'spotify:track:4OYMdVXY6xE9GTvUT5UdCh', 'track_href': 'https://api.spotify.com/v1/tracks/4OYMdVXY6xE9GTvUT5UdCh', 'analysis_url': 'https://api.spotify.com/v1/audio-analysis/4OYMdVXY6xE9GTvUT5UdCh', 'duration_ms': 249013, 'time_signature': 4}, {'danceability': 0.528, 'energy': 0.308, 'key': 9, 'loudness': -9.769, 'mode': 1, 'speechiness': 0.0341, 'acousticness': 0.816, 'instrumentalness': 0, 'liveness': 0.0934, 'valence': 0.256, 'tempo': 80.017, 'type': 'audio_features', 'id': '3iOFY423D3690MfhE74F8A', 'uri': 'spotify:track:3iOFY423D3690MfhE74F8A', 'track_href': 'https://api.spotify.com/v1/tracks/3iOFY423D3690MfhE74F8A', 'analysis_url': 'https://api.spotify.com/v1/audio-analysis/3iOFY423D3690MfhE74F8A', 'duration_ms': 236040, 'time_signature': 4}, {'danceability': 0.721, 'energy': 0.622, 'key': 0, 'loudness': -6.627, 'mode': 1, 'speechiness': 0.0256, 'acousticness': 0.765, 'instrumentalness': 0.000249, 'liveness': 0.117, 'valence': 0.334, 'tempo': 102.907, 'type': 'audio_features', 'id': '1XekWoZnWxXD7yZODzIDmo', 'uri': 'spotify:track:1XekWoZnWxXD7yZODzIDmo', 'track_href': 'https://api.spotify.com/v1/tracks/1XekWoZnWxXD7yZODzIDmo', 'analysis_url': 'https://api.spotify.com/v1/audio-analysis/1XekWoZnWxXD7yZODzIDmo', 'duration_ms': 189133, 'time_signature': 4}, {'danceability': 0.625, 'energy': 0.827, 'key': 4, 'loudness': -6.763, 'mode': 0, 'speechiness': 0.0602, 'acousticness': 0.0802, 'instrumentalness': 0, 'liveness': 0.164, 'valence': 0.613, 'tempo': 165.912, 'type': 'audio_features', 'id': '0fvKgQ0XzWJKEDJSPdNDid', 'uri': 'spotify:track:0fvKgQ0XzWJKEDJSPdNDid', 'track_href': 'https://api.spotify.com/v1/tracks/0fvKgQ0XzWJKEDJSPdNDid', 'analysis_url': 'https://api.spotify.com/v1/audio-analysis/0fvKgQ0XzWJKEDJSPdNDid', 'duration_ms': 278920, 'time_signature': 4}, {'danceability': 0.734, 'energy': 0.752, 'key': 9, 'loudness': -6.049, 'mode': 0, 'speechiness': 0.0386, 'acousticness': 0.00859, 'instrumentalness': 1.84e-05, 'liveness': 0.0852, 'valence': 0.541, 'tempo': 117.998, 'type': 'audio_features', 'id': '37l4Qgcn1CuGlXx0jKhLpi', 'uri': 'spotify:track:37l4Qgcn1CuGlXx0jKhLpi', 'track_href': 'https://api.spotify.com/v1/tracks/37l4Qgcn1CuGlXx0jKhLpi', 'analysis_url': 'https://api.spotify.com/v1/audio-analysis/37l4Qgcn1CuGlXx0jKhLpi', 'duration_ms': 211507, 'time_signature': 4}, None, {'danceability': 0.465, 'energy': 0.841, 'key': 11, 'loudness': -5.767, 'mode': 0, 'speechiness': 0.0633, 'acousticness': 0.00486, 'instrumentalness': 0, 'liveness': 0.109, 'valence': 0.689, 'tempo': 168.743, 'type': 'audio_features', 'id': '4dneV7C1yDt9UtyxrQY375', 'uri': 'spotify:track:4dneV7C1yDt9UtyxrQY375', 'track_href': 'https://api.spotify.com/v1/tracks/4dneV7C1yDt9UtyxrQY375', 'analysis_url': 'https://api.spotify.com/v1/audio-analysis/4dneV7C1yDt9UtyxrQY375', 'duration_ms': 157533, 'time_signature': 4}, {'danceability': 0.43, 'energy': 0.971, 'key': 9, 'loudness': -3.845, 'mode': 1, 'speechiness': 0.0524, 'acousticness': 0.0271, 'instrumentalness': 2.16e-05, 'liveness': 0.185, 'valence': 0.764, 'tempo': 151.219, 'type': 'audio_features', 'id': '76GlO5H5RT6g7y0gev86Nk', 'uri': 'spotify:track:76GlO5H5RT6g7y0gev86Nk', 'track_href': 'https://api.spotify.com/v1/tracks/76GlO5H5RT6g7y0gev86Nk', 'analysis_url': 'https://api.spotify.com/v1/audio-analysis/76GlO5H5RT6g7y0gev86Nk', 'duration_ms': 212000, 'time_signature': 4}, {'danceability': 0.725, 'energy': 0.524, 'key': 11, 'loudness': -11.121, 'mode': 1, 'speechiness': 0.116, 'acousticness': 0.0748, 'instrumentalness': 0.764, 'liveness': 0.0819, 'valence': 0.961, 'tempo': 185.134, 'type': 'audio_features', 'id': '7ABE6G4uQxbNtYgVrpBBPA', 'uri': 'spotify:track:7ABE6G4uQxbNtYgVrpBBPA', 'track_href': 'https://api.spotify.com/v1/tracks/7ABE6G4uQxbNtYgVrpBBPA', 'analysis_url': 'https://api.spotify.com/v1/audio-analysis/7ABE6G4uQxbNtYgVrpBBPA', 'duration_ms': 203267, 'time_signature': 4}, {'danceability': 0.611, 'energy': 0.813, 'key': 9, 'loudness': -7.689, 'mode': 0, 'speechiness': 0.0279, 'acousticness': 0.339, 'instrumentalness': 0.898, 'liveness': 0.224, 'valence': 0.821, 'tempo': 140.112, 'type': 'audio_features', 'id': '0X5C4WjQNubRysTkHOubz3', 'uri': 'spotify:track:0X5C4WjQNubRysTkHOubz3', 'track_href': 'https://api.spotify.com/v1/tracks/0X5C4WjQNubRysTkHOubz3', 'analysis_url': 'https://api.spotify.com/v1/audio-analysis/0X5C4WjQNubRysTkHOubz3', 'duration_ms': 209573, 'time_signature': 4}, {'danceability': 0.541, 'energy': 0.83, 'key': 9, 'loudness': -6.246, 'mode': 1, 'speechiness': 0.0316, 'acousticness': 0.109, 'instrumentalness': 0.701, 'liveness': 0.167, 'valence': 0.711, 'tempo': 142.592, 'type': 'audio_features', 'id': '07CyrZF9eVd02zzIse7tZA', 'uri': 'spotify:track:07CyrZF9eVd02zzIse7tZA', 'track_href': 'https://api.spotify.com/v1/tracks/07CyrZF9eVd02zzIse7tZA', 'analysis_url': 'https://api.spotify.com/v1/audio-analysis/07CyrZF9eVd02zzIse7tZA', 'duration_ms': 177987, 'time_signature': 4}, {'danceability': 0.633, 'energy': 0.62, 'key': 0, 'loudness': -11.271, 'mode': 1, 'speechiness': 0.0648, 'acousticness': 0.34, 'instrumentalness': 0.605, 'liveness': 0.0977, 'valence': 0.421, 'tempo': 81.117, 'type': 'audio_features', 'id': '3O4TPMOgChXOerSdB5WENH', 'uri': 'spotify:track:3O4TPMOgChXOerSdB5WENH', 'track_href': 'https://api.spotify.com/v1/tracks/3O4TPMOgChXOerSdB5WENH', 'analysis_url': 'https://api.spotify.com/v1/audio-analysis/3O4TPMOgChXOerSdB5WENH', 'duration_ms': 354933, 'time_signature': 4}, {'danceability': 0.718, 'energy': 0.557, 'key': 9, 'loudness': -10.679, 'mode': 1, 'speechiness': 0.0328, 'acousticness': 0.185, 'instrumentalness': 0.707, 'liveness': 0.055, 'valence': 0.586, 'tempo': 94.095, 'type': 'audio_features', 'id': '4d4oXk7O2lEhZ83ivV93li', 'uri': 'spotify:track:4d4oXk7O2lEhZ83ivV93li', 'track_href': 'https://api.spotify.com/v1/tracks/4d4oXk7O2lEhZ83ivV93li', 'analysis_url': 'https://api.spotify.com/v1/audio-analysis/4d4oXk7O2lEhZ83ivV93li', 'duration_ms': 249880, 'time_signature': 4}, {'danceability': 0.484, 'energy': 0.776, 'key': 9, 'loudness': -6.48, 'mode': 1, 'speechiness': 0.0312, 'acousticness': 0.00371, 'instrumentalness': 0.109, 'liveness': 0.131, 'valence': 0.495, 'tempo': 171.935, 'type': 'audio_features', 'id': '1tuwC1Ob5vnYZhvg3zyzJg', 'uri': 'spotify:track:1tuwC1Ob5vnYZhvg3zyzJg', 'track_href': 'https://api.spotify.com/v1/tracks/1tuwC1Ob5vnYZhvg3zyzJg', 'analysis_url': 'https://api.spotify.com/v1/audio-analysis/1tuwC1Ob5vnYZhvg3zyzJg', 'duration_ms': 448467, 'time_signature': 4}, None, {'danceability': 0.645, 'energy': 0.713, 'key': 6, 'loudness': -5.355, 'mode': 1, 'speechiness': 0.0393, 'acousticness': 0.00835, 'instrumentalness': 0, 'liveness': 0.113, 'valence': 0.566, 'tempo': 74.989, 'type': 'audio_features', 'id': '2Z8WuEywRWYTKe1NybPQEW', 'uri': 'spotify:track:2Z8WuEywRWYTKe1NybPQEW', 'track_href': 'https://api.spotify.com/v1/tracks/2Z8WuEywRWYTKe1NybPQEW', 'analysis_url': 'https://api.spotify.com/v1/audio-analysis/2Z8WuEywRWYTKe1NybPQEW', 'duration_ms': 214507, 'time_signature': 4}, {'danceability': 0.732, 'energy': 0.396, 'key': 4, 'loudness': -9.348, 'mode': 0, 'speechiness': 0.0286, 'acousticness': 0.0841, 'instrumentalness': 3.58e-05, 'liveness': 0.105, 'valence': 0.548, 'tempo': 90.024, 'type': 'audio_features', 'id': '6i0V12jOa3mr6uu4WYhUBr', 'uri': 'spotify:track:6i0V12jOa3mr6uu4WYhUBr', 'track_href': 'https://api.spotify.com/v1/tracks/6i0V12jOa3mr6uu4WYhUBr', 'analysis_url': 'https://api.spotify.com/v1/audio-analysis/6i0V12jOa3mr6uu4WYhUBr', 'duration_ms': 195920, 'time_signature': 4}, {'danceability': 0.609, 'energy': 0.674, 'key': 10, 'loudness': -7.388, 'mode': 0, 'speechiness': 0.0548, 'acousticness': 0.0735, 'instrumentalness': 0.06, 'liveness': 0.345, 'valence': 0.315, 'tempo': 90.009, 'type': 'audio_features', 'id': '23OXdR7YuUBVWh5hSnYJau', 'uri': 'spotify:track:23OXdR7YuUBVWh5hSnYJau', 'track_href': 'https://api.spotify.com/v1/tracks/23OXdR7YuUBVWh5hSnYJau', 'analysis_url': 'https://api.spotify.com/v1/audio-analysis/23OXdR7YuUBVWh5hSnYJau', 'duration_ms': 324467, 'time_signature': 4}, {'danceability': 0.588, 'energy': 0.856, 'key': 9, 'loudness': -5.242, 'mode': 0, 'speechiness': 0.0316, 'acousticness': 0.000818, 'instrumentalness': 0.0739, 'liveness': 0.238, 'valence': 0.635, 'tempo': 96.966, 'type': 'audio_features', 'id': '2nG54Y4a3sH9YpfxMolOyi', 'uri': 'spotify:track:2nG54Y4a3sH9YpfxMolOyi', 'track_href': 'https://api.spotify.com/v1/tracks/2nG54Y4a3sH9YpfxMolOyi', 'analysis_url': 'https://api.spotify.com/v1/audio-analysis/2nG54Y4a3sH9YpfxMolOyi', 'duration_ms': 175044, 'time_signature': 4}, {'danceability': 0.687, 'energy': 0.89, 'key': 8, 'loudness': -5.99, 'mode': 1, 'speechiness': 0.0344, 'acousticness': 0.00396, 'instrumentalness': 0.000939, 'liveness': 0.0436, 'valence': 0.854, 'tempo': 113.06, 'type': 'audio_features', 'id': '60dwJ8dnqZ4WrIdiu7LkNR', 'uri': 'spotify:track:60dwJ8dnqZ4WrIdiu7LkNR', 'track_href': 'https://api.spotify.com/v1/tracks/60dwJ8dnqZ4WrIdiu7LkNR', 'analysis_url': 'https://api.spotify.com/v1/audio-analysis/60dwJ8dnqZ4WrIdiu7LkNR', 'duration_ms': 172232, 'time_signature': 4}, {'danceability': 0.655, 'energy': 0.632, 'key': 2, 'loudness': -4.802, 'mode': 1, 'speechiness': 0.0489, 'acousticness': 0.0189, 'instrumentalness': 0, 'liveness': 0.0722, 'valence': 0.447, 'tempo': 120.113, 'type': 'audio_features', 'id': '3bnVBN67NBEzedqQuWrpP4', 'uri': 'spotify:track:3bnVBN67NBEzedqQuWrpP4', 'track_href': 'https://api.spotify.com/v1/tracks/3bnVBN67NBEzedqQuWrpP4', 'analysis_url': 'https://api.spotify.com/v1/audio-analysis/3bnVBN67NBEzedqQuWrpP4', 'duration_ms': 188493, 'time_signature': 4}, {'danceability': 0.754, 'energy': 0.583, 'key': 4, 'loudness': -7.34, 'mode': 0, 'speechiness': 0.0432, 'acousticness': 0.32, 'instrumentalness': 0.00015, 'liveness': 0.144, 'valence': 0.77, 'tempo': 122.012, 'type': 'audio_features', 'id': '6xZ4Q2k2ompmDppyeESIY8', 'uri': 'spotify:track:6xZ4Q2k2ompmDppyeESIY8', 'track_href': 'https://api.spotify.com/v1/tracks/6xZ4Q2k2ompmDppyeESIY8', 'analysis_url': 'https://api.spotify.com/v1/audio-analysis/6xZ4Q2k2ompmDppyeESIY8', 'duration_ms': 220051, 'time_signature': 4}, {'danceability': 0.766, 'energy': 0.519, 'key': 9, 'loudness': -7.355, 'mode': 0, 'speechiness': 0.0366, 'acousticness': 0.098, 'instrumentalness': 0, 'liveness': 0.0855, 'valence': 0.612, 'tempo': 129.972, 'type': 'audio_features', 'id': '5cbpoIu3YjoOwbBDGUEp3P', 'uri': 'spotify:track:5cbpoIu3YjoOwbBDGUEp3P', 'track_href': 'https://api.spotify.com/v1/tracks/5cbpoIu3YjoOwbBDGUEp3P', 'analysis_url': 'https://api.spotify.com/v1/audio-analysis/5cbpoIu3YjoOwbBDGUEp3P', 'duration_ms': 267720, 'time_signature': 4}, None, {'danceability': 0.743, 'energy': 0.429, 'key': 10, 'loudness': -14.576, 'mode': 0, 'speechiness': 0.0902, 'acousticness': 0.447, 'instrumentalness': 0.362, 'liveness': 0.0455, 'valence': 0.597, 'tempo': 95.406, 'type': 'audio_features', 'id': '5fdNHVZHbWB1AaXk4RBGVD', 'uri': 'spotify:track:5fdNHVZHbWB1AaXk4RBGVD', 'track_href': 'https://api.spotify.com/v1/tracks/5fdNHVZHbWB1AaXk4RBGVD', 'analysis_url': 'https://api.spotify.com/v1/audio-analysis/5fdNHVZHbWB1AaXk4RBGVD', 'duration_ms': 443773, 'time_signature': 4}, {'danceability': 0.734, 'energy': 0.64, 'key': 5, 'loudness': -8.471, 'mode': 0, 'speechiness': 0.0661, 'acousticness': 0.00606, 'instrumentalness': 0.37, 'liveness': 0.0602, 'valence': 0.868, 'tempo': 103.812, 'type': 'audio_features', 'id': '2fmXnPfzguSp3zKDibCBgv', 'uri': 'spotify:track:2fmXnPfzguSp3zKDibCBgv', 'track_href': 'https://api.spotify.com/v1/tracks/2fmXnPfzguSp3zKDibCBgv', 'analysis_url': 'https://api.spotify.com/v1/audio-analysis/2fmXnPfzguSp3zKDibCBgv', 'duration_ms': 541827, 'time_signature': 4}, {'danceability': 0.766, 'energy': 0.381, 'key': 10, 'loudness': -14.456, 'mode': 0, 'speechiness': 0.0805, 'acousticness': 0.18, 'instrumentalness': 0.0844, 'liveness': 0.48, 'valence': 0.634, 'tempo': 98.862, 'type': 'audio_features', 'id': '0nN2D5xwVtLrgUw0TIQ5CI', 'uri': 'spotify:track:0nN2D5xwVtLrgUw0TIQ5CI', 'track_href': 'https://api.spotify.com/v1/tracks/0nN2D5xwVtLrgUw0TIQ5CI', 'analysis_url': 'https://api.spotify.com/v1/audio-analysis/0nN2D5xwVtLrgUw0TIQ5CI', 'duration_ms': 452573, 'time_signature': 4}, {'danceability': 0.424, 'energy': 0.432, 'key': 8, 'loudness': -13.014, 'mode': 1, 'speechiness': 0.0422, 'acousticness': 0.593, 'instrumentalness': 0.344, 'liveness': 0.0764, 'valence': 0.832, 'tempo': 174.03, 'type': 'audio_features', 'id': '4TYEIckMi7PTCh1kiknKSy', 'uri': 'spotify:track:4TYEIckMi7PTCh1kiknKSy', 'track_href': 'https://api.spotify.com/v1/tracks/4TYEIckMi7PTCh1kiknKSy', 'analysis_url': 'https://api.spotify.com/v1/audio-analysis/4TYEIckMi7PTCh1kiknKSy', 'duration_ms': 479467, 'time_signature': 4}, {'danceability': 0.743, 'energy': 0.352, 'key': 9, 'loudness': -17.225, 'mode': 0, 'speechiness': 0.061, 'acousticness': 0.146, 'instrumentalness': 0.104, 'liveness': 0.0585, 'valence': 0.722, 'tempo': 108.785, 'type': 'audio_features', 'id': '6jY7UcNWda03nyJ5XiqlYt', 'uri': 'spotify:track:6jY7UcNWda03nyJ5XiqlYt', 'track_href': 'https://api.spotify.com/v1/tracks/6jY7UcNWda03nyJ5XiqlYt', 'analysis_url': 'https://api.spotify.com/v1/audio-analysis/6jY7UcNWda03nyJ5XiqlYt', 'duration_ms': 350600, 'time_signature': 4}, {'danceability': 0.785, 'energy': 0.302, 'key': 0, 'loudness': -14.555, 'mode': 0, 'speechiness': 0.0551, 'acousticness': 0.735, 'instrumentalness': 0.12, 'liveness': 0.123, 'valence': 0.467, 'tempo': 122.979, 'type': 'audio_features', 'id': '21qeCg7VQMQ6nVBCVFeoKD', 'uri': 'spotify:track:21qeCg7VQMQ6nVBCVFeoKD', 'track_href': 'https://api.spotify.com/v1/tracks/21qeCg7VQMQ6nVBCVFeoKD', 'analysis_url': 'https://api.spotify.com/v1/audio-analysis/21qeCg7VQMQ6nVBCVFeoKD', 'duration_ms': 392027, 'time_signature': 4}, {'danceability': 0.719, 'energy': 0.222, 'key': 10, 'loudness': -18.644, 'mode': 1, 'speechiness': 0.052, 'acousticness': 0.623, 'instrumentalness': 0.91, 'liveness': 0.0991, 'valence': 0.499, 'tempo': 92.409, 'type': 'audio_features', 'id': '6P5qgQNPHQdknn3tA7bmsN', 'uri': 'spotify:track:6P5qgQNPHQdknn3tA7bmsN', 'track_href': 'https://api.spotify.com/v1/tracks/6P5qgQNPHQdknn3tA7bmsN', 'analysis_url': 'https://api.spotify.com/v1/audio-analysis/6P5qgQNPHQdknn3tA7bmsN', 'duration_ms': 326773, 'time_signature': 4}, {'danceability': 0.579, 'energy': 0.437, 'key': 1, 'loudness': -12.721, 'mode': 1, 'speechiness': 0.0526, 'acousticness': 0.0427, 'instrumentalness': 0.0483, 'liveness': 0.0603, 'valence': 0.732, 'tempo': 91.866, 'type': 'audio_features', 'id': '7gNrC7OWXD4sp3JZiGEjUc', 'uri': 'spotify:track:7gNrC7OWXD4sp3JZiGEjUc', 'track_href': 'https://api.spotify.com/v1/tracks/7gNrC7OWXD4sp3JZiGEjUc', 'analysis_url': 'https://api.spotify.com/v1/audio-analysis/7gNrC7OWXD4sp3JZiGEjUc', 'duration_ms': 457880, 'time_signature': 4}, {'danceability': 0.424, 'energy': 0.136, 'key': 11, 'loudness': -19.69, 'mode': 0, 'speechiness': 0.0583, 'acousticness': 0.964, 'instrumentalness': 0.24, 'liveness': 0.0684, 'valence': 0.146, 'tempo': 180.641, 'type': 'audio_features', 'id': '1Hawc2sA1Ty2DVlWg5NwrB', 'uri': 'spotify:track:1Hawc2sA1Ty2DVlWg5NwrB', 'track_href': 'https://api.spotify.com/v1/tracks/1Hawc2sA1Ty2DVlWg5NwrB', 'analysis_url': 'https://api.spotify.com/v1/audio-analysis/1Hawc2sA1Ty2DVlWg5NwrB', 'duration_ms': 379827, 'time_signature': 3}]}\n",
            "{'audio_features': [{'danceability': 0.648, 'energy': 0.792, 'key': 0, 'loudness': -6.058, 'mode': 1, 'speechiness': 0.035, 'acousticness': 0.0657, 'instrumentalness': 5.31e-06, 'liveness': 0.0788, 'valence': 0.935, 'tempo': 159.968, 'type': 'audio_features', 'id': '6Vk5QUhQ0v5OjYQIYvL5VL', 'uri': 'spotify:track:6Vk5QUhQ0v5OjYQIYvL5VL', 'track_href': 'https://api.spotify.com/v1/tracks/6Vk5QUhQ0v5OjYQIYvL5VL', 'analysis_url': 'https://api.spotify.com/v1/audio-analysis/6Vk5QUhQ0v5OjYQIYvL5VL', 'duration_ms': 260867, 'time_signature': 4}, {'danceability': 0.573, 'energy': 0.658, 'key': 1, 'loudness': -5.557, 'mode': 0, 'speechiness': 0.0396, 'acousticness': 0.0195, 'instrumentalness': 0, 'liveness': 0.209, 'valence': 0.481, 'tempo': 105.052, 'type': 'audio_features', 'id': '0uCKawvDKjr0AegelrzSuX', 'uri': 'spotify:track:0uCKawvDKjr0AegelrzSuX', 'track_href': 'https://api.spotify.com/v1/tracks/0uCKawvDKjr0AegelrzSuX', 'analysis_url': 'https://api.spotify.com/v1/audio-analysis/0uCKawvDKjr0AegelrzSuX', 'duration_ms': 236613, 'time_signature': 4}, {'danceability': 0.616, 'energy': 0.766, 'key': 4, 'loudness': -6.59, 'mode': 0, 'speechiness': 0.0382, 'acousticness': 0.0776, 'instrumentalness': 0, 'liveness': 0.361, 'valence': 0.373, 'tempo': 83.965, 'type': 'audio_features', 'id': '1kEoU9Dmivr2JoOf7ramyT', 'uri': 'spotify:track:1kEoU9Dmivr2JoOf7ramyT', 'track_href': 'https://api.spotify.com/v1/tracks/1kEoU9Dmivr2JoOf7ramyT', 'analysis_url': 'https://api.spotify.com/v1/audio-analysis/1kEoU9Dmivr2JoOf7ramyT', 'duration_ms': 259840, 'time_signature': 4}, {'danceability': 0.671, 'energy': 0.885, 'key': 7, 'loudness': -5.39, 'mode': 0, 'speechiness': 0.0305, 'acousticness': 0.0191, 'instrumentalness': 3.83e-06, 'liveness': 0.223, 'valence': 0.55, 'tempo': 119.959, 'type': 'audio_features', 'id': '2eqbY9whZVv4cnwvzbDAfD', 'uri': 'spotify:track:2eqbY9whZVv4cnwvzbDAfD', 'track_href': 'https://api.spotify.com/v1/tracks/2eqbY9whZVv4cnwvzbDAfD', 'analysis_url': 'https://api.spotify.com/v1/audio-analysis/2eqbY9whZVv4cnwvzbDAfD', 'duration_ms': 252293, 'time_signature': 4}, {'danceability': 0.616, 'energy': 0.789, 'key': 9, 'loudness': -6.316, 'mode': 0, 'speechiness': 0.0417, 'acousticness': 0.0755, 'instrumentalness': 2.08e-05, 'liveness': 0.914, 'valence': 0.272, 'tempo': 90.968, 'type': 'audio_features', 'id': '4OYMdVXY6xE9GTvUT5UdCh', 'uri': 'spotify:track:4OYMdVXY6xE9GTvUT5UdCh', 'track_href': 'https://api.spotify.com/v1/tracks/4OYMdVXY6xE9GTvUT5UdCh', 'analysis_url': 'https://api.spotify.com/v1/audio-analysis/4OYMdVXY6xE9GTvUT5UdCh', 'duration_ms': 249013, 'time_signature': 4}, {'danceability': 0.528, 'energy': 0.308, 'key': 9, 'loudness': -9.769, 'mode': 1, 'speechiness': 0.0341, 'acousticness': 0.816, 'instrumentalness': 0, 'liveness': 0.0934, 'valence': 0.256, 'tempo': 80.017, 'type': 'audio_features', 'id': '3iOFY423D3690MfhE74F8A', 'uri': 'spotify:track:3iOFY423D3690MfhE74F8A', 'track_href': 'https://api.spotify.com/v1/tracks/3iOFY423D3690MfhE74F8A', 'analysis_url': 'https://api.spotify.com/v1/audio-analysis/3iOFY423D3690MfhE74F8A', 'duration_ms': 236040, 'time_signature': 4}, {'danceability': 0.721, 'energy': 0.622, 'key': 0, 'loudness': -6.627, 'mode': 1, 'speechiness': 0.0256, 'acousticness': 0.765, 'instrumentalness': 0.000249, 'liveness': 0.117, 'valence': 0.334, 'tempo': 102.907, 'type': 'audio_features', 'id': '1XekWoZnWxXD7yZODzIDmo', 'uri': 'spotify:track:1XekWoZnWxXD7yZODzIDmo', 'track_href': 'https://api.spotify.com/v1/tracks/1XekWoZnWxXD7yZODzIDmo', 'analysis_url': 'https://api.spotify.com/v1/audio-analysis/1XekWoZnWxXD7yZODzIDmo', 'duration_ms': 189133, 'time_signature': 4}, {'danceability': 0.625, 'energy': 0.827, 'key': 4, 'loudness': -6.763, 'mode': 0, 'speechiness': 0.0602, 'acousticness': 0.0802, 'instrumentalness': 0, 'liveness': 0.164, 'valence': 0.613, 'tempo': 165.912, 'type': 'audio_features', 'id': '0fvKgQ0XzWJKEDJSPdNDid', 'uri': 'spotify:track:0fvKgQ0XzWJKEDJSPdNDid', 'track_href': 'https://api.spotify.com/v1/tracks/0fvKgQ0XzWJKEDJSPdNDid', 'analysis_url': 'https://api.spotify.com/v1/audio-analysis/0fvKgQ0XzWJKEDJSPdNDid', 'duration_ms': 278920, 'time_signature': 4}, {'danceability': 0.734, 'energy': 0.752, 'key': 9, 'loudness': -6.049, 'mode': 0, 'speechiness': 0.0386, 'acousticness': 0.00859, 'instrumentalness': 1.84e-05, 'liveness': 0.0852, 'valence': 0.541, 'tempo': 117.998, 'type': 'audio_features', 'id': '37l4Qgcn1CuGlXx0jKhLpi', 'uri': 'spotify:track:37l4Qgcn1CuGlXx0jKhLpi', 'track_href': 'https://api.spotify.com/v1/tracks/37l4Qgcn1CuGlXx0jKhLpi', 'analysis_url': 'https://api.spotify.com/v1/audio-analysis/37l4Qgcn1CuGlXx0jKhLpi', 'duration_ms': 211507, 'time_signature': 4}, None, {'danceability': 0.465, 'energy': 0.841, 'key': 11, 'loudness': -5.767, 'mode': 0, 'speechiness': 0.0633, 'acousticness': 0.00486, 'instrumentalness': 0, 'liveness': 0.109, 'valence': 0.689, 'tempo': 168.743, 'type': 'audio_features', 'id': '4dneV7C1yDt9UtyxrQY375', 'uri': 'spotify:track:4dneV7C1yDt9UtyxrQY375', 'track_href': 'https://api.spotify.com/v1/tracks/4dneV7C1yDt9UtyxrQY375', 'analysis_url': 'https://api.spotify.com/v1/audio-analysis/4dneV7C1yDt9UtyxrQY375', 'duration_ms': 157533, 'time_signature': 4}, {'danceability': 0.43, 'energy': 0.971, 'key': 9, 'loudness': -3.845, 'mode': 1, 'speechiness': 0.0524, 'acousticness': 0.0271, 'instrumentalness': 2.16e-05, 'liveness': 0.185, 'valence': 0.764, 'tempo': 151.219, 'type': 'audio_features', 'id': '76GlO5H5RT6g7y0gev86Nk', 'uri': 'spotify:track:76GlO5H5RT6g7y0gev86Nk', 'track_href': 'https://api.spotify.com/v1/tracks/76GlO5H5RT6g7y0gev86Nk', 'analysis_url': 'https://api.spotify.com/v1/audio-analysis/76GlO5H5RT6g7y0gev86Nk', 'duration_ms': 212000, 'time_signature': 4}, {'danceability': 0.725, 'energy': 0.524, 'key': 11, 'loudness': -11.121, 'mode': 1, 'speechiness': 0.116, 'acousticness': 0.0748, 'instrumentalness': 0.764, 'liveness': 0.0819, 'valence': 0.961, 'tempo': 185.134, 'type': 'audio_features', 'id': '7ABE6G4uQxbNtYgVrpBBPA', 'uri': 'spotify:track:7ABE6G4uQxbNtYgVrpBBPA', 'track_href': 'https://api.spotify.com/v1/tracks/7ABE6G4uQxbNtYgVrpBBPA', 'analysis_url': 'https://api.spotify.com/v1/audio-analysis/7ABE6G4uQxbNtYgVrpBBPA', 'duration_ms': 203267, 'time_signature': 4}, {'danceability': 0.611, 'energy': 0.813, 'key': 9, 'loudness': -7.689, 'mode': 0, 'speechiness': 0.0279, 'acousticness': 0.339, 'instrumentalness': 0.898, 'liveness': 0.224, 'valence': 0.821, 'tempo': 140.112, 'type': 'audio_features', 'id': '0X5C4WjQNubRysTkHOubz3', 'uri': 'spotify:track:0X5C4WjQNubRysTkHOubz3', 'track_href': 'https://api.spotify.com/v1/tracks/0X5C4WjQNubRysTkHOubz3', 'analysis_url': 'https://api.spotify.com/v1/audio-analysis/0X5C4WjQNubRysTkHOubz3', 'duration_ms': 209573, 'time_signature': 4}, {'danceability': 0.541, 'energy': 0.83, 'key': 9, 'loudness': -6.246, 'mode': 1, 'speechiness': 0.0316, 'acousticness': 0.109, 'instrumentalness': 0.701, 'liveness': 0.167, 'valence': 0.711, 'tempo': 142.592, 'type': 'audio_features', 'id': '07CyrZF9eVd02zzIse7tZA', 'uri': 'spotify:track:07CyrZF9eVd02zzIse7tZA', 'track_href': 'https://api.spotify.com/v1/tracks/07CyrZF9eVd02zzIse7tZA', 'analysis_url': 'https://api.spotify.com/v1/audio-analysis/07CyrZF9eVd02zzIse7tZA', 'duration_ms': 177987, 'time_signature': 4}, {'danceability': 0.633, 'energy': 0.62, 'key': 0, 'loudness': -11.271, 'mode': 1, 'speechiness': 0.0648, 'acousticness': 0.34, 'instrumentalness': 0.605, 'liveness': 0.0977, 'valence': 0.421, 'tempo': 81.117, 'type': 'audio_features', 'id': '3O4TPMOgChXOerSdB5WENH', 'uri': 'spotify:track:3O4TPMOgChXOerSdB5WENH', 'track_href': 'https://api.spotify.com/v1/tracks/3O4TPMOgChXOerSdB5WENH', 'analysis_url': 'https://api.spotify.com/v1/audio-analysis/3O4TPMOgChXOerSdB5WENH', 'duration_ms': 354933, 'time_signature': 4}, {'danceability': 0.718, 'energy': 0.557, 'key': 9, 'loudness': -10.679, 'mode': 1, 'speechiness': 0.0328, 'acousticness': 0.185, 'instrumentalness': 0.707, 'liveness': 0.055, 'valence': 0.586, 'tempo': 94.095, 'type': 'audio_features', 'id': '4d4oXk7O2lEhZ83ivV93li', 'uri': 'spotify:track:4d4oXk7O2lEhZ83ivV93li', 'track_href': 'https://api.spotify.com/v1/tracks/4d4oXk7O2lEhZ83ivV93li', 'analysis_url': 'https://api.spotify.com/v1/audio-analysis/4d4oXk7O2lEhZ83ivV93li', 'duration_ms': 249880, 'time_signature': 4}, {'danceability': 0.484, 'energy': 0.776, 'key': 9, 'loudness': -6.48, 'mode': 1, 'speechiness': 0.0312, 'acousticness': 0.00371, 'instrumentalness': 0.109, 'liveness': 0.131, 'valence': 0.495, 'tempo': 171.935, 'type': 'audio_features', 'id': '1tuwC1Ob5vnYZhvg3zyzJg', 'uri': 'spotify:track:1tuwC1Ob5vnYZhvg3zyzJg', 'track_href': 'https://api.spotify.com/v1/tracks/1tuwC1Ob5vnYZhvg3zyzJg', 'analysis_url': 'https://api.spotify.com/v1/audio-analysis/1tuwC1Ob5vnYZhvg3zyzJg', 'duration_ms': 448467, 'time_signature': 4}, None, {'danceability': 0.645, 'energy': 0.713, 'key': 6, 'loudness': -5.355, 'mode': 1, 'speechiness': 0.0393, 'acousticness': 0.00835, 'instrumentalness': 0, 'liveness': 0.113, 'valence': 0.566, 'tempo': 74.989, 'type': 'audio_features', 'id': '2Z8WuEywRWYTKe1NybPQEW', 'uri': 'spotify:track:2Z8WuEywRWYTKe1NybPQEW', 'track_href': 'https://api.spotify.com/v1/tracks/2Z8WuEywRWYTKe1NybPQEW', 'analysis_url': 'https://api.spotify.com/v1/audio-analysis/2Z8WuEywRWYTKe1NybPQEW', 'duration_ms': 214507, 'time_signature': 4}, {'danceability': 0.732, 'energy': 0.396, 'key': 4, 'loudness': -9.348, 'mode': 0, 'speechiness': 0.0286, 'acousticness': 0.0841, 'instrumentalness': 3.58e-05, 'liveness': 0.105, 'valence': 0.548, 'tempo': 90.024, 'type': 'audio_features', 'id': '6i0V12jOa3mr6uu4WYhUBr', 'uri': 'spotify:track:6i0V12jOa3mr6uu4WYhUBr', 'track_href': 'https://api.spotify.com/v1/tracks/6i0V12jOa3mr6uu4WYhUBr', 'analysis_url': 'https://api.spotify.com/v1/audio-analysis/6i0V12jOa3mr6uu4WYhUBr', 'duration_ms': 195920, 'time_signature': 4}, {'danceability': 0.609, 'energy': 0.674, 'key': 10, 'loudness': -7.388, 'mode': 0, 'speechiness': 0.0548, 'acousticness': 0.0735, 'instrumentalness': 0.06, 'liveness': 0.345, 'valence': 0.315, 'tempo': 90.009, 'type': 'audio_features', 'id': '23OXdR7YuUBVWh5hSnYJau', 'uri': 'spotify:track:23OXdR7YuUBVWh5hSnYJau', 'track_href': 'https://api.spotify.com/v1/tracks/23OXdR7YuUBVWh5hSnYJau', 'analysis_url': 'https://api.spotify.com/v1/audio-analysis/23OXdR7YuUBVWh5hSnYJau', 'duration_ms': 324467, 'time_signature': 4}, {'danceability': 0.588, 'energy': 0.856, 'key': 9, 'loudness': -5.242, 'mode': 0, 'speechiness': 0.0316, 'acousticness': 0.000818, 'instrumentalness': 0.0739, 'liveness': 0.238, 'valence': 0.635, 'tempo': 96.966, 'type': 'audio_features', 'id': '2nG54Y4a3sH9YpfxMolOyi', 'uri': 'spotify:track:2nG54Y4a3sH9YpfxMolOyi', 'track_href': 'https://api.spotify.com/v1/tracks/2nG54Y4a3sH9YpfxMolOyi', 'analysis_url': 'https://api.spotify.com/v1/audio-analysis/2nG54Y4a3sH9YpfxMolOyi', 'duration_ms': 175044, 'time_signature': 4}, {'danceability': 0.687, 'energy': 0.89, 'key': 8, 'loudness': -5.99, 'mode': 1, 'speechiness': 0.0344, 'acousticness': 0.00396, 'instrumentalness': 0.000939, 'liveness': 0.0436, 'valence': 0.854, 'tempo': 113.06, 'type': 'audio_features', 'id': '60dwJ8dnqZ4WrIdiu7LkNR', 'uri': 'spotify:track:60dwJ8dnqZ4WrIdiu7LkNR', 'track_href': 'https://api.spotify.com/v1/tracks/60dwJ8dnqZ4WrIdiu7LkNR', 'analysis_url': 'https://api.spotify.com/v1/audio-analysis/60dwJ8dnqZ4WrIdiu7LkNR', 'duration_ms': 172232, 'time_signature': 4}, {'danceability': 0.655, 'energy': 0.632, 'key': 2, 'loudness': -4.802, 'mode': 1, 'speechiness': 0.0489, 'acousticness': 0.0189, 'instrumentalness': 0, 'liveness': 0.0722, 'valence': 0.447, 'tempo': 120.113, 'type': 'audio_features', 'id': '3bnVBN67NBEzedqQuWrpP4', 'uri': 'spotify:track:3bnVBN67NBEzedqQuWrpP4', 'track_href': 'https://api.spotify.com/v1/tracks/3bnVBN67NBEzedqQuWrpP4', 'analysis_url': 'https://api.spotify.com/v1/audio-analysis/3bnVBN67NBEzedqQuWrpP4', 'duration_ms': 188493, 'time_signature': 4}, {'danceability': 0.754, 'energy': 0.583, 'key': 4, 'loudness': -7.34, 'mode': 0, 'speechiness': 0.0432, 'acousticness': 0.32, 'instrumentalness': 0.00015, 'liveness': 0.144, 'valence': 0.77, 'tempo': 122.012, 'type': 'audio_features', 'id': '6xZ4Q2k2ompmDppyeESIY8', 'uri': 'spotify:track:6xZ4Q2k2ompmDppyeESIY8', 'track_href': 'https://api.spotify.com/v1/tracks/6xZ4Q2k2ompmDppyeESIY8', 'analysis_url': 'https://api.spotify.com/v1/audio-analysis/6xZ4Q2k2ompmDppyeESIY8', 'duration_ms': 220051, 'time_signature': 4}, {'danceability': 0.766, 'energy': 0.519, 'key': 9, 'loudness': -7.355, 'mode': 0, 'speechiness': 0.0366, 'acousticness': 0.098, 'instrumentalness': 0, 'liveness': 0.0855, 'valence': 0.612, 'tempo': 129.972, 'type': 'audio_features', 'id': '5cbpoIu3YjoOwbBDGUEp3P', 'uri': 'spotify:track:5cbpoIu3YjoOwbBDGUEp3P', 'track_href': 'https://api.spotify.com/v1/tracks/5cbpoIu3YjoOwbBDGUEp3P', 'analysis_url': 'https://api.spotify.com/v1/audio-analysis/5cbpoIu3YjoOwbBDGUEp3P', 'duration_ms': 267720, 'time_signature': 4}, None, {'danceability': 0.743, 'energy': 0.429, 'key': 10, 'loudness': -14.576, 'mode': 0, 'speechiness': 0.0902, 'acousticness': 0.447, 'instrumentalness': 0.362, 'liveness': 0.0455, 'valence': 0.597, 'tempo': 95.406, 'type': 'audio_features', 'id': '5fdNHVZHbWB1AaXk4RBGVD', 'uri': 'spotify:track:5fdNHVZHbWB1AaXk4RBGVD', 'track_href': 'https://api.spotify.com/v1/tracks/5fdNHVZHbWB1AaXk4RBGVD', 'analysis_url': 'https://api.spotify.com/v1/audio-analysis/5fdNHVZHbWB1AaXk4RBGVD', 'duration_ms': 443773, 'time_signature': 4}, {'danceability': 0.734, 'energy': 0.64, 'key': 5, 'loudness': -8.471, 'mode': 0, 'speechiness': 0.0661, 'acousticness': 0.00606, 'instrumentalness': 0.37, 'liveness': 0.0602, 'valence': 0.868, 'tempo': 103.812, 'type': 'audio_features', 'id': '2fmXnPfzguSp3zKDibCBgv', 'uri': 'spotify:track:2fmXnPfzguSp3zKDibCBgv', 'track_href': 'https://api.spotify.com/v1/tracks/2fmXnPfzguSp3zKDibCBgv', 'analysis_url': 'https://api.spotify.com/v1/audio-analysis/2fmXnPfzguSp3zKDibCBgv', 'duration_ms': 541827, 'time_signature': 4}, {'danceability': 0.766, 'energy': 0.381, 'key': 10, 'loudness': -14.456, 'mode': 0, 'speechiness': 0.0805, 'acousticness': 0.18, 'instrumentalness': 0.0844, 'liveness': 0.48, 'valence': 0.634, 'tempo': 98.862, 'type': 'audio_features', 'id': '0nN2D5xwVtLrgUw0TIQ5CI', 'uri': 'spotify:track:0nN2D5xwVtLrgUw0TIQ5CI', 'track_href': 'https://api.spotify.com/v1/tracks/0nN2D5xwVtLrgUw0TIQ5CI', 'analysis_url': 'https://api.spotify.com/v1/audio-analysis/0nN2D5xwVtLrgUw0TIQ5CI', 'duration_ms': 452573, 'time_signature': 4}, {'danceability': 0.424, 'energy': 0.432, 'key': 8, 'loudness': -13.014, 'mode': 1, 'speechiness': 0.0422, 'acousticness': 0.593, 'instrumentalness': 0.344, 'liveness': 0.0764, 'valence': 0.832, 'tempo': 174.03, 'type': 'audio_features', 'id': '4TYEIckMi7PTCh1kiknKSy', 'uri': 'spotify:track:4TYEIckMi7PTCh1kiknKSy', 'track_href': 'https://api.spotify.com/v1/tracks/4TYEIckMi7PTCh1kiknKSy', 'analysis_url': 'https://api.spotify.com/v1/audio-analysis/4TYEIckMi7PTCh1kiknKSy', 'duration_ms': 479467, 'time_signature': 4}, {'danceability': 0.743, 'energy': 0.352, 'key': 9, 'loudness': -17.225, 'mode': 0, 'speechiness': 0.061, 'acousticness': 0.146, 'instrumentalness': 0.104, 'liveness': 0.0585, 'valence': 0.722, 'tempo': 108.785, 'type': 'audio_features', 'id': '6jY7UcNWda03nyJ5XiqlYt', 'uri': 'spotify:track:6jY7UcNWda03nyJ5XiqlYt', 'track_href': 'https://api.spotify.com/v1/tracks/6jY7UcNWda03nyJ5XiqlYt', 'analysis_url': 'https://api.spotify.com/v1/audio-analysis/6jY7UcNWda03nyJ5XiqlYt', 'duration_ms': 350600, 'time_signature': 4}, {'danceability': 0.785, 'energy': 0.302, 'key': 0, 'loudness': -14.555, 'mode': 0, 'speechiness': 0.0551, 'acousticness': 0.735, 'instrumentalness': 0.12, 'liveness': 0.123, 'valence': 0.467, 'tempo': 122.979, 'type': 'audio_features', 'id': '21qeCg7VQMQ6nVBCVFeoKD', 'uri': 'spotify:track:21qeCg7VQMQ6nVBCVFeoKD', 'track_href': 'https://api.spotify.com/v1/tracks/21qeCg7VQMQ6nVBCVFeoKD', 'analysis_url': 'https://api.spotify.com/v1/audio-analysis/21qeCg7VQMQ6nVBCVFeoKD', 'duration_ms': 392027, 'time_signature': 4}, {'danceability': 0.719, 'energy': 0.222, 'key': 10, 'loudness': -18.644, 'mode': 1, 'speechiness': 0.052, 'acousticness': 0.623, 'instrumentalness': 0.91, 'liveness': 0.0991, 'valence': 0.499, 'tempo': 92.409, 'type': 'audio_features', 'id': '6P5qgQNPHQdknn3tA7bmsN', 'uri': 'spotify:track:6P5qgQNPHQdknn3tA7bmsN', 'track_href': 'https://api.spotify.com/v1/tracks/6P5qgQNPHQdknn3tA7bmsN', 'analysis_url': 'https://api.spotify.com/v1/audio-analysis/6P5qgQNPHQdknn3tA7bmsN', 'duration_ms': 326773, 'time_signature': 4}, {'danceability': 0.579, 'energy': 0.437, 'key': 1, 'loudness': -12.721, 'mode': 1, 'speechiness': 0.0526, 'acousticness': 0.0427, 'instrumentalness': 0.0483, 'liveness': 0.0603, 'valence': 0.732, 'tempo': 91.866, 'type': 'audio_features', 'id': '7gNrC7OWXD4sp3JZiGEjUc', 'uri': 'spotify:track:7gNrC7OWXD4sp3JZiGEjUc', 'track_href': 'https://api.spotify.com/v1/tracks/7gNrC7OWXD4sp3JZiGEjUc', 'analysis_url': 'https://api.spotify.com/v1/audio-analysis/7gNrC7OWXD4sp3JZiGEjUc', 'duration_ms': 457880, 'time_signature': 4}, None, {'danceability': 0.429, 'energy': 0.661, 'key': 11, 'loudness': -7.227, 'mode': 1, 'speechiness': 0.0281, 'acousticness': 0.00239, 'instrumentalness': 0.000121, 'liveness': 0.234, 'valence': 0.285, 'tempo': 173.372, 'type': 'audio_features', 'id': '3AJwUDP919kvQ9QcozQPxg', 'uri': 'spotify:track:3AJwUDP919kvQ9QcozQPxg', 'track_href': 'https://api.spotify.com/v1/tracks/3AJwUDP919kvQ9QcozQPxg', 'analysis_url': 'https://api.spotify.com/v1/audio-analysis/3AJwUDP919kvQ9QcozQPxg', 'duration_ms': 266773, 'time_signature': 4}, {'danceability': 0.592, 'energy': 0.342, 'key': 0, 'loudness': -8.93, 'mode': 1, 'speechiness': 0.0339, 'acousticness': 0.193, 'instrumentalness': 0.00245, 'liveness': 0.11, 'valence': 0.155, 'tempo': 130.953, 'type': 'audio_features', 'id': '4cGqn0E8JCSY9gQllQj4Mf', 'uri': 'spotify:track:4cGqn0E8JCSY9gQllQj4Mf', 'track_href': 'https://api.spotify.com/v1/tracks/4cGqn0E8JCSY9gQllQj4Mf', 'analysis_url': 'https://api.spotify.com/v1/audio-analysis/4cGqn0E8JCSY9gQllQj4Mf', 'duration_ms': 241595, 'time_signature': 4}, {'danceability': 0.557, 'energy': 0.442, 'key': 5, 'loudness': -7.224, 'mode': 1, 'speechiness': 0.0243, 'acousticness': 0.731, 'instrumentalness': 1.46e-05, 'liveness': 0.11, 'valence': 0.213, 'tempo': 146.277, 'type': 'audio_features', 'id': '75JFxkI2RXiU7L9VXzMkle', 'uri': 'spotify:track:75JFxkI2RXiU7L9VXzMkle', 'track_href': 'https://api.spotify.com/v1/tracks/75JFxkI2RXiU7L9VXzMkle', 'analysis_url': 'https://api.spotify.com/v1/audio-analysis/75JFxkI2RXiU7L9VXzMkle', 'duration_ms': 309600, 'time_signature': 4}, {'danceability': 0.617, 'energy': 0.635, 'key': 11, 'loudness': -6.769, 'mode': 0, 'speechiness': 0.0317, 'acousticness': 0.0498, 'instrumentalness': 1.44e-05, 'liveness': 0.164, 'valence': 0.446, 'tempo': 103.019, 'type': 'audio_features', 'id': '6RUKPb4LETWmmr3iAEQktW', 'uri': 'spotify:track:6RUKPb4LETWmmr3iAEQktW', 'track_href': 'https://api.spotify.com/v1/tracks/6RUKPb4LETWmmr3iAEQktW', 'analysis_url': 'https://api.spotify.com/v1/audio-analysis/6RUKPb4LETWmmr3iAEQktW', 'duration_ms': 247160, 'time_signature': 4}, {'danceability': 0.209, 'energy': 0.417, 'key': 3, 'loudness': -8.74, 'mode': 1, 'speechiness': 0.0338, 'acousticness': 0.164, 'instrumentalness': 0.00196, 'liveness': 0.113, 'valence': 0.124, 'tempo': 138.178, 'type': 'audio_features', 'id': '7LVHVU3tWfcxj5aiPFEW4Q', 'uri': 'spotify:track:7LVHVU3tWfcxj5aiPFEW4Q', 'track_href': 'https://api.spotify.com/v1/tracks/7LVHVU3tWfcxj5aiPFEW4Q', 'analysis_url': 'https://api.spotify.com/v1/audio-analysis/7LVHVU3tWfcxj5aiPFEW4Q', 'duration_ms': 295533, 'time_signature': 4}, {'danceability': 0.491, 'energy': 0.693, 'key': 0, 'loudness': -6.487, 'mode': 0, 'speechiness': 0.0377, 'acousticness': 0.211, 'instrumentalness': 6.92e-06, 'liveness': 0.325, 'valence': 0.412, 'tempo': 90.027, 'type': 'audio_features', 'id': '3RiPr603aXAoi4GHyXx0uy', 'uri': 'spotify:track:3RiPr603aXAoi4GHyXx0uy', 'track_href': 'https://api.spotify.com/v1/tracks/3RiPr603aXAoi4GHyXx0uy', 'analysis_url': 'https://api.spotify.com/v1/audio-analysis/3RiPr603aXAoi4GHyXx0uy', 'duration_ms': 258267, 'time_signature': 4}, {'danceability': 0.449, 'energy': 0.585, 'key': 5, 'loudness': -6.761, 'mode': 1, 'speechiness': 0.0268, 'acousticness': 0.0509, 'instrumentalness': 8.75e-05, 'liveness': 0.0833, 'valence': 0.212, 'tempo': 139.631, 'type': 'audio_features', 'id': '6nek1Nin9q48AVZcWs9e9D', 'uri': 'spotify:track:6nek1Nin9q48AVZcWs9e9D', 'track_href': 'https://api.spotify.com/v1/tracks/6nek1Nin9q48AVZcWs9e9D', 'analysis_url': 'https://api.spotify.com/v1/audio-analysis/6nek1Nin9q48AVZcWs9e9D', 'duration_ms': 278719, 'time_signature': 4}, {'danceability': 0.486, 'energy': 0.617, 'key': 5, 'loudness': -7.115, 'mode': 0, 'speechiness': 0.0287, 'acousticness': 0.0954, 'instrumentalness': 3.23e-06, 'liveness': 0.109, 'valence': 0.417, 'tempo': 138.015, 'type': 'audio_features', 'id': '1mea3bSkSGXuIRvnydlB5b', 'uri': 'spotify:track:1mea3bSkSGXuIRvnydlB5b', 'track_href': 'https://api.spotify.com/v1/tracks/1mea3bSkSGXuIRvnydlB5b', 'analysis_url': 'https://api.spotify.com/v1/audio-analysis/1mea3bSkSGXuIRvnydlB5b', 'duration_ms': 242373, 'time_signature': 4}, {'danceability': 0.507, 'energy': 0.832, 'key': 10, 'loudness': -5.931, 'mode': 1, 'speechiness': 0.0425, 'acousticness': 0.00643, 'instrumentalness': 1.6e-05, 'liveness': 0.229, 'valence': 0.485, 'tempo': 177.894, 'type': 'audio_features', 'id': '65OR4ywy8Cgs3FDHK82Idl', 'uri': 'spotify:track:65OR4ywy8Cgs3FDHK82Idl', 'track_href': 'https://api.spotify.com/v1/tracks/65OR4ywy8Cgs3FDHK82Idl', 'analysis_url': 'https://api.spotify.com/v1/audio-analysis/65OR4ywy8Cgs3FDHK82Idl', 'duration_ms': 206682, 'time_signature': 4}]}\n",
            "{'audio_features': [{'danceability': 0.648, 'energy': 0.792, 'key': 0, 'loudness': -6.058, 'mode': 1, 'speechiness': 0.035, 'acousticness': 0.0657, 'instrumentalness': 5.31e-06, 'liveness': 0.0788, 'valence': 0.935, 'tempo': 159.968, 'type': 'audio_features', 'id': '6Vk5QUhQ0v5OjYQIYvL5VL', 'uri': 'spotify:track:6Vk5QUhQ0v5OjYQIYvL5VL', 'track_href': 'https://api.spotify.com/v1/tracks/6Vk5QUhQ0v5OjYQIYvL5VL', 'analysis_url': 'https://api.spotify.com/v1/audio-analysis/6Vk5QUhQ0v5OjYQIYvL5VL', 'duration_ms': 260867, 'time_signature': 4}, {'danceability': 0.573, 'energy': 0.658, 'key': 1, 'loudness': -5.557, 'mode': 0, 'speechiness': 0.0396, 'acousticness': 0.0195, 'instrumentalness': 0, 'liveness': 0.209, 'valence': 0.481, 'tempo': 105.052, 'type': 'audio_features', 'id': '0uCKawvDKjr0AegelrzSuX', 'uri': 'spotify:track:0uCKawvDKjr0AegelrzSuX', 'track_href': 'https://api.spotify.com/v1/tracks/0uCKawvDKjr0AegelrzSuX', 'analysis_url': 'https://api.spotify.com/v1/audio-analysis/0uCKawvDKjr0AegelrzSuX', 'duration_ms': 236613, 'time_signature': 4}, {'danceability': 0.616, 'energy': 0.766, 'key': 4, 'loudness': -6.59, 'mode': 0, 'speechiness': 0.0382, 'acousticness': 0.0776, 'instrumentalness': 0, 'liveness': 0.361, 'valence': 0.373, 'tempo': 83.965, 'type': 'audio_features', 'id': '1kEoU9Dmivr2JoOf7ramyT', 'uri': 'spotify:track:1kEoU9Dmivr2JoOf7ramyT', 'track_href': 'https://api.spotify.com/v1/tracks/1kEoU9Dmivr2JoOf7ramyT', 'analysis_url': 'https://api.spotify.com/v1/audio-analysis/1kEoU9Dmivr2JoOf7ramyT', 'duration_ms': 259840, 'time_signature': 4}, {'danceability': 0.671, 'energy': 0.885, 'key': 7, 'loudness': -5.39, 'mode': 0, 'speechiness': 0.0305, 'acousticness': 0.0191, 'instrumentalness': 3.83e-06, 'liveness': 0.223, 'valence': 0.55, 'tempo': 119.959, 'type': 'audio_features', 'id': '2eqbY9whZVv4cnwvzbDAfD', 'uri': 'spotify:track:2eqbY9whZVv4cnwvzbDAfD', 'track_href': 'https://api.spotify.com/v1/tracks/2eqbY9whZVv4cnwvzbDAfD', 'analysis_url': 'https://api.spotify.com/v1/audio-analysis/2eqbY9whZVv4cnwvzbDAfD', 'duration_ms': 252293, 'time_signature': 4}, {'danceability': 0.616, 'energy': 0.789, 'key': 9, 'loudness': -6.316, 'mode': 0, 'speechiness': 0.0417, 'acousticness': 0.0755, 'instrumentalness': 2.08e-05, 'liveness': 0.914, 'valence': 0.272, 'tempo': 90.968, 'type': 'audio_features', 'id': '4OYMdVXY6xE9GTvUT5UdCh', 'uri': 'spotify:track:4OYMdVXY6xE9GTvUT5UdCh', 'track_href': 'https://api.spotify.com/v1/tracks/4OYMdVXY6xE9GTvUT5UdCh', 'analysis_url': 'https://api.spotify.com/v1/audio-analysis/4OYMdVXY6xE9GTvUT5UdCh', 'duration_ms': 249013, 'time_signature': 4}, {'danceability': 0.528, 'energy': 0.308, 'key': 9, 'loudness': -9.769, 'mode': 1, 'speechiness': 0.0341, 'acousticness': 0.816, 'instrumentalness': 0, 'liveness': 0.0934, 'valence': 0.256, 'tempo': 80.017, 'type': 'audio_features', 'id': '3iOFY423D3690MfhE74F8A', 'uri': 'spotify:track:3iOFY423D3690MfhE74F8A', 'track_href': 'https://api.spotify.com/v1/tracks/3iOFY423D3690MfhE74F8A', 'analysis_url': 'https://api.spotify.com/v1/audio-analysis/3iOFY423D3690MfhE74F8A', 'duration_ms': 236040, 'time_signature': 4}, {'danceability': 0.721, 'energy': 0.622, 'key': 0, 'loudness': -6.627, 'mode': 1, 'speechiness': 0.0256, 'acousticness': 0.765, 'instrumentalness': 0.000249, 'liveness': 0.117, 'valence': 0.334, 'tempo': 102.907, 'type': 'audio_features', 'id': '1XekWoZnWxXD7yZODzIDmo', 'uri': 'spotify:track:1XekWoZnWxXD7yZODzIDmo', 'track_href': 'https://api.spotify.com/v1/tracks/1XekWoZnWxXD7yZODzIDmo', 'analysis_url': 'https://api.spotify.com/v1/audio-analysis/1XekWoZnWxXD7yZODzIDmo', 'duration_ms': 189133, 'time_signature': 4}, {'danceability': 0.625, 'energy': 0.827, 'key': 4, 'loudness': -6.763, 'mode': 0, 'speechiness': 0.0602, 'acousticness': 0.0802, 'instrumentalness': 0, 'liveness': 0.164, 'valence': 0.613, 'tempo': 165.912, 'type': 'audio_features', 'id': '0fvKgQ0XzWJKEDJSPdNDid', 'uri': 'spotify:track:0fvKgQ0XzWJKEDJSPdNDid', 'track_href': 'https://api.spotify.com/v1/tracks/0fvKgQ0XzWJKEDJSPdNDid', 'analysis_url': 'https://api.spotify.com/v1/audio-analysis/0fvKgQ0XzWJKEDJSPdNDid', 'duration_ms': 278920, 'time_signature': 4}, {'danceability': 0.734, 'energy': 0.752, 'key': 9, 'loudness': -6.049, 'mode': 0, 'speechiness': 0.0386, 'acousticness': 0.00859, 'instrumentalness': 1.84e-05, 'liveness': 0.0852, 'valence': 0.541, 'tempo': 117.998, 'type': 'audio_features', 'id': '37l4Qgcn1CuGlXx0jKhLpi', 'uri': 'spotify:track:37l4Qgcn1CuGlXx0jKhLpi', 'track_href': 'https://api.spotify.com/v1/tracks/37l4Qgcn1CuGlXx0jKhLpi', 'analysis_url': 'https://api.spotify.com/v1/audio-analysis/37l4Qgcn1CuGlXx0jKhLpi', 'duration_ms': 211507, 'time_signature': 4}, None, {'danceability': 0.465, 'energy': 0.841, 'key': 11, 'loudness': -5.767, 'mode': 0, 'speechiness': 0.0633, 'acousticness': 0.00486, 'instrumentalness': 0, 'liveness': 0.109, 'valence': 0.689, 'tempo': 168.743, 'type': 'audio_features', 'id': '4dneV7C1yDt9UtyxrQY375', 'uri': 'spotify:track:4dneV7C1yDt9UtyxrQY375', 'track_href': 'https://api.spotify.com/v1/tracks/4dneV7C1yDt9UtyxrQY375', 'analysis_url': 'https://api.spotify.com/v1/audio-analysis/4dneV7C1yDt9UtyxrQY375', 'duration_ms': 157533, 'time_signature': 4}, {'danceability': 0.43, 'energy': 0.971, 'key': 9, 'loudness': -3.845, 'mode': 1, 'speechiness': 0.0524, 'acousticness': 0.0271, 'instrumentalness': 2.16e-05, 'liveness': 0.185, 'valence': 0.764, 'tempo': 151.219, 'type': 'audio_features', 'id': '76GlO5H5RT6g7y0gev86Nk', 'uri': 'spotify:track:76GlO5H5RT6g7y0gev86Nk', 'track_href': 'https://api.spotify.com/v1/tracks/76GlO5H5RT6g7y0gev86Nk', 'analysis_url': 'https://api.spotify.com/v1/audio-analysis/76GlO5H5RT6g7y0gev86Nk', 'duration_ms': 212000, 'time_signature': 4}, {'danceability': 0.725, 'energy': 0.524, 'key': 11, 'loudness': -11.121, 'mode': 1, 'speechiness': 0.116, 'acousticness': 0.0748, 'instrumentalness': 0.764, 'liveness': 0.0819, 'valence': 0.961, 'tempo': 185.134, 'type': 'audio_features', 'id': '7ABE6G4uQxbNtYgVrpBBPA', 'uri': 'spotify:track:7ABE6G4uQxbNtYgVrpBBPA', 'track_href': 'https://api.spotify.com/v1/tracks/7ABE6G4uQxbNtYgVrpBBPA', 'analysis_url': 'https://api.spotify.com/v1/audio-analysis/7ABE6G4uQxbNtYgVrpBBPA', 'duration_ms': 203267, 'time_signature': 4}, {'danceability': 0.611, 'energy': 0.813, 'key': 9, 'loudness': -7.689, 'mode': 0, 'speechiness': 0.0279, 'acousticness': 0.339, 'instrumentalness': 0.898, 'liveness': 0.224, 'valence': 0.821, 'tempo': 140.112, 'type': 'audio_features', 'id': '0X5C4WjQNubRysTkHOubz3', 'uri': 'spotify:track:0X5C4WjQNubRysTkHOubz3', 'track_href': 'https://api.spotify.com/v1/tracks/0X5C4WjQNubRysTkHOubz3', 'analysis_url': 'https://api.spotify.com/v1/audio-analysis/0X5C4WjQNubRysTkHOubz3', 'duration_ms': 209573, 'time_signature': 4}, {'danceability': 0.541, 'energy': 0.83, 'key': 9, 'loudness': -6.246, 'mode': 1, 'speechiness': 0.0316, 'acousticness': 0.109, 'instrumentalness': 0.701, 'liveness': 0.167, 'valence': 0.711, 'tempo': 142.592, 'type': 'audio_features', 'id': '07CyrZF9eVd02zzIse7tZA', 'uri': 'spotify:track:07CyrZF9eVd02zzIse7tZA', 'track_href': 'https://api.spotify.com/v1/tracks/07CyrZF9eVd02zzIse7tZA', 'analysis_url': 'https://api.spotify.com/v1/audio-analysis/07CyrZF9eVd02zzIse7tZA', 'duration_ms': 177987, 'time_signature': 4}, {'danceability': 0.633, 'energy': 0.62, 'key': 0, 'loudness': -11.271, 'mode': 1, 'speechiness': 0.0648, 'acousticness': 0.34, 'instrumentalness': 0.605, 'liveness': 0.0977, 'valence': 0.421, 'tempo': 81.117, 'type': 'audio_features', 'id': '3O4TPMOgChXOerSdB5WENH', 'uri': 'spotify:track:3O4TPMOgChXOerSdB5WENH', 'track_href': 'https://api.spotify.com/v1/tracks/3O4TPMOgChXOerSdB5WENH', 'analysis_url': 'https://api.spotify.com/v1/audio-analysis/3O4TPMOgChXOerSdB5WENH', 'duration_ms': 354933, 'time_signature': 4}, {'danceability': 0.718, 'energy': 0.557, 'key': 9, 'loudness': -10.679, 'mode': 1, 'speechiness': 0.0328, 'acousticness': 0.185, 'instrumentalness': 0.707, 'liveness': 0.055, 'valence': 0.586, 'tempo': 94.095, 'type': 'audio_features', 'id': '4d4oXk7O2lEhZ83ivV93li', 'uri': 'spotify:track:4d4oXk7O2lEhZ83ivV93li', 'track_href': 'https://api.spotify.com/v1/tracks/4d4oXk7O2lEhZ83ivV93li', 'analysis_url': 'https://api.spotify.com/v1/audio-analysis/4d4oXk7O2lEhZ83ivV93li', 'duration_ms': 249880, 'time_signature': 4}, {'danceability': 0.484, 'energy': 0.776, 'key': 9, 'loudness': -6.48, 'mode': 1, 'speechiness': 0.0312, 'acousticness': 0.00371, 'instrumentalness': 0.109, 'liveness': 0.131, 'valence': 0.495, 'tempo': 171.935, 'type': 'audio_features', 'id': '1tuwC1Ob5vnYZhvg3zyzJg', 'uri': 'spotify:track:1tuwC1Ob5vnYZhvg3zyzJg', 'track_href': 'https://api.spotify.com/v1/tracks/1tuwC1Ob5vnYZhvg3zyzJg', 'analysis_url': 'https://api.spotify.com/v1/audio-analysis/1tuwC1Ob5vnYZhvg3zyzJg', 'duration_ms': 448467, 'time_signature': 4}, None, {'danceability': 0.645, 'energy': 0.713, 'key': 6, 'loudness': -5.355, 'mode': 1, 'speechiness': 0.0393, 'acousticness': 0.00835, 'instrumentalness': 0, 'liveness': 0.113, 'valence': 0.566, 'tempo': 74.989, 'type': 'audio_features', 'id': '2Z8WuEywRWYTKe1NybPQEW', 'uri': 'spotify:track:2Z8WuEywRWYTKe1NybPQEW', 'track_href': 'https://api.spotify.com/v1/tracks/2Z8WuEywRWYTKe1NybPQEW', 'analysis_url': 'https://api.spotify.com/v1/audio-analysis/2Z8WuEywRWYTKe1NybPQEW', 'duration_ms': 214507, 'time_signature': 4}, {'danceability': 0.732, 'energy': 0.396, 'key': 4, 'loudness': -9.348, 'mode': 0, 'speechiness': 0.0286, 'acousticness': 0.0841, 'instrumentalness': 3.58e-05, 'liveness': 0.105, 'valence': 0.548, 'tempo': 90.024, 'type': 'audio_features', 'id': '6i0V12jOa3mr6uu4WYhUBr', 'uri': 'spotify:track:6i0V12jOa3mr6uu4WYhUBr', 'track_href': 'https://api.spotify.com/v1/tracks/6i0V12jOa3mr6uu4WYhUBr', 'analysis_url': 'https://api.spotify.com/v1/audio-analysis/6i0V12jOa3mr6uu4WYhUBr', 'duration_ms': 195920, 'time_signature': 4}, {'danceability': 0.609, 'energy': 0.674, 'key': 10, 'loudness': -7.388, 'mode': 0, 'speechiness': 0.0548, 'acousticness': 0.0735, 'instrumentalness': 0.06, 'liveness': 0.345, 'valence': 0.315, 'tempo': 90.009, 'type': 'audio_features', 'id': '23OXdR7YuUBVWh5hSnYJau', 'uri': 'spotify:track:23OXdR7YuUBVWh5hSnYJau', 'track_href': 'https://api.spotify.com/v1/tracks/23OXdR7YuUBVWh5hSnYJau', 'analysis_url': 'https://api.spotify.com/v1/audio-analysis/23OXdR7YuUBVWh5hSnYJau', 'duration_ms': 324467, 'time_signature': 4}, {'danceability': 0.588, 'energy': 0.856, 'key': 9, 'loudness': -5.242, 'mode': 0, 'speechiness': 0.0316, 'acousticness': 0.000818, 'instrumentalness': 0.0739, 'liveness': 0.238, 'valence': 0.635, 'tempo': 96.966, 'type': 'audio_features', 'id': '2nG54Y4a3sH9YpfxMolOyi', 'uri': 'spotify:track:2nG54Y4a3sH9YpfxMolOyi', 'track_href': 'https://api.spotify.com/v1/tracks/2nG54Y4a3sH9YpfxMolOyi', 'analysis_url': 'https://api.spotify.com/v1/audio-analysis/2nG54Y4a3sH9YpfxMolOyi', 'duration_ms': 175044, 'time_signature': 4}, {'danceability': 0.687, 'energy': 0.89, 'key': 8, 'loudness': -5.99, 'mode': 1, 'speechiness': 0.0344, 'acousticness': 0.00396, 'instrumentalness': 0.000939, 'liveness': 0.0436, 'valence': 0.854, 'tempo': 113.06, 'type': 'audio_features', 'id': '60dwJ8dnqZ4WrIdiu7LkNR', 'uri': 'spotify:track:60dwJ8dnqZ4WrIdiu7LkNR', 'track_href': 'https://api.spotify.com/v1/tracks/60dwJ8dnqZ4WrIdiu7LkNR', 'analysis_url': 'https://api.spotify.com/v1/audio-analysis/60dwJ8dnqZ4WrIdiu7LkNR', 'duration_ms': 172232, 'time_signature': 4}, {'danceability': 0.655, 'energy': 0.632, 'key': 2, 'loudness': -4.802, 'mode': 1, 'speechiness': 0.0489, 'acousticness': 0.0189, 'instrumentalness': 0, 'liveness': 0.0722, 'valence': 0.447, 'tempo': 120.113, 'type': 'audio_features', 'id': '3bnVBN67NBEzedqQuWrpP4', 'uri': 'spotify:track:3bnVBN67NBEzedqQuWrpP4', 'track_href': 'https://api.spotify.com/v1/tracks/3bnVBN67NBEzedqQuWrpP4', 'analysis_url': 'https://api.spotify.com/v1/audio-analysis/3bnVBN67NBEzedqQuWrpP4', 'duration_ms': 188493, 'time_signature': 4}, {'danceability': 0.754, 'energy': 0.583, 'key': 4, 'loudness': -7.34, 'mode': 0, 'speechiness': 0.0432, 'acousticness': 0.32, 'instrumentalness': 0.00015, 'liveness': 0.144, 'valence': 0.77, 'tempo': 122.012, 'type': 'audio_features', 'id': '6xZ4Q2k2ompmDppyeESIY8', 'uri': 'spotify:track:6xZ4Q2k2ompmDppyeESIY8', 'track_href': 'https://api.spotify.com/v1/tracks/6xZ4Q2k2ompmDppyeESIY8', 'analysis_url': 'https://api.spotify.com/v1/audio-analysis/6xZ4Q2k2ompmDppyeESIY8', 'duration_ms': 220051, 'time_signature': 4}, {'danceability': 0.766, 'energy': 0.519, 'key': 9, 'loudness': -7.355, 'mode': 0, 'speechiness': 0.0366, 'acousticness': 0.098, 'instrumentalness': 0, 'liveness': 0.0855, 'valence': 0.612, 'tempo': 129.972, 'type': 'audio_features', 'id': '5cbpoIu3YjoOwbBDGUEp3P', 'uri': 'spotify:track:5cbpoIu3YjoOwbBDGUEp3P', 'track_href': 'https://api.spotify.com/v1/tracks/5cbpoIu3YjoOwbBDGUEp3P', 'analysis_url': 'https://api.spotify.com/v1/audio-analysis/5cbpoIu3YjoOwbBDGUEp3P', 'duration_ms': 267720, 'time_signature': 4}, None, {'danceability': 0.743, 'energy': 0.429, 'key': 10, 'loudness': -14.576, 'mode': 0, 'speechiness': 0.0902, 'acousticness': 0.447, 'instrumentalness': 0.362, 'liveness': 0.0455, 'valence': 0.597, 'tempo': 95.406, 'type': 'audio_features', 'id': '5fdNHVZHbWB1AaXk4RBGVD', 'uri': 'spotify:track:5fdNHVZHbWB1AaXk4RBGVD', 'track_href': 'https://api.spotify.com/v1/tracks/5fdNHVZHbWB1AaXk4RBGVD', 'analysis_url': 'https://api.spotify.com/v1/audio-analysis/5fdNHVZHbWB1AaXk4RBGVD', 'duration_ms': 443773, 'time_signature': 4}, {'danceability': 0.734, 'energy': 0.64, 'key': 5, 'loudness': -8.471, 'mode': 0, 'speechiness': 0.0661, 'acousticness': 0.00606, 'instrumentalness': 0.37, 'liveness': 0.0602, 'valence': 0.868, 'tempo': 103.812, 'type': 'audio_features', 'id': '2fmXnPfzguSp3zKDibCBgv', 'uri': 'spotify:track:2fmXnPfzguSp3zKDibCBgv', 'track_href': 'https://api.spotify.com/v1/tracks/2fmXnPfzguSp3zKDibCBgv', 'analysis_url': 'https://api.spotify.com/v1/audio-analysis/2fmXnPfzguSp3zKDibCBgv', 'duration_ms': 541827, 'time_signature': 4}, {'danceability': 0.766, 'energy': 0.381, 'key': 10, 'loudness': -14.456, 'mode': 0, 'speechiness': 0.0805, 'acousticness': 0.18, 'instrumentalness': 0.0844, 'liveness': 0.48, 'valence': 0.634, 'tempo': 98.862, 'type': 'audio_features', 'id': '0nN2D5xwVtLrgUw0TIQ5CI', 'uri': 'spotify:track:0nN2D5xwVtLrgUw0TIQ5CI', 'track_href': 'https://api.spotify.com/v1/tracks/0nN2D5xwVtLrgUw0TIQ5CI', 'analysis_url': 'https://api.spotify.com/v1/audio-analysis/0nN2D5xwVtLrgUw0TIQ5CI', 'duration_ms': 452573, 'time_signature': 4}, {'danceability': 0.424, 'energy': 0.432, 'key': 8, 'loudness': -13.014, 'mode': 1, 'speechiness': 0.0422, 'acousticness': 0.593, 'instrumentalness': 0.344, 'liveness': 0.0764, 'valence': 0.832, 'tempo': 174.03, 'type': 'audio_features', 'id': '4TYEIckMi7PTCh1kiknKSy', 'uri': 'spotify:track:4TYEIckMi7PTCh1kiknKSy', 'track_href': 'https://api.spotify.com/v1/tracks/4TYEIckMi7PTCh1kiknKSy', 'analysis_url': 'https://api.spotify.com/v1/audio-analysis/4TYEIckMi7PTCh1kiknKSy', 'duration_ms': 479467, 'time_signature': 4}, {'danceability': 0.743, 'energy': 0.352, 'key': 9, 'loudness': -17.225, 'mode': 0, 'speechiness': 0.061, 'acousticness': 0.146, 'instrumentalness': 0.104, 'liveness': 0.0585, 'valence': 0.722, 'tempo': 108.785, 'type': 'audio_features', 'id': '6jY7UcNWda03nyJ5XiqlYt', 'uri': 'spotify:track:6jY7UcNWda03nyJ5XiqlYt', 'track_href': 'https://api.spotify.com/v1/tracks/6jY7UcNWda03nyJ5XiqlYt', 'analysis_url': 'https://api.spotify.com/v1/audio-analysis/6jY7UcNWda03nyJ5XiqlYt', 'duration_ms': 350600, 'time_signature': 4}, {'danceability': 0.785, 'energy': 0.302, 'key': 0, 'loudness': -14.555, 'mode': 0, 'speechiness': 0.0551, 'acousticness': 0.735, 'instrumentalness': 0.12, 'liveness': 0.123, 'valence': 0.467, 'tempo': 122.979, 'type': 'audio_features', 'id': '21qeCg7VQMQ6nVBCVFeoKD', 'uri': 'spotify:track:21qeCg7VQMQ6nVBCVFeoKD', 'track_href': 'https://api.spotify.com/v1/tracks/21qeCg7VQMQ6nVBCVFeoKD', 'analysis_url': 'https://api.spotify.com/v1/audio-analysis/21qeCg7VQMQ6nVBCVFeoKD', 'duration_ms': 392027, 'time_signature': 4}, {'danceability': 0.719, 'energy': 0.222, 'key': 10, 'loudness': -18.644, 'mode': 1, 'speechiness': 0.052, 'acousticness': 0.623, 'instrumentalness': 0.91, 'liveness': 0.0991, 'valence': 0.499, 'tempo': 92.409, 'type': 'audio_features', 'id': '6P5qgQNPHQdknn3tA7bmsN', 'uri': 'spotify:track:6P5qgQNPHQdknn3tA7bmsN', 'track_href': 'https://api.spotify.com/v1/tracks/6P5qgQNPHQdknn3tA7bmsN', 'analysis_url': 'https://api.spotify.com/v1/audio-analysis/6P5qgQNPHQdknn3tA7bmsN', 'duration_ms': 326773, 'time_signature': 4}, {'danceability': 0.579, 'energy': 0.437, 'key': 1, 'loudness': -12.721, 'mode': 1, 'speechiness': 0.0526, 'acousticness': 0.0427, 'instrumentalness': 0.0483, 'liveness': 0.0603, 'valence': 0.732, 'tempo': 91.866, 'type': 'audio_features', 'id': '7gNrC7OWXD4sp3JZiGEjUc', 'uri': 'spotify:track:7gNrC7OWXD4sp3JZiGEjUc', 'track_href': 'https://api.spotify.com/v1/tracks/7gNrC7OWXD4sp3JZiGEjUc', 'analysis_url': 'https://api.spotify.com/v1/audio-analysis/7gNrC7OWXD4sp3JZiGEjUc', 'duration_ms': 457880, 'time_signature': 4}, None, {'danceability': 0.429, 'energy': 0.661, 'key': 11, 'loudness': -7.227, 'mode': 1, 'speechiness': 0.0281, 'acousticness': 0.00239, 'instrumentalness': 0.000121, 'liveness': 0.234, 'valence': 0.285, 'tempo': 173.372, 'type': 'audio_features', 'id': '3AJwUDP919kvQ9QcozQPxg', 'uri': 'spotify:track:3AJwUDP919kvQ9QcozQPxg', 'track_href': 'https://api.spotify.com/v1/tracks/3AJwUDP919kvQ9QcozQPxg', 'analysis_url': 'https://api.spotify.com/v1/audio-analysis/3AJwUDP919kvQ9QcozQPxg', 'duration_ms': 266773, 'time_signature': 4}, {'danceability': 0.592, 'energy': 0.342, 'key': 0, 'loudness': -8.93, 'mode': 1, 'speechiness': 0.0339, 'acousticness': 0.193, 'instrumentalness': 0.00245, 'liveness': 0.11, 'valence': 0.155, 'tempo': 130.953, 'type': 'audio_features', 'id': '4cGqn0E8JCSY9gQllQj4Mf', 'uri': 'spotify:track:4cGqn0E8JCSY9gQllQj4Mf', 'track_href': 'https://api.spotify.com/v1/tracks/4cGqn0E8JCSY9gQllQj4Mf', 'analysis_url': 'https://api.spotify.com/v1/audio-analysis/4cGqn0E8JCSY9gQllQj4Mf', 'duration_ms': 241595, 'time_signature': 4}, {'danceability': 0.557, 'energy': 0.442, 'key': 5, 'loudness': -7.224, 'mode': 1, 'speechiness': 0.0243, 'acousticness': 0.731, 'instrumentalness': 1.46e-05, 'liveness': 0.11, 'valence': 0.213, 'tempo': 146.277, 'type': 'audio_features', 'id': '75JFxkI2RXiU7L9VXzMkle', 'uri': 'spotify:track:75JFxkI2RXiU7L9VXzMkle', 'track_href': 'https://api.spotify.com/v1/tracks/75JFxkI2RXiU7L9VXzMkle', 'analysis_url': 'https://api.spotify.com/v1/audio-analysis/75JFxkI2RXiU7L9VXzMkle', 'duration_ms': 309600, 'time_signature': 4}, {'danceability': 0.617, 'energy': 0.635, 'key': 11, 'loudness': -6.769, 'mode': 0, 'speechiness': 0.0317, 'acousticness': 0.0498, 'instrumentalness': 1.44e-05, 'liveness': 0.164, 'valence': 0.446, 'tempo': 103.019, 'type': 'audio_features', 'id': '6RUKPb4LETWmmr3iAEQktW', 'uri': 'spotify:track:6RUKPb4LETWmmr3iAEQktW', 'track_href': 'https://api.spotify.com/v1/tracks/6RUKPb4LETWmmr3iAEQktW', 'analysis_url': 'https://api.spotify.com/v1/audio-analysis/6RUKPb4LETWmmr3iAEQktW', 'duration_ms': 247160, 'time_signature': 4}, {'danceability': 0.209, 'energy': 0.417, 'key': 3, 'loudness': -8.74, 'mode': 1, 'speechiness': 0.0338, 'acousticness': 0.164, 'instrumentalness': 0.00196, 'liveness': 0.113, 'valence': 0.124, 'tempo': 138.178, 'type': 'audio_features', 'id': '7LVHVU3tWfcxj5aiPFEW4Q', 'uri': 'spotify:track:7LVHVU3tWfcxj5aiPFEW4Q', 'track_href': 'https://api.spotify.com/v1/tracks/7LVHVU3tWfcxj5aiPFEW4Q', 'analysis_url': 'https://api.spotify.com/v1/audio-analysis/7LVHVU3tWfcxj5aiPFEW4Q', 'duration_ms': 295533, 'time_signature': 4}, {'danceability': 0.491, 'energy': 0.693, 'key': 0, 'loudness': -6.487, 'mode': 0, 'speechiness': 0.0377, 'acousticness': 0.211, 'instrumentalness': 6.92e-06, 'liveness': 0.325, 'valence': 0.412, 'tempo': 90.027, 'type': 'audio_features', 'id': '3RiPr603aXAoi4GHyXx0uy', 'uri': 'spotify:track:3RiPr603aXAoi4GHyXx0uy', 'track_href': 'https://api.spotify.com/v1/tracks/3RiPr603aXAoi4GHyXx0uy', 'analysis_url': 'https://api.spotify.com/v1/audio-analysis/3RiPr603aXAoi4GHyXx0uy', 'duration_ms': 258267, 'time_signature': 4}, {'danceability': 0.449, 'energy': 0.585, 'key': 5, 'loudness': -6.761, 'mode': 1, 'speechiness': 0.0268, 'acousticness': 0.0509, 'instrumentalness': 8.75e-05, 'liveness': 0.0833, 'valence': 0.212, 'tempo': 139.631, 'type': 'audio_features', 'id': '6nek1Nin9q48AVZcWs9e9D', 'uri': 'spotify:track:6nek1Nin9q48AVZcWs9e9D', 'track_href': 'https://api.spotify.com/v1/tracks/6nek1Nin9q48AVZcWs9e9D', 'analysis_url': 'https://api.spotify.com/v1/audio-analysis/6nek1Nin9q48AVZcWs9e9D', 'duration_ms': 278719, 'time_signature': 4}, {'danceability': 0.486, 'energy': 0.617, 'key': 5, 'loudness': -7.115, 'mode': 0, 'speechiness': 0.0287, 'acousticness': 0.0954, 'instrumentalness': 3.23e-06, 'liveness': 0.109, 'valence': 0.417, 'tempo': 138.015, 'type': 'audio_features', 'id': '1mea3bSkSGXuIRvnydlB5b', 'uri': 'spotify:track:1mea3bSkSGXuIRvnydlB5b', 'track_href': 'https://api.spotify.com/v1/tracks/1mea3bSkSGXuIRvnydlB5b', 'analysis_url': 'https://api.spotify.com/v1/audio-analysis/1mea3bSkSGXuIRvnydlB5b', 'duration_ms': 242373, 'time_signature': 4}, None, {'danceability': 0.68, 'energy': 0.527, 'key': 0, 'loudness': -6.748, 'mode': 1, 'speechiness': 0.11, 'acousticness': 0.232, 'instrumentalness': 0.000402, 'liveness': 0.115, 'valence': 0.192, 'tempo': 88.958, 'type': 'audio_features', 'id': '3CQDFLetMMxD5hzAnUk410', 'uri': 'spotify:track:3CQDFLetMMxD5hzAnUk410', 'track_href': 'https://api.spotify.com/v1/tracks/3CQDFLetMMxD5hzAnUk410', 'analysis_url': 'https://api.spotify.com/v1/audio-analysis/3CQDFLetMMxD5hzAnUk410', 'duration_ms': 219681, 'time_signature': 4}, {'danceability': 0.788, 'energy': 0.526, 'key': 9, 'loudness': -8.082, 'mode': 0, 'speechiness': 0.071, 'acousticness': 0.524, 'instrumentalness': 0, 'liveness': 0.285, 'valence': 0.584, 'tempo': 89.012, 'type': 'audio_features', 'id': '7xLYLM5K6S1TwiSdfuhZQg', 'uri': 'spotify:track:7xLYLM5K6S1TwiSdfuhZQg', 'track_href': 'https://api.spotify.com/v1/tracks/7xLYLM5K6S1TwiSdfuhZQg', 'analysis_url': 'https://api.spotify.com/v1/audio-analysis/7xLYLM5K6S1TwiSdfuhZQg', 'duration_ms': 220301, 'time_signature': 4}, {'danceability': 0.74, 'energy': 0.428, 'key': 9, 'loudness': -8.458, 'mode': 1, 'speechiness': 0.0959, 'acousticness': 0.644, 'instrumentalness': 1.76e-05, 'liveness': 0.117, 'valence': 0.281, 'tempo': 84.739, 'type': 'audio_features', 'id': '1ZR473PTTSHGcnyRyidBoA', 'uri': 'spotify:track:1ZR473PTTSHGcnyRyidBoA', 'track_href': 'https://api.spotify.com/v1/tracks/1ZR473PTTSHGcnyRyidBoA', 'analysis_url': 'https://api.spotify.com/v1/audio-analysis/1ZR473PTTSHGcnyRyidBoA', 'duration_ms': 142576, 'time_signature': 4}, {'danceability': 0.804, 'energy': 0.535, 'key': 4, 'loudness': -8.603, 'mode': 0, 'speechiness': 0.143, 'acousticness': 0.486, 'instrumentalness': 0, 'liveness': 0.108, 'valence': 0.628, 'tempo': 151.957, 'type': 'audio_features', 'id': '76NtMPMpA6fuUH4euMYZoD', 'uri': 'spotify:track:76NtMPMpA6fuUH4euMYZoD', 'track_href': 'https://api.spotify.com/v1/tracks/76NtMPMpA6fuUH4euMYZoD', 'analysis_url': 'https://api.spotify.com/v1/audio-analysis/76NtMPMpA6fuUH4euMYZoD', 'duration_ms': 245191, 'time_signature': 4}, {'danceability': 0.783, 'energy': 0.673, 'key': 5, 'loudness': -6.198, 'mode': 1, 'speechiness': 0.0959, 'acousticness': 0.166, 'instrumentalness': 1.98e-05, 'liveness': 0.104, 'valence': 0.813, 'tempo': 169.972, 'type': 'audio_features', 'id': '5SEyiGqIMeZcFpC5ycODJc', 'uri': 'spotify:track:5SEyiGqIMeZcFpC5ycODJc', 'track_href': 'https://api.spotify.com/v1/tracks/5SEyiGqIMeZcFpC5ycODJc', 'analysis_url': 'https://api.spotify.com/v1/audio-analysis/5SEyiGqIMeZcFpC5ycODJc', 'duration_ms': 310588, 'time_signature': 4}, {'danceability': 0.754, 'energy': 0.481, 'key': 0, 'loudness': -7.91, 'mode': 1, 'speechiness': 0.444, 'acousticness': 0.387, 'instrumentalness': 0, 'liveness': 0.35, 'valence': 0.289, 'tempo': 83.907, 'type': 'audio_features', 'id': '7fM24rKaYCTGf85Lj8U2pk', 'uri': 'spotify:track:7fM24rKaYCTGf85Lj8U2pk', 'track_href': 'https://api.spotify.com/v1/tracks/7fM24rKaYCTGf85Lj8U2pk', 'analysis_url': 'https://api.spotify.com/v1/audio-analysis/7fM24rKaYCTGf85Lj8U2pk', 'duration_ms': 180000, 'time_signature': 4}, {'danceability': 0.795, 'energy': 0.238, 'key': 5, 'loudness': -20.338, 'mode': 1, 'speechiness': 0.369, 'acousticness': 0.487, 'instrumentalness': 0.000106, 'liveness': 0.137, 'valence': 0.399, 'tempo': 100.996, 'type': 'audio_features', 'id': '30pCOQE19RvNmHq78Svlkm', 'uri': 'spotify:track:30pCOQE19RvNmHq78Svlkm', 'track_href': 'https://api.spotify.com/v1/tracks/30pCOQE19RvNmHq78Svlkm', 'analysis_url': 'https://api.spotify.com/v1/audio-analysis/30pCOQE19RvNmHq78Svlkm', 'duration_ms': 194851, 'time_signature': 4}, {'danceability': 0.793, 'energy': 0.605, 'key': 1, 'loudness': -4.952, 'mode': 0, 'speechiness': 0.119, 'acousticness': 0.426, 'instrumentalness': 0, 'liveness': 0.334, 'valence': 0.268, 'tempo': 91.068, 'type': 'audio_features', 'id': '2mRwodUOATBk5spcUsEidB', 'uri': 'spotify:track:2mRwodUOATBk5spcUsEidB', 'track_href': 'https://api.spotify.com/v1/tracks/2mRwodUOATBk5spcUsEidB', 'analysis_url': 'https://api.spotify.com/v1/audio-analysis/2mRwodUOATBk5spcUsEidB', 'duration_ms': 184749, 'time_signature': 4}, {'danceability': 0.554, 'energy': 0.652, 'key': 9, 'loudness': -4.874, 'mode': 1, 'speechiness': 0.425, 'acousticness': 0.208, 'instrumentalness': 0.000201, 'liveness': 0.104, 'valence': 0.346, 'tempo': 184.012, 'type': 'audio_features', 'id': '6NT4RZ6CF6qFJqslGdqaRM', 'uri': 'spotify:track:6NT4RZ6CF6qFJqslGdqaRM', 'track_href': 'https://api.spotify.com/v1/tracks/6NT4RZ6CF6qFJqslGdqaRM', 'analysis_url': 'https://api.spotify.com/v1/audio-analysis/6NT4RZ6CF6qFJqslGdqaRM', 'duration_ms': 189187, 'time_signature': 4}]}\n",
            "{'audio_features': [{'danceability': 0.648, 'energy': 0.792, 'key': 0, 'loudness': -6.058, 'mode': 1, 'speechiness': 0.035, 'acousticness': 0.0657, 'instrumentalness': 5.31e-06, 'liveness': 0.0788, 'valence': 0.935, 'tempo': 159.968, 'type': 'audio_features', 'id': '6Vk5QUhQ0v5OjYQIYvL5VL', 'uri': 'spotify:track:6Vk5QUhQ0v5OjYQIYvL5VL', 'track_href': 'https://api.spotify.com/v1/tracks/6Vk5QUhQ0v5OjYQIYvL5VL', 'analysis_url': 'https://api.spotify.com/v1/audio-analysis/6Vk5QUhQ0v5OjYQIYvL5VL', 'duration_ms': 260867, 'time_signature': 4}, {'danceability': 0.573, 'energy': 0.658, 'key': 1, 'loudness': -5.557, 'mode': 0, 'speechiness': 0.0396, 'acousticness': 0.0195, 'instrumentalness': 0, 'liveness': 0.209, 'valence': 0.481, 'tempo': 105.052, 'type': 'audio_features', 'id': '0uCKawvDKjr0AegelrzSuX', 'uri': 'spotify:track:0uCKawvDKjr0AegelrzSuX', 'track_href': 'https://api.spotify.com/v1/tracks/0uCKawvDKjr0AegelrzSuX', 'analysis_url': 'https://api.spotify.com/v1/audio-analysis/0uCKawvDKjr0AegelrzSuX', 'duration_ms': 236613, 'time_signature': 4}, {'danceability': 0.616, 'energy': 0.766, 'key': 4, 'loudness': -6.59, 'mode': 0, 'speechiness': 0.0382, 'acousticness': 0.0776, 'instrumentalness': 0, 'liveness': 0.361, 'valence': 0.373, 'tempo': 83.965, 'type': 'audio_features', 'id': '1kEoU9Dmivr2JoOf7ramyT', 'uri': 'spotify:track:1kEoU9Dmivr2JoOf7ramyT', 'track_href': 'https://api.spotify.com/v1/tracks/1kEoU9Dmivr2JoOf7ramyT', 'analysis_url': 'https://api.spotify.com/v1/audio-analysis/1kEoU9Dmivr2JoOf7ramyT', 'duration_ms': 259840, 'time_signature': 4}, {'danceability': 0.671, 'energy': 0.885, 'key': 7, 'loudness': -5.39, 'mode': 0, 'speechiness': 0.0305, 'acousticness': 0.0191, 'instrumentalness': 3.83e-06, 'liveness': 0.223, 'valence': 0.55, 'tempo': 119.959, 'type': 'audio_features', 'id': '2eqbY9whZVv4cnwvzbDAfD', 'uri': 'spotify:track:2eqbY9whZVv4cnwvzbDAfD', 'track_href': 'https://api.spotify.com/v1/tracks/2eqbY9whZVv4cnwvzbDAfD', 'analysis_url': 'https://api.spotify.com/v1/audio-analysis/2eqbY9whZVv4cnwvzbDAfD', 'duration_ms': 252293, 'time_signature': 4}, {'danceability': 0.616, 'energy': 0.789, 'key': 9, 'loudness': -6.316, 'mode': 0, 'speechiness': 0.0417, 'acousticness': 0.0755, 'instrumentalness': 2.08e-05, 'liveness': 0.914, 'valence': 0.272, 'tempo': 90.968, 'type': 'audio_features', 'id': '4OYMdVXY6xE9GTvUT5UdCh', 'uri': 'spotify:track:4OYMdVXY6xE9GTvUT5UdCh', 'track_href': 'https://api.spotify.com/v1/tracks/4OYMdVXY6xE9GTvUT5UdCh', 'analysis_url': 'https://api.spotify.com/v1/audio-analysis/4OYMdVXY6xE9GTvUT5UdCh', 'duration_ms': 249013, 'time_signature': 4}, {'danceability': 0.528, 'energy': 0.308, 'key': 9, 'loudness': -9.769, 'mode': 1, 'speechiness': 0.0341, 'acousticness': 0.816, 'instrumentalness': 0, 'liveness': 0.0934, 'valence': 0.256, 'tempo': 80.017, 'type': 'audio_features', 'id': '3iOFY423D3690MfhE74F8A', 'uri': 'spotify:track:3iOFY423D3690MfhE74F8A', 'track_href': 'https://api.spotify.com/v1/tracks/3iOFY423D3690MfhE74F8A', 'analysis_url': 'https://api.spotify.com/v1/audio-analysis/3iOFY423D3690MfhE74F8A', 'duration_ms': 236040, 'time_signature': 4}, {'danceability': 0.721, 'energy': 0.622, 'key': 0, 'loudness': -6.627, 'mode': 1, 'speechiness': 0.0256, 'acousticness': 0.765, 'instrumentalness': 0.000249, 'liveness': 0.117, 'valence': 0.334, 'tempo': 102.907, 'type': 'audio_features', 'id': '1XekWoZnWxXD7yZODzIDmo', 'uri': 'spotify:track:1XekWoZnWxXD7yZODzIDmo', 'track_href': 'https://api.spotify.com/v1/tracks/1XekWoZnWxXD7yZODzIDmo', 'analysis_url': 'https://api.spotify.com/v1/audio-analysis/1XekWoZnWxXD7yZODzIDmo', 'duration_ms': 189133, 'time_signature': 4}, {'danceability': 0.625, 'energy': 0.827, 'key': 4, 'loudness': -6.763, 'mode': 0, 'speechiness': 0.0602, 'acousticness': 0.0802, 'instrumentalness': 0, 'liveness': 0.164, 'valence': 0.613, 'tempo': 165.912, 'type': 'audio_features', 'id': '0fvKgQ0XzWJKEDJSPdNDid', 'uri': 'spotify:track:0fvKgQ0XzWJKEDJSPdNDid', 'track_href': 'https://api.spotify.com/v1/tracks/0fvKgQ0XzWJKEDJSPdNDid', 'analysis_url': 'https://api.spotify.com/v1/audio-analysis/0fvKgQ0XzWJKEDJSPdNDid', 'duration_ms': 278920, 'time_signature': 4}, {'danceability': 0.734, 'energy': 0.752, 'key': 9, 'loudness': -6.049, 'mode': 0, 'speechiness': 0.0386, 'acousticness': 0.00859, 'instrumentalness': 1.84e-05, 'liveness': 0.0852, 'valence': 0.541, 'tempo': 117.998, 'type': 'audio_features', 'id': '37l4Qgcn1CuGlXx0jKhLpi', 'uri': 'spotify:track:37l4Qgcn1CuGlXx0jKhLpi', 'track_href': 'https://api.spotify.com/v1/tracks/37l4Qgcn1CuGlXx0jKhLpi', 'analysis_url': 'https://api.spotify.com/v1/audio-analysis/37l4Qgcn1CuGlXx0jKhLpi', 'duration_ms': 211507, 'time_signature': 4}, None, {'danceability': 0.465, 'energy': 0.841, 'key': 11, 'loudness': -5.767, 'mode': 0, 'speechiness': 0.0633, 'acousticness': 0.00486, 'instrumentalness': 0, 'liveness': 0.109, 'valence': 0.689, 'tempo': 168.743, 'type': 'audio_features', 'id': '4dneV7C1yDt9UtyxrQY375', 'uri': 'spotify:track:4dneV7C1yDt9UtyxrQY375', 'track_href': 'https://api.spotify.com/v1/tracks/4dneV7C1yDt9UtyxrQY375', 'analysis_url': 'https://api.spotify.com/v1/audio-analysis/4dneV7C1yDt9UtyxrQY375', 'duration_ms': 157533, 'time_signature': 4}, {'danceability': 0.43, 'energy': 0.971, 'key': 9, 'loudness': -3.845, 'mode': 1, 'speechiness': 0.0524, 'acousticness': 0.0271, 'instrumentalness': 2.16e-05, 'liveness': 0.185, 'valence': 0.764, 'tempo': 151.219, 'type': 'audio_features', 'id': '76GlO5H5RT6g7y0gev86Nk', 'uri': 'spotify:track:76GlO5H5RT6g7y0gev86Nk', 'track_href': 'https://api.spotify.com/v1/tracks/76GlO5H5RT6g7y0gev86Nk', 'analysis_url': 'https://api.spotify.com/v1/audio-analysis/76GlO5H5RT6g7y0gev86Nk', 'duration_ms': 212000, 'time_signature': 4}, {'danceability': 0.725, 'energy': 0.524, 'key': 11, 'loudness': -11.121, 'mode': 1, 'speechiness': 0.116, 'acousticness': 0.0748, 'instrumentalness': 0.764, 'liveness': 0.0819, 'valence': 0.961, 'tempo': 185.134, 'type': 'audio_features', 'id': '7ABE6G4uQxbNtYgVrpBBPA', 'uri': 'spotify:track:7ABE6G4uQxbNtYgVrpBBPA', 'track_href': 'https://api.spotify.com/v1/tracks/7ABE6G4uQxbNtYgVrpBBPA', 'analysis_url': 'https://api.spotify.com/v1/audio-analysis/7ABE6G4uQxbNtYgVrpBBPA', 'duration_ms': 203267, 'time_signature': 4}, {'danceability': 0.611, 'energy': 0.813, 'key': 9, 'loudness': -7.689, 'mode': 0, 'speechiness': 0.0279, 'acousticness': 0.339, 'instrumentalness': 0.898, 'liveness': 0.224, 'valence': 0.821, 'tempo': 140.112, 'type': 'audio_features', 'id': '0X5C4WjQNubRysTkHOubz3', 'uri': 'spotify:track:0X5C4WjQNubRysTkHOubz3', 'track_href': 'https://api.spotify.com/v1/tracks/0X5C4WjQNubRysTkHOubz3', 'analysis_url': 'https://api.spotify.com/v1/audio-analysis/0X5C4WjQNubRysTkHOubz3', 'duration_ms': 209573, 'time_signature': 4}, {'danceability': 0.541, 'energy': 0.83, 'key': 9, 'loudness': -6.246, 'mode': 1, 'speechiness': 0.0316, 'acousticness': 0.109, 'instrumentalness': 0.701, 'liveness': 0.167, 'valence': 0.711, 'tempo': 142.592, 'type': 'audio_features', 'id': '07CyrZF9eVd02zzIse7tZA', 'uri': 'spotify:track:07CyrZF9eVd02zzIse7tZA', 'track_href': 'https://api.spotify.com/v1/tracks/07CyrZF9eVd02zzIse7tZA', 'analysis_url': 'https://api.spotify.com/v1/audio-analysis/07CyrZF9eVd02zzIse7tZA', 'duration_ms': 177987, 'time_signature': 4}, {'danceability': 0.633, 'energy': 0.62, 'key': 0, 'loudness': -11.271, 'mode': 1, 'speechiness': 0.0648, 'acousticness': 0.34, 'instrumentalness': 0.605, 'liveness': 0.0977, 'valence': 0.421, 'tempo': 81.117, 'type': 'audio_features', 'id': '3O4TPMOgChXOerSdB5WENH', 'uri': 'spotify:track:3O4TPMOgChXOerSdB5WENH', 'track_href': 'https://api.spotify.com/v1/tracks/3O4TPMOgChXOerSdB5WENH', 'analysis_url': 'https://api.spotify.com/v1/audio-analysis/3O4TPMOgChXOerSdB5WENH', 'duration_ms': 354933, 'time_signature': 4}, {'danceability': 0.718, 'energy': 0.557, 'key': 9, 'loudness': -10.679, 'mode': 1, 'speechiness': 0.0328, 'acousticness': 0.185, 'instrumentalness': 0.707, 'liveness': 0.055, 'valence': 0.586, 'tempo': 94.095, 'type': 'audio_features', 'id': '4d4oXk7O2lEhZ83ivV93li', 'uri': 'spotify:track:4d4oXk7O2lEhZ83ivV93li', 'track_href': 'https://api.spotify.com/v1/tracks/4d4oXk7O2lEhZ83ivV93li', 'analysis_url': 'https://api.spotify.com/v1/audio-analysis/4d4oXk7O2lEhZ83ivV93li', 'duration_ms': 249880, 'time_signature': 4}, {'danceability': 0.484, 'energy': 0.776, 'key': 9, 'loudness': -6.48, 'mode': 1, 'speechiness': 0.0312, 'acousticness': 0.00371, 'instrumentalness': 0.109, 'liveness': 0.131, 'valence': 0.495, 'tempo': 171.935, 'type': 'audio_features', 'id': '1tuwC1Ob5vnYZhvg3zyzJg', 'uri': 'spotify:track:1tuwC1Ob5vnYZhvg3zyzJg', 'track_href': 'https://api.spotify.com/v1/tracks/1tuwC1Ob5vnYZhvg3zyzJg', 'analysis_url': 'https://api.spotify.com/v1/audio-analysis/1tuwC1Ob5vnYZhvg3zyzJg', 'duration_ms': 448467, 'time_signature': 4}, None, {'danceability': 0.645, 'energy': 0.713, 'key': 6, 'loudness': -5.355, 'mode': 1, 'speechiness': 0.0393, 'acousticness': 0.00835, 'instrumentalness': 0, 'liveness': 0.113, 'valence': 0.566, 'tempo': 74.989, 'type': 'audio_features', 'id': '2Z8WuEywRWYTKe1NybPQEW', 'uri': 'spotify:track:2Z8WuEywRWYTKe1NybPQEW', 'track_href': 'https://api.spotify.com/v1/tracks/2Z8WuEywRWYTKe1NybPQEW', 'analysis_url': 'https://api.spotify.com/v1/audio-analysis/2Z8WuEywRWYTKe1NybPQEW', 'duration_ms': 214507, 'time_signature': 4}, {'danceability': 0.732, 'energy': 0.396, 'key': 4, 'loudness': -9.348, 'mode': 0, 'speechiness': 0.0286, 'acousticness': 0.0841, 'instrumentalness': 3.58e-05, 'liveness': 0.105, 'valence': 0.548, 'tempo': 90.024, 'type': 'audio_features', 'id': '6i0V12jOa3mr6uu4WYhUBr', 'uri': 'spotify:track:6i0V12jOa3mr6uu4WYhUBr', 'track_href': 'https://api.spotify.com/v1/tracks/6i0V12jOa3mr6uu4WYhUBr', 'analysis_url': 'https://api.spotify.com/v1/audio-analysis/6i0V12jOa3mr6uu4WYhUBr', 'duration_ms': 195920, 'time_signature': 4}, {'danceability': 0.609, 'energy': 0.674, 'key': 10, 'loudness': -7.388, 'mode': 0, 'speechiness': 0.0548, 'acousticness': 0.0735, 'instrumentalness': 0.06, 'liveness': 0.345, 'valence': 0.315, 'tempo': 90.009, 'type': 'audio_features', 'id': '23OXdR7YuUBVWh5hSnYJau', 'uri': 'spotify:track:23OXdR7YuUBVWh5hSnYJau', 'track_href': 'https://api.spotify.com/v1/tracks/23OXdR7YuUBVWh5hSnYJau', 'analysis_url': 'https://api.spotify.com/v1/audio-analysis/23OXdR7YuUBVWh5hSnYJau', 'duration_ms': 324467, 'time_signature': 4}, {'danceability': 0.588, 'energy': 0.856, 'key': 9, 'loudness': -5.242, 'mode': 0, 'speechiness': 0.0316, 'acousticness': 0.000818, 'instrumentalness': 0.0739, 'liveness': 0.238, 'valence': 0.635, 'tempo': 96.966, 'type': 'audio_features', 'id': '2nG54Y4a3sH9YpfxMolOyi', 'uri': 'spotify:track:2nG54Y4a3sH9YpfxMolOyi', 'track_href': 'https://api.spotify.com/v1/tracks/2nG54Y4a3sH9YpfxMolOyi', 'analysis_url': 'https://api.spotify.com/v1/audio-analysis/2nG54Y4a3sH9YpfxMolOyi', 'duration_ms': 175044, 'time_signature': 4}, {'danceability': 0.687, 'energy': 0.89, 'key': 8, 'loudness': -5.99, 'mode': 1, 'speechiness': 0.0344, 'acousticness': 0.00396, 'instrumentalness': 0.000939, 'liveness': 0.0436, 'valence': 0.854, 'tempo': 113.06, 'type': 'audio_features', 'id': '60dwJ8dnqZ4WrIdiu7LkNR', 'uri': 'spotify:track:60dwJ8dnqZ4WrIdiu7LkNR', 'track_href': 'https://api.spotify.com/v1/tracks/60dwJ8dnqZ4WrIdiu7LkNR', 'analysis_url': 'https://api.spotify.com/v1/audio-analysis/60dwJ8dnqZ4WrIdiu7LkNR', 'duration_ms': 172232, 'time_signature': 4}, {'danceability': 0.655, 'energy': 0.632, 'key': 2, 'loudness': -4.802, 'mode': 1, 'speechiness': 0.0489, 'acousticness': 0.0189, 'instrumentalness': 0, 'liveness': 0.0722, 'valence': 0.447, 'tempo': 120.113, 'type': 'audio_features', 'id': '3bnVBN67NBEzedqQuWrpP4', 'uri': 'spotify:track:3bnVBN67NBEzedqQuWrpP4', 'track_href': 'https://api.spotify.com/v1/tracks/3bnVBN67NBEzedqQuWrpP4', 'analysis_url': 'https://api.spotify.com/v1/audio-analysis/3bnVBN67NBEzedqQuWrpP4', 'duration_ms': 188493, 'time_signature': 4}, {'danceability': 0.754, 'energy': 0.583, 'key': 4, 'loudness': -7.34, 'mode': 0, 'speechiness': 0.0432, 'acousticness': 0.32, 'instrumentalness': 0.00015, 'liveness': 0.144, 'valence': 0.77, 'tempo': 122.012, 'type': 'audio_features', 'id': '6xZ4Q2k2ompmDppyeESIY8', 'uri': 'spotify:track:6xZ4Q2k2ompmDppyeESIY8', 'track_href': 'https://api.spotify.com/v1/tracks/6xZ4Q2k2ompmDppyeESIY8', 'analysis_url': 'https://api.spotify.com/v1/audio-analysis/6xZ4Q2k2ompmDppyeESIY8', 'duration_ms': 220051, 'time_signature': 4}, {'danceability': 0.766, 'energy': 0.519, 'key': 9, 'loudness': -7.355, 'mode': 0, 'speechiness': 0.0366, 'acousticness': 0.098, 'instrumentalness': 0, 'liveness': 0.0855, 'valence': 0.612, 'tempo': 129.972, 'type': 'audio_features', 'id': '5cbpoIu3YjoOwbBDGUEp3P', 'uri': 'spotify:track:5cbpoIu3YjoOwbBDGUEp3P', 'track_href': 'https://api.spotify.com/v1/tracks/5cbpoIu3YjoOwbBDGUEp3P', 'analysis_url': 'https://api.spotify.com/v1/audio-analysis/5cbpoIu3YjoOwbBDGUEp3P', 'duration_ms': 267720, 'time_signature': 4}, None, {'danceability': 0.743, 'energy': 0.429, 'key': 10, 'loudness': -14.576, 'mode': 0, 'speechiness': 0.0902, 'acousticness': 0.447, 'instrumentalness': 0.362, 'liveness': 0.0455, 'valence': 0.597, 'tempo': 95.406, 'type': 'audio_features', 'id': '5fdNHVZHbWB1AaXk4RBGVD', 'uri': 'spotify:track:5fdNHVZHbWB1AaXk4RBGVD', 'track_href': 'https://api.spotify.com/v1/tracks/5fdNHVZHbWB1AaXk4RBGVD', 'analysis_url': 'https://api.spotify.com/v1/audio-analysis/5fdNHVZHbWB1AaXk4RBGVD', 'duration_ms': 443773, 'time_signature': 4}, {'danceability': 0.734, 'energy': 0.64, 'key': 5, 'loudness': -8.471, 'mode': 0, 'speechiness': 0.0661, 'acousticness': 0.00606, 'instrumentalness': 0.37, 'liveness': 0.0602, 'valence': 0.868, 'tempo': 103.812, 'type': 'audio_features', 'id': '2fmXnPfzguSp3zKDibCBgv', 'uri': 'spotify:track:2fmXnPfzguSp3zKDibCBgv', 'track_href': 'https://api.spotify.com/v1/tracks/2fmXnPfzguSp3zKDibCBgv', 'analysis_url': 'https://api.spotify.com/v1/audio-analysis/2fmXnPfzguSp3zKDibCBgv', 'duration_ms': 541827, 'time_signature': 4}, {'danceability': 0.766, 'energy': 0.381, 'key': 10, 'loudness': -14.456, 'mode': 0, 'speechiness': 0.0805, 'acousticness': 0.18, 'instrumentalness': 0.0844, 'liveness': 0.48, 'valence': 0.634, 'tempo': 98.862, 'type': 'audio_features', 'id': '0nN2D5xwVtLrgUw0TIQ5CI', 'uri': 'spotify:track:0nN2D5xwVtLrgUw0TIQ5CI', 'track_href': 'https://api.spotify.com/v1/tracks/0nN2D5xwVtLrgUw0TIQ5CI', 'analysis_url': 'https://api.spotify.com/v1/audio-analysis/0nN2D5xwVtLrgUw0TIQ5CI', 'duration_ms': 452573, 'time_signature': 4}, {'danceability': 0.424, 'energy': 0.432, 'key': 8, 'loudness': -13.014, 'mode': 1, 'speechiness': 0.0422, 'acousticness': 0.593, 'instrumentalness': 0.344, 'liveness': 0.0764, 'valence': 0.832, 'tempo': 174.03, 'type': 'audio_features', 'id': '4TYEIckMi7PTCh1kiknKSy', 'uri': 'spotify:track:4TYEIckMi7PTCh1kiknKSy', 'track_href': 'https://api.spotify.com/v1/tracks/4TYEIckMi7PTCh1kiknKSy', 'analysis_url': 'https://api.spotify.com/v1/audio-analysis/4TYEIckMi7PTCh1kiknKSy', 'duration_ms': 479467, 'time_signature': 4}, {'danceability': 0.743, 'energy': 0.352, 'key': 9, 'loudness': -17.225, 'mode': 0, 'speechiness': 0.061, 'acousticness': 0.146, 'instrumentalness': 0.104, 'liveness': 0.0585, 'valence': 0.722, 'tempo': 108.785, 'type': 'audio_features', 'id': '6jY7UcNWda03nyJ5XiqlYt', 'uri': 'spotify:track:6jY7UcNWda03nyJ5XiqlYt', 'track_href': 'https://api.spotify.com/v1/tracks/6jY7UcNWda03nyJ5XiqlYt', 'analysis_url': 'https://api.spotify.com/v1/audio-analysis/6jY7UcNWda03nyJ5XiqlYt', 'duration_ms': 350600, 'time_signature': 4}, {'danceability': 0.785, 'energy': 0.302, 'key': 0, 'loudness': -14.555, 'mode': 0, 'speechiness': 0.0551, 'acousticness': 0.735, 'instrumentalness': 0.12, 'liveness': 0.123, 'valence': 0.467, 'tempo': 122.979, 'type': 'audio_features', 'id': '21qeCg7VQMQ6nVBCVFeoKD', 'uri': 'spotify:track:21qeCg7VQMQ6nVBCVFeoKD', 'track_href': 'https://api.spotify.com/v1/tracks/21qeCg7VQMQ6nVBCVFeoKD', 'analysis_url': 'https://api.spotify.com/v1/audio-analysis/21qeCg7VQMQ6nVBCVFeoKD', 'duration_ms': 392027, 'time_signature': 4}, {'danceability': 0.719, 'energy': 0.222, 'key': 10, 'loudness': -18.644, 'mode': 1, 'speechiness': 0.052, 'acousticness': 0.623, 'instrumentalness': 0.91, 'liveness': 0.0991, 'valence': 0.499, 'tempo': 92.409, 'type': 'audio_features', 'id': '6P5qgQNPHQdknn3tA7bmsN', 'uri': 'spotify:track:6P5qgQNPHQdknn3tA7bmsN', 'track_href': 'https://api.spotify.com/v1/tracks/6P5qgQNPHQdknn3tA7bmsN', 'analysis_url': 'https://api.spotify.com/v1/audio-analysis/6P5qgQNPHQdknn3tA7bmsN', 'duration_ms': 326773, 'time_signature': 4}, {'danceability': 0.579, 'energy': 0.437, 'key': 1, 'loudness': -12.721, 'mode': 1, 'speechiness': 0.0526, 'acousticness': 0.0427, 'instrumentalness': 0.0483, 'liveness': 0.0603, 'valence': 0.732, 'tempo': 91.866, 'type': 'audio_features', 'id': '7gNrC7OWXD4sp3JZiGEjUc', 'uri': 'spotify:track:7gNrC7OWXD4sp3JZiGEjUc', 'track_href': 'https://api.spotify.com/v1/tracks/7gNrC7OWXD4sp3JZiGEjUc', 'analysis_url': 'https://api.spotify.com/v1/audio-analysis/7gNrC7OWXD4sp3JZiGEjUc', 'duration_ms': 457880, 'time_signature': 4}, None, {'danceability': 0.429, 'energy': 0.661, 'key': 11, 'loudness': -7.227, 'mode': 1, 'speechiness': 0.0281, 'acousticness': 0.00239, 'instrumentalness': 0.000121, 'liveness': 0.234, 'valence': 0.285, 'tempo': 173.372, 'type': 'audio_features', 'id': '3AJwUDP919kvQ9QcozQPxg', 'uri': 'spotify:track:3AJwUDP919kvQ9QcozQPxg', 'track_href': 'https://api.spotify.com/v1/tracks/3AJwUDP919kvQ9QcozQPxg', 'analysis_url': 'https://api.spotify.com/v1/audio-analysis/3AJwUDP919kvQ9QcozQPxg', 'duration_ms': 266773, 'time_signature': 4}, {'danceability': 0.592, 'energy': 0.342, 'key': 0, 'loudness': -8.93, 'mode': 1, 'speechiness': 0.0339, 'acousticness': 0.193, 'instrumentalness': 0.00245, 'liveness': 0.11, 'valence': 0.155, 'tempo': 130.953, 'type': 'audio_features', 'id': '4cGqn0E8JCSY9gQllQj4Mf', 'uri': 'spotify:track:4cGqn0E8JCSY9gQllQj4Mf', 'track_href': 'https://api.spotify.com/v1/tracks/4cGqn0E8JCSY9gQllQj4Mf', 'analysis_url': 'https://api.spotify.com/v1/audio-analysis/4cGqn0E8JCSY9gQllQj4Mf', 'duration_ms': 241595, 'time_signature': 4}, {'danceability': 0.557, 'energy': 0.442, 'key': 5, 'loudness': -7.224, 'mode': 1, 'speechiness': 0.0243, 'acousticness': 0.731, 'instrumentalness': 1.46e-05, 'liveness': 0.11, 'valence': 0.213, 'tempo': 146.277, 'type': 'audio_features', 'id': '75JFxkI2RXiU7L9VXzMkle', 'uri': 'spotify:track:75JFxkI2RXiU7L9VXzMkle', 'track_href': 'https://api.spotify.com/v1/tracks/75JFxkI2RXiU7L9VXzMkle', 'analysis_url': 'https://api.spotify.com/v1/audio-analysis/75JFxkI2RXiU7L9VXzMkle', 'duration_ms': 309600, 'time_signature': 4}, {'danceability': 0.617, 'energy': 0.635, 'key': 11, 'loudness': -6.769, 'mode': 0, 'speechiness': 0.0317, 'acousticness': 0.0498, 'instrumentalness': 1.44e-05, 'liveness': 0.164, 'valence': 0.446, 'tempo': 103.019, 'type': 'audio_features', 'id': '6RUKPb4LETWmmr3iAEQktW', 'uri': 'spotify:track:6RUKPb4LETWmmr3iAEQktW', 'track_href': 'https://api.spotify.com/v1/tracks/6RUKPb4LETWmmr3iAEQktW', 'analysis_url': 'https://api.spotify.com/v1/audio-analysis/6RUKPb4LETWmmr3iAEQktW', 'duration_ms': 247160, 'time_signature': 4}, {'danceability': 0.209, 'energy': 0.417, 'key': 3, 'loudness': -8.74, 'mode': 1, 'speechiness': 0.0338, 'acousticness': 0.164, 'instrumentalness': 0.00196, 'liveness': 0.113, 'valence': 0.124, 'tempo': 138.178, 'type': 'audio_features', 'id': '7LVHVU3tWfcxj5aiPFEW4Q', 'uri': 'spotify:track:7LVHVU3tWfcxj5aiPFEW4Q', 'track_href': 'https://api.spotify.com/v1/tracks/7LVHVU3tWfcxj5aiPFEW4Q', 'analysis_url': 'https://api.spotify.com/v1/audio-analysis/7LVHVU3tWfcxj5aiPFEW4Q', 'duration_ms': 295533, 'time_signature': 4}, {'danceability': 0.491, 'energy': 0.693, 'key': 0, 'loudness': -6.487, 'mode': 0, 'speechiness': 0.0377, 'acousticness': 0.211, 'instrumentalness': 6.92e-06, 'liveness': 0.325, 'valence': 0.412, 'tempo': 90.027, 'type': 'audio_features', 'id': '3RiPr603aXAoi4GHyXx0uy', 'uri': 'spotify:track:3RiPr603aXAoi4GHyXx0uy', 'track_href': 'https://api.spotify.com/v1/tracks/3RiPr603aXAoi4GHyXx0uy', 'analysis_url': 'https://api.spotify.com/v1/audio-analysis/3RiPr603aXAoi4GHyXx0uy', 'duration_ms': 258267, 'time_signature': 4}, {'danceability': 0.449, 'energy': 0.585, 'key': 5, 'loudness': -6.761, 'mode': 1, 'speechiness': 0.0268, 'acousticness': 0.0509, 'instrumentalness': 8.75e-05, 'liveness': 0.0833, 'valence': 0.212, 'tempo': 139.631, 'type': 'audio_features', 'id': '6nek1Nin9q48AVZcWs9e9D', 'uri': 'spotify:track:6nek1Nin9q48AVZcWs9e9D', 'track_href': 'https://api.spotify.com/v1/tracks/6nek1Nin9q48AVZcWs9e9D', 'analysis_url': 'https://api.spotify.com/v1/audio-analysis/6nek1Nin9q48AVZcWs9e9D', 'duration_ms': 278719, 'time_signature': 4}, {'danceability': 0.486, 'energy': 0.617, 'key': 5, 'loudness': -7.115, 'mode': 0, 'speechiness': 0.0287, 'acousticness': 0.0954, 'instrumentalness': 3.23e-06, 'liveness': 0.109, 'valence': 0.417, 'tempo': 138.015, 'type': 'audio_features', 'id': '1mea3bSkSGXuIRvnydlB5b', 'uri': 'spotify:track:1mea3bSkSGXuIRvnydlB5b', 'track_href': 'https://api.spotify.com/v1/tracks/1mea3bSkSGXuIRvnydlB5b', 'analysis_url': 'https://api.spotify.com/v1/audio-analysis/1mea3bSkSGXuIRvnydlB5b', 'duration_ms': 242373, 'time_signature': 4}, None, {'danceability': 0.68, 'energy': 0.527, 'key': 0, 'loudness': -6.748, 'mode': 1, 'speechiness': 0.11, 'acousticness': 0.232, 'instrumentalness': 0.000402, 'liveness': 0.115, 'valence': 0.192, 'tempo': 88.958, 'type': 'audio_features', 'id': '3CQDFLetMMxD5hzAnUk410', 'uri': 'spotify:track:3CQDFLetMMxD5hzAnUk410', 'track_href': 'https://api.spotify.com/v1/tracks/3CQDFLetMMxD5hzAnUk410', 'analysis_url': 'https://api.spotify.com/v1/audio-analysis/3CQDFLetMMxD5hzAnUk410', 'duration_ms': 219681, 'time_signature': 4}, {'danceability': 0.788, 'energy': 0.526, 'key': 9, 'loudness': -8.082, 'mode': 0, 'speechiness': 0.071, 'acousticness': 0.524, 'instrumentalness': 0, 'liveness': 0.285, 'valence': 0.584, 'tempo': 89.012, 'type': 'audio_features', 'id': '7xLYLM5K6S1TwiSdfuhZQg', 'uri': 'spotify:track:7xLYLM5K6S1TwiSdfuhZQg', 'track_href': 'https://api.spotify.com/v1/tracks/7xLYLM5K6S1TwiSdfuhZQg', 'analysis_url': 'https://api.spotify.com/v1/audio-analysis/7xLYLM5K6S1TwiSdfuhZQg', 'duration_ms': 220301, 'time_signature': 4}, {'danceability': 0.74, 'energy': 0.428, 'key': 9, 'loudness': -8.458, 'mode': 1, 'speechiness': 0.0959, 'acousticness': 0.644, 'instrumentalness': 1.76e-05, 'liveness': 0.117, 'valence': 0.281, 'tempo': 84.739, 'type': 'audio_features', 'id': '1ZR473PTTSHGcnyRyidBoA', 'uri': 'spotify:track:1ZR473PTTSHGcnyRyidBoA', 'track_href': 'https://api.spotify.com/v1/tracks/1ZR473PTTSHGcnyRyidBoA', 'analysis_url': 'https://api.spotify.com/v1/audio-analysis/1ZR473PTTSHGcnyRyidBoA', 'duration_ms': 142576, 'time_signature': 4}, {'danceability': 0.804, 'energy': 0.535, 'key': 4, 'loudness': -8.603, 'mode': 0, 'speechiness': 0.143, 'acousticness': 0.486, 'instrumentalness': 0, 'liveness': 0.108, 'valence': 0.628, 'tempo': 151.957, 'type': 'audio_features', 'id': '76NtMPMpA6fuUH4euMYZoD', 'uri': 'spotify:track:76NtMPMpA6fuUH4euMYZoD', 'track_href': 'https://api.spotify.com/v1/tracks/76NtMPMpA6fuUH4euMYZoD', 'analysis_url': 'https://api.spotify.com/v1/audio-analysis/76NtMPMpA6fuUH4euMYZoD', 'duration_ms': 245191, 'time_signature': 4}, {'danceability': 0.783, 'energy': 0.673, 'key': 5, 'loudness': -6.198, 'mode': 1, 'speechiness': 0.0959, 'acousticness': 0.166, 'instrumentalness': 1.98e-05, 'liveness': 0.104, 'valence': 0.813, 'tempo': 169.972, 'type': 'audio_features', 'id': '5SEyiGqIMeZcFpC5ycODJc', 'uri': 'spotify:track:5SEyiGqIMeZcFpC5ycODJc', 'track_href': 'https://api.spotify.com/v1/tracks/5SEyiGqIMeZcFpC5ycODJc', 'analysis_url': 'https://api.spotify.com/v1/audio-analysis/5SEyiGqIMeZcFpC5ycODJc', 'duration_ms': 310588, 'time_signature': 4}, {'danceability': 0.754, 'energy': 0.481, 'key': 0, 'loudness': -7.91, 'mode': 1, 'speechiness': 0.444, 'acousticness': 0.387, 'instrumentalness': 0, 'liveness': 0.35, 'valence': 0.289, 'tempo': 83.907, 'type': 'audio_features', 'id': '7fM24rKaYCTGf85Lj8U2pk', 'uri': 'spotify:track:7fM24rKaYCTGf85Lj8U2pk', 'track_href': 'https://api.spotify.com/v1/tracks/7fM24rKaYCTGf85Lj8U2pk', 'analysis_url': 'https://api.spotify.com/v1/audio-analysis/7fM24rKaYCTGf85Lj8U2pk', 'duration_ms': 180000, 'time_signature': 4}, {'danceability': 0.795, 'energy': 0.238, 'key': 5, 'loudness': -20.338, 'mode': 1, 'speechiness': 0.369, 'acousticness': 0.487, 'instrumentalness': 0.000106, 'liveness': 0.137, 'valence': 0.399, 'tempo': 100.996, 'type': 'audio_features', 'id': '30pCOQE19RvNmHq78Svlkm', 'uri': 'spotify:track:30pCOQE19RvNmHq78Svlkm', 'track_href': 'https://api.spotify.com/v1/tracks/30pCOQE19RvNmHq78Svlkm', 'analysis_url': 'https://api.spotify.com/v1/audio-analysis/30pCOQE19RvNmHq78Svlkm', 'duration_ms': 194851, 'time_signature': 4}, {'danceability': 0.793, 'energy': 0.605, 'key': 1, 'loudness': -4.952, 'mode': 0, 'speechiness': 0.119, 'acousticness': 0.426, 'instrumentalness': 0, 'liveness': 0.334, 'valence': 0.268, 'tempo': 91.068, 'type': 'audio_features', 'id': '2mRwodUOATBk5spcUsEidB', 'uri': 'spotify:track:2mRwodUOATBk5spcUsEidB', 'track_href': 'https://api.spotify.com/v1/tracks/2mRwodUOATBk5spcUsEidB', 'analysis_url': 'https://api.spotify.com/v1/audio-analysis/2mRwodUOATBk5spcUsEidB', 'duration_ms': 184749, 'time_signature': 4}, None, {'danceability': 0.849, 'energy': 0.424, 'key': 5, 'loudness': -9.579, 'mode': 0, 'speechiness': 0.324, 'acousticness': 0.0635, 'instrumentalness': 0, 'liveness': 0.0834, 'valence': 0.153, 'tempo': 145.887, 'type': 'audio_features', 'id': '2BcMwX1MPV6ZHP4tUT9uq6', 'uri': 'spotify:track:2BcMwX1MPV6ZHP4tUT9uq6', 'track_href': 'https://api.spotify.com/v1/tracks/2BcMwX1MPV6ZHP4tUT9uq6', 'analysis_url': 'https://api.spotify.com/v1/audio-analysis/2BcMwX1MPV6ZHP4tUT9uq6', 'duration_ms': 242966, 'time_signature': 4}, {'danceability': 0.666, 'energy': 0.465, 'key': 1, 'loudness': -8.545, 'mode': 1, 'speechiness': 0.26, 'acousticness': 0.0503, 'instrumentalness': 0, 'liveness': 0.215, 'valence': 0.292, 'tempo': 167.937, 'type': 'audio_features', 'id': '40iJIUlhi6renaREYGeIDS', 'uri': 'spotify:track:40iJIUlhi6renaREYGeIDS', 'track_href': 'https://api.spotify.com/v1/tracks/40iJIUlhi6renaREYGeIDS', 'analysis_url': 'https://api.spotify.com/v1/audio-analysis/40iJIUlhi6renaREYGeIDS', 'duration_ms': 291175, 'time_signature': 4}, {'danceability': 0.767, 'energy': 0.438, 'key': 7, 'loudness': -8.726, 'mode': 0, 'speechiness': 0.29, 'acousticness': 0.181, 'instrumentalness': 0, 'liveness': 0.142, 'valence': 0.381, 'tempo': 86.975, 'type': 'audio_features', 'id': '37Nqx7iavZpotJSDXZWbJ3', 'uri': 'spotify:track:37Nqx7iavZpotJSDXZWbJ3', 'track_href': 'https://api.spotify.com/v1/tracks/37Nqx7iavZpotJSDXZWbJ3', 'analysis_url': 'https://api.spotify.com/v1/audio-analysis/37Nqx7iavZpotJSDXZWbJ3', 'duration_ms': 221980, 'time_signature': 4}, {'danceability': 0.423, 'energy': 0.667, 'key': 6, 'loudness': -7.012, 'mode': 0, 'speechiness': 0.326, 'acousticness': 0.758, 'instrumentalness': 0, 'liveness': 0.246, 'valence': 0.496, 'tempo': 86.743, 'type': 'audio_features', 'id': '2HSmyk2qMN8WQjuGhaQgCk', 'uri': 'spotify:track:2HSmyk2qMN8WQjuGhaQgCk', 'track_href': 'https://api.spotify.com/v1/tracks/2HSmyk2qMN8WQjuGhaQgCk', 'analysis_url': 'https://api.spotify.com/v1/audio-analysis/2HSmyk2qMN8WQjuGhaQgCk', 'duration_ms': 336511, 'time_signature': 4}, {'danceability': 0.578, 'energy': 0.449, 'key': 1, 'loudness': -6.349, 'mode': 1, 'speechiness': 0.286, 'acousticness': 0.0618, 'instrumentalness': 2.17e-06, 'liveness': 0.119, 'valence': 0.1, 'tempo': 136.006, 'type': 'audio_features', 'id': '65OVbaJR5O1RmwOQx0875b', 'uri': 'spotify:track:65OVbaJR5O1RmwOQx0875b', 'track_href': 'https://api.spotify.com/v1/tracks/65OVbaJR5O1RmwOQx0875b', 'analysis_url': 'https://api.spotify.com/v1/audio-analysis/65OVbaJR5O1RmwOQx0875b', 'duration_ms': 192956, 'time_signature': 4}, {'danceability': 0.792, 'energy': 0.625, 'key': 1, 'loudness': -5.609, 'mode': 1, 'speechiness': 0.0536, 'acousticness': 0.00776, 'instrumentalness': 0.0018, 'liveness': 0.329, 'valence': 0.37, 'tempo': 103.967, 'type': 'audio_features', 'id': '1zi7xx7UVEFkmKfv06H8x0', 'uri': 'spotify:track:1zi7xx7UVEFkmKfv06H8x0', 'track_href': 'https://api.spotify.com/v1/tracks/1zi7xx7UVEFkmKfv06H8x0', 'analysis_url': 'https://api.spotify.com/v1/audio-analysis/1zi7xx7UVEFkmKfv06H8x0', 'duration_ms': 173987, 'time_signature': 4}, {'danceability': 0.84, 'energy': 0.744, 'key': 1, 'loudness': -4.751, 'mode': 1, 'speechiness': 0.113, 'acousticness': 0.0181, 'instrumentalness': 0, 'liveness': 0.629, 'valence': 0.171, 'tempo': 83.737, 'type': 'audio_features', 'id': '2tUL6dZf1mywCj5WvCPZw6', 'uri': 'spotify:track:2tUL6dZf1mywCj5WvCPZw6', 'track_href': 'https://api.spotify.com/v1/tracks/2tUL6dZf1mywCj5WvCPZw6', 'analysis_url': 'https://api.spotify.com/v1/audio-analysis/2tUL6dZf1mywCj5WvCPZw6', 'duration_ms': 204347, 'time_signature': 4}, {'danceability': 0.761, 'energy': 0.518, 'key': 0, 'loudness': -8.871, 'mode': 1, 'speechiness': 0.134, 'acousticness': 0.244, 'instrumentalness': 3.47e-05, 'liveness': 0.107, 'valence': 0.522, 'tempo': 133.976, 'type': 'audio_features', 'id': '2SAqBLGA283SUiwJ3xOUVI', 'uri': 'spotify:track:2SAqBLGA283SUiwJ3xOUVI', 'track_href': 'https://api.spotify.com/v1/tracks/2SAqBLGA283SUiwJ3xOUVI', 'analysis_url': 'https://api.spotify.com/v1/audio-analysis/2SAqBLGA283SUiwJ3xOUVI', 'duration_ms': 261493, 'time_signature': 4}, {'danceability': 0.754, 'energy': 0.449, 'key': 7, 'loudness': -9.211, 'mode': 1, 'speechiness': 0.109, 'acousticness': 0.0332, 'instrumentalness': 8.29e-05, 'liveness': 0.552, 'valence': 0.357, 'tempo': 77.169, 'type': 'audio_features', 'id': '6DCZcSspjsKoFjzjrWoCdn', 'uri': 'spotify:track:6DCZcSspjsKoFjzjrWoCdn', 'track_href': 'https://api.spotify.com/v1/tracks/6DCZcSspjsKoFjzjrWoCdn', 'analysis_url': 'https://api.spotify.com/v1/audio-analysis/6DCZcSspjsKoFjzjrWoCdn', 'duration_ms': 198973, 'time_signature': 4}]}\n",
            "{'audio_features': [{'danceability': 0.648, 'energy': 0.792, 'key': 0, 'loudness': -6.058, 'mode': 1, 'speechiness': 0.035, 'acousticness': 0.0657, 'instrumentalness': 5.31e-06, 'liveness': 0.0788, 'valence': 0.935, 'tempo': 159.968, 'type': 'audio_features', 'id': '6Vk5QUhQ0v5OjYQIYvL5VL', 'uri': 'spotify:track:6Vk5QUhQ0v5OjYQIYvL5VL', 'track_href': 'https://api.spotify.com/v1/tracks/6Vk5QUhQ0v5OjYQIYvL5VL', 'analysis_url': 'https://api.spotify.com/v1/audio-analysis/6Vk5QUhQ0v5OjYQIYvL5VL', 'duration_ms': 260867, 'time_signature': 4}, {'danceability': 0.573, 'energy': 0.658, 'key': 1, 'loudness': -5.557, 'mode': 0, 'speechiness': 0.0396, 'acousticness': 0.0195, 'instrumentalness': 0, 'liveness': 0.209, 'valence': 0.481, 'tempo': 105.052, 'type': 'audio_features', 'id': '0uCKawvDKjr0AegelrzSuX', 'uri': 'spotify:track:0uCKawvDKjr0AegelrzSuX', 'track_href': 'https://api.spotify.com/v1/tracks/0uCKawvDKjr0AegelrzSuX', 'analysis_url': 'https://api.spotify.com/v1/audio-analysis/0uCKawvDKjr0AegelrzSuX', 'duration_ms': 236613, 'time_signature': 4}, {'danceability': 0.616, 'energy': 0.766, 'key': 4, 'loudness': -6.59, 'mode': 0, 'speechiness': 0.0382, 'acousticness': 0.0776, 'instrumentalness': 0, 'liveness': 0.361, 'valence': 0.373, 'tempo': 83.965, 'type': 'audio_features', 'id': '1kEoU9Dmivr2JoOf7ramyT', 'uri': 'spotify:track:1kEoU9Dmivr2JoOf7ramyT', 'track_href': 'https://api.spotify.com/v1/tracks/1kEoU9Dmivr2JoOf7ramyT', 'analysis_url': 'https://api.spotify.com/v1/audio-analysis/1kEoU9Dmivr2JoOf7ramyT', 'duration_ms': 259840, 'time_signature': 4}, {'danceability': 0.671, 'energy': 0.885, 'key': 7, 'loudness': -5.39, 'mode': 0, 'speechiness': 0.0305, 'acousticness': 0.0191, 'instrumentalness': 3.83e-06, 'liveness': 0.223, 'valence': 0.55, 'tempo': 119.959, 'type': 'audio_features', 'id': '2eqbY9whZVv4cnwvzbDAfD', 'uri': 'spotify:track:2eqbY9whZVv4cnwvzbDAfD', 'track_href': 'https://api.spotify.com/v1/tracks/2eqbY9whZVv4cnwvzbDAfD', 'analysis_url': 'https://api.spotify.com/v1/audio-analysis/2eqbY9whZVv4cnwvzbDAfD', 'duration_ms': 252293, 'time_signature': 4}, {'danceability': 0.616, 'energy': 0.789, 'key': 9, 'loudness': -6.316, 'mode': 0, 'speechiness': 0.0417, 'acousticness': 0.0755, 'instrumentalness': 2.08e-05, 'liveness': 0.914, 'valence': 0.272, 'tempo': 90.968, 'type': 'audio_features', 'id': '4OYMdVXY6xE9GTvUT5UdCh', 'uri': 'spotify:track:4OYMdVXY6xE9GTvUT5UdCh', 'track_href': 'https://api.spotify.com/v1/tracks/4OYMdVXY6xE9GTvUT5UdCh', 'analysis_url': 'https://api.spotify.com/v1/audio-analysis/4OYMdVXY6xE9GTvUT5UdCh', 'duration_ms': 249013, 'time_signature': 4}, {'danceability': 0.528, 'energy': 0.308, 'key': 9, 'loudness': -9.769, 'mode': 1, 'speechiness': 0.0341, 'acousticness': 0.816, 'instrumentalness': 0, 'liveness': 0.0934, 'valence': 0.256, 'tempo': 80.017, 'type': 'audio_features', 'id': '3iOFY423D3690MfhE74F8A', 'uri': 'spotify:track:3iOFY423D3690MfhE74F8A', 'track_href': 'https://api.spotify.com/v1/tracks/3iOFY423D3690MfhE74F8A', 'analysis_url': 'https://api.spotify.com/v1/audio-analysis/3iOFY423D3690MfhE74F8A', 'duration_ms': 236040, 'time_signature': 4}, {'danceability': 0.721, 'energy': 0.622, 'key': 0, 'loudness': -6.627, 'mode': 1, 'speechiness': 0.0256, 'acousticness': 0.765, 'instrumentalness': 0.000249, 'liveness': 0.117, 'valence': 0.334, 'tempo': 102.907, 'type': 'audio_features', 'id': '1XekWoZnWxXD7yZODzIDmo', 'uri': 'spotify:track:1XekWoZnWxXD7yZODzIDmo', 'track_href': 'https://api.spotify.com/v1/tracks/1XekWoZnWxXD7yZODzIDmo', 'analysis_url': 'https://api.spotify.com/v1/audio-analysis/1XekWoZnWxXD7yZODzIDmo', 'duration_ms': 189133, 'time_signature': 4}, {'danceability': 0.625, 'energy': 0.827, 'key': 4, 'loudness': -6.763, 'mode': 0, 'speechiness': 0.0602, 'acousticness': 0.0802, 'instrumentalness': 0, 'liveness': 0.164, 'valence': 0.613, 'tempo': 165.912, 'type': 'audio_features', 'id': '0fvKgQ0XzWJKEDJSPdNDid', 'uri': 'spotify:track:0fvKgQ0XzWJKEDJSPdNDid', 'track_href': 'https://api.spotify.com/v1/tracks/0fvKgQ0XzWJKEDJSPdNDid', 'analysis_url': 'https://api.spotify.com/v1/audio-analysis/0fvKgQ0XzWJKEDJSPdNDid', 'duration_ms': 278920, 'time_signature': 4}, {'danceability': 0.734, 'energy': 0.752, 'key': 9, 'loudness': -6.049, 'mode': 0, 'speechiness': 0.0386, 'acousticness': 0.00859, 'instrumentalness': 1.84e-05, 'liveness': 0.0852, 'valence': 0.541, 'tempo': 117.998, 'type': 'audio_features', 'id': '37l4Qgcn1CuGlXx0jKhLpi', 'uri': 'spotify:track:37l4Qgcn1CuGlXx0jKhLpi', 'track_href': 'https://api.spotify.com/v1/tracks/37l4Qgcn1CuGlXx0jKhLpi', 'analysis_url': 'https://api.spotify.com/v1/audio-analysis/37l4Qgcn1CuGlXx0jKhLpi', 'duration_ms': 211507, 'time_signature': 4}, None, {'danceability': 0.465, 'energy': 0.841, 'key': 11, 'loudness': -5.767, 'mode': 0, 'speechiness': 0.0633, 'acousticness': 0.00486, 'instrumentalness': 0, 'liveness': 0.109, 'valence': 0.689, 'tempo': 168.743, 'type': 'audio_features', 'id': '4dneV7C1yDt9UtyxrQY375', 'uri': 'spotify:track:4dneV7C1yDt9UtyxrQY375', 'track_href': 'https://api.spotify.com/v1/tracks/4dneV7C1yDt9UtyxrQY375', 'analysis_url': 'https://api.spotify.com/v1/audio-analysis/4dneV7C1yDt9UtyxrQY375', 'duration_ms': 157533, 'time_signature': 4}, {'danceability': 0.43, 'energy': 0.971, 'key': 9, 'loudness': -3.845, 'mode': 1, 'speechiness': 0.0524, 'acousticness': 0.0271, 'instrumentalness': 2.16e-05, 'liveness': 0.185, 'valence': 0.764, 'tempo': 151.219, 'type': 'audio_features', 'id': '76GlO5H5RT6g7y0gev86Nk', 'uri': 'spotify:track:76GlO5H5RT6g7y0gev86Nk', 'track_href': 'https://api.spotify.com/v1/tracks/76GlO5H5RT6g7y0gev86Nk', 'analysis_url': 'https://api.spotify.com/v1/audio-analysis/76GlO5H5RT6g7y0gev86Nk', 'duration_ms': 212000, 'time_signature': 4}, {'danceability': 0.725, 'energy': 0.524, 'key': 11, 'loudness': -11.121, 'mode': 1, 'speechiness': 0.116, 'acousticness': 0.0748, 'instrumentalness': 0.764, 'liveness': 0.0819, 'valence': 0.961, 'tempo': 185.134, 'type': 'audio_features', 'id': '7ABE6G4uQxbNtYgVrpBBPA', 'uri': 'spotify:track:7ABE6G4uQxbNtYgVrpBBPA', 'track_href': 'https://api.spotify.com/v1/tracks/7ABE6G4uQxbNtYgVrpBBPA', 'analysis_url': 'https://api.spotify.com/v1/audio-analysis/7ABE6G4uQxbNtYgVrpBBPA', 'duration_ms': 203267, 'time_signature': 4}, {'danceability': 0.611, 'energy': 0.813, 'key': 9, 'loudness': -7.689, 'mode': 0, 'speechiness': 0.0279, 'acousticness': 0.339, 'instrumentalness': 0.898, 'liveness': 0.224, 'valence': 0.821, 'tempo': 140.112, 'type': 'audio_features', 'id': '0X5C4WjQNubRysTkHOubz3', 'uri': 'spotify:track:0X5C4WjQNubRysTkHOubz3', 'track_href': 'https://api.spotify.com/v1/tracks/0X5C4WjQNubRysTkHOubz3', 'analysis_url': 'https://api.spotify.com/v1/audio-analysis/0X5C4WjQNubRysTkHOubz3', 'duration_ms': 209573, 'time_signature': 4}, {'danceability': 0.541, 'energy': 0.83, 'key': 9, 'loudness': -6.246, 'mode': 1, 'speechiness': 0.0316, 'acousticness': 0.109, 'instrumentalness': 0.701, 'liveness': 0.167, 'valence': 0.711, 'tempo': 142.592, 'type': 'audio_features', 'id': '07CyrZF9eVd02zzIse7tZA', 'uri': 'spotify:track:07CyrZF9eVd02zzIse7tZA', 'track_href': 'https://api.spotify.com/v1/tracks/07CyrZF9eVd02zzIse7tZA', 'analysis_url': 'https://api.spotify.com/v1/audio-analysis/07CyrZF9eVd02zzIse7tZA', 'duration_ms': 177987, 'time_signature': 4}, {'danceability': 0.633, 'energy': 0.62, 'key': 0, 'loudness': -11.271, 'mode': 1, 'speechiness': 0.0648, 'acousticness': 0.34, 'instrumentalness': 0.605, 'liveness': 0.0977, 'valence': 0.421, 'tempo': 81.117, 'type': 'audio_features', 'id': '3O4TPMOgChXOerSdB5WENH', 'uri': 'spotify:track:3O4TPMOgChXOerSdB5WENH', 'track_href': 'https://api.spotify.com/v1/tracks/3O4TPMOgChXOerSdB5WENH', 'analysis_url': 'https://api.spotify.com/v1/audio-analysis/3O4TPMOgChXOerSdB5WENH', 'duration_ms': 354933, 'time_signature': 4}, {'danceability': 0.718, 'energy': 0.557, 'key': 9, 'loudness': -10.679, 'mode': 1, 'speechiness': 0.0328, 'acousticness': 0.185, 'instrumentalness': 0.707, 'liveness': 0.055, 'valence': 0.586, 'tempo': 94.095, 'type': 'audio_features', 'id': '4d4oXk7O2lEhZ83ivV93li', 'uri': 'spotify:track:4d4oXk7O2lEhZ83ivV93li', 'track_href': 'https://api.spotify.com/v1/tracks/4d4oXk7O2lEhZ83ivV93li', 'analysis_url': 'https://api.spotify.com/v1/audio-analysis/4d4oXk7O2lEhZ83ivV93li', 'duration_ms': 249880, 'time_signature': 4}, {'danceability': 0.484, 'energy': 0.776, 'key': 9, 'loudness': -6.48, 'mode': 1, 'speechiness': 0.0312, 'acousticness': 0.00371, 'instrumentalness': 0.109, 'liveness': 0.131, 'valence': 0.495, 'tempo': 171.935, 'type': 'audio_features', 'id': '1tuwC1Ob5vnYZhvg3zyzJg', 'uri': 'spotify:track:1tuwC1Ob5vnYZhvg3zyzJg', 'track_href': 'https://api.spotify.com/v1/tracks/1tuwC1Ob5vnYZhvg3zyzJg', 'analysis_url': 'https://api.spotify.com/v1/audio-analysis/1tuwC1Ob5vnYZhvg3zyzJg', 'duration_ms': 448467, 'time_signature': 4}, None, {'danceability': 0.645, 'energy': 0.713, 'key': 6, 'loudness': -5.355, 'mode': 1, 'speechiness': 0.0393, 'acousticness': 0.00835, 'instrumentalness': 0, 'liveness': 0.113, 'valence': 0.566, 'tempo': 74.989, 'type': 'audio_features', 'id': '2Z8WuEywRWYTKe1NybPQEW', 'uri': 'spotify:track:2Z8WuEywRWYTKe1NybPQEW', 'track_href': 'https://api.spotify.com/v1/tracks/2Z8WuEywRWYTKe1NybPQEW', 'analysis_url': 'https://api.spotify.com/v1/audio-analysis/2Z8WuEywRWYTKe1NybPQEW', 'duration_ms': 214507, 'time_signature': 4}, {'danceability': 0.732, 'energy': 0.396, 'key': 4, 'loudness': -9.348, 'mode': 0, 'speechiness': 0.0286, 'acousticness': 0.0841, 'instrumentalness': 3.58e-05, 'liveness': 0.105, 'valence': 0.548, 'tempo': 90.024, 'type': 'audio_features', 'id': '6i0V12jOa3mr6uu4WYhUBr', 'uri': 'spotify:track:6i0V12jOa3mr6uu4WYhUBr', 'track_href': 'https://api.spotify.com/v1/tracks/6i0V12jOa3mr6uu4WYhUBr', 'analysis_url': 'https://api.spotify.com/v1/audio-analysis/6i0V12jOa3mr6uu4WYhUBr', 'duration_ms': 195920, 'time_signature': 4}, {'danceability': 0.609, 'energy': 0.674, 'key': 10, 'loudness': -7.388, 'mode': 0, 'speechiness': 0.0548, 'acousticness': 0.0735, 'instrumentalness': 0.06, 'liveness': 0.345, 'valence': 0.315, 'tempo': 90.009, 'type': 'audio_features', 'id': '23OXdR7YuUBVWh5hSnYJau', 'uri': 'spotify:track:23OXdR7YuUBVWh5hSnYJau', 'track_href': 'https://api.spotify.com/v1/tracks/23OXdR7YuUBVWh5hSnYJau', 'analysis_url': 'https://api.spotify.com/v1/audio-analysis/23OXdR7YuUBVWh5hSnYJau', 'duration_ms': 324467, 'time_signature': 4}, {'danceability': 0.588, 'energy': 0.856, 'key': 9, 'loudness': -5.242, 'mode': 0, 'speechiness': 0.0316, 'acousticness': 0.000818, 'instrumentalness': 0.0739, 'liveness': 0.238, 'valence': 0.635, 'tempo': 96.966, 'type': 'audio_features', 'id': '2nG54Y4a3sH9YpfxMolOyi', 'uri': 'spotify:track:2nG54Y4a3sH9YpfxMolOyi', 'track_href': 'https://api.spotify.com/v1/tracks/2nG54Y4a3sH9YpfxMolOyi', 'analysis_url': 'https://api.spotify.com/v1/audio-analysis/2nG54Y4a3sH9YpfxMolOyi', 'duration_ms': 175044, 'time_signature': 4}, {'danceability': 0.687, 'energy': 0.89, 'key': 8, 'loudness': -5.99, 'mode': 1, 'speechiness': 0.0344, 'acousticness': 0.00396, 'instrumentalness': 0.000939, 'liveness': 0.0436, 'valence': 0.854, 'tempo': 113.06, 'type': 'audio_features', 'id': '60dwJ8dnqZ4WrIdiu7LkNR', 'uri': 'spotify:track:60dwJ8dnqZ4WrIdiu7LkNR', 'track_href': 'https://api.spotify.com/v1/tracks/60dwJ8dnqZ4WrIdiu7LkNR', 'analysis_url': 'https://api.spotify.com/v1/audio-analysis/60dwJ8dnqZ4WrIdiu7LkNR', 'duration_ms': 172232, 'time_signature': 4}, {'danceability': 0.655, 'energy': 0.632, 'key': 2, 'loudness': -4.802, 'mode': 1, 'speechiness': 0.0489, 'acousticness': 0.0189, 'instrumentalness': 0, 'liveness': 0.0722, 'valence': 0.447, 'tempo': 120.113, 'type': 'audio_features', 'id': '3bnVBN67NBEzedqQuWrpP4', 'uri': 'spotify:track:3bnVBN67NBEzedqQuWrpP4', 'track_href': 'https://api.spotify.com/v1/tracks/3bnVBN67NBEzedqQuWrpP4', 'analysis_url': 'https://api.spotify.com/v1/audio-analysis/3bnVBN67NBEzedqQuWrpP4', 'duration_ms': 188493, 'time_signature': 4}, {'danceability': 0.754, 'energy': 0.583, 'key': 4, 'loudness': -7.34, 'mode': 0, 'speechiness': 0.0432, 'acousticness': 0.32, 'instrumentalness': 0.00015, 'liveness': 0.144, 'valence': 0.77, 'tempo': 122.012, 'type': 'audio_features', 'id': '6xZ4Q2k2ompmDppyeESIY8', 'uri': 'spotify:track:6xZ4Q2k2ompmDppyeESIY8', 'track_href': 'https://api.spotify.com/v1/tracks/6xZ4Q2k2ompmDppyeESIY8', 'analysis_url': 'https://api.spotify.com/v1/audio-analysis/6xZ4Q2k2ompmDppyeESIY8', 'duration_ms': 220051, 'time_signature': 4}, {'danceability': 0.766, 'energy': 0.519, 'key': 9, 'loudness': -7.355, 'mode': 0, 'speechiness': 0.0366, 'acousticness': 0.098, 'instrumentalness': 0, 'liveness': 0.0855, 'valence': 0.612, 'tempo': 129.972, 'type': 'audio_features', 'id': '5cbpoIu3YjoOwbBDGUEp3P', 'uri': 'spotify:track:5cbpoIu3YjoOwbBDGUEp3P', 'track_href': 'https://api.spotify.com/v1/tracks/5cbpoIu3YjoOwbBDGUEp3P', 'analysis_url': 'https://api.spotify.com/v1/audio-analysis/5cbpoIu3YjoOwbBDGUEp3P', 'duration_ms': 267720, 'time_signature': 4}, None, {'danceability': 0.743, 'energy': 0.429, 'key': 10, 'loudness': -14.576, 'mode': 0, 'speechiness': 0.0902, 'acousticness': 0.447, 'instrumentalness': 0.362, 'liveness': 0.0455, 'valence': 0.597, 'tempo': 95.406, 'type': 'audio_features', 'id': '5fdNHVZHbWB1AaXk4RBGVD', 'uri': 'spotify:track:5fdNHVZHbWB1AaXk4RBGVD', 'track_href': 'https://api.spotify.com/v1/tracks/5fdNHVZHbWB1AaXk4RBGVD', 'analysis_url': 'https://api.spotify.com/v1/audio-analysis/5fdNHVZHbWB1AaXk4RBGVD', 'duration_ms': 443773, 'time_signature': 4}, {'danceability': 0.734, 'energy': 0.64, 'key': 5, 'loudness': -8.471, 'mode': 0, 'speechiness': 0.0661, 'acousticness': 0.00606, 'instrumentalness': 0.37, 'liveness': 0.0602, 'valence': 0.868, 'tempo': 103.812, 'type': 'audio_features', 'id': '2fmXnPfzguSp3zKDibCBgv', 'uri': 'spotify:track:2fmXnPfzguSp3zKDibCBgv', 'track_href': 'https://api.spotify.com/v1/tracks/2fmXnPfzguSp3zKDibCBgv', 'analysis_url': 'https://api.spotify.com/v1/audio-analysis/2fmXnPfzguSp3zKDibCBgv', 'duration_ms': 541827, 'time_signature': 4}, {'danceability': 0.766, 'energy': 0.381, 'key': 10, 'loudness': -14.456, 'mode': 0, 'speechiness': 0.0805, 'acousticness': 0.18, 'instrumentalness': 0.0844, 'liveness': 0.48, 'valence': 0.634, 'tempo': 98.862, 'type': 'audio_features', 'id': '0nN2D5xwVtLrgUw0TIQ5CI', 'uri': 'spotify:track:0nN2D5xwVtLrgUw0TIQ5CI', 'track_href': 'https://api.spotify.com/v1/tracks/0nN2D5xwVtLrgUw0TIQ5CI', 'analysis_url': 'https://api.spotify.com/v1/audio-analysis/0nN2D5xwVtLrgUw0TIQ5CI', 'duration_ms': 452573, 'time_signature': 4}, {'danceability': 0.424, 'energy': 0.432, 'key': 8, 'loudness': -13.014, 'mode': 1, 'speechiness': 0.0422, 'acousticness': 0.593, 'instrumentalness': 0.344, 'liveness': 0.0764, 'valence': 0.832, 'tempo': 174.03, 'type': 'audio_features', 'id': '4TYEIckMi7PTCh1kiknKSy', 'uri': 'spotify:track:4TYEIckMi7PTCh1kiknKSy', 'track_href': 'https://api.spotify.com/v1/tracks/4TYEIckMi7PTCh1kiknKSy', 'analysis_url': 'https://api.spotify.com/v1/audio-analysis/4TYEIckMi7PTCh1kiknKSy', 'duration_ms': 479467, 'time_signature': 4}, {'danceability': 0.743, 'energy': 0.352, 'key': 9, 'loudness': -17.225, 'mode': 0, 'speechiness': 0.061, 'acousticness': 0.146, 'instrumentalness': 0.104, 'liveness': 0.0585, 'valence': 0.722, 'tempo': 108.785, 'type': 'audio_features', 'id': '6jY7UcNWda03nyJ5XiqlYt', 'uri': 'spotify:track:6jY7UcNWda03nyJ5XiqlYt', 'track_href': 'https://api.spotify.com/v1/tracks/6jY7UcNWda03nyJ5XiqlYt', 'analysis_url': 'https://api.spotify.com/v1/audio-analysis/6jY7UcNWda03nyJ5XiqlYt', 'duration_ms': 350600, 'time_signature': 4}, {'danceability': 0.785, 'energy': 0.302, 'key': 0, 'loudness': -14.555, 'mode': 0, 'speechiness': 0.0551, 'acousticness': 0.735, 'instrumentalness': 0.12, 'liveness': 0.123, 'valence': 0.467, 'tempo': 122.979, 'type': 'audio_features', 'id': '21qeCg7VQMQ6nVBCVFeoKD', 'uri': 'spotify:track:21qeCg7VQMQ6nVBCVFeoKD', 'track_href': 'https://api.spotify.com/v1/tracks/21qeCg7VQMQ6nVBCVFeoKD', 'analysis_url': 'https://api.spotify.com/v1/audio-analysis/21qeCg7VQMQ6nVBCVFeoKD', 'duration_ms': 392027, 'time_signature': 4}, {'danceability': 0.719, 'energy': 0.222, 'key': 10, 'loudness': -18.644, 'mode': 1, 'speechiness': 0.052, 'acousticness': 0.623, 'instrumentalness': 0.91, 'liveness': 0.0991, 'valence': 0.499, 'tempo': 92.409, 'type': 'audio_features', 'id': '6P5qgQNPHQdknn3tA7bmsN', 'uri': 'spotify:track:6P5qgQNPHQdknn3tA7bmsN', 'track_href': 'https://api.spotify.com/v1/tracks/6P5qgQNPHQdknn3tA7bmsN', 'analysis_url': 'https://api.spotify.com/v1/audio-analysis/6P5qgQNPHQdknn3tA7bmsN', 'duration_ms': 326773, 'time_signature': 4}, {'danceability': 0.579, 'energy': 0.437, 'key': 1, 'loudness': -12.721, 'mode': 1, 'speechiness': 0.0526, 'acousticness': 0.0427, 'instrumentalness': 0.0483, 'liveness': 0.0603, 'valence': 0.732, 'tempo': 91.866, 'type': 'audio_features', 'id': '7gNrC7OWXD4sp3JZiGEjUc', 'uri': 'spotify:track:7gNrC7OWXD4sp3JZiGEjUc', 'track_href': 'https://api.spotify.com/v1/tracks/7gNrC7OWXD4sp3JZiGEjUc', 'analysis_url': 'https://api.spotify.com/v1/audio-analysis/7gNrC7OWXD4sp3JZiGEjUc', 'duration_ms': 457880, 'time_signature': 4}, None, {'danceability': 0.429, 'energy': 0.661, 'key': 11, 'loudness': -7.227, 'mode': 1, 'speechiness': 0.0281, 'acousticness': 0.00239, 'instrumentalness': 0.000121, 'liveness': 0.234, 'valence': 0.285, 'tempo': 173.372, 'type': 'audio_features', 'id': '3AJwUDP919kvQ9QcozQPxg', 'uri': 'spotify:track:3AJwUDP919kvQ9QcozQPxg', 'track_href': 'https://api.spotify.com/v1/tracks/3AJwUDP919kvQ9QcozQPxg', 'analysis_url': 'https://api.spotify.com/v1/audio-analysis/3AJwUDP919kvQ9QcozQPxg', 'duration_ms': 266773, 'time_signature': 4}, {'danceability': 0.592, 'energy': 0.342, 'key': 0, 'loudness': -8.93, 'mode': 1, 'speechiness': 0.0339, 'acousticness': 0.193, 'instrumentalness': 0.00245, 'liveness': 0.11, 'valence': 0.155, 'tempo': 130.953, 'type': 'audio_features', 'id': '4cGqn0E8JCSY9gQllQj4Mf', 'uri': 'spotify:track:4cGqn0E8JCSY9gQllQj4Mf', 'track_href': 'https://api.spotify.com/v1/tracks/4cGqn0E8JCSY9gQllQj4Mf', 'analysis_url': 'https://api.spotify.com/v1/audio-analysis/4cGqn0E8JCSY9gQllQj4Mf', 'duration_ms': 241595, 'time_signature': 4}, {'danceability': 0.557, 'energy': 0.442, 'key': 5, 'loudness': -7.224, 'mode': 1, 'speechiness': 0.0243, 'acousticness': 0.731, 'instrumentalness': 1.46e-05, 'liveness': 0.11, 'valence': 0.213, 'tempo': 146.277, 'type': 'audio_features', 'id': '75JFxkI2RXiU7L9VXzMkle', 'uri': 'spotify:track:75JFxkI2RXiU7L9VXzMkle', 'track_href': 'https://api.spotify.com/v1/tracks/75JFxkI2RXiU7L9VXzMkle', 'analysis_url': 'https://api.spotify.com/v1/audio-analysis/75JFxkI2RXiU7L9VXzMkle', 'duration_ms': 309600, 'time_signature': 4}, {'danceability': 0.617, 'energy': 0.635, 'key': 11, 'loudness': -6.769, 'mode': 0, 'speechiness': 0.0317, 'acousticness': 0.0498, 'instrumentalness': 1.44e-05, 'liveness': 0.164, 'valence': 0.446, 'tempo': 103.019, 'type': 'audio_features', 'id': '6RUKPb4LETWmmr3iAEQktW', 'uri': 'spotify:track:6RUKPb4LETWmmr3iAEQktW', 'track_href': 'https://api.spotify.com/v1/tracks/6RUKPb4LETWmmr3iAEQktW', 'analysis_url': 'https://api.spotify.com/v1/audio-analysis/6RUKPb4LETWmmr3iAEQktW', 'duration_ms': 247160, 'time_signature': 4}, {'danceability': 0.209, 'energy': 0.417, 'key': 3, 'loudness': -8.74, 'mode': 1, 'speechiness': 0.0338, 'acousticness': 0.164, 'instrumentalness': 0.00196, 'liveness': 0.113, 'valence': 0.124, 'tempo': 138.178, 'type': 'audio_features', 'id': '7LVHVU3tWfcxj5aiPFEW4Q', 'uri': 'spotify:track:7LVHVU3tWfcxj5aiPFEW4Q', 'track_href': 'https://api.spotify.com/v1/tracks/7LVHVU3tWfcxj5aiPFEW4Q', 'analysis_url': 'https://api.spotify.com/v1/audio-analysis/7LVHVU3tWfcxj5aiPFEW4Q', 'duration_ms': 295533, 'time_signature': 4}, {'danceability': 0.491, 'energy': 0.693, 'key': 0, 'loudness': -6.487, 'mode': 0, 'speechiness': 0.0377, 'acousticness': 0.211, 'instrumentalness': 6.92e-06, 'liveness': 0.325, 'valence': 0.412, 'tempo': 90.027, 'type': 'audio_features', 'id': '3RiPr603aXAoi4GHyXx0uy', 'uri': 'spotify:track:3RiPr603aXAoi4GHyXx0uy', 'track_href': 'https://api.spotify.com/v1/tracks/3RiPr603aXAoi4GHyXx0uy', 'analysis_url': 'https://api.spotify.com/v1/audio-analysis/3RiPr603aXAoi4GHyXx0uy', 'duration_ms': 258267, 'time_signature': 4}, {'danceability': 0.449, 'energy': 0.585, 'key': 5, 'loudness': -6.761, 'mode': 1, 'speechiness': 0.0268, 'acousticness': 0.0509, 'instrumentalness': 8.75e-05, 'liveness': 0.0833, 'valence': 0.212, 'tempo': 139.631, 'type': 'audio_features', 'id': '6nek1Nin9q48AVZcWs9e9D', 'uri': 'spotify:track:6nek1Nin9q48AVZcWs9e9D', 'track_href': 'https://api.spotify.com/v1/tracks/6nek1Nin9q48AVZcWs9e9D', 'analysis_url': 'https://api.spotify.com/v1/audio-analysis/6nek1Nin9q48AVZcWs9e9D', 'duration_ms': 278719, 'time_signature': 4}, {'danceability': 0.486, 'energy': 0.617, 'key': 5, 'loudness': -7.115, 'mode': 0, 'speechiness': 0.0287, 'acousticness': 0.0954, 'instrumentalness': 3.23e-06, 'liveness': 0.109, 'valence': 0.417, 'tempo': 138.015, 'type': 'audio_features', 'id': '1mea3bSkSGXuIRvnydlB5b', 'uri': 'spotify:track:1mea3bSkSGXuIRvnydlB5b', 'track_href': 'https://api.spotify.com/v1/tracks/1mea3bSkSGXuIRvnydlB5b', 'analysis_url': 'https://api.spotify.com/v1/audio-analysis/1mea3bSkSGXuIRvnydlB5b', 'duration_ms': 242373, 'time_signature': 4}, None, {'danceability': 0.68, 'energy': 0.527, 'key': 0, 'loudness': -6.748, 'mode': 1, 'speechiness': 0.11, 'acousticness': 0.232, 'instrumentalness': 0.000402, 'liveness': 0.115, 'valence': 0.192, 'tempo': 88.958, 'type': 'audio_features', 'id': '3CQDFLetMMxD5hzAnUk410', 'uri': 'spotify:track:3CQDFLetMMxD5hzAnUk410', 'track_href': 'https://api.spotify.com/v1/tracks/3CQDFLetMMxD5hzAnUk410', 'analysis_url': 'https://api.spotify.com/v1/audio-analysis/3CQDFLetMMxD5hzAnUk410', 'duration_ms': 219681, 'time_signature': 4}, {'danceability': 0.788, 'energy': 0.526, 'key': 9, 'loudness': -8.082, 'mode': 0, 'speechiness': 0.071, 'acousticness': 0.524, 'instrumentalness': 0, 'liveness': 0.285, 'valence': 0.584, 'tempo': 89.012, 'type': 'audio_features', 'id': '7xLYLM5K6S1TwiSdfuhZQg', 'uri': 'spotify:track:7xLYLM5K6S1TwiSdfuhZQg', 'track_href': 'https://api.spotify.com/v1/tracks/7xLYLM5K6S1TwiSdfuhZQg', 'analysis_url': 'https://api.spotify.com/v1/audio-analysis/7xLYLM5K6S1TwiSdfuhZQg', 'duration_ms': 220301, 'time_signature': 4}, {'danceability': 0.74, 'energy': 0.428, 'key': 9, 'loudness': -8.458, 'mode': 1, 'speechiness': 0.0959, 'acousticness': 0.644, 'instrumentalness': 1.76e-05, 'liveness': 0.117, 'valence': 0.281, 'tempo': 84.739, 'type': 'audio_features', 'id': '1ZR473PTTSHGcnyRyidBoA', 'uri': 'spotify:track:1ZR473PTTSHGcnyRyidBoA', 'track_href': 'https://api.spotify.com/v1/tracks/1ZR473PTTSHGcnyRyidBoA', 'analysis_url': 'https://api.spotify.com/v1/audio-analysis/1ZR473PTTSHGcnyRyidBoA', 'duration_ms': 142576, 'time_signature': 4}, {'danceability': 0.804, 'energy': 0.535, 'key': 4, 'loudness': -8.603, 'mode': 0, 'speechiness': 0.143, 'acousticness': 0.486, 'instrumentalness': 0, 'liveness': 0.108, 'valence': 0.628, 'tempo': 151.957, 'type': 'audio_features', 'id': '76NtMPMpA6fuUH4euMYZoD', 'uri': 'spotify:track:76NtMPMpA6fuUH4euMYZoD', 'track_href': 'https://api.spotify.com/v1/tracks/76NtMPMpA6fuUH4euMYZoD', 'analysis_url': 'https://api.spotify.com/v1/audio-analysis/76NtMPMpA6fuUH4euMYZoD', 'duration_ms': 245191, 'time_signature': 4}, {'danceability': 0.783, 'energy': 0.673, 'key': 5, 'loudness': -6.198, 'mode': 1, 'speechiness': 0.0959, 'acousticness': 0.166, 'instrumentalness': 1.98e-05, 'liveness': 0.104, 'valence': 0.813, 'tempo': 169.972, 'type': 'audio_features', 'id': '5SEyiGqIMeZcFpC5ycODJc', 'uri': 'spotify:track:5SEyiGqIMeZcFpC5ycODJc', 'track_href': 'https://api.spotify.com/v1/tracks/5SEyiGqIMeZcFpC5ycODJc', 'analysis_url': 'https://api.spotify.com/v1/audio-analysis/5SEyiGqIMeZcFpC5ycODJc', 'duration_ms': 310588, 'time_signature': 4}, {'danceability': 0.754, 'energy': 0.481, 'key': 0, 'loudness': -7.91, 'mode': 1, 'speechiness': 0.444, 'acousticness': 0.387, 'instrumentalness': 0, 'liveness': 0.35, 'valence': 0.289, 'tempo': 83.907, 'type': 'audio_features', 'id': '7fM24rKaYCTGf85Lj8U2pk', 'uri': 'spotify:track:7fM24rKaYCTGf85Lj8U2pk', 'track_href': 'https://api.spotify.com/v1/tracks/7fM24rKaYCTGf85Lj8U2pk', 'analysis_url': 'https://api.spotify.com/v1/audio-analysis/7fM24rKaYCTGf85Lj8U2pk', 'duration_ms': 180000, 'time_signature': 4}, {'danceability': 0.795, 'energy': 0.238, 'key': 5, 'loudness': -20.338, 'mode': 1, 'speechiness': 0.369, 'acousticness': 0.487, 'instrumentalness': 0.000106, 'liveness': 0.137, 'valence': 0.399, 'tempo': 100.996, 'type': 'audio_features', 'id': '30pCOQE19RvNmHq78Svlkm', 'uri': 'spotify:track:30pCOQE19RvNmHq78Svlkm', 'track_href': 'https://api.spotify.com/v1/tracks/30pCOQE19RvNmHq78Svlkm', 'analysis_url': 'https://api.spotify.com/v1/audio-analysis/30pCOQE19RvNmHq78Svlkm', 'duration_ms': 194851, 'time_signature': 4}, {'danceability': 0.793, 'energy': 0.605, 'key': 1, 'loudness': -4.952, 'mode': 0, 'speechiness': 0.119, 'acousticness': 0.426, 'instrumentalness': 0, 'liveness': 0.334, 'valence': 0.268, 'tempo': 91.068, 'type': 'audio_features', 'id': '2mRwodUOATBk5spcUsEidB', 'uri': 'spotify:track:2mRwodUOATBk5spcUsEidB', 'track_href': 'https://api.spotify.com/v1/tracks/2mRwodUOATBk5spcUsEidB', 'analysis_url': 'https://api.spotify.com/v1/audio-analysis/2mRwodUOATBk5spcUsEidB', 'duration_ms': 184749, 'time_signature': 4}, None, {'danceability': 0.849, 'energy': 0.424, 'key': 5, 'loudness': -9.579, 'mode': 0, 'speechiness': 0.324, 'acousticness': 0.0635, 'instrumentalness': 0, 'liveness': 0.0834, 'valence': 0.153, 'tempo': 145.887, 'type': 'audio_features', 'id': '2BcMwX1MPV6ZHP4tUT9uq6', 'uri': 'spotify:track:2BcMwX1MPV6ZHP4tUT9uq6', 'track_href': 'https://api.spotify.com/v1/tracks/2BcMwX1MPV6ZHP4tUT9uq6', 'analysis_url': 'https://api.spotify.com/v1/audio-analysis/2BcMwX1MPV6ZHP4tUT9uq6', 'duration_ms': 242966, 'time_signature': 4}, {'danceability': 0.666, 'energy': 0.465, 'key': 1, 'loudness': -8.545, 'mode': 1, 'speechiness': 0.26, 'acousticness': 0.0503, 'instrumentalness': 0, 'liveness': 0.215, 'valence': 0.292, 'tempo': 167.937, 'type': 'audio_features', 'id': '40iJIUlhi6renaREYGeIDS', 'uri': 'spotify:track:40iJIUlhi6renaREYGeIDS', 'track_href': 'https://api.spotify.com/v1/tracks/40iJIUlhi6renaREYGeIDS', 'analysis_url': 'https://api.spotify.com/v1/audio-analysis/40iJIUlhi6renaREYGeIDS', 'duration_ms': 291175, 'time_signature': 4}, {'danceability': 0.767, 'energy': 0.438, 'key': 7, 'loudness': -8.726, 'mode': 0, 'speechiness': 0.29, 'acousticness': 0.181, 'instrumentalness': 0, 'liveness': 0.142, 'valence': 0.381, 'tempo': 86.975, 'type': 'audio_features', 'id': '37Nqx7iavZpotJSDXZWbJ3', 'uri': 'spotify:track:37Nqx7iavZpotJSDXZWbJ3', 'track_href': 'https://api.spotify.com/v1/tracks/37Nqx7iavZpotJSDXZWbJ3', 'analysis_url': 'https://api.spotify.com/v1/audio-analysis/37Nqx7iavZpotJSDXZWbJ3', 'duration_ms': 221980, 'time_signature': 4}, {'danceability': 0.423, 'energy': 0.667, 'key': 6, 'loudness': -7.012, 'mode': 0, 'speechiness': 0.326, 'acousticness': 0.758, 'instrumentalness': 0, 'liveness': 0.246, 'valence': 0.496, 'tempo': 86.743, 'type': 'audio_features', 'id': '2HSmyk2qMN8WQjuGhaQgCk', 'uri': 'spotify:track:2HSmyk2qMN8WQjuGhaQgCk', 'track_href': 'https://api.spotify.com/v1/tracks/2HSmyk2qMN8WQjuGhaQgCk', 'analysis_url': 'https://api.spotify.com/v1/audio-analysis/2HSmyk2qMN8WQjuGhaQgCk', 'duration_ms': 336511, 'time_signature': 4}, {'danceability': 0.578, 'energy': 0.449, 'key': 1, 'loudness': -6.349, 'mode': 1, 'speechiness': 0.286, 'acousticness': 0.0618, 'instrumentalness': 2.17e-06, 'liveness': 0.119, 'valence': 0.1, 'tempo': 136.006, 'type': 'audio_features', 'id': '65OVbaJR5O1RmwOQx0875b', 'uri': 'spotify:track:65OVbaJR5O1RmwOQx0875b', 'track_href': 'https://api.spotify.com/v1/tracks/65OVbaJR5O1RmwOQx0875b', 'analysis_url': 'https://api.spotify.com/v1/audio-analysis/65OVbaJR5O1RmwOQx0875b', 'duration_ms': 192956, 'time_signature': 4}, {'danceability': 0.792, 'energy': 0.625, 'key': 1, 'loudness': -5.609, 'mode': 1, 'speechiness': 0.0536, 'acousticness': 0.00776, 'instrumentalness': 0.0018, 'liveness': 0.329, 'valence': 0.37, 'tempo': 103.967, 'type': 'audio_features', 'id': '1zi7xx7UVEFkmKfv06H8x0', 'uri': 'spotify:track:1zi7xx7UVEFkmKfv06H8x0', 'track_href': 'https://api.spotify.com/v1/tracks/1zi7xx7UVEFkmKfv06H8x0', 'analysis_url': 'https://api.spotify.com/v1/audio-analysis/1zi7xx7UVEFkmKfv06H8x0', 'duration_ms': 173987, 'time_signature': 4}, {'danceability': 0.84, 'energy': 0.744, 'key': 1, 'loudness': -4.751, 'mode': 1, 'speechiness': 0.113, 'acousticness': 0.0181, 'instrumentalness': 0, 'liveness': 0.629, 'valence': 0.171, 'tempo': 83.737, 'type': 'audio_features', 'id': '2tUL6dZf1mywCj5WvCPZw6', 'uri': 'spotify:track:2tUL6dZf1mywCj5WvCPZw6', 'track_href': 'https://api.spotify.com/v1/tracks/2tUL6dZf1mywCj5WvCPZw6', 'analysis_url': 'https://api.spotify.com/v1/audio-analysis/2tUL6dZf1mywCj5WvCPZw6', 'duration_ms': 204347, 'time_signature': 4}, {'danceability': 0.761, 'energy': 0.518, 'key': 0, 'loudness': -8.871, 'mode': 1, 'speechiness': 0.134, 'acousticness': 0.244, 'instrumentalness': 3.47e-05, 'liveness': 0.107, 'valence': 0.522, 'tempo': 133.976, 'type': 'audio_features', 'id': '2SAqBLGA283SUiwJ3xOUVI', 'uri': 'spotify:track:2SAqBLGA283SUiwJ3xOUVI', 'track_href': 'https://api.spotify.com/v1/tracks/2SAqBLGA283SUiwJ3xOUVI', 'analysis_url': 'https://api.spotify.com/v1/audio-analysis/2SAqBLGA283SUiwJ3xOUVI', 'duration_ms': 261493, 'time_signature': 4}, None, {'danceability': 0.716, 'energy': 0.426, 'key': 10, 'loudness': -9.576, 'mode': 1, 'speechiness': 0.128, 'acousticness': 0.401, 'instrumentalness': 0, 'liveness': 0.11, 'valence': 0.434, 'tempo': 88.794, 'type': 'audio_features', 'id': '7Gk5OrMYaMRtT2JmgJVAfk', 'uri': 'spotify:track:7Gk5OrMYaMRtT2JmgJVAfk', 'track_href': 'https://api.spotify.com/v1/tracks/7Gk5OrMYaMRtT2JmgJVAfk', 'analysis_url': 'https://api.spotify.com/v1/audio-analysis/7Gk5OrMYaMRtT2JmgJVAfk', 'duration_ms': 202288, 'time_signature': 4}, {'danceability': 0.589, 'energy': 0.542, 'key': 6, 'loudness': -8.359, 'mode': 0, 'speechiness': 0.0746, 'acousticness': 0.125, 'instrumentalness': 3.31e-05, 'liveness': 0.0883, 'valence': 0.327, 'tempo': 100.884, 'type': 'audio_features', 'id': '2LOIoeI16A8jjKubPKoCSa', 'uri': 'spotify:track:2LOIoeI16A8jjKubPKoCSa', 'track_href': 'https://api.spotify.com/v1/tracks/2LOIoeI16A8jjKubPKoCSa', 'analysis_url': 'https://api.spotify.com/v1/audio-analysis/2LOIoeI16A8jjKubPKoCSa', 'duration_ms': 201453, 'time_signature': 4}, {'danceability': 0.676, 'energy': 0.374, 'key': 10, 'loudness': -8.201, 'mode': 1, 'speechiness': 0.0266, 'acousticness': 0.877, 'instrumentalness': 0.000132, 'liveness': 0.165, 'valence': 0.2, 'tempo': 99.825, 'type': 'audio_features', 'id': '2vRBYKWOyHtFMtiK60qRz7', 'uri': 'spotify:track:2vRBYKWOyHtFMtiK60qRz7', 'track_href': 'https://api.spotify.com/v1/tracks/2vRBYKWOyHtFMtiK60qRz7', 'analysis_url': 'https://api.spotify.com/v1/audio-analysis/2vRBYKWOyHtFMtiK60qRz7', 'duration_ms': 205468, 'time_signature': 4}, {'danceability': 0.617, 'energy': 0.533, 'key': 7, 'loudness': -6.386, 'mode': 1, 'speechiness': 0.0395, 'acousticness': 0.47, 'instrumentalness': 0, 'liveness': 0.114, 'valence': 0.589, 'tempo': 123.959, 'type': 'audio_features', 'id': '1PQRwFvNM7xV65bIkHmDtx', 'uri': 'spotify:track:1PQRwFvNM7xV65bIkHmDtx', 'track_href': 'https://api.spotify.com/v1/tracks/1PQRwFvNM7xV65bIkHmDtx', 'analysis_url': 'https://api.spotify.com/v1/audio-analysis/1PQRwFvNM7xV65bIkHmDtx', 'duration_ms': 262552, 'time_signature': 4}, {'danceability': 0.629, 'energy': 0.507, 'key': 10, 'loudness': -6.443, 'mode': 1, 'speechiness': 0.0288, 'acousticness': 0.468, 'instrumentalness': 0, 'liveness': 0.0937, 'valence': 0.55, 'tempo': 94.023, 'type': 'audio_features', 'id': '3KK3nLgrRdycpnYxPDVfMV', 'uri': 'spotify:track:3KK3nLgrRdycpnYxPDVfMV', 'track_href': 'https://api.spotify.com/v1/tracks/3KK3nLgrRdycpnYxPDVfMV', 'analysis_url': 'https://api.spotify.com/v1/audio-analysis/3KK3nLgrRdycpnYxPDVfMV', 'duration_ms': 184267, 'time_signature': 4}, {'danceability': 0.581, 'energy': 0.613, 'key': 0, 'loudness': -9.444, 'mode': 1, 'speechiness': 0.0372, 'acousticness': 0.623, 'instrumentalness': 1.75e-05, 'liveness': 0.212, 'valence': 0.214, 'tempo': 90.098, 'type': 'audio_features', 'id': '3idU6lZVKD6hvGjnpSHde8', 'uri': 'spotify:track:3idU6lZVKD6hvGjnpSHde8', 'track_href': 'https://api.spotify.com/v1/tracks/3idU6lZVKD6hvGjnpSHde8', 'analysis_url': 'https://api.spotify.com/v1/audio-analysis/3idU6lZVKD6hvGjnpSHde8', 'duration_ms': 216829, 'time_signature': 4}, {'danceability': 0.725, 'energy': 0.532, 'key': 4, 'loudness': -10.531, 'mode': 1, 'speechiness': 0.0457, 'acousticness': 0.546, 'instrumentalness': 0.00131, 'liveness': 0.0969, 'valence': 0.559, 'tempo': 103.94, 'type': 'audio_features', 'id': '3bR8wBqLky6b61ROJlaBEF', 'uri': 'spotify:track:3bR8wBqLky6b61ROJlaBEF', 'track_href': 'https://api.spotify.com/v1/tracks/3bR8wBqLky6b61ROJlaBEF', 'analysis_url': 'https://api.spotify.com/v1/audio-analysis/3bR8wBqLky6b61ROJlaBEF', 'duration_ms': 220567, 'time_signature': 4}, {'danceability': 0.747, 'energy': 0.307, 'key': 3, 'loudness': -8.617, 'mode': 1, 'speechiness': 0.0332, 'acousticness': 0.497, 'instrumentalness': 0.000121, 'liveness': 0.131, 'valence': 0.323, 'tempo': 127.841, 'type': 'audio_features', 'id': '0wHLjfLyc26xILjHVMGIHN', 'uri': 'spotify:track:0wHLjfLyc26xILjHVMGIHN', 'track_href': 'https://api.spotify.com/v1/tracks/0wHLjfLyc26xILjHVMGIHN', 'analysis_url': 'https://api.spotify.com/v1/audio-analysis/0wHLjfLyc26xILjHVMGIHN', 'duration_ms': 192715, 'time_signature': 4}, {'danceability': 0.765, 'energy': 0.307, 'key': 11, 'loudness': -10.472, 'mode': 1, 'speechiness': 0.0328, 'acousticness': 0.727, 'instrumentalness': 2.15e-06, 'liveness': 0.109, 'valence': 0.257, 'tempo': 119.836, 'type': 'audio_features', 'id': '2bwNhYxgQlkokiEn94eAYT', 'uri': 'spotify:track:2bwNhYxgQlkokiEn94eAYT', 'track_href': 'https://api.spotify.com/v1/tracks/2bwNhYxgQlkokiEn94eAYT', 'analysis_url': 'https://api.spotify.com/v1/audio-analysis/2bwNhYxgQlkokiEn94eAYT', 'duration_ms': 206109, 'time_signature': 4}]}\n",
            "{'audio_features': [{'danceability': 0.648, 'energy': 0.792, 'key': 0, 'loudness': -6.058, 'mode': 1, 'speechiness': 0.035, 'acousticness': 0.0657, 'instrumentalness': 5.31e-06, 'liveness': 0.0788, 'valence': 0.935, 'tempo': 159.968, 'type': 'audio_features', 'id': '6Vk5QUhQ0v5OjYQIYvL5VL', 'uri': 'spotify:track:6Vk5QUhQ0v5OjYQIYvL5VL', 'track_href': 'https://api.spotify.com/v1/tracks/6Vk5QUhQ0v5OjYQIYvL5VL', 'analysis_url': 'https://api.spotify.com/v1/audio-analysis/6Vk5QUhQ0v5OjYQIYvL5VL', 'duration_ms': 260867, 'time_signature': 4}, {'danceability': 0.573, 'energy': 0.658, 'key': 1, 'loudness': -5.557, 'mode': 0, 'speechiness': 0.0396, 'acousticness': 0.0195, 'instrumentalness': 0, 'liveness': 0.209, 'valence': 0.481, 'tempo': 105.052, 'type': 'audio_features', 'id': '0uCKawvDKjr0AegelrzSuX', 'uri': 'spotify:track:0uCKawvDKjr0AegelrzSuX', 'track_href': 'https://api.spotify.com/v1/tracks/0uCKawvDKjr0AegelrzSuX', 'analysis_url': 'https://api.spotify.com/v1/audio-analysis/0uCKawvDKjr0AegelrzSuX', 'duration_ms': 236613, 'time_signature': 4}, {'danceability': 0.616, 'energy': 0.766, 'key': 4, 'loudness': -6.59, 'mode': 0, 'speechiness': 0.0382, 'acousticness': 0.0776, 'instrumentalness': 0, 'liveness': 0.361, 'valence': 0.373, 'tempo': 83.965, 'type': 'audio_features', 'id': '1kEoU9Dmivr2JoOf7ramyT', 'uri': 'spotify:track:1kEoU9Dmivr2JoOf7ramyT', 'track_href': 'https://api.spotify.com/v1/tracks/1kEoU9Dmivr2JoOf7ramyT', 'analysis_url': 'https://api.spotify.com/v1/audio-analysis/1kEoU9Dmivr2JoOf7ramyT', 'duration_ms': 259840, 'time_signature': 4}, {'danceability': 0.671, 'energy': 0.885, 'key': 7, 'loudness': -5.39, 'mode': 0, 'speechiness': 0.0305, 'acousticness': 0.0191, 'instrumentalness': 3.83e-06, 'liveness': 0.223, 'valence': 0.55, 'tempo': 119.959, 'type': 'audio_features', 'id': '2eqbY9whZVv4cnwvzbDAfD', 'uri': 'spotify:track:2eqbY9whZVv4cnwvzbDAfD', 'track_href': 'https://api.spotify.com/v1/tracks/2eqbY9whZVv4cnwvzbDAfD', 'analysis_url': 'https://api.spotify.com/v1/audio-analysis/2eqbY9whZVv4cnwvzbDAfD', 'duration_ms': 252293, 'time_signature': 4}, {'danceability': 0.616, 'energy': 0.789, 'key': 9, 'loudness': -6.316, 'mode': 0, 'speechiness': 0.0417, 'acousticness': 0.0755, 'instrumentalness': 2.08e-05, 'liveness': 0.914, 'valence': 0.272, 'tempo': 90.968, 'type': 'audio_features', 'id': '4OYMdVXY6xE9GTvUT5UdCh', 'uri': 'spotify:track:4OYMdVXY6xE9GTvUT5UdCh', 'track_href': 'https://api.spotify.com/v1/tracks/4OYMdVXY6xE9GTvUT5UdCh', 'analysis_url': 'https://api.spotify.com/v1/audio-analysis/4OYMdVXY6xE9GTvUT5UdCh', 'duration_ms': 249013, 'time_signature': 4}, {'danceability': 0.528, 'energy': 0.308, 'key': 9, 'loudness': -9.769, 'mode': 1, 'speechiness': 0.0341, 'acousticness': 0.816, 'instrumentalness': 0, 'liveness': 0.0934, 'valence': 0.256, 'tempo': 80.017, 'type': 'audio_features', 'id': '3iOFY423D3690MfhE74F8A', 'uri': 'spotify:track:3iOFY423D3690MfhE74F8A', 'track_href': 'https://api.spotify.com/v1/tracks/3iOFY423D3690MfhE74F8A', 'analysis_url': 'https://api.spotify.com/v1/audio-analysis/3iOFY423D3690MfhE74F8A', 'duration_ms': 236040, 'time_signature': 4}, {'danceability': 0.721, 'energy': 0.622, 'key': 0, 'loudness': -6.627, 'mode': 1, 'speechiness': 0.0256, 'acousticness': 0.765, 'instrumentalness': 0.000249, 'liveness': 0.117, 'valence': 0.334, 'tempo': 102.907, 'type': 'audio_features', 'id': '1XekWoZnWxXD7yZODzIDmo', 'uri': 'spotify:track:1XekWoZnWxXD7yZODzIDmo', 'track_href': 'https://api.spotify.com/v1/tracks/1XekWoZnWxXD7yZODzIDmo', 'analysis_url': 'https://api.spotify.com/v1/audio-analysis/1XekWoZnWxXD7yZODzIDmo', 'duration_ms': 189133, 'time_signature': 4}, {'danceability': 0.625, 'energy': 0.827, 'key': 4, 'loudness': -6.763, 'mode': 0, 'speechiness': 0.0602, 'acousticness': 0.0802, 'instrumentalness': 0, 'liveness': 0.164, 'valence': 0.613, 'tempo': 165.912, 'type': 'audio_features', 'id': '0fvKgQ0XzWJKEDJSPdNDid', 'uri': 'spotify:track:0fvKgQ0XzWJKEDJSPdNDid', 'track_href': 'https://api.spotify.com/v1/tracks/0fvKgQ0XzWJKEDJSPdNDid', 'analysis_url': 'https://api.spotify.com/v1/audio-analysis/0fvKgQ0XzWJKEDJSPdNDid', 'duration_ms': 278920, 'time_signature': 4}, {'danceability': 0.734, 'energy': 0.752, 'key': 9, 'loudness': -6.049, 'mode': 0, 'speechiness': 0.0386, 'acousticness': 0.00859, 'instrumentalness': 1.84e-05, 'liveness': 0.0852, 'valence': 0.541, 'tempo': 117.998, 'type': 'audio_features', 'id': '37l4Qgcn1CuGlXx0jKhLpi', 'uri': 'spotify:track:37l4Qgcn1CuGlXx0jKhLpi', 'track_href': 'https://api.spotify.com/v1/tracks/37l4Qgcn1CuGlXx0jKhLpi', 'analysis_url': 'https://api.spotify.com/v1/audio-analysis/37l4Qgcn1CuGlXx0jKhLpi', 'duration_ms': 211507, 'time_signature': 4}, None, {'danceability': 0.465, 'energy': 0.841, 'key': 11, 'loudness': -5.767, 'mode': 0, 'speechiness': 0.0633, 'acousticness': 0.00486, 'instrumentalness': 0, 'liveness': 0.109, 'valence': 0.689, 'tempo': 168.743, 'type': 'audio_features', 'id': '4dneV7C1yDt9UtyxrQY375', 'uri': 'spotify:track:4dneV7C1yDt9UtyxrQY375', 'track_href': 'https://api.spotify.com/v1/tracks/4dneV7C1yDt9UtyxrQY375', 'analysis_url': 'https://api.spotify.com/v1/audio-analysis/4dneV7C1yDt9UtyxrQY375', 'duration_ms': 157533, 'time_signature': 4}, {'danceability': 0.43, 'energy': 0.971, 'key': 9, 'loudness': -3.845, 'mode': 1, 'speechiness': 0.0524, 'acousticness': 0.0271, 'instrumentalness': 2.16e-05, 'liveness': 0.185, 'valence': 0.764, 'tempo': 151.219, 'type': 'audio_features', 'id': '76GlO5H5RT6g7y0gev86Nk', 'uri': 'spotify:track:76GlO5H5RT6g7y0gev86Nk', 'track_href': 'https://api.spotify.com/v1/tracks/76GlO5H5RT6g7y0gev86Nk', 'analysis_url': 'https://api.spotify.com/v1/audio-analysis/76GlO5H5RT6g7y0gev86Nk', 'duration_ms': 212000, 'time_signature': 4}, {'danceability': 0.725, 'energy': 0.524, 'key': 11, 'loudness': -11.121, 'mode': 1, 'speechiness': 0.116, 'acousticness': 0.0748, 'instrumentalness': 0.764, 'liveness': 0.0819, 'valence': 0.961, 'tempo': 185.134, 'type': 'audio_features', 'id': '7ABE6G4uQxbNtYgVrpBBPA', 'uri': 'spotify:track:7ABE6G4uQxbNtYgVrpBBPA', 'track_href': 'https://api.spotify.com/v1/tracks/7ABE6G4uQxbNtYgVrpBBPA', 'analysis_url': 'https://api.spotify.com/v1/audio-analysis/7ABE6G4uQxbNtYgVrpBBPA', 'duration_ms': 203267, 'time_signature': 4}, {'danceability': 0.611, 'energy': 0.813, 'key': 9, 'loudness': -7.689, 'mode': 0, 'speechiness': 0.0279, 'acousticness': 0.339, 'instrumentalness': 0.898, 'liveness': 0.224, 'valence': 0.821, 'tempo': 140.112, 'type': 'audio_features', 'id': '0X5C4WjQNubRysTkHOubz3', 'uri': 'spotify:track:0X5C4WjQNubRysTkHOubz3', 'track_href': 'https://api.spotify.com/v1/tracks/0X5C4WjQNubRysTkHOubz3', 'analysis_url': 'https://api.spotify.com/v1/audio-analysis/0X5C4WjQNubRysTkHOubz3', 'duration_ms': 209573, 'time_signature': 4}, {'danceability': 0.541, 'energy': 0.83, 'key': 9, 'loudness': -6.246, 'mode': 1, 'speechiness': 0.0316, 'acousticness': 0.109, 'instrumentalness': 0.701, 'liveness': 0.167, 'valence': 0.711, 'tempo': 142.592, 'type': 'audio_features', 'id': '07CyrZF9eVd02zzIse7tZA', 'uri': 'spotify:track:07CyrZF9eVd02zzIse7tZA', 'track_href': 'https://api.spotify.com/v1/tracks/07CyrZF9eVd02zzIse7tZA', 'analysis_url': 'https://api.spotify.com/v1/audio-analysis/07CyrZF9eVd02zzIse7tZA', 'duration_ms': 177987, 'time_signature': 4}, {'danceability': 0.633, 'energy': 0.62, 'key': 0, 'loudness': -11.271, 'mode': 1, 'speechiness': 0.0648, 'acousticness': 0.34, 'instrumentalness': 0.605, 'liveness': 0.0977, 'valence': 0.421, 'tempo': 81.117, 'type': 'audio_features', 'id': '3O4TPMOgChXOerSdB5WENH', 'uri': 'spotify:track:3O4TPMOgChXOerSdB5WENH', 'track_href': 'https://api.spotify.com/v1/tracks/3O4TPMOgChXOerSdB5WENH', 'analysis_url': 'https://api.spotify.com/v1/audio-analysis/3O4TPMOgChXOerSdB5WENH', 'duration_ms': 354933, 'time_signature': 4}, {'danceability': 0.718, 'energy': 0.557, 'key': 9, 'loudness': -10.679, 'mode': 1, 'speechiness': 0.0328, 'acousticness': 0.185, 'instrumentalness': 0.707, 'liveness': 0.055, 'valence': 0.586, 'tempo': 94.095, 'type': 'audio_features', 'id': '4d4oXk7O2lEhZ83ivV93li', 'uri': 'spotify:track:4d4oXk7O2lEhZ83ivV93li', 'track_href': 'https://api.spotify.com/v1/tracks/4d4oXk7O2lEhZ83ivV93li', 'analysis_url': 'https://api.spotify.com/v1/audio-analysis/4d4oXk7O2lEhZ83ivV93li', 'duration_ms': 249880, 'time_signature': 4}, {'danceability': 0.484, 'energy': 0.776, 'key': 9, 'loudness': -6.48, 'mode': 1, 'speechiness': 0.0312, 'acousticness': 0.00371, 'instrumentalness': 0.109, 'liveness': 0.131, 'valence': 0.495, 'tempo': 171.935, 'type': 'audio_features', 'id': '1tuwC1Ob5vnYZhvg3zyzJg', 'uri': 'spotify:track:1tuwC1Ob5vnYZhvg3zyzJg', 'track_href': 'https://api.spotify.com/v1/tracks/1tuwC1Ob5vnYZhvg3zyzJg', 'analysis_url': 'https://api.spotify.com/v1/audio-analysis/1tuwC1Ob5vnYZhvg3zyzJg', 'duration_ms': 448467, 'time_signature': 4}, None, {'danceability': 0.645, 'energy': 0.713, 'key': 6, 'loudness': -5.355, 'mode': 1, 'speechiness': 0.0393, 'acousticness': 0.00835, 'instrumentalness': 0, 'liveness': 0.113, 'valence': 0.566, 'tempo': 74.989, 'type': 'audio_features', 'id': '2Z8WuEywRWYTKe1NybPQEW', 'uri': 'spotify:track:2Z8WuEywRWYTKe1NybPQEW', 'track_href': 'https://api.spotify.com/v1/tracks/2Z8WuEywRWYTKe1NybPQEW', 'analysis_url': 'https://api.spotify.com/v1/audio-analysis/2Z8WuEywRWYTKe1NybPQEW', 'duration_ms': 214507, 'time_signature': 4}, {'danceability': 0.732, 'energy': 0.396, 'key': 4, 'loudness': -9.348, 'mode': 0, 'speechiness': 0.0286, 'acousticness': 0.0841, 'instrumentalness': 3.58e-05, 'liveness': 0.105, 'valence': 0.548, 'tempo': 90.024, 'type': 'audio_features', 'id': '6i0V12jOa3mr6uu4WYhUBr', 'uri': 'spotify:track:6i0V12jOa3mr6uu4WYhUBr', 'track_href': 'https://api.spotify.com/v1/tracks/6i0V12jOa3mr6uu4WYhUBr', 'analysis_url': 'https://api.spotify.com/v1/audio-analysis/6i0V12jOa3mr6uu4WYhUBr', 'duration_ms': 195920, 'time_signature': 4}, {'danceability': 0.609, 'energy': 0.674, 'key': 10, 'loudness': -7.388, 'mode': 0, 'speechiness': 0.0548, 'acousticness': 0.0735, 'instrumentalness': 0.06, 'liveness': 0.345, 'valence': 0.315, 'tempo': 90.009, 'type': 'audio_features', 'id': '23OXdR7YuUBVWh5hSnYJau', 'uri': 'spotify:track:23OXdR7YuUBVWh5hSnYJau', 'track_href': 'https://api.spotify.com/v1/tracks/23OXdR7YuUBVWh5hSnYJau', 'analysis_url': 'https://api.spotify.com/v1/audio-analysis/23OXdR7YuUBVWh5hSnYJau', 'duration_ms': 324467, 'time_signature': 4}, {'danceability': 0.588, 'energy': 0.856, 'key': 9, 'loudness': -5.242, 'mode': 0, 'speechiness': 0.0316, 'acousticness': 0.000818, 'instrumentalness': 0.0739, 'liveness': 0.238, 'valence': 0.635, 'tempo': 96.966, 'type': 'audio_features', 'id': '2nG54Y4a3sH9YpfxMolOyi', 'uri': 'spotify:track:2nG54Y4a3sH9YpfxMolOyi', 'track_href': 'https://api.spotify.com/v1/tracks/2nG54Y4a3sH9YpfxMolOyi', 'analysis_url': 'https://api.spotify.com/v1/audio-analysis/2nG54Y4a3sH9YpfxMolOyi', 'duration_ms': 175044, 'time_signature': 4}, {'danceability': 0.687, 'energy': 0.89, 'key': 8, 'loudness': -5.99, 'mode': 1, 'speechiness': 0.0344, 'acousticness': 0.00396, 'instrumentalness': 0.000939, 'liveness': 0.0436, 'valence': 0.854, 'tempo': 113.06, 'type': 'audio_features', 'id': '60dwJ8dnqZ4WrIdiu7LkNR', 'uri': 'spotify:track:60dwJ8dnqZ4WrIdiu7LkNR', 'track_href': 'https://api.spotify.com/v1/tracks/60dwJ8dnqZ4WrIdiu7LkNR', 'analysis_url': 'https://api.spotify.com/v1/audio-analysis/60dwJ8dnqZ4WrIdiu7LkNR', 'duration_ms': 172232, 'time_signature': 4}, {'danceability': 0.655, 'energy': 0.632, 'key': 2, 'loudness': -4.802, 'mode': 1, 'speechiness': 0.0489, 'acousticness': 0.0189, 'instrumentalness': 0, 'liveness': 0.0722, 'valence': 0.447, 'tempo': 120.113, 'type': 'audio_features', 'id': '3bnVBN67NBEzedqQuWrpP4', 'uri': 'spotify:track:3bnVBN67NBEzedqQuWrpP4', 'track_href': 'https://api.spotify.com/v1/tracks/3bnVBN67NBEzedqQuWrpP4', 'analysis_url': 'https://api.spotify.com/v1/audio-analysis/3bnVBN67NBEzedqQuWrpP4', 'duration_ms': 188493, 'time_signature': 4}, {'danceability': 0.754, 'energy': 0.583, 'key': 4, 'loudness': -7.34, 'mode': 0, 'speechiness': 0.0432, 'acousticness': 0.32, 'instrumentalness': 0.00015, 'liveness': 0.144, 'valence': 0.77, 'tempo': 122.012, 'type': 'audio_features', 'id': '6xZ4Q2k2ompmDppyeESIY8', 'uri': 'spotify:track:6xZ4Q2k2ompmDppyeESIY8', 'track_href': 'https://api.spotify.com/v1/tracks/6xZ4Q2k2ompmDppyeESIY8', 'analysis_url': 'https://api.spotify.com/v1/audio-analysis/6xZ4Q2k2ompmDppyeESIY8', 'duration_ms': 220051, 'time_signature': 4}, {'danceability': 0.766, 'energy': 0.519, 'key': 9, 'loudness': -7.355, 'mode': 0, 'speechiness': 0.0366, 'acousticness': 0.098, 'instrumentalness': 0, 'liveness': 0.0855, 'valence': 0.612, 'tempo': 129.972, 'type': 'audio_features', 'id': '5cbpoIu3YjoOwbBDGUEp3P', 'uri': 'spotify:track:5cbpoIu3YjoOwbBDGUEp3P', 'track_href': 'https://api.spotify.com/v1/tracks/5cbpoIu3YjoOwbBDGUEp3P', 'analysis_url': 'https://api.spotify.com/v1/audio-analysis/5cbpoIu3YjoOwbBDGUEp3P', 'duration_ms': 267720, 'time_signature': 4}, None, {'danceability': 0.743, 'energy': 0.429, 'key': 10, 'loudness': -14.576, 'mode': 0, 'speechiness': 0.0902, 'acousticness': 0.447, 'instrumentalness': 0.362, 'liveness': 0.0455, 'valence': 0.597, 'tempo': 95.406, 'type': 'audio_features', 'id': '5fdNHVZHbWB1AaXk4RBGVD', 'uri': 'spotify:track:5fdNHVZHbWB1AaXk4RBGVD', 'track_href': 'https://api.spotify.com/v1/tracks/5fdNHVZHbWB1AaXk4RBGVD', 'analysis_url': 'https://api.spotify.com/v1/audio-analysis/5fdNHVZHbWB1AaXk4RBGVD', 'duration_ms': 443773, 'time_signature': 4}, {'danceability': 0.734, 'energy': 0.64, 'key': 5, 'loudness': -8.471, 'mode': 0, 'speechiness': 0.0661, 'acousticness': 0.00606, 'instrumentalness': 0.37, 'liveness': 0.0602, 'valence': 0.868, 'tempo': 103.812, 'type': 'audio_features', 'id': '2fmXnPfzguSp3zKDibCBgv', 'uri': 'spotify:track:2fmXnPfzguSp3zKDibCBgv', 'track_href': 'https://api.spotify.com/v1/tracks/2fmXnPfzguSp3zKDibCBgv', 'analysis_url': 'https://api.spotify.com/v1/audio-analysis/2fmXnPfzguSp3zKDibCBgv', 'duration_ms': 541827, 'time_signature': 4}, {'danceability': 0.766, 'energy': 0.381, 'key': 10, 'loudness': -14.456, 'mode': 0, 'speechiness': 0.0805, 'acousticness': 0.18, 'instrumentalness': 0.0844, 'liveness': 0.48, 'valence': 0.634, 'tempo': 98.862, 'type': 'audio_features', 'id': '0nN2D5xwVtLrgUw0TIQ5CI', 'uri': 'spotify:track:0nN2D5xwVtLrgUw0TIQ5CI', 'track_href': 'https://api.spotify.com/v1/tracks/0nN2D5xwVtLrgUw0TIQ5CI', 'analysis_url': 'https://api.spotify.com/v1/audio-analysis/0nN2D5xwVtLrgUw0TIQ5CI', 'duration_ms': 452573, 'time_signature': 4}, {'danceability': 0.424, 'energy': 0.432, 'key': 8, 'loudness': -13.014, 'mode': 1, 'speechiness': 0.0422, 'acousticness': 0.593, 'instrumentalness': 0.344, 'liveness': 0.0764, 'valence': 0.832, 'tempo': 174.03, 'type': 'audio_features', 'id': '4TYEIckMi7PTCh1kiknKSy', 'uri': 'spotify:track:4TYEIckMi7PTCh1kiknKSy', 'track_href': 'https://api.spotify.com/v1/tracks/4TYEIckMi7PTCh1kiknKSy', 'analysis_url': 'https://api.spotify.com/v1/audio-analysis/4TYEIckMi7PTCh1kiknKSy', 'duration_ms': 479467, 'time_signature': 4}, {'danceability': 0.743, 'energy': 0.352, 'key': 9, 'loudness': -17.225, 'mode': 0, 'speechiness': 0.061, 'acousticness': 0.146, 'instrumentalness': 0.104, 'liveness': 0.0585, 'valence': 0.722, 'tempo': 108.785, 'type': 'audio_features', 'id': '6jY7UcNWda03nyJ5XiqlYt', 'uri': 'spotify:track:6jY7UcNWda03nyJ5XiqlYt', 'track_href': 'https://api.spotify.com/v1/tracks/6jY7UcNWda03nyJ5XiqlYt', 'analysis_url': 'https://api.spotify.com/v1/audio-analysis/6jY7UcNWda03nyJ5XiqlYt', 'duration_ms': 350600, 'time_signature': 4}, {'danceability': 0.785, 'energy': 0.302, 'key': 0, 'loudness': -14.555, 'mode': 0, 'speechiness': 0.0551, 'acousticness': 0.735, 'instrumentalness': 0.12, 'liveness': 0.123, 'valence': 0.467, 'tempo': 122.979, 'type': 'audio_features', 'id': '21qeCg7VQMQ6nVBCVFeoKD', 'uri': 'spotify:track:21qeCg7VQMQ6nVBCVFeoKD', 'track_href': 'https://api.spotify.com/v1/tracks/21qeCg7VQMQ6nVBCVFeoKD', 'analysis_url': 'https://api.spotify.com/v1/audio-analysis/21qeCg7VQMQ6nVBCVFeoKD', 'duration_ms': 392027, 'time_signature': 4}, {'danceability': 0.719, 'energy': 0.222, 'key': 10, 'loudness': -18.644, 'mode': 1, 'speechiness': 0.052, 'acousticness': 0.623, 'instrumentalness': 0.91, 'liveness': 0.0991, 'valence': 0.499, 'tempo': 92.409, 'type': 'audio_features', 'id': '6P5qgQNPHQdknn3tA7bmsN', 'uri': 'spotify:track:6P5qgQNPHQdknn3tA7bmsN', 'track_href': 'https://api.spotify.com/v1/tracks/6P5qgQNPHQdknn3tA7bmsN', 'analysis_url': 'https://api.spotify.com/v1/audio-analysis/6P5qgQNPHQdknn3tA7bmsN', 'duration_ms': 326773, 'time_signature': 4}, {'danceability': 0.579, 'energy': 0.437, 'key': 1, 'loudness': -12.721, 'mode': 1, 'speechiness': 0.0526, 'acousticness': 0.0427, 'instrumentalness': 0.0483, 'liveness': 0.0603, 'valence': 0.732, 'tempo': 91.866, 'type': 'audio_features', 'id': '7gNrC7OWXD4sp3JZiGEjUc', 'uri': 'spotify:track:7gNrC7OWXD4sp3JZiGEjUc', 'track_href': 'https://api.spotify.com/v1/tracks/7gNrC7OWXD4sp3JZiGEjUc', 'analysis_url': 'https://api.spotify.com/v1/audio-analysis/7gNrC7OWXD4sp3JZiGEjUc', 'duration_ms': 457880, 'time_signature': 4}, None, {'danceability': 0.429, 'energy': 0.661, 'key': 11, 'loudness': -7.227, 'mode': 1, 'speechiness': 0.0281, 'acousticness': 0.00239, 'instrumentalness': 0.000121, 'liveness': 0.234, 'valence': 0.285, 'tempo': 173.372, 'type': 'audio_features', 'id': '3AJwUDP919kvQ9QcozQPxg', 'uri': 'spotify:track:3AJwUDP919kvQ9QcozQPxg', 'track_href': 'https://api.spotify.com/v1/tracks/3AJwUDP919kvQ9QcozQPxg', 'analysis_url': 'https://api.spotify.com/v1/audio-analysis/3AJwUDP919kvQ9QcozQPxg', 'duration_ms': 266773, 'time_signature': 4}, {'danceability': 0.592, 'energy': 0.342, 'key': 0, 'loudness': -8.93, 'mode': 1, 'speechiness': 0.0339, 'acousticness': 0.193, 'instrumentalness': 0.00245, 'liveness': 0.11, 'valence': 0.155, 'tempo': 130.953, 'type': 'audio_features', 'id': '4cGqn0E8JCSY9gQllQj4Mf', 'uri': 'spotify:track:4cGqn0E8JCSY9gQllQj4Mf', 'track_href': 'https://api.spotify.com/v1/tracks/4cGqn0E8JCSY9gQllQj4Mf', 'analysis_url': 'https://api.spotify.com/v1/audio-analysis/4cGqn0E8JCSY9gQllQj4Mf', 'duration_ms': 241595, 'time_signature': 4}, {'danceability': 0.557, 'energy': 0.442, 'key': 5, 'loudness': -7.224, 'mode': 1, 'speechiness': 0.0243, 'acousticness': 0.731, 'instrumentalness': 1.46e-05, 'liveness': 0.11, 'valence': 0.213, 'tempo': 146.277, 'type': 'audio_features', 'id': '75JFxkI2RXiU7L9VXzMkle', 'uri': 'spotify:track:75JFxkI2RXiU7L9VXzMkle', 'track_href': 'https://api.spotify.com/v1/tracks/75JFxkI2RXiU7L9VXzMkle', 'analysis_url': 'https://api.spotify.com/v1/audio-analysis/75JFxkI2RXiU7L9VXzMkle', 'duration_ms': 309600, 'time_signature': 4}, {'danceability': 0.617, 'energy': 0.635, 'key': 11, 'loudness': -6.769, 'mode': 0, 'speechiness': 0.0317, 'acousticness': 0.0498, 'instrumentalness': 1.44e-05, 'liveness': 0.164, 'valence': 0.446, 'tempo': 103.019, 'type': 'audio_features', 'id': '6RUKPb4LETWmmr3iAEQktW', 'uri': 'spotify:track:6RUKPb4LETWmmr3iAEQktW', 'track_href': 'https://api.spotify.com/v1/tracks/6RUKPb4LETWmmr3iAEQktW', 'analysis_url': 'https://api.spotify.com/v1/audio-analysis/6RUKPb4LETWmmr3iAEQktW', 'duration_ms': 247160, 'time_signature': 4}, {'danceability': 0.209, 'energy': 0.417, 'key': 3, 'loudness': -8.74, 'mode': 1, 'speechiness': 0.0338, 'acousticness': 0.164, 'instrumentalness': 0.00196, 'liveness': 0.113, 'valence': 0.124, 'tempo': 138.178, 'type': 'audio_features', 'id': '7LVHVU3tWfcxj5aiPFEW4Q', 'uri': 'spotify:track:7LVHVU3tWfcxj5aiPFEW4Q', 'track_href': 'https://api.spotify.com/v1/tracks/7LVHVU3tWfcxj5aiPFEW4Q', 'analysis_url': 'https://api.spotify.com/v1/audio-analysis/7LVHVU3tWfcxj5aiPFEW4Q', 'duration_ms': 295533, 'time_signature': 4}, {'danceability': 0.491, 'energy': 0.693, 'key': 0, 'loudness': -6.487, 'mode': 0, 'speechiness': 0.0377, 'acousticness': 0.211, 'instrumentalness': 6.92e-06, 'liveness': 0.325, 'valence': 0.412, 'tempo': 90.027, 'type': 'audio_features', 'id': '3RiPr603aXAoi4GHyXx0uy', 'uri': 'spotify:track:3RiPr603aXAoi4GHyXx0uy', 'track_href': 'https://api.spotify.com/v1/tracks/3RiPr603aXAoi4GHyXx0uy', 'analysis_url': 'https://api.spotify.com/v1/audio-analysis/3RiPr603aXAoi4GHyXx0uy', 'duration_ms': 258267, 'time_signature': 4}, {'danceability': 0.449, 'energy': 0.585, 'key': 5, 'loudness': -6.761, 'mode': 1, 'speechiness': 0.0268, 'acousticness': 0.0509, 'instrumentalness': 8.75e-05, 'liveness': 0.0833, 'valence': 0.212, 'tempo': 139.631, 'type': 'audio_features', 'id': '6nek1Nin9q48AVZcWs9e9D', 'uri': 'spotify:track:6nek1Nin9q48AVZcWs9e9D', 'track_href': 'https://api.spotify.com/v1/tracks/6nek1Nin9q48AVZcWs9e9D', 'analysis_url': 'https://api.spotify.com/v1/audio-analysis/6nek1Nin9q48AVZcWs9e9D', 'duration_ms': 278719, 'time_signature': 4}, {'danceability': 0.486, 'energy': 0.617, 'key': 5, 'loudness': -7.115, 'mode': 0, 'speechiness': 0.0287, 'acousticness': 0.0954, 'instrumentalness': 3.23e-06, 'liveness': 0.109, 'valence': 0.417, 'tempo': 138.015, 'type': 'audio_features', 'id': '1mea3bSkSGXuIRvnydlB5b', 'uri': 'spotify:track:1mea3bSkSGXuIRvnydlB5b', 'track_href': 'https://api.spotify.com/v1/tracks/1mea3bSkSGXuIRvnydlB5b', 'analysis_url': 'https://api.spotify.com/v1/audio-analysis/1mea3bSkSGXuIRvnydlB5b', 'duration_ms': 242373, 'time_signature': 4}, None, {'danceability': 0.68, 'energy': 0.527, 'key': 0, 'loudness': -6.748, 'mode': 1, 'speechiness': 0.11, 'acousticness': 0.232, 'instrumentalness': 0.000402, 'liveness': 0.115, 'valence': 0.192, 'tempo': 88.958, 'type': 'audio_features', 'id': '3CQDFLetMMxD5hzAnUk410', 'uri': 'spotify:track:3CQDFLetMMxD5hzAnUk410', 'track_href': 'https://api.spotify.com/v1/tracks/3CQDFLetMMxD5hzAnUk410', 'analysis_url': 'https://api.spotify.com/v1/audio-analysis/3CQDFLetMMxD5hzAnUk410', 'duration_ms': 219681, 'time_signature': 4}, {'danceability': 0.788, 'energy': 0.526, 'key': 9, 'loudness': -8.082, 'mode': 0, 'speechiness': 0.071, 'acousticness': 0.524, 'instrumentalness': 0, 'liveness': 0.285, 'valence': 0.584, 'tempo': 89.012, 'type': 'audio_features', 'id': '7xLYLM5K6S1TwiSdfuhZQg', 'uri': 'spotify:track:7xLYLM5K6S1TwiSdfuhZQg', 'track_href': 'https://api.spotify.com/v1/tracks/7xLYLM5K6S1TwiSdfuhZQg', 'analysis_url': 'https://api.spotify.com/v1/audio-analysis/7xLYLM5K6S1TwiSdfuhZQg', 'duration_ms': 220301, 'time_signature': 4}, {'danceability': 0.74, 'energy': 0.428, 'key': 9, 'loudness': -8.458, 'mode': 1, 'speechiness': 0.0959, 'acousticness': 0.644, 'instrumentalness': 1.76e-05, 'liveness': 0.117, 'valence': 0.281, 'tempo': 84.739, 'type': 'audio_features', 'id': '1ZR473PTTSHGcnyRyidBoA', 'uri': 'spotify:track:1ZR473PTTSHGcnyRyidBoA', 'track_href': 'https://api.spotify.com/v1/tracks/1ZR473PTTSHGcnyRyidBoA', 'analysis_url': 'https://api.spotify.com/v1/audio-analysis/1ZR473PTTSHGcnyRyidBoA', 'duration_ms': 142576, 'time_signature': 4}, {'danceability': 0.804, 'energy': 0.535, 'key': 4, 'loudness': -8.603, 'mode': 0, 'speechiness': 0.143, 'acousticness': 0.486, 'instrumentalness': 0, 'liveness': 0.108, 'valence': 0.628, 'tempo': 151.957, 'type': 'audio_features', 'id': '76NtMPMpA6fuUH4euMYZoD', 'uri': 'spotify:track:76NtMPMpA6fuUH4euMYZoD', 'track_href': 'https://api.spotify.com/v1/tracks/76NtMPMpA6fuUH4euMYZoD', 'analysis_url': 'https://api.spotify.com/v1/audio-analysis/76NtMPMpA6fuUH4euMYZoD', 'duration_ms': 245191, 'time_signature': 4}, {'danceability': 0.783, 'energy': 0.673, 'key': 5, 'loudness': -6.198, 'mode': 1, 'speechiness': 0.0959, 'acousticness': 0.166, 'instrumentalness': 1.98e-05, 'liveness': 0.104, 'valence': 0.813, 'tempo': 169.972, 'type': 'audio_features', 'id': '5SEyiGqIMeZcFpC5ycODJc', 'uri': 'spotify:track:5SEyiGqIMeZcFpC5ycODJc', 'track_href': 'https://api.spotify.com/v1/tracks/5SEyiGqIMeZcFpC5ycODJc', 'analysis_url': 'https://api.spotify.com/v1/audio-analysis/5SEyiGqIMeZcFpC5ycODJc', 'duration_ms': 310588, 'time_signature': 4}, {'danceability': 0.754, 'energy': 0.481, 'key': 0, 'loudness': -7.91, 'mode': 1, 'speechiness': 0.444, 'acousticness': 0.387, 'instrumentalness': 0, 'liveness': 0.35, 'valence': 0.289, 'tempo': 83.907, 'type': 'audio_features', 'id': '7fM24rKaYCTGf85Lj8U2pk', 'uri': 'spotify:track:7fM24rKaYCTGf85Lj8U2pk', 'track_href': 'https://api.spotify.com/v1/tracks/7fM24rKaYCTGf85Lj8U2pk', 'analysis_url': 'https://api.spotify.com/v1/audio-analysis/7fM24rKaYCTGf85Lj8U2pk', 'duration_ms': 180000, 'time_signature': 4}, {'danceability': 0.795, 'energy': 0.238, 'key': 5, 'loudness': -20.338, 'mode': 1, 'speechiness': 0.369, 'acousticness': 0.487, 'instrumentalness': 0.000106, 'liveness': 0.137, 'valence': 0.399, 'tempo': 100.996, 'type': 'audio_features', 'id': '30pCOQE19RvNmHq78Svlkm', 'uri': 'spotify:track:30pCOQE19RvNmHq78Svlkm', 'track_href': 'https://api.spotify.com/v1/tracks/30pCOQE19RvNmHq78Svlkm', 'analysis_url': 'https://api.spotify.com/v1/audio-analysis/30pCOQE19RvNmHq78Svlkm', 'duration_ms': 194851, 'time_signature': 4}, {'danceability': 0.793, 'energy': 0.605, 'key': 1, 'loudness': -4.952, 'mode': 0, 'speechiness': 0.119, 'acousticness': 0.426, 'instrumentalness': 0, 'liveness': 0.334, 'valence': 0.268, 'tempo': 91.068, 'type': 'audio_features', 'id': '2mRwodUOATBk5spcUsEidB', 'uri': 'spotify:track:2mRwodUOATBk5spcUsEidB', 'track_href': 'https://api.spotify.com/v1/tracks/2mRwodUOATBk5spcUsEidB', 'analysis_url': 'https://api.spotify.com/v1/audio-analysis/2mRwodUOATBk5spcUsEidB', 'duration_ms': 184749, 'time_signature': 4}, None, {'danceability': 0.849, 'energy': 0.424, 'key': 5, 'loudness': -9.579, 'mode': 0, 'speechiness': 0.324, 'acousticness': 0.0635, 'instrumentalness': 0, 'liveness': 0.0834, 'valence': 0.153, 'tempo': 145.887, 'type': 'audio_features', 'id': '2BcMwX1MPV6ZHP4tUT9uq6', 'uri': 'spotify:track:2BcMwX1MPV6ZHP4tUT9uq6', 'track_href': 'https://api.spotify.com/v1/tracks/2BcMwX1MPV6ZHP4tUT9uq6', 'analysis_url': 'https://api.spotify.com/v1/audio-analysis/2BcMwX1MPV6ZHP4tUT9uq6', 'duration_ms': 242966, 'time_signature': 4}, {'danceability': 0.666, 'energy': 0.465, 'key': 1, 'loudness': -8.545, 'mode': 1, 'speechiness': 0.26, 'acousticness': 0.0503, 'instrumentalness': 0, 'liveness': 0.215, 'valence': 0.292, 'tempo': 167.937, 'type': 'audio_features', 'id': '40iJIUlhi6renaREYGeIDS', 'uri': 'spotify:track:40iJIUlhi6renaREYGeIDS', 'track_href': 'https://api.spotify.com/v1/tracks/40iJIUlhi6renaREYGeIDS', 'analysis_url': 'https://api.spotify.com/v1/audio-analysis/40iJIUlhi6renaREYGeIDS', 'duration_ms': 291175, 'time_signature': 4}, {'danceability': 0.767, 'energy': 0.438, 'key': 7, 'loudness': -8.726, 'mode': 0, 'speechiness': 0.29, 'acousticness': 0.181, 'instrumentalness': 0, 'liveness': 0.142, 'valence': 0.381, 'tempo': 86.975, 'type': 'audio_features', 'id': '37Nqx7iavZpotJSDXZWbJ3', 'uri': 'spotify:track:37Nqx7iavZpotJSDXZWbJ3', 'track_href': 'https://api.spotify.com/v1/tracks/37Nqx7iavZpotJSDXZWbJ3', 'analysis_url': 'https://api.spotify.com/v1/audio-analysis/37Nqx7iavZpotJSDXZWbJ3', 'duration_ms': 221980, 'time_signature': 4}, {'danceability': 0.423, 'energy': 0.667, 'key': 6, 'loudness': -7.012, 'mode': 0, 'speechiness': 0.326, 'acousticness': 0.758, 'instrumentalness': 0, 'liveness': 0.246, 'valence': 0.496, 'tempo': 86.743, 'type': 'audio_features', 'id': '2HSmyk2qMN8WQjuGhaQgCk', 'uri': 'spotify:track:2HSmyk2qMN8WQjuGhaQgCk', 'track_href': 'https://api.spotify.com/v1/tracks/2HSmyk2qMN8WQjuGhaQgCk', 'analysis_url': 'https://api.spotify.com/v1/audio-analysis/2HSmyk2qMN8WQjuGhaQgCk', 'duration_ms': 336511, 'time_signature': 4}, {'danceability': 0.578, 'energy': 0.449, 'key': 1, 'loudness': -6.349, 'mode': 1, 'speechiness': 0.286, 'acousticness': 0.0618, 'instrumentalness': 2.17e-06, 'liveness': 0.119, 'valence': 0.1, 'tempo': 136.006, 'type': 'audio_features', 'id': '65OVbaJR5O1RmwOQx0875b', 'uri': 'spotify:track:65OVbaJR5O1RmwOQx0875b', 'track_href': 'https://api.spotify.com/v1/tracks/65OVbaJR5O1RmwOQx0875b', 'analysis_url': 'https://api.spotify.com/v1/audio-analysis/65OVbaJR5O1RmwOQx0875b', 'duration_ms': 192956, 'time_signature': 4}, {'danceability': 0.792, 'energy': 0.625, 'key': 1, 'loudness': -5.609, 'mode': 1, 'speechiness': 0.0536, 'acousticness': 0.00776, 'instrumentalness': 0.0018, 'liveness': 0.329, 'valence': 0.37, 'tempo': 103.967, 'type': 'audio_features', 'id': '1zi7xx7UVEFkmKfv06H8x0', 'uri': 'spotify:track:1zi7xx7UVEFkmKfv06H8x0', 'track_href': 'https://api.spotify.com/v1/tracks/1zi7xx7UVEFkmKfv06H8x0', 'analysis_url': 'https://api.spotify.com/v1/audio-analysis/1zi7xx7UVEFkmKfv06H8x0', 'duration_ms': 173987, 'time_signature': 4}, {'danceability': 0.84, 'energy': 0.744, 'key': 1, 'loudness': -4.751, 'mode': 1, 'speechiness': 0.113, 'acousticness': 0.0181, 'instrumentalness': 0, 'liveness': 0.629, 'valence': 0.171, 'tempo': 83.737, 'type': 'audio_features', 'id': '2tUL6dZf1mywCj5WvCPZw6', 'uri': 'spotify:track:2tUL6dZf1mywCj5WvCPZw6', 'track_href': 'https://api.spotify.com/v1/tracks/2tUL6dZf1mywCj5WvCPZw6', 'analysis_url': 'https://api.spotify.com/v1/audio-analysis/2tUL6dZf1mywCj5WvCPZw6', 'duration_ms': 204347, 'time_signature': 4}, {'danceability': 0.761, 'energy': 0.518, 'key': 0, 'loudness': -8.871, 'mode': 1, 'speechiness': 0.134, 'acousticness': 0.244, 'instrumentalness': 3.47e-05, 'liveness': 0.107, 'valence': 0.522, 'tempo': 133.976, 'type': 'audio_features', 'id': '2SAqBLGA283SUiwJ3xOUVI', 'uri': 'spotify:track:2SAqBLGA283SUiwJ3xOUVI', 'track_href': 'https://api.spotify.com/v1/tracks/2SAqBLGA283SUiwJ3xOUVI', 'analysis_url': 'https://api.spotify.com/v1/audio-analysis/2SAqBLGA283SUiwJ3xOUVI', 'duration_ms': 261493, 'time_signature': 4}, None, {'danceability': 0.716, 'energy': 0.426, 'key': 10, 'loudness': -9.576, 'mode': 1, 'speechiness': 0.128, 'acousticness': 0.401, 'instrumentalness': 0, 'liveness': 0.11, 'valence': 0.434, 'tempo': 88.794, 'type': 'audio_features', 'id': '7Gk5OrMYaMRtT2JmgJVAfk', 'uri': 'spotify:track:7Gk5OrMYaMRtT2JmgJVAfk', 'track_href': 'https://api.spotify.com/v1/tracks/7Gk5OrMYaMRtT2JmgJVAfk', 'analysis_url': 'https://api.spotify.com/v1/audio-analysis/7Gk5OrMYaMRtT2JmgJVAfk', 'duration_ms': 202288, 'time_signature': 4}, {'danceability': 0.589, 'energy': 0.542, 'key': 6, 'loudness': -8.359, 'mode': 0, 'speechiness': 0.0746, 'acousticness': 0.125, 'instrumentalness': 3.31e-05, 'liveness': 0.0883, 'valence': 0.327, 'tempo': 100.884, 'type': 'audio_features', 'id': '2LOIoeI16A8jjKubPKoCSa', 'uri': 'spotify:track:2LOIoeI16A8jjKubPKoCSa', 'track_href': 'https://api.spotify.com/v1/tracks/2LOIoeI16A8jjKubPKoCSa', 'analysis_url': 'https://api.spotify.com/v1/audio-analysis/2LOIoeI16A8jjKubPKoCSa', 'duration_ms': 201453, 'time_signature': 4}, {'danceability': 0.676, 'energy': 0.374, 'key': 10, 'loudness': -8.201, 'mode': 1, 'speechiness': 0.0266, 'acousticness': 0.877, 'instrumentalness': 0.000132, 'liveness': 0.165, 'valence': 0.2, 'tempo': 99.825, 'type': 'audio_features', 'id': '2vRBYKWOyHtFMtiK60qRz7', 'uri': 'spotify:track:2vRBYKWOyHtFMtiK60qRz7', 'track_href': 'https://api.spotify.com/v1/tracks/2vRBYKWOyHtFMtiK60qRz7', 'analysis_url': 'https://api.spotify.com/v1/audio-analysis/2vRBYKWOyHtFMtiK60qRz7', 'duration_ms': 205468, 'time_signature': 4}, {'danceability': 0.617, 'energy': 0.533, 'key': 7, 'loudness': -6.386, 'mode': 1, 'speechiness': 0.0395, 'acousticness': 0.47, 'instrumentalness': 0, 'liveness': 0.114, 'valence': 0.589, 'tempo': 123.959, 'type': 'audio_features', 'id': '1PQRwFvNM7xV65bIkHmDtx', 'uri': 'spotify:track:1PQRwFvNM7xV65bIkHmDtx', 'track_href': 'https://api.spotify.com/v1/tracks/1PQRwFvNM7xV65bIkHmDtx', 'analysis_url': 'https://api.spotify.com/v1/audio-analysis/1PQRwFvNM7xV65bIkHmDtx', 'duration_ms': 262552, 'time_signature': 4}, {'danceability': 0.629, 'energy': 0.507, 'key': 10, 'loudness': -6.443, 'mode': 1, 'speechiness': 0.0288, 'acousticness': 0.468, 'instrumentalness': 0, 'liveness': 0.0937, 'valence': 0.55, 'tempo': 94.023, 'type': 'audio_features', 'id': '3KK3nLgrRdycpnYxPDVfMV', 'uri': 'spotify:track:3KK3nLgrRdycpnYxPDVfMV', 'track_href': 'https://api.spotify.com/v1/tracks/3KK3nLgrRdycpnYxPDVfMV', 'analysis_url': 'https://api.spotify.com/v1/audio-analysis/3KK3nLgrRdycpnYxPDVfMV', 'duration_ms': 184267, 'time_signature': 4}, {'danceability': 0.581, 'energy': 0.613, 'key': 0, 'loudness': -9.444, 'mode': 1, 'speechiness': 0.0372, 'acousticness': 0.623, 'instrumentalness': 1.75e-05, 'liveness': 0.212, 'valence': 0.214, 'tempo': 90.098, 'type': 'audio_features', 'id': '3idU6lZVKD6hvGjnpSHde8', 'uri': 'spotify:track:3idU6lZVKD6hvGjnpSHde8', 'track_href': 'https://api.spotify.com/v1/tracks/3idU6lZVKD6hvGjnpSHde8', 'analysis_url': 'https://api.spotify.com/v1/audio-analysis/3idU6lZVKD6hvGjnpSHde8', 'duration_ms': 216829, 'time_signature': 4}, {'danceability': 0.725, 'energy': 0.532, 'key': 4, 'loudness': -10.531, 'mode': 1, 'speechiness': 0.0457, 'acousticness': 0.546, 'instrumentalness': 0.00131, 'liveness': 0.0969, 'valence': 0.559, 'tempo': 103.94, 'type': 'audio_features', 'id': '3bR8wBqLky6b61ROJlaBEF', 'uri': 'spotify:track:3bR8wBqLky6b61ROJlaBEF', 'track_href': 'https://api.spotify.com/v1/tracks/3bR8wBqLky6b61ROJlaBEF', 'analysis_url': 'https://api.spotify.com/v1/audio-analysis/3bR8wBqLky6b61ROJlaBEF', 'duration_ms': 220567, 'time_signature': 4}, {'danceability': 0.747, 'energy': 0.307, 'key': 3, 'loudness': -8.617, 'mode': 1, 'speechiness': 0.0332, 'acousticness': 0.497, 'instrumentalness': 0.000121, 'liveness': 0.131, 'valence': 0.323, 'tempo': 127.841, 'type': 'audio_features', 'id': '0wHLjfLyc26xILjHVMGIHN', 'uri': 'spotify:track:0wHLjfLyc26xILjHVMGIHN', 'track_href': 'https://api.spotify.com/v1/tracks/0wHLjfLyc26xILjHVMGIHN', 'analysis_url': 'https://api.spotify.com/v1/audio-analysis/0wHLjfLyc26xILjHVMGIHN', 'duration_ms': 192715, 'time_signature': 4}, None, {'danceability': 0.611, 'energy': 0.826, 'key': 1, 'loudness': -3.906, 'mode': 0, 'speechiness': 0.0234, 'acousticness': 0.00239, 'instrumentalness': 0.000224, 'liveness': 0.182, 'valence': 0.666, 'tempo': 95.995, 'type': 'audio_features', 'id': '35LdDKNMwvKftENaj1WIwF', 'uri': 'spotify:track:35LdDKNMwvKftENaj1WIwF', 'track_href': 'https://api.spotify.com/v1/tracks/35LdDKNMwvKftENaj1WIwF', 'analysis_url': 'https://api.spotify.com/v1/audio-analysis/35LdDKNMwvKftENaj1WIwF', 'duration_ms': 259680, 'time_signature': 4}, {'danceability': 0.676, 'energy': 0.785, 'key': 11, 'loudness': -5.39, 'mode': 0, 'speechiness': 0.0293, 'acousticness': 0.119, 'instrumentalness': 0, 'liveness': 0.134, 'valence': 0.502, 'tempo': 102.046, 'type': 'audio_features', 'id': '1ozuMsJLTvFIMvlW7AWq95', 'uri': 'spotify:track:1ozuMsJLTvFIMvlW7AWq95', 'track_href': 'https://api.spotify.com/v1/tracks/1ozuMsJLTvFIMvlW7AWq95', 'analysis_url': 'https://api.spotify.com/v1/audio-analysis/1ozuMsJLTvFIMvlW7AWq95', 'duration_ms': 241501, 'time_signature': 4}, {'danceability': 0.616, 'energy': 0.766, 'key': 4, 'loudness': -6.59, 'mode': 0, 'speechiness': 0.0382, 'acousticness': 0.0776, 'instrumentalness': 0, 'liveness': 0.361, 'valence': 0.373, 'tempo': 83.965, 'type': 'audio_features', 'id': '1kEoU9Dmivr2JoOf7ramyT', 'uri': 'spotify:track:1kEoU9Dmivr2JoOf7ramyT', 'track_href': 'https://api.spotify.com/v1/tracks/1kEoU9Dmivr2JoOf7ramyT', 'analysis_url': 'https://api.spotify.com/v1/audio-analysis/1kEoU9Dmivr2JoOf7ramyT', 'duration_ms': 259840, 'time_signature': 4}, {'danceability': 0.661, 'energy': 0.75, 'key': 9, 'loudness': -5.816, 'mode': 0, 'speechiness': 0.0402, 'acousticness': 0.0614, 'instrumentalness': 0, 'liveness': 0.267, 'valence': 0.524, 'tempo': 105.984, 'type': 'audio_features', 'id': '3tUk2PzTp8KCIU4cxstJq1', 'uri': 'spotify:track:3tUk2PzTp8KCIU4cxstJq1', 'track_href': 'https://api.spotify.com/v1/tracks/3tUk2PzTp8KCIU4cxstJq1', 'analysis_url': 'https://api.spotify.com/v1/audio-analysis/3tUk2PzTp8KCIU4cxstJq1', 'duration_ms': 254106, 'time_signature': 4}, {'danceability': 0.57, 'energy': 0.874, 'key': 11, 'loudness': -4.02, 'mode': 0, 'speechiness': 0.0593, 'acousticness': 0.0781, 'instrumentalness': 0, 'liveness': 0.0994, 'valence': 0.329, 'tempo': 88.893, 'type': 'audio_features', 'id': '6Pa10qJeYr5qu777xSieyM', 'uri': 'spotify:track:6Pa10qJeYr5qu777xSieyM', 'track_href': 'https://api.spotify.com/v1/tracks/6Pa10qJeYr5qu777xSieyM', 'analysis_url': 'https://api.spotify.com/v1/audio-analysis/6Pa10qJeYr5qu777xSieyM', 'duration_ms': 249987, 'time_signature': 4}, {'danceability': 0.73, 'energy': 0.866, 'key': 7, 'loudness': -2.693, 'mode': 0, 'speechiness': 0.0263, 'acousticness': 0.0151, 'instrumentalness': 0, 'liveness': 0.249, 'valence': 0.824, 'tempo': 113.004, 'type': 'audio_features', 'id': '6lSypaQOcC6JtzfwpINLGW', 'uri': 'spotify:track:6lSypaQOcC6JtzfwpINLGW', 'track_href': 'https://api.spotify.com/v1/tracks/6lSypaQOcC6JtzfwpINLGW', 'analysis_url': 'https://api.spotify.com/v1/audio-analysis/6lSypaQOcC6JtzfwpINLGW', 'duration_ms': 239293, 'time_signature': 4}, {'danceability': 0.648, 'energy': 0.792, 'key': 0, 'loudness': -6.058, 'mode': 1, 'speechiness': 0.035, 'acousticness': 0.0657, 'instrumentalness': 5.31e-06, 'liveness': 0.0788, 'valence': 0.935, 'tempo': 159.968, 'type': 'audio_features', 'id': '6Vk5QUhQ0v5OjYQIYvL5VL', 'uri': 'spotify:track:6Vk5QUhQ0v5OjYQIYvL5VL', 'track_href': 'https://api.spotify.com/v1/tracks/6Vk5QUhQ0v5OjYQIYvL5VL', 'analysis_url': 'https://api.spotify.com/v1/audio-analysis/6Vk5QUhQ0v5OjYQIYvL5VL', 'duration_ms': 260867, 'time_signature': 4}, {'danceability': 0.639, 'energy': 0.824, 'key': 11, 'loudness': -5.799, 'mode': 0, 'speechiness': 0.153, 'acousticness': 0.12, 'instrumentalness': 0, 'liveness': 0.211, 'valence': 0.612, 'tempo': 100.674, 'type': 'audio_features', 'id': '3v1ipH6EVDlmnTK6tjdgvK', 'uri': 'spotify:track:3v1ipH6EVDlmnTK6tjdgvK', 'track_href': 'https://api.spotify.com/v1/tracks/3v1ipH6EVDlmnTK6tjdgvK', 'analysis_url': 'https://api.spotify.com/v1/audio-analysis/3v1ipH6EVDlmnTK6tjdgvK', 'duration_ms': 222240, 'time_signature': 4}, {'danceability': 0.574, 'energy': 0.839, 'key': 9, 'loudness': -5.716, 'mode': 0, 'speechiness': 0.0599, 'acousticness': 0.0188, 'instrumentalness': 2.32e-06, 'liveness': 0.222, 'valence': 0.418, 'tempo': 179.9, 'type': 'audio_features', 'id': '40va05AmHQ9G5cVVe1jxAc', 'uri': 'spotify:track:40va05AmHQ9G5cVVe1jxAc', 'track_href': 'https://api.spotify.com/v1/tracks/40va05AmHQ9G5cVVe1jxAc', 'analysis_url': 'https://api.spotify.com/v1/audio-analysis/40va05AmHQ9G5cVVe1jxAc', 'duration_ms': 234787, 'time_signature': 4}]}\n",
            "{'audio_features': [{'danceability': 0.648, 'energy': 0.792, 'key': 0, 'loudness': -6.058, 'mode': 1, 'speechiness': 0.035, 'acousticness': 0.0657, 'instrumentalness': 5.31e-06, 'liveness': 0.0788, 'valence': 0.935, 'tempo': 159.968, 'type': 'audio_features', 'id': '6Vk5QUhQ0v5OjYQIYvL5VL', 'uri': 'spotify:track:6Vk5QUhQ0v5OjYQIYvL5VL', 'track_href': 'https://api.spotify.com/v1/tracks/6Vk5QUhQ0v5OjYQIYvL5VL', 'analysis_url': 'https://api.spotify.com/v1/audio-analysis/6Vk5QUhQ0v5OjYQIYvL5VL', 'duration_ms': 260867, 'time_signature': 4}, {'danceability': 0.573, 'energy': 0.658, 'key': 1, 'loudness': -5.557, 'mode': 0, 'speechiness': 0.0396, 'acousticness': 0.0195, 'instrumentalness': 0, 'liveness': 0.209, 'valence': 0.481, 'tempo': 105.052, 'type': 'audio_features', 'id': '0uCKawvDKjr0AegelrzSuX', 'uri': 'spotify:track:0uCKawvDKjr0AegelrzSuX', 'track_href': 'https://api.spotify.com/v1/tracks/0uCKawvDKjr0AegelrzSuX', 'analysis_url': 'https://api.spotify.com/v1/audio-analysis/0uCKawvDKjr0AegelrzSuX', 'duration_ms': 236613, 'time_signature': 4}, {'danceability': 0.616, 'energy': 0.766, 'key': 4, 'loudness': -6.59, 'mode': 0, 'speechiness': 0.0382, 'acousticness': 0.0776, 'instrumentalness': 0, 'liveness': 0.361, 'valence': 0.373, 'tempo': 83.965, 'type': 'audio_features', 'id': '1kEoU9Dmivr2JoOf7ramyT', 'uri': 'spotify:track:1kEoU9Dmivr2JoOf7ramyT', 'track_href': 'https://api.spotify.com/v1/tracks/1kEoU9Dmivr2JoOf7ramyT', 'analysis_url': 'https://api.spotify.com/v1/audio-analysis/1kEoU9Dmivr2JoOf7ramyT', 'duration_ms': 259840, 'time_signature': 4}, {'danceability': 0.671, 'energy': 0.885, 'key': 7, 'loudness': -5.39, 'mode': 0, 'speechiness': 0.0305, 'acousticness': 0.0191, 'instrumentalness': 3.83e-06, 'liveness': 0.223, 'valence': 0.55, 'tempo': 119.959, 'type': 'audio_features', 'id': '2eqbY9whZVv4cnwvzbDAfD', 'uri': 'spotify:track:2eqbY9whZVv4cnwvzbDAfD', 'track_href': 'https://api.spotify.com/v1/tracks/2eqbY9whZVv4cnwvzbDAfD', 'analysis_url': 'https://api.spotify.com/v1/audio-analysis/2eqbY9whZVv4cnwvzbDAfD', 'duration_ms': 252293, 'time_signature': 4}, {'danceability': 0.616, 'energy': 0.789, 'key': 9, 'loudness': -6.316, 'mode': 0, 'speechiness': 0.0417, 'acousticness': 0.0755, 'instrumentalness': 2.08e-05, 'liveness': 0.914, 'valence': 0.272, 'tempo': 90.968, 'type': 'audio_features', 'id': '4OYMdVXY6xE9GTvUT5UdCh', 'uri': 'spotify:track:4OYMdVXY6xE9GTvUT5UdCh', 'track_href': 'https://api.spotify.com/v1/tracks/4OYMdVXY6xE9GTvUT5UdCh', 'analysis_url': 'https://api.spotify.com/v1/audio-analysis/4OYMdVXY6xE9GTvUT5UdCh', 'duration_ms': 249013, 'time_signature': 4}, {'danceability': 0.528, 'energy': 0.308, 'key': 9, 'loudness': -9.769, 'mode': 1, 'speechiness': 0.0341, 'acousticness': 0.816, 'instrumentalness': 0, 'liveness': 0.0934, 'valence': 0.256, 'tempo': 80.017, 'type': 'audio_features', 'id': '3iOFY423D3690MfhE74F8A', 'uri': 'spotify:track:3iOFY423D3690MfhE74F8A', 'track_href': 'https://api.spotify.com/v1/tracks/3iOFY423D3690MfhE74F8A', 'analysis_url': 'https://api.spotify.com/v1/audio-analysis/3iOFY423D3690MfhE74F8A', 'duration_ms': 236040, 'time_signature': 4}, {'danceability': 0.721, 'energy': 0.622, 'key': 0, 'loudness': -6.627, 'mode': 1, 'speechiness': 0.0256, 'acousticness': 0.765, 'instrumentalness': 0.000249, 'liveness': 0.117, 'valence': 0.334, 'tempo': 102.907, 'type': 'audio_features', 'id': '1XekWoZnWxXD7yZODzIDmo', 'uri': 'spotify:track:1XekWoZnWxXD7yZODzIDmo', 'track_href': 'https://api.spotify.com/v1/tracks/1XekWoZnWxXD7yZODzIDmo', 'analysis_url': 'https://api.spotify.com/v1/audio-analysis/1XekWoZnWxXD7yZODzIDmo', 'duration_ms': 189133, 'time_signature': 4}, {'danceability': 0.625, 'energy': 0.827, 'key': 4, 'loudness': -6.763, 'mode': 0, 'speechiness': 0.0602, 'acousticness': 0.0802, 'instrumentalness': 0, 'liveness': 0.164, 'valence': 0.613, 'tempo': 165.912, 'type': 'audio_features', 'id': '0fvKgQ0XzWJKEDJSPdNDid', 'uri': 'spotify:track:0fvKgQ0XzWJKEDJSPdNDid', 'track_href': 'https://api.spotify.com/v1/tracks/0fvKgQ0XzWJKEDJSPdNDid', 'analysis_url': 'https://api.spotify.com/v1/audio-analysis/0fvKgQ0XzWJKEDJSPdNDid', 'duration_ms': 278920, 'time_signature': 4}, {'danceability': 0.734, 'energy': 0.752, 'key': 9, 'loudness': -6.049, 'mode': 0, 'speechiness': 0.0386, 'acousticness': 0.00859, 'instrumentalness': 1.84e-05, 'liveness': 0.0852, 'valence': 0.541, 'tempo': 117.998, 'type': 'audio_features', 'id': '37l4Qgcn1CuGlXx0jKhLpi', 'uri': 'spotify:track:37l4Qgcn1CuGlXx0jKhLpi', 'track_href': 'https://api.spotify.com/v1/tracks/37l4Qgcn1CuGlXx0jKhLpi', 'analysis_url': 'https://api.spotify.com/v1/audio-analysis/37l4Qgcn1CuGlXx0jKhLpi', 'duration_ms': 211507, 'time_signature': 4}, None, {'danceability': 0.465, 'energy': 0.841, 'key': 11, 'loudness': -5.767, 'mode': 0, 'speechiness': 0.0633, 'acousticness': 0.00486, 'instrumentalness': 0, 'liveness': 0.109, 'valence': 0.689, 'tempo': 168.743, 'type': 'audio_features', 'id': '4dneV7C1yDt9UtyxrQY375', 'uri': 'spotify:track:4dneV7C1yDt9UtyxrQY375', 'track_href': 'https://api.spotify.com/v1/tracks/4dneV7C1yDt9UtyxrQY375', 'analysis_url': 'https://api.spotify.com/v1/audio-analysis/4dneV7C1yDt9UtyxrQY375', 'duration_ms': 157533, 'time_signature': 4}, {'danceability': 0.43, 'energy': 0.971, 'key': 9, 'loudness': -3.845, 'mode': 1, 'speechiness': 0.0524, 'acousticness': 0.0271, 'instrumentalness': 2.16e-05, 'liveness': 0.185, 'valence': 0.764, 'tempo': 151.219, 'type': 'audio_features', 'id': '76GlO5H5RT6g7y0gev86Nk', 'uri': 'spotify:track:76GlO5H5RT6g7y0gev86Nk', 'track_href': 'https://api.spotify.com/v1/tracks/76GlO5H5RT6g7y0gev86Nk', 'analysis_url': 'https://api.spotify.com/v1/audio-analysis/76GlO5H5RT6g7y0gev86Nk', 'duration_ms': 212000, 'time_signature': 4}, {'danceability': 0.725, 'energy': 0.524, 'key': 11, 'loudness': -11.121, 'mode': 1, 'speechiness': 0.116, 'acousticness': 0.0748, 'instrumentalness': 0.764, 'liveness': 0.0819, 'valence': 0.961, 'tempo': 185.134, 'type': 'audio_features', 'id': '7ABE6G4uQxbNtYgVrpBBPA', 'uri': 'spotify:track:7ABE6G4uQxbNtYgVrpBBPA', 'track_href': 'https://api.spotify.com/v1/tracks/7ABE6G4uQxbNtYgVrpBBPA', 'analysis_url': 'https://api.spotify.com/v1/audio-analysis/7ABE6G4uQxbNtYgVrpBBPA', 'duration_ms': 203267, 'time_signature': 4}, {'danceability': 0.611, 'energy': 0.813, 'key': 9, 'loudness': -7.689, 'mode': 0, 'speechiness': 0.0279, 'acousticness': 0.339, 'instrumentalness': 0.898, 'liveness': 0.224, 'valence': 0.821, 'tempo': 140.112, 'type': 'audio_features', 'id': '0X5C4WjQNubRysTkHOubz3', 'uri': 'spotify:track:0X5C4WjQNubRysTkHOubz3', 'track_href': 'https://api.spotify.com/v1/tracks/0X5C4WjQNubRysTkHOubz3', 'analysis_url': 'https://api.spotify.com/v1/audio-analysis/0X5C4WjQNubRysTkHOubz3', 'duration_ms': 209573, 'time_signature': 4}, {'danceability': 0.541, 'energy': 0.83, 'key': 9, 'loudness': -6.246, 'mode': 1, 'speechiness': 0.0316, 'acousticness': 0.109, 'instrumentalness': 0.701, 'liveness': 0.167, 'valence': 0.711, 'tempo': 142.592, 'type': 'audio_features', 'id': '07CyrZF9eVd02zzIse7tZA', 'uri': 'spotify:track:07CyrZF9eVd02zzIse7tZA', 'track_href': 'https://api.spotify.com/v1/tracks/07CyrZF9eVd02zzIse7tZA', 'analysis_url': 'https://api.spotify.com/v1/audio-analysis/07CyrZF9eVd02zzIse7tZA', 'duration_ms': 177987, 'time_signature': 4}, {'danceability': 0.633, 'energy': 0.62, 'key': 0, 'loudness': -11.271, 'mode': 1, 'speechiness': 0.0648, 'acousticness': 0.34, 'instrumentalness': 0.605, 'liveness': 0.0977, 'valence': 0.421, 'tempo': 81.117, 'type': 'audio_features', 'id': '3O4TPMOgChXOerSdB5WENH', 'uri': 'spotify:track:3O4TPMOgChXOerSdB5WENH', 'track_href': 'https://api.spotify.com/v1/tracks/3O4TPMOgChXOerSdB5WENH', 'analysis_url': 'https://api.spotify.com/v1/audio-analysis/3O4TPMOgChXOerSdB5WENH', 'duration_ms': 354933, 'time_signature': 4}, {'danceability': 0.718, 'energy': 0.557, 'key': 9, 'loudness': -10.679, 'mode': 1, 'speechiness': 0.0328, 'acousticness': 0.185, 'instrumentalness': 0.707, 'liveness': 0.055, 'valence': 0.586, 'tempo': 94.095, 'type': 'audio_features', 'id': '4d4oXk7O2lEhZ83ivV93li', 'uri': 'spotify:track:4d4oXk7O2lEhZ83ivV93li', 'track_href': 'https://api.spotify.com/v1/tracks/4d4oXk7O2lEhZ83ivV93li', 'analysis_url': 'https://api.spotify.com/v1/audio-analysis/4d4oXk7O2lEhZ83ivV93li', 'duration_ms': 249880, 'time_signature': 4}, {'danceability': 0.484, 'energy': 0.776, 'key': 9, 'loudness': -6.48, 'mode': 1, 'speechiness': 0.0312, 'acousticness': 0.00371, 'instrumentalness': 0.109, 'liveness': 0.131, 'valence': 0.495, 'tempo': 171.935, 'type': 'audio_features', 'id': '1tuwC1Ob5vnYZhvg3zyzJg', 'uri': 'spotify:track:1tuwC1Ob5vnYZhvg3zyzJg', 'track_href': 'https://api.spotify.com/v1/tracks/1tuwC1Ob5vnYZhvg3zyzJg', 'analysis_url': 'https://api.spotify.com/v1/audio-analysis/1tuwC1Ob5vnYZhvg3zyzJg', 'duration_ms': 448467, 'time_signature': 4}, None, {'danceability': 0.645, 'energy': 0.713, 'key': 6, 'loudness': -5.355, 'mode': 1, 'speechiness': 0.0393, 'acousticness': 0.00835, 'instrumentalness': 0, 'liveness': 0.113, 'valence': 0.566, 'tempo': 74.989, 'type': 'audio_features', 'id': '2Z8WuEywRWYTKe1NybPQEW', 'uri': 'spotify:track:2Z8WuEywRWYTKe1NybPQEW', 'track_href': 'https://api.spotify.com/v1/tracks/2Z8WuEywRWYTKe1NybPQEW', 'analysis_url': 'https://api.spotify.com/v1/audio-analysis/2Z8WuEywRWYTKe1NybPQEW', 'duration_ms': 214507, 'time_signature': 4}, {'danceability': 0.732, 'energy': 0.396, 'key': 4, 'loudness': -9.348, 'mode': 0, 'speechiness': 0.0286, 'acousticness': 0.0841, 'instrumentalness': 3.58e-05, 'liveness': 0.105, 'valence': 0.548, 'tempo': 90.024, 'type': 'audio_features', 'id': '6i0V12jOa3mr6uu4WYhUBr', 'uri': 'spotify:track:6i0V12jOa3mr6uu4WYhUBr', 'track_href': 'https://api.spotify.com/v1/tracks/6i0V12jOa3mr6uu4WYhUBr', 'analysis_url': 'https://api.spotify.com/v1/audio-analysis/6i0V12jOa3mr6uu4WYhUBr', 'duration_ms': 195920, 'time_signature': 4}, {'danceability': 0.609, 'energy': 0.674, 'key': 10, 'loudness': -7.388, 'mode': 0, 'speechiness': 0.0548, 'acousticness': 0.0735, 'instrumentalness': 0.06, 'liveness': 0.345, 'valence': 0.315, 'tempo': 90.009, 'type': 'audio_features', 'id': '23OXdR7YuUBVWh5hSnYJau', 'uri': 'spotify:track:23OXdR7YuUBVWh5hSnYJau', 'track_href': 'https://api.spotify.com/v1/tracks/23OXdR7YuUBVWh5hSnYJau', 'analysis_url': 'https://api.spotify.com/v1/audio-analysis/23OXdR7YuUBVWh5hSnYJau', 'duration_ms': 324467, 'time_signature': 4}, {'danceability': 0.588, 'energy': 0.856, 'key': 9, 'loudness': -5.242, 'mode': 0, 'speechiness': 0.0316, 'acousticness': 0.000818, 'instrumentalness': 0.0739, 'liveness': 0.238, 'valence': 0.635, 'tempo': 96.966, 'type': 'audio_features', 'id': '2nG54Y4a3sH9YpfxMolOyi', 'uri': 'spotify:track:2nG54Y4a3sH9YpfxMolOyi', 'track_href': 'https://api.spotify.com/v1/tracks/2nG54Y4a3sH9YpfxMolOyi', 'analysis_url': 'https://api.spotify.com/v1/audio-analysis/2nG54Y4a3sH9YpfxMolOyi', 'duration_ms': 175044, 'time_signature': 4}, {'danceability': 0.687, 'energy': 0.89, 'key': 8, 'loudness': -5.99, 'mode': 1, 'speechiness': 0.0344, 'acousticness': 0.00396, 'instrumentalness': 0.000939, 'liveness': 0.0436, 'valence': 0.854, 'tempo': 113.06, 'type': 'audio_features', 'id': '60dwJ8dnqZ4WrIdiu7LkNR', 'uri': 'spotify:track:60dwJ8dnqZ4WrIdiu7LkNR', 'track_href': 'https://api.spotify.com/v1/tracks/60dwJ8dnqZ4WrIdiu7LkNR', 'analysis_url': 'https://api.spotify.com/v1/audio-analysis/60dwJ8dnqZ4WrIdiu7LkNR', 'duration_ms': 172232, 'time_signature': 4}, {'danceability': 0.655, 'energy': 0.632, 'key': 2, 'loudness': -4.802, 'mode': 1, 'speechiness': 0.0489, 'acousticness': 0.0189, 'instrumentalness': 0, 'liveness': 0.0722, 'valence': 0.447, 'tempo': 120.113, 'type': 'audio_features', 'id': '3bnVBN67NBEzedqQuWrpP4', 'uri': 'spotify:track:3bnVBN67NBEzedqQuWrpP4', 'track_href': 'https://api.spotify.com/v1/tracks/3bnVBN67NBEzedqQuWrpP4', 'analysis_url': 'https://api.spotify.com/v1/audio-analysis/3bnVBN67NBEzedqQuWrpP4', 'duration_ms': 188493, 'time_signature': 4}, {'danceability': 0.754, 'energy': 0.583, 'key': 4, 'loudness': -7.34, 'mode': 0, 'speechiness': 0.0432, 'acousticness': 0.32, 'instrumentalness': 0.00015, 'liveness': 0.144, 'valence': 0.77, 'tempo': 122.012, 'type': 'audio_features', 'id': '6xZ4Q2k2ompmDppyeESIY8', 'uri': 'spotify:track:6xZ4Q2k2ompmDppyeESIY8', 'track_href': 'https://api.spotify.com/v1/tracks/6xZ4Q2k2ompmDppyeESIY8', 'analysis_url': 'https://api.spotify.com/v1/audio-analysis/6xZ4Q2k2ompmDppyeESIY8', 'duration_ms': 220051, 'time_signature': 4}, {'danceability': 0.766, 'energy': 0.519, 'key': 9, 'loudness': -7.355, 'mode': 0, 'speechiness': 0.0366, 'acousticness': 0.098, 'instrumentalness': 0, 'liveness': 0.0855, 'valence': 0.612, 'tempo': 129.972, 'type': 'audio_features', 'id': '5cbpoIu3YjoOwbBDGUEp3P', 'uri': 'spotify:track:5cbpoIu3YjoOwbBDGUEp3P', 'track_href': 'https://api.spotify.com/v1/tracks/5cbpoIu3YjoOwbBDGUEp3P', 'analysis_url': 'https://api.spotify.com/v1/audio-analysis/5cbpoIu3YjoOwbBDGUEp3P', 'duration_ms': 267720, 'time_signature': 4}, None, {'danceability': 0.743, 'energy': 0.429, 'key': 10, 'loudness': -14.576, 'mode': 0, 'speechiness': 0.0902, 'acousticness': 0.447, 'instrumentalness': 0.362, 'liveness': 0.0455, 'valence': 0.597, 'tempo': 95.406, 'type': 'audio_features', 'id': '5fdNHVZHbWB1AaXk4RBGVD', 'uri': 'spotify:track:5fdNHVZHbWB1AaXk4RBGVD', 'track_href': 'https://api.spotify.com/v1/tracks/5fdNHVZHbWB1AaXk4RBGVD', 'analysis_url': 'https://api.spotify.com/v1/audio-analysis/5fdNHVZHbWB1AaXk4RBGVD', 'duration_ms': 443773, 'time_signature': 4}, {'danceability': 0.734, 'energy': 0.64, 'key': 5, 'loudness': -8.471, 'mode': 0, 'speechiness': 0.0661, 'acousticness': 0.00606, 'instrumentalness': 0.37, 'liveness': 0.0602, 'valence': 0.868, 'tempo': 103.812, 'type': 'audio_features', 'id': '2fmXnPfzguSp3zKDibCBgv', 'uri': 'spotify:track:2fmXnPfzguSp3zKDibCBgv', 'track_href': 'https://api.spotify.com/v1/tracks/2fmXnPfzguSp3zKDibCBgv', 'analysis_url': 'https://api.spotify.com/v1/audio-analysis/2fmXnPfzguSp3zKDibCBgv', 'duration_ms': 541827, 'time_signature': 4}, {'danceability': 0.766, 'energy': 0.381, 'key': 10, 'loudness': -14.456, 'mode': 0, 'speechiness': 0.0805, 'acousticness': 0.18, 'instrumentalness': 0.0844, 'liveness': 0.48, 'valence': 0.634, 'tempo': 98.862, 'type': 'audio_features', 'id': '0nN2D5xwVtLrgUw0TIQ5CI', 'uri': 'spotify:track:0nN2D5xwVtLrgUw0TIQ5CI', 'track_href': 'https://api.spotify.com/v1/tracks/0nN2D5xwVtLrgUw0TIQ5CI', 'analysis_url': 'https://api.spotify.com/v1/audio-analysis/0nN2D5xwVtLrgUw0TIQ5CI', 'duration_ms': 452573, 'time_signature': 4}, {'danceability': 0.424, 'energy': 0.432, 'key': 8, 'loudness': -13.014, 'mode': 1, 'speechiness': 0.0422, 'acousticness': 0.593, 'instrumentalness': 0.344, 'liveness': 0.0764, 'valence': 0.832, 'tempo': 174.03, 'type': 'audio_features', 'id': '4TYEIckMi7PTCh1kiknKSy', 'uri': 'spotify:track:4TYEIckMi7PTCh1kiknKSy', 'track_href': 'https://api.spotify.com/v1/tracks/4TYEIckMi7PTCh1kiknKSy', 'analysis_url': 'https://api.spotify.com/v1/audio-analysis/4TYEIckMi7PTCh1kiknKSy', 'duration_ms': 479467, 'time_signature': 4}, {'danceability': 0.743, 'energy': 0.352, 'key': 9, 'loudness': -17.225, 'mode': 0, 'speechiness': 0.061, 'acousticness': 0.146, 'instrumentalness': 0.104, 'liveness': 0.0585, 'valence': 0.722, 'tempo': 108.785, 'type': 'audio_features', 'id': '6jY7UcNWda03nyJ5XiqlYt', 'uri': 'spotify:track:6jY7UcNWda03nyJ5XiqlYt', 'track_href': 'https://api.spotify.com/v1/tracks/6jY7UcNWda03nyJ5XiqlYt', 'analysis_url': 'https://api.spotify.com/v1/audio-analysis/6jY7UcNWda03nyJ5XiqlYt', 'duration_ms': 350600, 'time_signature': 4}, {'danceability': 0.785, 'energy': 0.302, 'key': 0, 'loudness': -14.555, 'mode': 0, 'speechiness': 0.0551, 'acousticness': 0.735, 'instrumentalness': 0.12, 'liveness': 0.123, 'valence': 0.467, 'tempo': 122.979, 'type': 'audio_features', 'id': '21qeCg7VQMQ6nVBCVFeoKD', 'uri': 'spotify:track:21qeCg7VQMQ6nVBCVFeoKD', 'track_href': 'https://api.spotify.com/v1/tracks/21qeCg7VQMQ6nVBCVFeoKD', 'analysis_url': 'https://api.spotify.com/v1/audio-analysis/21qeCg7VQMQ6nVBCVFeoKD', 'duration_ms': 392027, 'time_signature': 4}, {'danceability': 0.719, 'energy': 0.222, 'key': 10, 'loudness': -18.644, 'mode': 1, 'speechiness': 0.052, 'acousticness': 0.623, 'instrumentalness': 0.91, 'liveness': 0.0991, 'valence': 0.499, 'tempo': 92.409, 'type': 'audio_features', 'id': '6P5qgQNPHQdknn3tA7bmsN', 'uri': 'spotify:track:6P5qgQNPHQdknn3tA7bmsN', 'track_href': 'https://api.spotify.com/v1/tracks/6P5qgQNPHQdknn3tA7bmsN', 'analysis_url': 'https://api.spotify.com/v1/audio-analysis/6P5qgQNPHQdknn3tA7bmsN', 'duration_ms': 326773, 'time_signature': 4}, {'danceability': 0.579, 'energy': 0.437, 'key': 1, 'loudness': -12.721, 'mode': 1, 'speechiness': 0.0526, 'acousticness': 0.0427, 'instrumentalness': 0.0483, 'liveness': 0.0603, 'valence': 0.732, 'tempo': 91.866, 'type': 'audio_features', 'id': '7gNrC7OWXD4sp3JZiGEjUc', 'uri': 'spotify:track:7gNrC7OWXD4sp3JZiGEjUc', 'track_href': 'https://api.spotify.com/v1/tracks/7gNrC7OWXD4sp3JZiGEjUc', 'analysis_url': 'https://api.spotify.com/v1/audio-analysis/7gNrC7OWXD4sp3JZiGEjUc', 'duration_ms': 457880, 'time_signature': 4}, None, {'danceability': 0.429, 'energy': 0.661, 'key': 11, 'loudness': -7.227, 'mode': 1, 'speechiness': 0.0281, 'acousticness': 0.00239, 'instrumentalness': 0.000121, 'liveness': 0.234, 'valence': 0.285, 'tempo': 173.372, 'type': 'audio_features', 'id': '3AJwUDP919kvQ9QcozQPxg', 'uri': 'spotify:track:3AJwUDP919kvQ9QcozQPxg', 'track_href': 'https://api.spotify.com/v1/tracks/3AJwUDP919kvQ9QcozQPxg', 'analysis_url': 'https://api.spotify.com/v1/audio-analysis/3AJwUDP919kvQ9QcozQPxg', 'duration_ms': 266773, 'time_signature': 4}, {'danceability': 0.592, 'energy': 0.342, 'key': 0, 'loudness': -8.93, 'mode': 1, 'speechiness': 0.0339, 'acousticness': 0.193, 'instrumentalness': 0.00245, 'liveness': 0.11, 'valence': 0.155, 'tempo': 130.953, 'type': 'audio_features', 'id': '4cGqn0E8JCSY9gQllQj4Mf', 'uri': 'spotify:track:4cGqn0E8JCSY9gQllQj4Mf', 'track_href': 'https://api.spotify.com/v1/tracks/4cGqn0E8JCSY9gQllQj4Mf', 'analysis_url': 'https://api.spotify.com/v1/audio-analysis/4cGqn0E8JCSY9gQllQj4Mf', 'duration_ms': 241595, 'time_signature': 4}, {'danceability': 0.557, 'energy': 0.442, 'key': 5, 'loudness': -7.224, 'mode': 1, 'speechiness': 0.0243, 'acousticness': 0.731, 'instrumentalness': 1.46e-05, 'liveness': 0.11, 'valence': 0.213, 'tempo': 146.277, 'type': 'audio_features', 'id': '75JFxkI2RXiU7L9VXzMkle', 'uri': 'spotify:track:75JFxkI2RXiU7L9VXzMkle', 'track_href': 'https://api.spotify.com/v1/tracks/75JFxkI2RXiU7L9VXzMkle', 'analysis_url': 'https://api.spotify.com/v1/audio-analysis/75JFxkI2RXiU7L9VXzMkle', 'duration_ms': 309600, 'time_signature': 4}, {'danceability': 0.617, 'energy': 0.635, 'key': 11, 'loudness': -6.769, 'mode': 0, 'speechiness': 0.0317, 'acousticness': 0.0498, 'instrumentalness': 1.44e-05, 'liveness': 0.164, 'valence': 0.446, 'tempo': 103.019, 'type': 'audio_features', 'id': '6RUKPb4LETWmmr3iAEQktW', 'uri': 'spotify:track:6RUKPb4LETWmmr3iAEQktW', 'track_href': 'https://api.spotify.com/v1/tracks/6RUKPb4LETWmmr3iAEQktW', 'analysis_url': 'https://api.spotify.com/v1/audio-analysis/6RUKPb4LETWmmr3iAEQktW', 'duration_ms': 247160, 'time_signature': 4}, {'danceability': 0.209, 'energy': 0.417, 'key': 3, 'loudness': -8.74, 'mode': 1, 'speechiness': 0.0338, 'acousticness': 0.164, 'instrumentalness': 0.00196, 'liveness': 0.113, 'valence': 0.124, 'tempo': 138.178, 'type': 'audio_features', 'id': '7LVHVU3tWfcxj5aiPFEW4Q', 'uri': 'spotify:track:7LVHVU3tWfcxj5aiPFEW4Q', 'track_href': 'https://api.spotify.com/v1/tracks/7LVHVU3tWfcxj5aiPFEW4Q', 'analysis_url': 'https://api.spotify.com/v1/audio-analysis/7LVHVU3tWfcxj5aiPFEW4Q', 'duration_ms': 295533, 'time_signature': 4}, {'danceability': 0.491, 'energy': 0.693, 'key': 0, 'loudness': -6.487, 'mode': 0, 'speechiness': 0.0377, 'acousticness': 0.211, 'instrumentalness': 6.92e-06, 'liveness': 0.325, 'valence': 0.412, 'tempo': 90.027, 'type': 'audio_features', 'id': '3RiPr603aXAoi4GHyXx0uy', 'uri': 'spotify:track:3RiPr603aXAoi4GHyXx0uy', 'track_href': 'https://api.spotify.com/v1/tracks/3RiPr603aXAoi4GHyXx0uy', 'analysis_url': 'https://api.spotify.com/v1/audio-analysis/3RiPr603aXAoi4GHyXx0uy', 'duration_ms': 258267, 'time_signature': 4}, {'danceability': 0.449, 'energy': 0.585, 'key': 5, 'loudness': -6.761, 'mode': 1, 'speechiness': 0.0268, 'acousticness': 0.0509, 'instrumentalness': 8.75e-05, 'liveness': 0.0833, 'valence': 0.212, 'tempo': 139.631, 'type': 'audio_features', 'id': '6nek1Nin9q48AVZcWs9e9D', 'uri': 'spotify:track:6nek1Nin9q48AVZcWs9e9D', 'track_href': 'https://api.spotify.com/v1/tracks/6nek1Nin9q48AVZcWs9e9D', 'analysis_url': 'https://api.spotify.com/v1/audio-analysis/6nek1Nin9q48AVZcWs9e9D', 'duration_ms': 278719, 'time_signature': 4}, {'danceability': 0.486, 'energy': 0.617, 'key': 5, 'loudness': -7.115, 'mode': 0, 'speechiness': 0.0287, 'acousticness': 0.0954, 'instrumentalness': 3.23e-06, 'liveness': 0.109, 'valence': 0.417, 'tempo': 138.015, 'type': 'audio_features', 'id': '1mea3bSkSGXuIRvnydlB5b', 'uri': 'spotify:track:1mea3bSkSGXuIRvnydlB5b', 'track_href': 'https://api.spotify.com/v1/tracks/1mea3bSkSGXuIRvnydlB5b', 'analysis_url': 'https://api.spotify.com/v1/audio-analysis/1mea3bSkSGXuIRvnydlB5b', 'duration_ms': 242373, 'time_signature': 4}, None, {'danceability': 0.68, 'energy': 0.527, 'key': 0, 'loudness': -6.748, 'mode': 1, 'speechiness': 0.11, 'acousticness': 0.232, 'instrumentalness': 0.000402, 'liveness': 0.115, 'valence': 0.192, 'tempo': 88.958, 'type': 'audio_features', 'id': '3CQDFLetMMxD5hzAnUk410', 'uri': 'spotify:track:3CQDFLetMMxD5hzAnUk410', 'track_href': 'https://api.spotify.com/v1/tracks/3CQDFLetMMxD5hzAnUk410', 'analysis_url': 'https://api.spotify.com/v1/audio-analysis/3CQDFLetMMxD5hzAnUk410', 'duration_ms': 219681, 'time_signature': 4}, {'danceability': 0.788, 'energy': 0.526, 'key': 9, 'loudness': -8.082, 'mode': 0, 'speechiness': 0.071, 'acousticness': 0.524, 'instrumentalness': 0, 'liveness': 0.285, 'valence': 0.584, 'tempo': 89.012, 'type': 'audio_features', 'id': '7xLYLM5K6S1TwiSdfuhZQg', 'uri': 'spotify:track:7xLYLM5K6S1TwiSdfuhZQg', 'track_href': 'https://api.spotify.com/v1/tracks/7xLYLM5K6S1TwiSdfuhZQg', 'analysis_url': 'https://api.spotify.com/v1/audio-analysis/7xLYLM5K6S1TwiSdfuhZQg', 'duration_ms': 220301, 'time_signature': 4}, {'danceability': 0.74, 'energy': 0.428, 'key': 9, 'loudness': -8.458, 'mode': 1, 'speechiness': 0.0959, 'acousticness': 0.644, 'instrumentalness': 1.76e-05, 'liveness': 0.117, 'valence': 0.281, 'tempo': 84.739, 'type': 'audio_features', 'id': '1ZR473PTTSHGcnyRyidBoA', 'uri': 'spotify:track:1ZR473PTTSHGcnyRyidBoA', 'track_href': 'https://api.spotify.com/v1/tracks/1ZR473PTTSHGcnyRyidBoA', 'analysis_url': 'https://api.spotify.com/v1/audio-analysis/1ZR473PTTSHGcnyRyidBoA', 'duration_ms': 142576, 'time_signature': 4}, {'danceability': 0.804, 'energy': 0.535, 'key': 4, 'loudness': -8.603, 'mode': 0, 'speechiness': 0.143, 'acousticness': 0.486, 'instrumentalness': 0, 'liveness': 0.108, 'valence': 0.628, 'tempo': 151.957, 'type': 'audio_features', 'id': '76NtMPMpA6fuUH4euMYZoD', 'uri': 'spotify:track:76NtMPMpA6fuUH4euMYZoD', 'track_href': 'https://api.spotify.com/v1/tracks/76NtMPMpA6fuUH4euMYZoD', 'analysis_url': 'https://api.spotify.com/v1/audio-analysis/76NtMPMpA6fuUH4euMYZoD', 'duration_ms': 245191, 'time_signature': 4}, {'danceability': 0.783, 'energy': 0.673, 'key': 5, 'loudness': -6.198, 'mode': 1, 'speechiness': 0.0959, 'acousticness': 0.166, 'instrumentalness': 1.98e-05, 'liveness': 0.104, 'valence': 0.813, 'tempo': 169.972, 'type': 'audio_features', 'id': '5SEyiGqIMeZcFpC5ycODJc', 'uri': 'spotify:track:5SEyiGqIMeZcFpC5ycODJc', 'track_href': 'https://api.spotify.com/v1/tracks/5SEyiGqIMeZcFpC5ycODJc', 'analysis_url': 'https://api.spotify.com/v1/audio-analysis/5SEyiGqIMeZcFpC5ycODJc', 'duration_ms': 310588, 'time_signature': 4}, {'danceability': 0.754, 'energy': 0.481, 'key': 0, 'loudness': -7.91, 'mode': 1, 'speechiness': 0.444, 'acousticness': 0.387, 'instrumentalness': 0, 'liveness': 0.35, 'valence': 0.289, 'tempo': 83.907, 'type': 'audio_features', 'id': '7fM24rKaYCTGf85Lj8U2pk', 'uri': 'spotify:track:7fM24rKaYCTGf85Lj8U2pk', 'track_href': 'https://api.spotify.com/v1/tracks/7fM24rKaYCTGf85Lj8U2pk', 'analysis_url': 'https://api.spotify.com/v1/audio-analysis/7fM24rKaYCTGf85Lj8U2pk', 'duration_ms': 180000, 'time_signature': 4}, {'danceability': 0.795, 'energy': 0.238, 'key': 5, 'loudness': -20.338, 'mode': 1, 'speechiness': 0.369, 'acousticness': 0.487, 'instrumentalness': 0.000106, 'liveness': 0.137, 'valence': 0.399, 'tempo': 100.996, 'type': 'audio_features', 'id': '30pCOQE19RvNmHq78Svlkm', 'uri': 'spotify:track:30pCOQE19RvNmHq78Svlkm', 'track_href': 'https://api.spotify.com/v1/tracks/30pCOQE19RvNmHq78Svlkm', 'analysis_url': 'https://api.spotify.com/v1/audio-analysis/30pCOQE19RvNmHq78Svlkm', 'duration_ms': 194851, 'time_signature': 4}, {'danceability': 0.793, 'energy': 0.605, 'key': 1, 'loudness': -4.952, 'mode': 0, 'speechiness': 0.119, 'acousticness': 0.426, 'instrumentalness': 0, 'liveness': 0.334, 'valence': 0.268, 'tempo': 91.068, 'type': 'audio_features', 'id': '2mRwodUOATBk5spcUsEidB', 'uri': 'spotify:track:2mRwodUOATBk5spcUsEidB', 'track_href': 'https://api.spotify.com/v1/tracks/2mRwodUOATBk5spcUsEidB', 'analysis_url': 'https://api.spotify.com/v1/audio-analysis/2mRwodUOATBk5spcUsEidB', 'duration_ms': 184749, 'time_signature': 4}, None, {'danceability': 0.849, 'energy': 0.424, 'key': 5, 'loudness': -9.579, 'mode': 0, 'speechiness': 0.324, 'acousticness': 0.0635, 'instrumentalness': 0, 'liveness': 0.0834, 'valence': 0.153, 'tempo': 145.887, 'type': 'audio_features', 'id': '2BcMwX1MPV6ZHP4tUT9uq6', 'uri': 'spotify:track:2BcMwX1MPV6ZHP4tUT9uq6', 'track_href': 'https://api.spotify.com/v1/tracks/2BcMwX1MPV6ZHP4tUT9uq6', 'analysis_url': 'https://api.spotify.com/v1/audio-analysis/2BcMwX1MPV6ZHP4tUT9uq6', 'duration_ms': 242966, 'time_signature': 4}, {'danceability': 0.666, 'energy': 0.465, 'key': 1, 'loudness': -8.545, 'mode': 1, 'speechiness': 0.26, 'acousticness': 0.0503, 'instrumentalness': 0, 'liveness': 0.215, 'valence': 0.292, 'tempo': 167.937, 'type': 'audio_features', 'id': '40iJIUlhi6renaREYGeIDS', 'uri': 'spotify:track:40iJIUlhi6renaREYGeIDS', 'track_href': 'https://api.spotify.com/v1/tracks/40iJIUlhi6renaREYGeIDS', 'analysis_url': 'https://api.spotify.com/v1/audio-analysis/40iJIUlhi6renaREYGeIDS', 'duration_ms': 291175, 'time_signature': 4}, {'danceability': 0.767, 'energy': 0.438, 'key': 7, 'loudness': -8.726, 'mode': 0, 'speechiness': 0.29, 'acousticness': 0.181, 'instrumentalness': 0, 'liveness': 0.142, 'valence': 0.381, 'tempo': 86.975, 'type': 'audio_features', 'id': '37Nqx7iavZpotJSDXZWbJ3', 'uri': 'spotify:track:37Nqx7iavZpotJSDXZWbJ3', 'track_href': 'https://api.spotify.com/v1/tracks/37Nqx7iavZpotJSDXZWbJ3', 'analysis_url': 'https://api.spotify.com/v1/audio-analysis/37Nqx7iavZpotJSDXZWbJ3', 'duration_ms': 221980, 'time_signature': 4}, {'danceability': 0.423, 'energy': 0.667, 'key': 6, 'loudness': -7.012, 'mode': 0, 'speechiness': 0.326, 'acousticness': 0.758, 'instrumentalness': 0, 'liveness': 0.246, 'valence': 0.496, 'tempo': 86.743, 'type': 'audio_features', 'id': '2HSmyk2qMN8WQjuGhaQgCk', 'uri': 'spotify:track:2HSmyk2qMN8WQjuGhaQgCk', 'track_href': 'https://api.spotify.com/v1/tracks/2HSmyk2qMN8WQjuGhaQgCk', 'analysis_url': 'https://api.spotify.com/v1/audio-analysis/2HSmyk2qMN8WQjuGhaQgCk', 'duration_ms': 336511, 'time_signature': 4}, {'danceability': 0.578, 'energy': 0.449, 'key': 1, 'loudness': -6.349, 'mode': 1, 'speechiness': 0.286, 'acousticness': 0.0618, 'instrumentalness': 2.17e-06, 'liveness': 0.119, 'valence': 0.1, 'tempo': 136.006, 'type': 'audio_features', 'id': '65OVbaJR5O1RmwOQx0875b', 'uri': 'spotify:track:65OVbaJR5O1RmwOQx0875b', 'track_href': 'https://api.spotify.com/v1/tracks/65OVbaJR5O1RmwOQx0875b', 'analysis_url': 'https://api.spotify.com/v1/audio-analysis/65OVbaJR5O1RmwOQx0875b', 'duration_ms': 192956, 'time_signature': 4}, {'danceability': 0.792, 'energy': 0.625, 'key': 1, 'loudness': -5.609, 'mode': 1, 'speechiness': 0.0536, 'acousticness': 0.00776, 'instrumentalness': 0.0018, 'liveness': 0.329, 'valence': 0.37, 'tempo': 103.967, 'type': 'audio_features', 'id': '1zi7xx7UVEFkmKfv06H8x0', 'uri': 'spotify:track:1zi7xx7UVEFkmKfv06H8x0', 'track_href': 'https://api.spotify.com/v1/tracks/1zi7xx7UVEFkmKfv06H8x0', 'analysis_url': 'https://api.spotify.com/v1/audio-analysis/1zi7xx7UVEFkmKfv06H8x0', 'duration_ms': 173987, 'time_signature': 4}, {'danceability': 0.84, 'energy': 0.744, 'key': 1, 'loudness': -4.751, 'mode': 1, 'speechiness': 0.113, 'acousticness': 0.0181, 'instrumentalness': 0, 'liveness': 0.629, 'valence': 0.171, 'tempo': 83.737, 'type': 'audio_features', 'id': '2tUL6dZf1mywCj5WvCPZw6', 'uri': 'spotify:track:2tUL6dZf1mywCj5WvCPZw6', 'track_href': 'https://api.spotify.com/v1/tracks/2tUL6dZf1mywCj5WvCPZw6', 'analysis_url': 'https://api.spotify.com/v1/audio-analysis/2tUL6dZf1mywCj5WvCPZw6', 'duration_ms': 204347, 'time_signature': 4}, {'danceability': 0.761, 'energy': 0.518, 'key': 0, 'loudness': -8.871, 'mode': 1, 'speechiness': 0.134, 'acousticness': 0.244, 'instrumentalness': 3.47e-05, 'liveness': 0.107, 'valence': 0.522, 'tempo': 133.976, 'type': 'audio_features', 'id': '2SAqBLGA283SUiwJ3xOUVI', 'uri': 'spotify:track:2SAqBLGA283SUiwJ3xOUVI', 'track_href': 'https://api.spotify.com/v1/tracks/2SAqBLGA283SUiwJ3xOUVI', 'analysis_url': 'https://api.spotify.com/v1/audio-analysis/2SAqBLGA283SUiwJ3xOUVI', 'duration_ms': 261493, 'time_signature': 4}, None, {'danceability': 0.716, 'energy': 0.426, 'key': 10, 'loudness': -9.576, 'mode': 1, 'speechiness': 0.128, 'acousticness': 0.401, 'instrumentalness': 0, 'liveness': 0.11, 'valence': 0.434, 'tempo': 88.794, 'type': 'audio_features', 'id': '7Gk5OrMYaMRtT2JmgJVAfk', 'uri': 'spotify:track:7Gk5OrMYaMRtT2JmgJVAfk', 'track_href': 'https://api.spotify.com/v1/tracks/7Gk5OrMYaMRtT2JmgJVAfk', 'analysis_url': 'https://api.spotify.com/v1/audio-analysis/7Gk5OrMYaMRtT2JmgJVAfk', 'duration_ms': 202288, 'time_signature': 4}, {'danceability': 0.589, 'energy': 0.542, 'key': 6, 'loudness': -8.359, 'mode': 0, 'speechiness': 0.0746, 'acousticness': 0.125, 'instrumentalness': 3.31e-05, 'liveness': 0.0883, 'valence': 0.327, 'tempo': 100.884, 'type': 'audio_features', 'id': '2LOIoeI16A8jjKubPKoCSa', 'uri': 'spotify:track:2LOIoeI16A8jjKubPKoCSa', 'track_href': 'https://api.spotify.com/v1/tracks/2LOIoeI16A8jjKubPKoCSa', 'analysis_url': 'https://api.spotify.com/v1/audio-analysis/2LOIoeI16A8jjKubPKoCSa', 'duration_ms': 201453, 'time_signature': 4}, {'danceability': 0.676, 'energy': 0.374, 'key': 10, 'loudness': -8.201, 'mode': 1, 'speechiness': 0.0266, 'acousticness': 0.877, 'instrumentalness': 0.000132, 'liveness': 0.165, 'valence': 0.2, 'tempo': 99.825, 'type': 'audio_features', 'id': '2vRBYKWOyHtFMtiK60qRz7', 'uri': 'spotify:track:2vRBYKWOyHtFMtiK60qRz7', 'track_href': 'https://api.spotify.com/v1/tracks/2vRBYKWOyHtFMtiK60qRz7', 'analysis_url': 'https://api.spotify.com/v1/audio-analysis/2vRBYKWOyHtFMtiK60qRz7', 'duration_ms': 205468, 'time_signature': 4}, {'danceability': 0.617, 'energy': 0.533, 'key': 7, 'loudness': -6.386, 'mode': 1, 'speechiness': 0.0395, 'acousticness': 0.47, 'instrumentalness': 0, 'liveness': 0.114, 'valence': 0.589, 'tempo': 123.959, 'type': 'audio_features', 'id': '1PQRwFvNM7xV65bIkHmDtx', 'uri': 'spotify:track:1PQRwFvNM7xV65bIkHmDtx', 'track_href': 'https://api.spotify.com/v1/tracks/1PQRwFvNM7xV65bIkHmDtx', 'analysis_url': 'https://api.spotify.com/v1/audio-analysis/1PQRwFvNM7xV65bIkHmDtx', 'duration_ms': 262552, 'time_signature': 4}, {'danceability': 0.629, 'energy': 0.507, 'key': 10, 'loudness': -6.443, 'mode': 1, 'speechiness': 0.0288, 'acousticness': 0.468, 'instrumentalness': 0, 'liveness': 0.0937, 'valence': 0.55, 'tempo': 94.023, 'type': 'audio_features', 'id': '3KK3nLgrRdycpnYxPDVfMV', 'uri': 'spotify:track:3KK3nLgrRdycpnYxPDVfMV', 'track_href': 'https://api.spotify.com/v1/tracks/3KK3nLgrRdycpnYxPDVfMV', 'analysis_url': 'https://api.spotify.com/v1/audio-analysis/3KK3nLgrRdycpnYxPDVfMV', 'duration_ms': 184267, 'time_signature': 4}, {'danceability': 0.581, 'energy': 0.613, 'key': 0, 'loudness': -9.444, 'mode': 1, 'speechiness': 0.0372, 'acousticness': 0.623, 'instrumentalness': 1.75e-05, 'liveness': 0.212, 'valence': 0.214, 'tempo': 90.098, 'type': 'audio_features', 'id': '3idU6lZVKD6hvGjnpSHde8', 'uri': 'spotify:track:3idU6lZVKD6hvGjnpSHde8', 'track_href': 'https://api.spotify.com/v1/tracks/3idU6lZVKD6hvGjnpSHde8', 'analysis_url': 'https://api.spotify.com/v1/audio-analysis/3idU6lZVKD6hvGjnpSHde8', 'duration_ms': 216829, 'time_signature': 4}, {'danceability': 0.725, 'energy': 0.532, 'key': 4, 'loudness': -10.531, 'mode': 1, 'speechiness': 0.0457, 'acousticness': 0.546, 'instrumentalness': 0.00131, 'liveness': 0.0969, 'valence': 0.559, 'tempo': 103.94, 'type': 'audio_features', 'id': '3bR8wBqLky6b61ROJlaBEF', 'uri': 'spotify:track:3bR8wBqLky6b61ROJlaBEF', 'track_href': 'https://api.spotify.com/v1/tracks/3bR8wBqLky6b61ROJlaBEF', 'analysis_url': 'https://api.spotify.com/v1/audio-analysis/3bR8wBqLky6b61ROJlaBEF', 'duration_ms': 220567, 'time_signature': 4}, {'danceability': 0.747, 'energy': 0.307, 'key': 3, 'loudness': -8.617, 'mode': 1, 'speechiness': 0.0332, 'acousticness': 0.497, 'instrumentalness': 0.000121, 'liveness': 0.131, 'valence': 0.323, 'tempo': 127.841, 'type': 'audio_features', 'id': '0wHLjfLyc26xILjHVMGIHN', 'uri': 'spotify:track:0wHLjfLyc26xILjHVMGIHN', 'track_href': 'https://api.spotify.com/v1/tracks/0wHLjfLyc26xILjHVMGIHN', 'analysis_url': 'https://api.spotify.com/v1/audio-analysis/0wHLjfLyc26xILjHVMGIHN', 'duration_ms': 192715, 'time_signature': 4}, None, {'danceability': 0.611, 'energy': 0.826, 'key': 1, 'loudness': -3.906, 'mode': 0, 'speechiness': 0.0234, 'acousticness': 0.00239, 'instrumentalness': 0.000224, 'liveness': 0.182, 'valence': 0.666, 'tempo': 95.995, 'type': 'audio_features', 'id': '35LdDKNMwvKftENaj1WIwF', 'uri': 'spotify:track:35LdDKNMwvKftENaj1WIwF', 'track_href': 'https://api.spotify.com/v1/tracks/35LdDKNMwvKftENaj1WIwF', 'analysis_url': 'https://api.spotify.com/v1/audio-analysis/35LdDKNMwvKftENaj1WIwF', 'duration_ms': 259680, 'time_signature': 4}, {'danceability': 0.676, 'energy': 0.785, 'key': 11, 'loudness': -5.39, 'mode': 0, 'speechiness': 0.0293, 'acousticness': 0.119, 'instrumentalness': 0, 'liveness': 0.134, 'valence': 0.502, 'tempo': 102.046, 'type': 'audio_features', 'id': '1ozuMsJLTvFIMvlW7AWq95', 'uri': 'spotify:track:1ozuMsJLTvFIMvlW7AWq95', 'track_href': 'https://api.spotify.com/v1/tracks/1ozuMsJLTvFIMvlW7AWq95', 'analysis_url': 'https://api.spotify.com/v1/audio-analysis/1ozuMsJLTvFIMvlW7AWq95', 'duration_ms': 241501, 'time_signature': 4}, {'danceability': 0.616, 'energy': 0.766, 'key': 4, 'loudness': -6.59, 'mode': 0, 'speechiness': 0.0382, 'acousticness': 0.0776, 'instrumentalness': 0, 'liveness': 0.361, 'valence': 0.373, 'tempo': 83.965, 'type': 'audio_features', 'id': '1kEoU9Dmivr2JoOf7ramyT', 'uri': 'spotify:track:1kEoU9Dmivr2JoOf7ramyT', 'track_href': 'https://api.spotify.com/v1/tracks/1kEoU9Dmivr2JoOf7ramyT', 'analysis_url': 'https://api.spotify.com/v1/audio-analysis/1kEoU9Dmivr2JoOf7ramyT', 'duration_ms': 259840, 'time_signature': 4}, {'danceability': 0.661, 'energy': 0.75, 'key': 9, 'loudness': -5.816, 'mode': 0, 'speechiness': 0.0402, 'acousticness': 0.0614, 'instrumentalness': 0, 'liveness': 0.267, 'valence': 0.524, 'tempo': 105.984, 'type': 'audio_features', 'id': '3tUk2PzTp8KCIU4cxstJq1', 'uri': 'spotify:track:3tUk2PzTp8KCIU4cxstJq1', 'track_href': 'https://api.spotify.com/v1/tracks/3tUk2PzTp8KCIU4cxstJq1', 'analysis_url': 'https://api.spotify.com/v1/audio-analysis/3tUk2PzTp8KCIU4cxstJq1', 'duration_ms': 254106, 'time_signature': 4}, {'danceability': 0.57, 'energy': 0.874, 'key': 11, 'loudness': -4.02, 'mode': 0, 'speechiness': 0.0593, 'acousticness': 0.0781, 'instrumentalness': 0, 'liveness': 0.0994, 'valence': 0.329, 'tempo': 88.893, 'type': 'audio_features', 'id': '6Pa10qJeYr5qu777xSieyM', 'uri': 'spotify:track:6Pa10qJeYr5qu777xSieyM', 'track_href': 'https://api.spotify.com/v1/tracks/6Pa10qJeYr5qu777xSieyM', 'analysis_url': 'https://api.spotify.com/v1/audio-analysis/6Pa10qJeYr5qu777xSieyM', 'duration_ms': 249987, 'time_signature': 4}, {'danceability': 0.73, 'energy': 0.866, 'key': 7, 'loudness': -2.693, 'mode': 0, 'speechiness': 0.0263, 'acousticness': 0.0151, 'instrumentalness': 0, 'liveness': 0.249, 'valence': 0.824, 'tempo': 113.004, 'type': 'audio_features', 'id': '6lSypaQOcC6JtzfwpINLGW', 'uri': 'spotify:track:6lSypaQOcC6JtzfwpINLGW', 'track_href': 'https://api.spotify.com/v1/tracks/6lSypaQOcC6JtzfwpINLGW', 'analysis_url': 'https://api.spotify.com/v1/audio-analysis/6lSypaQOcC6JtzfwpINLGW', 'duration_ms': 239293, 'time_signature': 4}, {'danceability': 0.648, 'energy': 0.792, 'key': 0, 'loudness': -6.058, 'mode': 1, 'speechiness': 0.035, 'acousticness': 0.0657, 'instrumentalness': 5.31e-06, 'liveness': 0.0788, 'valence': 0.935, 'tempo': 159.968, 'type': 'audio_features', 'id': '6Vk5QUhQ0v5OjYQIYvL5VL', 'uri': 'spotify:track:6Vk5QUhQ0v5OjYQIYvL5VL', 'track_href': 'https://api.spotify.com/v1/tracks/6Vk5QUhQ0v5OjYQIYvL5VL', 'analysis_url': 'https://api.spotify.com/v1/audio-analysis/6Vk5QUhQ0v5OjYQIYvL5VL', 'duration_ms': 260867, 'time_signature': 4}, {'danceability': 0.639, 'energy': 0.824, 'key': 11, 'loudness': -5.799, 'mode': 0, 'speechiness': 0.153, 'acousticness': 0.12, 'instrumentalness': 0, 'liveness': 0.211, 'valence': 0.612, 'tempo': 100.674, 'type': 'audio_features', 'id': '3v1ipH6EVDlmnTK6tjdgvK', 'uri': 'spotify:track:3v1ipH6EVDlmnTK6tjdgvK', 'track_href': 'https://api.spotify.com/v1/tracks/3v1ipH6EVDlmnTK6tjdgvK', 'analysis_url': 'https://api.spotify.com/v1/audio-analysis/3v1ipH6EVDlmnTK6tjdgvK', 'duration_ms': 222240, 'time_signature': 4}, None, {'danceability': 0.656, 'energy': 0.872, 'key': 11, 'loudness': -5.48, 'mode': 0, 'speechiness': 0.0391, 'acousticness': 0.0291, 'instrumentalness': 0.0248, 'liveness': 0.113, 'valence': 0.619, 'tempo': 114.971, 'type': 'audio_features', 'id': '1tgYWMpHWhhvr0hgOyCZsp', 'uri': 'spotify:track:1tgYWMpHWhhvr0hgOyCZsp', 'track_href': 'https://api.spotify.com/v1/tracks/1tgYWMpHWhhvr0hgOyCZsp', 'analysis_url': 'https://api.spotify.com/v1/audio-analysis/1tgYWMpHWhhvr0hgOyCZsp', 'duration_ms': 293666, 'time_signature': 4}, {'danceability': 0.731, 'energy': 0.784, 'key': 6, 'loudness': -7.183, 'mode': 0, 'speechiness': 0.0437, 'acousticness': 0.121, 'instrumentalness': 0.0492, 'liveness': 0.0983, 'valence': 0.585, 'tempo': 115.495, 'type': 'audio_features', 'id': '2DKrHjjGpq9mWY6iYRsbCW', 'uri': 'spotify:track:2DKrHjjGpq9mWY6iYRsbCW', 'track_href': 'https://api.spotify.com/v1/tracks/2DKrHjjGpq9mWY6iYRsbCW', 'analysis_url': 'https://api.spotify.com/v1/audio-analysis/2DKrHjjGpq9mWY6iYRsbCW', 'duration_ms': 228290, 'time_signature': 4}, {'danceability': 0.564, 'energy': 0.675, 'key': 0, 'loudness': -6.56, 'mode': 0, 'speechiness': 0.0279, 'acousticness': 0.0164, 'instrumentalness': 0.168, 'liveness': 0.224, 'valence': 0.288, 'tempo': 120.042, 'type': 'audio_features', 'id': '0K06J7PCBuocVNdDIFAAHi', 'uri': 'spotify:track:0K06J7PCBuocVNdDIFAAHi', 'track_href': 'https://api.spotify.com/v1/tracks/0K06J7PCBuocVNdDIFAAHi', 'analysis_url': 'https://api.spotify.com/v1/audio-analysis/0K06J7PCBuocVNdDIFAAHi', 'duration_ms': 205366, 'time_signature': 4}, {'danceability': 0.64, 'energy': 0.536, 'key': 11, 'loudness': -7.198, 'mode': 1, 'speechiness': 0.0428, 'acousticness': 0.066, 'instrumentalness': 0.159, 'liveness': 0.165, 'valence': 0.202, 'tempo': 105.039, 'type': 'audio_features', 'id': '61jM1nDeNaCGYkJxdrqZYQ', 'uri': 'spotify:track:61jM1nDeNaCGYkJxdrqZYQ', 'track_href': 'https://api.spotify.com/v1/tracks/61jM1nDeNaCGYkJxdrqZYQ', 'analysis_url': 'https://api.spotify.com/v1/audio-analysis/61jM1nDeNaCGYkJxdrqZYQ', 'duration_ms': 210341, 'time_signature': 4}, {'danceability': 0.698, 'energy': 0.585, 'key': 6, 'loudness': -6.983, 'mode': 0, 'speechiness': 0.0316, 'acousticness': 0.679, 'instrumentalness': 0.0108, 'liveness': 0.0608, 'valence': 0.217, 'tempo': 104.914, 'type': 'audio_features', 'id': '4J7LhtpgtPLzUzfov9p8ed', 'uri': 'spotify:track:4J7LhtpgtPLzUzfov9p8ed', 'track_href': 'https://api.spotify.com/v1/tracks/4J7LhtpgtPLzUzfov9p8ed', 'analysis_url': 'https://api.spotify.com/v1/audio-analysis/4J7LhtpgtPLzUzfov9p8ed', 'duration_ms': 202406, 'time_signature': 4}, {'danceability': 0.598, 'energy': 0.36, 'key': 0, 'loudness': -9.79, 'mode': 1, 'speechiness': 0.0336, 'acousticness': 0.282, 'instrumentalness': 0.000112, 'liveness': 0.107, 'valence': 0.189, 'tempo': 135.017, 'type': 'audio_features', 'id': '03y9nOt5sbZDjY5tDwW5l7', 'uri': 'spotify:track:03y9nOt5sbZDjY5tDwW5l7', 'track_href': 'https://api.spotify.com/v1/tracks/03y9nOt5sbZDjY5tDwW5l7', 'analysis_url': 'https://api.spotify.com/v1/audio-analysis/03y9nOt5sbZDjY5tDwW5l7', 'duration_ms': 293107, 'time_signature': 3}, {'danceability': 0.516, 'energy': 0.729, 'key': 0, 'loudness': -4.926, 'mode': 1, 'speechiness': 0.0367, 'acousticness': 0.0257, 'instrumentalness': 0.00395, 'liveness': 0.399, 'valence': 0.472, 'tempo': 130.014, 'type': 'audio_features', 'id': '5Msgn8PnKtNAu7xqaCyxKS', 'uri': 'spotify:track:5Msgn8PnKtNAu7xqaCyxKS', 'track_href': 'https://api.spotify.com/v1/tracks/5Msgn8PnKtNAu7xqaCyxKS', 'analysis_url': 'https://api.spotify.com/v1/audio-analysis/5Msgn8PnKtNAu7xqaCyxKS', 'duration_ms': 260133, 'time_signature': 4}, {'danceability': 0.401, 'energy': 0.63, 'key': 7, 'loudness': -6.825, 'mode': 0, 'speechiness': 0.0437, 'acousticness': 0.0578, 'instrumentalness': 0.0116, 'liveness': 0.0744, 'valence': 0.314, 'tempo': 135.955, 'type': 'audio_features', 'id': '34B6ugTIaMc30UTou2c171', 'uri': 'spotify:track:34B6ugTIaMc30UTou2c171', 'track_href': 'https://api.spotify.com/v1/tracks/34B6ugTIaMc30UTou2c171', 'analysis_url': 'https://api.spotify.com/v1/audio-analysis/34B6ugTIaMc30UTou2c171', 'duration_ms': 256820, 'time_signature': 3}, {'danceability': 0.677, 'energy': 0.648, 'key': 2, 'loudness': -8.304, 'mode': 1, 'speechiness': 0.0413, 'acousticness': 0.0305, 'instrumentalness': 0.00161, 'liveness': 0.221, 'valence': 0.478, 'tempo': 104.958, 'type': 'audio_features', 'id': '4Y4aXeXs1em12ny74ysEAf', 'uri': 'spotify:track:4Y4aXeXs1em12ny74ysEAf', 'track_href': 'https://api.spotify.com/v1/tracks/4Y4aXeXs1em12ny74ysEAf', 'analysis_url': 'https://api.spotify.com/v1/audio-analysis/4Y4aXeXs1em12ny74ysEAf', 'duration_ms': 232272, 'time_signature': 4}]}\n",
            "{'audio_features': [{'danceability': 0.648, 'energy': 0.792, 'key': 0, 'loudness': -6.058, 'mode': 1, 'speechiness': 0.035, 'acousticness': 0.0657, 'instrumentalness': 5.31e-06, 'liveness': 0.0788, 'valence': 0.935, 'tempo': 159.968, 'type': 'audio_features', 'id': '6Vk5QUhQ0v5OjYQIYvL5VL', 'uri': 'spotify:track:6Vk5QUhQ0v5OjYQIYvL5VL', 'track_href': 'https://api.spotify.com/v1/tracks/6Vk5QUhQ0v5OjYQIYvL5VL', 'analysis_url': 'https://api.spotify.com/v1/audio-analysis/6Vk5QUhQ0v5OjYQIYvL5VL', 'duration_ms': 260867, 'time_signature': 4}, {'danceability': 0.573, 'energy': 0.658, 'key': 1, 'loudness': -5.557, 'mode': 0, 'speechiness': 0.0396, 'acousticness': 0.0195, 'instrumentalness': 0, 'liveness': 0.209, 'valence': 0.481, 'tempo': 105.052, 'type': 'audio_features', 'id': '0uCKawvDKjr0AegelrzSuX', 'uri': 'spotify:track:0uCKawvDKjr0AegelrzSuX', 'track_href': 'https://api.spotify.com/v1/tracks/0uCKawvDKjr0AegelrzSuX', 'analysis_url': 'https://api.spotify.com/v1/audio-analysis/0uCKawvDKjr0AegelrzSuX', 'duration_ms': 236613, 'time_signature': 4}, {'danceability': 0.616, 'energy': 0.766, 'key': 4, 'loudness': -6.59, 'mode': 0, 'speechiness': 0.0382, 'acousticness': 0.0776, 'instrumentalness': 0, 'liveness': 0.361, 'valence': 0.373, 'tempo': 83.965, 'type': 'audio_features', 'id': '1kEoU9Dmivr2JoOf7ramyT', 'uri': 'spotify:track:1kEoU9Dmivr2JoOf7ramyT', 'track_href': 'https://api.spotify.com/v1/tracks/1kEoU9Dmivr2JoOf7ramyT', 'analysis_url': 'https://api.spotify.com/v1/audio-analysis/1kEoU9Dmivr2JoOf7ramyT', 'duration_ms': 259840, 'time_signature': 4}, {'danceability': 0.671, 'energy': 0.885, 'key': 7, 'loudness': -5.39, 'mode': 0, 'speechiness': 0.0305, 'acousticness': 0.0191, 'instrumentalness': 3.83e-06, 'liveness': 0.223, 'valence': 0.55, 'tempo': 119.959, 'type': 'audio_features', 'id': '2eqbY9whZVv4cnwvzbDAfD', 'uri': 'spotify:track:2eqbY9whZVv4cnwvzbDAfD', 'track_href': 'https://api.spotify.com/v1/tracks/2eqbY9whZVv4cnwvzbDAfD', 'analysis_url': 'https://api.spotify.com/v1/audio-analysis/2eqbY9whZVv4cnwvzbDAfD', 'duration_ms': 252293, 'time_signature': 4}, {'danceability': 0.616, 'energy': 0.789, 'key': 9, 'loudness': -6.316, 'mode': 0, 'speechiness': 0.0417, 'acousticness': 0.0755, 'instrumentalness': 2.08e-05, 'liveness': 0.914, 'valence': 0.272, 'tempo': 90.968, 'type': 'audio_features', 'id': '4OYMdVXY6xE9GTvUT5UdCh', 'uri': 'spotify:track:4OYMdVXY6xE9GTvUT5UdCh', 'track_href': 'https://api.spotify.com/v1/tracks/4OYMdVXY6xE9GTvUT5UdCh', 'analysis_url': 'https://api.spotify.com/v1/audio-analysis/4OYMdVXY6xE9GTvUT5UdCh', 'duration_ms': 249013, 'time_signature': 4}, {'danceability': 0.528, 'energy': 0.308, 'key': 9, 'loudness': -9.769, 'mode': 1, 'speechiness': 0.0341, 'acousticness': 0.816, 'instrumentalness': 0, 'liveness': 0.0934, 'valence': 0.256, 'tempo': 80.017, 'type': 'audio_features', 'id': '3iOFY423D3690MfhE74F8A', 'uri': 'spotify:track:3iOFY423D3690MfhE74F8A', 'track_href': 'https://api.spotify.com/v1/tracks/3iOFY423D3690MfhE74F8A', 'analysis_url': 'https://api.spotify.com/v1/audio-analysis/3iOFY423D3690MfhE74F8A', 'duration_ms': 236040, 'time_signature': 4}, {'danceability': 0.721, 'energy': 0.622, 'key': 0, 'loudness': -6.627, 'mode': 1, 'speechiness': 0.0256, 'acousticness': 0.765, 'instrumentalness': 0.000249, 'liveness': 0.117, 'valence': 0.334, 'tempo': 102.907, 'type': 'audio_features', 'id': '1XekWoZnWxXD7yZODzIDmo', 'uri': 'spotify:track:1XekWoZnWxXD7yZODzIDmo', 'track_href': 'https://api.spotify.com/v1/tracks/1XekWoZnWxXD7yZODzIDmo', 'analysis_url': 'https://api.spotify.com/v1/audio-analysis/1XekWoZnWxXD7yZODzIDmo', 'duration_ms': 189133, 'time_signature': 4}, {'danceability': 0.625, 'energy': 0.827, 'key': 4, 'loudness': -6.763, 'mode': 0, 'speechiness': 0.0602, 'acousticness': 0.0802, 'instrumentalness': 0, 'liveness': 0.164, 'valence': 0.613, 'tempo': 165.912, 'type': 'audio_features', 'id': '0fvKgQ0XzWJKEDJSPdNDid', 'uri': 'spotify:track:0fvKgQ0XzWJKEDJSPdNDid', 'track_href': 'https://api.spotify.com/v1/tracks/0fvKgQ0XzWJKEDJSPdNDid', 'analysis_url': 'https://api.spotify.com/v1/audio-analysis/0fvKgQ0XzWJKEDJSPdNDid', 'duration_ms': 278920, 'time_signature': 4}, {'danceability': 0.734, 'energy': 0.752, 'key': 9, 'loudness': -6.049, 'mode': 0, 'speechiness': 0.0386, 'acousticness': 0.00859, 'instrumentalness': 1.84e-05, 'liveness': 0.0852, 'valence': 0.541, 'tempo': 117.998, 'type': 'audio_features', 'id': '37l4Qgcn1CuGlXx0jKhLpi', 'uri': 'spotify:track:37l4Qgcn1CuGlXx0jKhLpi', 'track_href': 'https://api.spotify.com/v1/tracks/37l4Qgcn1CuGlXx0jKhLpi', 'analysis_url': 'https://api.spotify.com/v1/audio-analysis/37l4Qgcn1CuGlXx0jKhLpi', 'duration_ms': 211507, 'time_signature': 4}, None, {'danceability': 0.465, 'energy': 0.841, 'key': 11, 'loudness': -5.767, 'mode': 0, 'speechiness': 0.0633, 'acousticness': 0.00486, 'instrumentalness': 0, 'liveness': 0.109, 'valence': 0.689, 'tempo': 168.743, 'type': 'audio_features', 'id': '4dneV7C1yDt9UtyxrQY375', 'uri': 'spotify:track:4dneV7C1yDt9UtyxrQY375', 'track_href': 'https://api.spotify.com/v1/tracks/4dneV7C1yDt9UtyxrQY375', 'analysis_url': 'https://api.spotify.com/v1/audio-analysis/4dneV7C1yDt9UtyxrQY375', 'duration_ms': 157533, 'time_signature': 4}, {'danceability': 0.43, 'energy': 0.971, 'key': 9, 'loudness': -3.845, 'mode': 1, 'speechiness': 0.0524, 'acousticness': 0.0271, 'instrumentalness': 2.16e-05, 'liveness': 0.185, 'valence': 0.764, 'tempo': 151.219, 'type': 'audio_features', 'id': '76GlO5H5RT6g7y0gev86Nk', 'uri': 'spotify:track:76GlO5H5RT6g7y0gev86Nk', 'track_href': 'https://api.spotify.com/v1/tracks/76GlO5H5RT6g7y0gev86Nk', 'analysis_url': 'https://api.spotify.com/v1/audio-analysis/76GlO5H5RT6g7y0gev86Nk', 'duration_ms': 212000, 'time_signature': 4}, {'danceability': 0.725, 'energy': 0.524, 'key': 11, 'loudness': -11.121, 'mode': 1, 'speechiness': 0.116, 'acousticness': 0.0748, 'instrumentalness': 0.764, 'liveness': 0.0819, 'valence': 0.961, 'tempo': 185.134, 'type': 'audio_features', 'id': '7ABE6G4uQxbNtYgVrpBBPA', 'uri': 'spotify:track:7ABE6G4uQxbNtYgVrpBBPA', 'track_href': 'https://api.spotify.com/v1/tracks/7ABE6G4uQxbNtYgVrpBBPA', 'analysis_url': 'https://api.spotify.com/v1/audio-analysis/7ABE6G4uQxbNtYgVrpBBPA', 'duration_ms': 203267, 'time_signature': 4}, {'danceability': 0.611, 'energy': 0.813, 'key': 9, 'loudness': -7.689, 'mode': 0, 'speechiness': 0.0279, 'acousticness': 0.339, 'instrumentalness': 0.898, 'liveness': 0.224, 'valence': 0.821, 'tempo': 140.112, 'type': 'audio_features', 'id': '0X5C4WjQNubRysTkHOubz3', 'uri': 'spotify:track:0X5C4WjQNubRysTkHOubz3', 'track_href': 'https://api.spotify.com/v1/tracks/0X5C4WjQNubRysTkHOubz3', 'analysis_url': 'https://api.spotify.com/v1/audio-analysis/0X5C4WjQNubRysTkHOubz3', 'duration_ms': 209573, 'time_signature': 4}, {'danceability': 0.541, 'energy': 0.83, 'key': 9, 'loudness': -6.246, 'mode': 1, 'speechiness': 0.0316, 'acousticness': 0.109, 'instrumentalness': 0.701, 'liveness': 0.167, 'valence': 0.711, 'tempo': 142.592, 'type': 'audio_features', 'id': '07CyrZF9eVd02zzIse7tZA', 'uri': 'spotify:track:07CyrZF9eVd02zzIse7tZA', 'track_href': 'https://api.spotify.com/v1/tracks/07CyrZF9eVd02zzIse7tZA', 'analysis_url': 'https://api.spotify.com/v1/audio-analysis/07CyrZF9eVd02zzIse7tZA', 'duration_ms': 177987, 'time_signature': 4}, {'danceability': 0.633, 'energy': 0.62, 'key': 0, 'loudness': -11.271, 'mode': 1, 'speechiness': 0.0648, 'acousticness': 0.34, 'instrumentalness': 0.605, 'liveness': 0.0977, 'valence': 0.421, 'tempo': 81.117, 'type': 'audio_features', 'id': '3O4TPMOgChXOerSdB5WENH', 'uri': 'spotify:track:3O4TPMOgChXOerSdB5WENH', 'track_href': 'https://api.spotify.com/v1/tracks/3O4TPMOgChXOerSdB5WENH', 'analysis_url': 'https://api.spotify.com/v1/audio-analysis/3O4TPMOgChXOerSdB5WENH', 'duration_ms': 354933, 'time_signature': 4}, {'danceability': 0.718, 'energy': 0.557, 'key': 9, 'loudness': -10.679, 'mode': 1, 'speechiness': 0.0328, 'acousticness': 0.185, 'instrumentalness': 0.707, 'liveness': 0.055, 'valence': 0.586, 'tempo': 94.095, 'type': 'audio_features', 'id': '4d4oXk7O2lEhZ83ivV93li', 'uri': 'spotify:track:4d4oXk7O2lEhZ83ivV93li', 'track_href': 'https://api.spotify.com/v1/tracks/4d4oXk7O2lEhZ83ivV93li', 'analysis_url': 'https://api.spotify.com/v1/audio-analysis/4d4oXk7O2lEhZ83ivV93li', 'duration_ms': 249880, 'time_signature': 4}, {'danceability': 0.484, 'energy': 0.776, 'key': 9, 'loudness': -6.48, 'mode': 1, 'speechiness': 0.0312, 'acousticness': 0.00371, 'instrumentalness': 0.109, 'liveness': 0.131, 'valence': 0.495, 'tempo': 171.935, 'type': 'audio_features', 'id': '1tuwC1Ob5vnYZhvg3zyzJg', 'uri': 'spotify:track:1tuwC1Ob5vnYZhvg3zyzJg', 'track_href': 'https://api.spotify.com/v1/tracks/1tuwC1Ob5vnYZhvg3zyzJg', 'analysis_url': 'https://api.spotify.com/v1/audio-analysis/1tuwC1Ob5vnYZhvg3zyzJg', 'duration_ms': 448467, 'time_signature': 4}, None, {'danceability': 0.645, 'energy': 0.713, 'key': 6, 'loudness': -5.355, 'mode': 1, 'speechiness': 0.0393, 'acousticness': 0.00835, 'instrumentalness': 0, 'liveness': 0.113, 'valence': 0.566, 'tempo': 74.989, 'type': 'audio_features', 'id': '2Z8WuEywRWYTKe1NybPQEW', 'uri': 'spotify:track:2Z8WuEywRWYTKe1NybPQEW', 'track_href': 'https://api.spotify.com/v1/tracks/2Z8WuEywRWYTKe1NybPQEW', 'analysis_url': 'https://api.spotify.com/v1/audio-analysis/2Z8WuEywRWYTKe1NybPQEW', 'duration_ms': 214507, 'time_signature': 4}, {'danceability': 0.732, 'energy': 0.396, 'key': 4, 'loudness': -9.348, 'mode': 0, 'speechiness': 0.0286, 'acousticness': 0.0841, 'instrumentalness': 3.58e-05, 'liveness': 0.105, 'valence': 0.548, 'tempo': 90.024, 'type': 'audio_features', 'id': '6i0V12jOa3mr6uu4WYhUBr', 'uri': 'spotify:track:6i0V12jOa3mr6uu4WYhUBr', 'track_href': 'https://api.spotify.com/v1/tracks/6i0V12jOa3mr6uu4WYhUBr', 'analysis_url': 'https://api.spotify.com/v1/audio-analysis/6i0V12jOa3mr6uu4WYhUBr', 'duration_ms': 195920, 'time_signature': 4}, {'danceability': 0.609, 'energy': 0.674, 'key': 10, 'loudness': -7.388, 'mode': 0, 'speechiness': 0.0548, 'acousticness': 0.0735, 'instrumentalness': 0.06, 'liveness': 0.345, 'valence': 0.315, 'tempo': 90.009, 'type': 'audio_features', 'id': '23OXdR7YuUBVWh5hSnYJau', 'uri': 'spotify:track:23OXdR7YuUBVWh5hSnYJau', 'track_href': 'https://api.spotify.com/v1/tracks/23OXdR7YuUBVWh5hSnYJau', 'analysis_url': 'https://api.spotify.com/v1/audio-analysis/23OXdR7YuUBVWh5hSnYJau', 'duration_ms': 324467, 'time_signature': 4}, {'danceability': 0.588, 'energy': 0.856, 'key': 9, 'loudness': -5.242, 'mode': 0, 'speechiness': 0.0316, 'acousticness': 0.000818, 'instrumentalness': 0.0739, 'liveness': 0.238, 'valence': 0.635, 'tempo': 96.966, 'type': 'audio_features', 'id': '2nG54Y4a3sH9YpfxMolOyi', 'uri': 'spotify:track:2nG54Y4a3sH9YpfxMolOyi', 'track_href': 'https://api.spotify.com/v1/tracks/2nG54Y4a3sH9YpfxMolOyi', 'analysis_url': 'https://api.spotify.com/v1/audio-analysis/2nG54Y4a3sH9YpfxMolOyi', 'duration_ms': 175044, 'time_signature': 4}, {'danceability': 0.687, 'energy': 0.89, 'key': 8, 'loudness': -5.99, 'mode': 1, 'speechiness': 0.0344, 'acousticness': 0.00396, 'instrumentalness': 0.000939, 'liveness': 0.0436, 'valence': 0.854, 'tempo': 113.06, 'type': 'audio_features', 'id': '60dwJ8dnqZ4WrIdiu7LkNR', 'uri': 'spotify:track:60dwJ8dnqZ4WrIdiu7LkNR', 'track_href': 'https://api.spotify.com/v1/tracks/60dwJ8dnqZ4WrIdiu7LkNR', 'analysis_url': 'https://api.spotify.com/v1/audio-analysis/60dwJ8dnqZ4WrIdiu7LkNR', 'duration_ms': 172232, 'time_signature': 4}, {'danceability': 0.655, 'energy': 0.632, 'key': 2, 'loudness': -4.802, 'mode': 1, 'speechiness': 0.0489, 'acousticness': 0.0189, 'instrumentalness': 0, 'liveness': 0.0722, 'valence': 0.447, 'tempo': 120.113, 'type': 'audio_features', 'id': '3bnVBN67NBEzedqQuWrpP4', 'uri': 'spotify:track:3bnVBN67NBEzedqQuWrpP4', 'track_href': 'https://api.spotify.com/v1/tracks/3bnVBN67NBEzedqQuWrpP4', 'analysis_url': 'https://api.spotify.com/v1/audio-analysis/3bnVBN67NBEzedqQuWrpP4', 'duration_ms': 188493, 'time_signature': 4}, {'danceability': 0.754, 'energy': 0.583, 'key': 4, 'loudness': -7.34, 'mode': 0, 'speechiness': 0.0432, 'acousticness': 0.32, 'instrumentalness': 0.00015, 'liveness': 0.144, 'valence': 0.77, 'tempo': 122.012, 'type': 'audio_features', 'id': '6xZ4Q2k2ompmDppyeESIY8', 'uri': 'spotify:track:6xZ4Q2k2ompmDppyeESIY8', 'track_href': 'https://api.spotify.com/v1/tracks/6xZ4Q2k2ompmDppyeESIY8', 'analysis_url': 'https://api.spotify.com/v1/audio-analysis/6xZ4Q2k2ompmDppyeESIY8', 'duration_ms': 220051, 'time_signature': 4}, {'danceability': 0.766, 'energy': 0.519, 'key': 9, 'loudness': -7.355, 'mode': 0, 'speechiness': 0.0366, 'acousticness': 0.098, 'instrumentalness': 0, 'liveness': 0.0855, 'valence': 0.612, 'tempo': 129.972, 'type': 'audio_features', 'id': '5cbpoIu3YjoOwbBDGUEp3P', 'uri': 'spotify:track:5cbpoIu3YjoOwbBDGUEp3P', 'track_href': 'https://api.spotify.com/v1/tracks/5cbpoIu3YjoOwbBDGUEp3P', 'analysis_url': 'https://api.spotify.com/v1/audio-analysis/5cbpoIu3YjoOwbBDGUEp3P', 'duration_ms': 267720, 'time_signature': 4}, None, {'danceability': 0.743, 'energy': 0.429, 'key': 10, 'loudness': -14.576, 'mode': 0, 'speechiness': 0.0902, 'acousticness': 0.447, 'instrumentalness': 0.362, 'liveness': 0.0455, 'valence': 0.597, 'tempo': 95.406, 'type': 'audio_features', 'id': '5fdNHVZHbWB1AaXk4RBGVD', 'uri': 'spotify:track:5fdNHVZHbWB1AaXk4RBGVD', 'track_href': 'https://api.spotify.com/v1/tracks/5fdNHVZHbWB1AaXk4RBGVD', 'analysis_url': 'https://api.spotify.com/v1/audio-analysis/5fdNHVZHbWB1AaXk4RBGVD', 'duration_ms': 443773, 'time_signature': 4}, {'danceability': 0.734, 'energy': 0.64, 'key': 5, 'loudness': -8.471, 'mode': 0, 'speechiness': 0.0661, 'acousticness': 0.00606, 'instrumentalness': 0.37, 'liveness': 0.0602, 'valence': 0.868, 'tempo': 103.812, 'type': 'audio_features', 'id': '2fmXnPfzguSp3zKDibCBgv', 'uri': 'spotify:track:2fmXnPfzguSp3zKDibCBgv', 'track_href': 'https://api.spotify.com/v1/tracks/2fmXnPfzguSp3zKDibCBgv', 'analysis_url': 'https://api.spotify.com/v1/audio-analysis/2fmXnPfzguSp3zKDibCBgv', 'duration_ms': 541827, 'time_signature': 4}, {'danceability': 0.766, 'energy': 0.381, 'key': 10, 'loudness': -14.456, 'mode': 0, 'speechiness': 0.0805, 'acousticness': 0.18, 'instrumentalness': 0.0844, 'liveness': 0.48, 'valence': 0.634, 'tempo': 98.862, 'type': 'audio_features', 'id': '0nN2D5xwVtLrgUw0TIQ5CI', 'uri': 'spotify:track:0nN2D5xwVtLrgUw0TIQ5CI', 'track_href': 'https://api.spotify.com/v1/tracks/0nN2D5xwVtLrgUw0TIQ5CI', 'analysis_url': 'https://api.spotify.com/v1/audio-analysis/0nN2D5xwVtLrgUw0TIQ5CI', 'duration_ms': 452573, 'time_signature': 4}, {'danceability': 0.424, 'energy': 0.432, 'key': 8, 'loudness': -13.014, 'mode': 1, 'speechiness': 0.0422, 'acousticness': 0.593, 'instrumentalness': 0.344, 'liveness': 0.0764, 'valence': 0.832, 'tempo': 174.03, 'type': 'audio_features', 'id': '4TYEIckMi7PTCh1kiknKSy', 'uri': 'spotify:track:4TYEIckMi7PTCh1kiknKSy', 'track_href': 'https://api.spotify.com/v1/tracks/4TYEIckMi7PTCh1kiknKSy', 'analysis_url': 'https://api.spotify.com/v1/audio-analysis/4TYEIckMi7PTCh1kiknKSy', 'duration_ms': 479467, 'time_signature': 4}, {'danceability': 0.743, 'energy': 0.352, 'key': 9, 'loudness': -17.225, 'mode': 0, 'speechiness': 0.061, 'acousticness': 0.146, 'instrumentalness': 0.104, 'liveness': 0.0585, 'valence': 0.722, 'tempo': 108.785, 'type': 'audio_features', 'id': '6jY7UcNWda03nyJ5XiqlYt', 'uri': 'spotify:track:6jY7UcNWda03nyJ5XiqlYt', 'track_href': 'https://api.spotify.com/v1/tracks/6jY7UcNWda03nyJ5XiqlYt', 'analysis_url': 'https://api.spotify.com/v1/audio-analysis/6jY7UcNWda03nyJ5XiqlYt', 'duration_ms': 350600, 'time_signature': 4}, {'danceability': 0.785, 'energy': 0.302, 'key': 0, 'loudness': -14.555, 'mode': 0, 'speechiness': 0.0551, 'acousticness': 0.735, 'instrumentalness': 0.12, 'liveness': 0.123, 'valence': 0.467, 'tempo': 122.979, 'type': 'audio_features', 'id': '21qeCg7VQMQ6nVBCVFeoKD', 'uri': 'spotify:track:21qeCg7VQMQ6nVBCVFeoKD', 'track_href': 'https://api.spotify.com/v1/tracks/21qeCg7VQMQ6nVBCVFeoKD', 'analysis_url': 'https://api.spotify.com/v1/audio-analysis/21qeCg7VQMQ6nVBCVFeoKD', 'duration_ms': 392027, 'time_signature': 4}, {'danceability': 0.719, 'energy': 0.222, 'key': 10, 'loudness': -18.644, 'mode': 1, 'speechiness': 0.052, 'acousticness': 0.623, 'instrumentalness': 0.91, 'liveness': 0.0991, 'valence': 0.499, 'tempo': 92.409, 'type': 'audio_features', 'id': '6P5qgQNPHQdknn3tA7bmsN', 'uri': 'spotify:track:6P5qgQNPHQdknn3tA7bmsN', 'track_href': 'https://api.spotify.com/v1/tracks/6P5qgQNPHQdknn3tA7bmsN', 'analysis_url': 'https://api.spotify.com/v1/audio-analysis/6P5qgQNPHQdknn3tA7bmsN', 'duration_ms': 326773, 'time_signature': 4}, {'danceability': 0.579, 'energy': 0.437, 'key': 1, 'loudness': -12.721, 'mode': 1, 'speechiness': 0.0526, 'acousticness': 0.0427, 'instrumentalness': 0.0483, 'liveness': 0.0603, 'valence': 0.732, 'tempo': 91.866, 'type': 'audio_features', 'id': '7gNrC7OWXD4sp3JZiGEjUc', 'uri': 'spotify:track:7gNrC7OWXD4sp3JZiGEjUc', 'track_href': 'https://api.spotify.com/v1/tracks/7gNrC7OWXD4sp3JZiGEjUc', 'analysis_url': 'https://api.spotify.com/v1/audio-analysis/7gNrC7OWXD4sp3JZiGEjUc', 'duration_ms': 457880, 'time_signature': 4}, None, {'danceability': 0.429, 'energy': 0.661, 'key': 11, 'loudness': -7.227, 'mode': 1, 'speechiness': 0.0281, 'acousticness': 0.00239, 'instrumentalness': 0.000121, 'liveness': 0.234, 'valence': 0.285, 'tempo': 173.372, 'type': 'audio_features', 'id': '3AJwUDP919kvQ9QcozQPxg', 'uri': 'spotify:track:3AJwUDP919kvQ9QcozQPxg', 'track_href': 'https://api.spotify.com/v1/tracks/3AJwUDP919kvQ9QcozQPxg', 'analysis_url': 'https://api.spotify.com/v1/audio-analysis/3AJwUDP919kvQ9QcozQPxg', 'duration_ms': 266773, 'time_signature': 4}, {'danceability': 0.592, 'energy': 0.342, 'key': 0, 'loudness': -8.93, 'mode': 1, 'speechiness': 0.0339, 'acousticness': 0.193, 'instrumentalness': 0.00245, 'liveness': 0.11, 'valence': 0.155, 'tempo': 130.953, 'type': 'audio_features', 'id': '4cGqn0E8JCSY9gQllQj4Mf', 'uri': 'spotify:track:4cGqn0E8JCSY9gQllQj4Mf', 'track_href': 'https://api.spotify.com/v1/tracks/4cGqn0E8JCSY9gQllQj4Mf', 'analysis_url': 'https://api.spotify.com/v1/audio-analysis/4cGqn0E8JCSY9gQllQj4Mf', 'duration_ms': 241595, 'time_signature': 4}, {'danceability': 0.557, 'energy': 0.442, 'key': 5, 'loudness': -7.224, 'mode': 1, 'speechiness': 0.0243, 'acousticness': 0.731, 'instrumentalness': 1.46e-05, 'liveness': 0.11, 'valence': 0.213, 'tempo': 146.277, 'type': 'audio_features', 'id': '75JFxkI2RXiU7L9VXzMkle', 'uri': 'spotify:track:75JFxkI2RXiU7L9VXzMkle', 'track_href': 'https://api.spotify.com/v1/tracks/75JFxkI2RXiU7L9VXzMkle', 'analysis_url': 'https://api.spotify.com/v1/audio-analysis/75JFxkI2RXiU7L9VXzMkle', 'duration_ms': 309600, 'time_signature': 4}, {'danceability': 0.617, 'energy': 0.635, 'key': 11, 'loudness': -6.769, 'mode': 0, 'speechiness': 0.0317, 'acousticness': 0.0498, 'instrumentalness': 1.44e-05, 'liveness': 0.164, 'valence': 0.446, 'tempo': 103.019, 'type': 'audio_features', 'id': '6RUKPb4LETWmmr3iAEQktW', 'uri': 'spotify:track:6RUKPb4LETWmmr3iAEQktW', 'track_href': 'https://api.spotify.com/v1/tracks/6RUKPb4LETWmmr3iAEQktW', 'analysis_url': 'https://api.spotify.com/v1/audio-analysis/6RUKPb4LETWmmr3iAEQktW', 'duration_ms': 247160, 'time_signature': 4}, {'danceability': 0.209, 'energy': 0.417, 'key': 3, 'loudness': -8.74, 'mode': 1, 'speechiness': 0.0338, 'acousticness': 0.164, 'instrumentalness': 0.00196, 'liveness': 0.113, 'valence': 0.124, 'tempo': 138.178, 'type': 'audio_features', 'id': '7LVHVU3tWfcxj5aiPFEW4Q', 'uri': 'spotify:track:7LVHVU3tWfcxj5aiPFEW4Q', 'track_href': 'https://api.spotify.com/v1/tracks/7LVHVU3tWfcxj5aiPFEW4Q', 'analysis_url': 'https://api.spotify.com/v1/audio-analysis/7LVHVU3tWfcxj5aiPFEW4Q', 'duration_ms': 295533, 'time_signature': 4}, {'danceability': 0.491, 'energy': 0.693, 'key': 0, 'loudness': -6.487, 'mode': 0, 'speechiness': 0.0377, 'acousticness': 0.211, 'instrumentalness': 6.92e-06, 'liveness': 0.325, 'valence': 0.412, 'tempo': 90.027, 'type': 'audio_features', 'id': '3RiPr603aXAoi4GHyXx0uy', 'uri': 'spotify:track:3RiPr603aXAoi4GHyXx0uy', 'track_href': 'https://api.spotify.com/v1/tracks/3RiPr603aXAoi4GHyXx0uy', 'analysis_url': 'https://api.spotify.com/v1/audio-analysis/3RiPr603aXAoi4GHyXx0uy', 'duration_ms': 258267, 'time_signature': 4}, {'danceability': 0.449, 'energy': 0.585, 'key': 5, 'loudness': -6.761, 'mode': 1, 'speechiness': 0.0268, 'acousticness': 0.0509, 'instrumentalness': 8.75e-05, 'liveness': 0.0833, 'valence': 0.212, 'tempo': 139.631, 'type': 'audio_features', 'id': '6nek1Nin9q48AVZcWs9e9D', 'uri': 'spotify:track:6nek1Nin9q48AVZcWs9e9D', 'track_href': 'https://api.spotify.com/v1/tracks/6nek1Nin9q48AVZcWs9e9D', 'analysis_url': 'https://api.spotify.com/v1/audio-analysis/6nek1Nin9q48AVZcWs9e9D', 'duration_ms': 278719, 'time_signature': 4}, {'danceability': 0.486, 'energy': 0.617, 'key': 5, 'loudness': -7.115, 'mode': 0, 'speechiness': 0.0287, 'acousticness': 0.0954, 'instrumentalness': 3.23e-06, 'liveness': 0.109, 'valence': 0.417, 'tempo': 138.015, 'type': 'audio_features', 'id': '1mea3bSkSGXuIRvnydlB5b', 'uri': 'spotify:track:1mea3bSkSGXuIRvnydlB5b', 'track_href': 'https://api.spotify.com/v1/tracks/1mea3bSkSGXuIRvnydlB5b', 'analysis_url': 'https://api.spotify.com/v1/audio-analysis/1mea3bSkSGXuIRvnydlB5b', 'duration_ms': 242373, 'time_signature': 4}, None, {'danceability': 0.68, 'energy': 0.527, 'key': 0, 'loudness': -6.748, 'mode': 1, 'speechiness': 0.11, 'acousticness': 0.232, 'instrumentalness': 0.000402, 'liveness': 0.115, 'valence': 0.192, 'tempo': 88.958, 'type': 'audio_features', 'id': '3CQDFLetMMxD5hzAnUk410', 'uri': 'spotify:track:3CQDFLetMMxD5hzAnUk410', 'track_href': 'https://api.spotify.com/v1/tracks/3CQDFLetMMxD5hzAnUk410', 'analysis_url': 'https://api.spotify.com/v1/audio-analysis/3CQDFLetMMxD5hzAnUk410', 'duration_ms': 219681, 'time_signature': 4}, {'danceability': 0.788, 'energy': 0.526, 'key': 9, 'loudness': -8.082, 'mode': 0, 'speechiness': 0.071, 'acousticness': 0.524, 'instrumentalness': 0, 'liveness': 0.285, 'valence': 0.584, 'tempo': 89.012, 'type': 'audio_features', 'id': '7xLYLM5K6S1TwiSdfuhZQg', 'uri': 'spotify:track:7xLYLM5K6S1TwiSdfuhZQg', 'track_href': 'https://api.spotify.com/v1/tracks/7xLYLM5K6S1TwiSdfuhZQg', 'analysis_url': 'https://api.spotify.com/v1/audio-analysis/7xLYLM5K6S1TwiSdfuhZQg', 'duration_ms': 220301, 'time_signature': 4}, {'danceability': 0.74, 'energy': 0.428, 'key': 9, 'loudness': -8.458, 'mode': 1, 'speechiness': 0.0959, 'acousticness': 0.644, 'instrumentalness': 1.76e-05, 'liveness': 0.117, 'valence': 0.281, 'tempo': 84.739, 'type': 'audio_features', 'id': '1ZR473PTTSHGcnyRyidBoA', 'uri': 'spotify:track:1ZR473PTTSHGcnyRyidBoA', 'track_href': 'https://api.spotify.com/v1/tracks/1ZR473PTTSHGcnyRyidBoA', 'analysis_url': 'https://api.spotify.com/v1/audio-analysis/1ZR473PTTSHGcnyRyidBoA', 'duration_ms': 142576, 'time_signature': 4}, {'danceability': 0.804, 'energy': 0.535, 'key': 4, 'loudness': -8.603, 'mode': 0, 'speechiness': 0.143, 'acousticness': 0.486, 'instrumentalness': 0, 'liveness': 0.108, 'valence': 0.628, 'tempo': 151.957, 'type': 'audio_features', 'id': '76NtMPMpA6fuUH4euMYZoD', 'uri': 'spotify:track:76NtMPMpA6fuUH4euMYZoD', 'track_href': 'https://api.spotify.com/v1/tracks/76NtMPMpA6fuUH4euMYZoD', 'analysis_url': 'https://api.spotify.com/v1/audio-analysis/76NtMPMpA6fuUH4euMYZoD', 'duration_ms': 245191, 'time_signature': 4}, {'danceability': 0.783, 'energy': 0.673, 'key': 5, 'loudness': -6.198, 'mode': 1, 'speechiness': 0.0959, 'acousticness': 0.166, 'instrumentalness': 1.98e-05, 'liveness': 0.104, 'valence': 0.813, 'tempo': 169.972, 'type': 'audio_features', 'id': '5SEyiGqIMeZcFpC5ycODJc', 'uri': 'spotify:track:5SEyiGqIMeZcFpC5ycODJc', 'track_href': 'https://api.spotify.com/v1/tracks/5SEyiGqIMeZcFpC5ycODJc', 'analysis_url': 'https://api.spotify.com/v1/audio-analysis/5SEyiGqIMeZcFpC5ycODJc', 'duration_ms': 310588, 'time_signature': 4}, {'danceability': 0.754, 'energy': 0.481, 'key': 0, 'loudness': -7.91, 'mode': 1, 'speechiness': 0.444, 'acousticness': 0.387, 'instrumentalness': 0, 'liveness': 0.35, 'valence': 0.289, 'tempo': 83.907, 'type': 'audio_features', 'id': '7fM24rKaYCTGf85Lj8U2pk', 'uri': 'spotify:track:7fM24rKaYCTGf85Lj8U2pk', 'track_href': 'https://api.spotify.com/v1/tracks/7fM24rKaYCTGf85Lj8U2pk', 'analysis_url': 'https://api.spotify.com/v1/audio-analysis/7fM24rKaYCTGf85Lj8U2pk', 'duration_ms': 180000, 'time_signature': 4}, {'danceability': 0.795, 'energy': 0.238, 'key': 5, 'loudness': -20.338, 'mode': 1, 'speechiness': 0.369, 'acousticness': 0.487, 'instrumentalness': 0.000106, 'liveness': 0.137, 'valence': 0.399, 'tempo': 100.996, 'type': 'audio_features', 'id': '30pCOQE19RvNmHq78Svlkm', 'uri': 'spotify:track:30pCOQE19RvNmHq78Svlkm', 'track_href': 'https://api.spotify.com/v1/tracks/30pCOQE19RvNmHq78Svlkm', 'analysis_url': 'https://api.spotify.com/v1/audio-analysis/30pCOQE19RvNmHq78Svlkm', 'duration_ms': 194851, 'time_signature': 4}, {'danceability': 0.793, 'energy': 0.605, 'key': 1, 'loudness': -4.952, 'mode': 0, 'speechiness': 0.119, 'acousticness': 0.426, 'instrumentalness': 0, 'liveness': 0.334, 'valence': 0.268, 'tempo': 91.068, 'type': 'audio_features', 'id': '2mRwodUOATBk5spcUsEidB', 'uri': 'spotify:track:2mRwodUOATBk5spcUsEidB', 'track_href': 'https://api.spotify.com/v1/tracks/2mRwodUOATBk5spcUsEidB', 'analysis_url': 'https://api.spotify.com/v1/audio-analysis/2mRwodUOATBk5spcUsEidB', 'duration_ms': 184749, 'time_signature': 4}, None, {'danceability': 0.849, 'energy': 0.424, 'key': 5, 'loudness': -9.579, 'mode': 0, 'speechiness': 0.324, 'acousticness': 0.0635, 'instrumentalness': 0, 'liveness': 0.0834, 'valence': 0.153, 'tempo': 145.887, 'type': 'audio_features', 'id': '2BcMwX1MPV6ZHP4tUT9uq6', 'uri': 'spotify:track:2BcMwX1MPV6ZHP4tUT9uq6', 'track_href': 'https://api.spotify.com/v1/tracks/2BcMwX1MPV6ZHP4tUT9uq6', 'analysis_url': 'https://api.spotify.com/v1/audio-analysis/2BcMwX1MPV6ZHP4tUT9uq6', 'duration_ms': 242966, 'time_signature': 4}, {'danceability': 0.666, 'energy': 0.465, 'key': 1, 'loudness': -8.545, 'mode': 1, 'speechiness': 0.26, 'acousticness': 0.0503, 'instrumentalness': 0, 'liveness': 0.215, 'valence': 0.292, 'tempo': 167.937, 'type': 'audio_features', 'id': '40iJIUlhi6renaREYGeIDS', 'uri': 'spotify:track:40iJIUlhi6renaREYGeIDS', 'track_href': 'https://api.spotify.com/v1/tracks/40iJIUlhi6renaREYGeIDS', 'analysis_url': 'https://api.spotify.com/v1/audio-analysis/40iJIUlhi6renaREYGeIDS', 'duration_ms': 291175, 'time_signature': 4}, {'danceability': 0.767, 'energy': 0.438, 'key': 7, 'loudness': -8.726, 'mode': 0, 'speechiness': 0.29, 'acousticness': 0.181, 'instrumentalness': 0, 'liveness': 0.142, 'valence': 0.381, 'tempo': 86.975, 'type': 'audio_features', 'id': '37Nqx7iavZpotJSDXZWbJ3', 'uri': 'spotify:track:37Nqx7iavZpotJSDXZWbJ3', 'track_href': 'https://api.spotify.com/v1/tracks/37Nqx7iavZpotJSDXZWbJ3', 'analysis_url': 'https://api.spotify.com/v1/audio-analysis/37Nqx7iavZpotJSDXZWbJ3', 'duration_ms': 221980, 'time_signature': 4}, {'danceability': 0.423, 'energy': 0.667, 'key': 6, 'loudness': -7.012, 'mode': 0, 'speechiness': 0.326, 'acousticness': 0.758, 'instrumentalness': 0, 'liveness': 0.246, 'valence': 0.496, 'tempo': 86.743, 'type': 'audio_features', 'id': '2HSmyk2qMN8WQjuGhaQgCk', 'uri': 'spotify:track:2HSmyk2qMN8WQjuGhaQgCk', 'track_href': 'https://api.spotify.com/v1/tracks/2HSmyk2qMN8WQjuGhaQgCk', 'analysis_url': 'https://api.spotify.com/v1/audio-analysis/2HSmyk2qMN8WQjuGhaQgCk', 'duration_ms': 336511, 'time_signature': 4}, {'danceability': 0.578, 'energy': 0.449, 'key': 1, 'loudness': -6.349, 'mode': 1, 'speechiness': 0.286, 'acousticness': 0.0618, 'instrumentalness': 2.17e-06, 'liveness': 0.119, 'valence': 0.1, 'tempo': 136.006, 'type': 'audio_features', 'id': '65OVbaJR5O1RmwOQx0875b', 'uri': 'spotify:track:65OVbaJR5O1RmwOQx0875b', 'track_href': 'https://api.spotify.com/v1/tracks/65OVbaJR5O1RmwOQx0875b', 'analysis_url': 'https://api.spotify.com/v1/audio-analysis/65OVbaJR5O1RmwOQx0875b', 'duration_ms': 192956, 'time_signature': 4}, {'danceability': 0.792, 'energy': 0.625, 'key': 1, 'loudness': -5.609, 'mode': 1, 'speechiness': 0.0536, 'acousticness': 0.00776, 'instrumentalness': 0.0018, 'liveness': 0.329, 'valence': 0.37, 'tempo': 103.967, 'type': 'audio_features', 'id': '1zi7xx7UVEFkmKfv06H8x0', 'uri': 'spotify:track:1zi7xx7UVEFkmKfv06H8x0', 'track_href': 'https://api.spotify.com/v1/tracks/1zi7xx7UVEFkmKfv06H8x0', 'analysis_url': 'https://api.spotify.com/v1/audio-analysis/1zi7xx7UVEFkmKfv06H8x0', 'duration_ms': 173987, 'time_signature': 4}, {'danceability': 0.84, 'energy': 0.744, 'key': 1, 'loudness': -4.751, 'mode': 1, 'speechiness': 0.113, 'acousticness': 0.0181, 'instrumentalness': 0, 'liveness': 0.629, 'valence': 0.171, 'tempo': 83.737, 'type': 'audio_features', 'id': '2tUL6dZf1mywCj5WvCPZw6', 'uri': 'spotify:track:2tUL6dZf1mywCj5WvCPZw6', 'track_href': 'https://api.spotify.com/v1/tracks/2tUL6dZf1mywCj5WvCPZw6', 'analysis_url': 'https://api.spotify.com/v1/audio-analysis/2tUL6dZf1mywCj5WvCPZw6', 'duration_ms': 204347, 'time_signature': 4}, {'danceability': 0.761, 'energy': 0.518, 'key': 0, 'loudness': -8.871, 'mode': 1, 'speechiness': 0.134, 'acousticness': 0.244, 'instrumentalness': 3.47e-05, 'liveness': 0.107, 'valence': 0.522, 'tempo': 133.976, 'type': 'audio_features', 'id': '2SAqBLGA283SUiwJ3xOUVI', 'uri': 'spotify:track:2SAqBLGA283SUiwJ3xOUVI', 'track_href': 'https://api.spotify.com/v1/tracks/2SAqBLGA283SUiwJ3xOUVI', 'analysis_url': 'https://api.spotify.com/v1/audio-analysis/2SAqBLGA283SUiwJ3xOUVI', 'duration_ms': 261493, 'time_signature': 4}, None, {'danceability': 0.716, 'energy': 0.426, 'key': 10, 'loudness': -9.576, 'mode': 1, 'speechiness': 0.128, 'acousticness': 0.401, 'instrumentalness': 0, 'liveness': 0.11, 'valence': 0.434, 'tempo': 88.794, 'type': 'audio_features', 'id': '7Gk5OrMYaMRtT2JmgJVAfk', 'uri': 'spotify:track:7Gk5OrMYaMRtT2JmgJVAfk', 'track_href': 'https://api.spotify.com/v1/tracks/7Gk5OrMYaMRtT2JmgJVAfk', 'analysis_url': 'https://api.spotify.com/v1/audio-analysis/7Gk5OrMYaMRtT2JmgJVAfk', 'duration_ms': 202288, 'time_signature': 4}, {'danceability': 0.589, 'energy': 0.542, 'key': 6, 'loudness': -8.359, 'mode': 0, 'speechiness': 0.0746, 'acousticness': 0.125, 'instrumentalness': 3.31e-05, 'liveness': 0.0883, 'valence': 0.327, 'tempo': 100.884, 'type': 'audio_features', 'id': '2LOIoeI16A8jjKubPKoCSa', 'uri': 'spotify:track:2LOIoeI16A8jjKubPKoCSa', 'track_href': 'https://api.spotify.com/v1/tracks/2LOIoeI16A8jjKubPKoCSa', 'analysis_url': 'https://api.spotify.com/v1/audio-analysis/2LOIoeI16A8jjKubPKoCSa', 'duration_ms': 201453, 'time_signature': 4}, {'danceability': 0.676, 'energy': 0.374, 'key': 10, 'loudness': -8.201, 'mode': 1, 'speechiness': 0.0266, 'acousticness': 0.877, 'instrumentalness': 0.000132, 'liveness': 0.165, 'valence': 0.2, 'tempo': 99.825, 'type': 'audio_features', 'id': '2vRBYKWOyHtFMtiK60qRz7', 'uri': 'spotify:track:2vRBYKWOyHtFMtiK60qRz7', 'track_href': 'https://api.spotify.com/v1/tracks/2vRBYKWOyHtFMtiK60qRz7', 'analysis_url': 'https://api.spotify.com/v1/audio-analysis/2vRBYKWOyHtFMtiK60qRz7', 'duration_ms': 205468, 'time_signature': 4}, {'danceability': 0.617, 'energy': 0.533, 'key': 7, 'loudness': -6.386, 'mode': 1, 'speechiness': 0.0395, 'acousticness': 0.47, 'instrumentalness': 0, 'liveness': 0.114, 'valence': 0.589, 'tempo': 123.959, 'type': 'audio_features', 'id': '1PQRwFvNM7xV65bIkHmDtx', 'uri': 'spotify:track:1PQRwFvNM7xV65bIkHmDtx', 'track_href': 'https://api.spotify.com/v1/tracks/1PQRwFvNM7xV65bIkHmDtx', 'analysis_url': 'https://api.spotify.com/v1/audio-analysis/1PQRwFvNM7xV65bIkHmDtx', 'duration_ms': 262552, 'time_signature': 4}, {'danceability': 0.629, 'energy': 0.507, 'key': 10, 'loudness': -6.443, 'mode': 1, 'speechiness': 0.0288, 'acousticness': 0.468, 'instrumentalness': 0, 'liveness': 0.0937, 'valence': 0.55, 'tempo': 94.023, 'type': 'audio_features', 'id': '3KK3nLgrRdycpnYxPDVfMV', 'uri': 'spotify:track:3KK3nLgrRdycpnYxPDVfMV', 'track_href': 'https://api.spotify.com/v1/tracks/3KK3nLgrRdycpnYxPDVfMV', 'analysis_url': 'https://api.spotify.com/v1/audio-analysis/3KK3nLgrRdycpnYxPDVfMV', 'duration_ms': 184267, 'time_signature': 4}, {'danceability': 0.581, 'energy': 0.613, 'key': 0, 'loudness': -9.444, 'mode': 1, 'speechiness': 0.0372, 'acousticness': 0.623, 'instrumentalness': 1.75e-05, 'liveness': 0.212, 'valence': 0.214, 'tempo': 90.098, 'type': 'audio_features', 'id': '3idU6lZVKD6hvGjnpSHde8', 'uri': 'spotify:track:3idU6lZVKD6hvGjnpSHde8', 'track_href': 'https://api.spotify.com/v1/tracks/3idU6lZVKD6hvGjnpSHde8', 'analysis_url': 'https://api.spotify.com/v1/audio-analysis/3idU6lZVKD6hvGjnpSHde8', 'duration_ms': 216829, 'time_signature': 4}, {'danceability': 0.725, 'energy': 0.532, 'key': 4, 'loudness': -10.531, 'mode': 1, 'speechiness': 0.0457, 'acousticness': 0.546, 'instrumentalness': 0.00131, 'liveness': 0.0969, 'valence': 0.559, 'tempo': 103.94, 'type': 'audio_features', 'id': '3bR8wBqLky6b61ROJlaBEF', 'uri': 'spotify:track:3bR8wBqLky6b61ROJlaBEF', 'track_href': 'https://api.spotify.com/v1/tracks/3bR8wBqLky6b61ROJlaBEF', 'analysis_url': 'https://api.spotify.com/v1/audio-analysis/3bR8wBqLky6b61ROJlaBEF', 'duration_ms': 220567, 'time_signature': 4}, {'danceability': 0.747, 'energy': 0.307, 'key': 3, 'loudness': -8.617, 'mode': 1, 'speechiness': 0.0332, 'acousticness': 0.497, 'instrumentalness': 0.000121, 'liveness': 0.131, 'valence': 0.323, 'tempo': 127.841, 'type': 'audio_features', 'id': '0wHLjfLyc26xILjHVMGIHN', 'uri': 'spotify:track:0wHLjfLyc26xILjHVMGIHN', 'track_href': 'https://api.spotify.com/v1/tracks/0wHLjfLyc26xILjHVMGIHN', 'analysis_url': 'https://api.spotify.com/v1/audio-analysis/0wHLjfLyc26xILjHVMGIHN', 'duration_ms': 192715, 'time_signature': 4}, None, {'danceability': 0.611, 'energy': 0.826, 'key': 1, 'loudness': -3.906, 'mode': 0, 'speechiness': 0.0234, 'acousticness': 0.00239, 'instrumentalness': 0.000224, 'liveness': 0.182, 'valence': 0.666, 'tempo': 95.995, 'type': 'audio_features', 'id': '35LdDKNMwvKftENaj1WIwF', 'uri': 'spotify:track:35LdDKNMwvKftENaj1WIwF', 'track_href': 'https://api.spotify.com/v1/tracks/35LdDKNMwvKftENaj1WIwF', 'analysis_url': 'https://api.spotify.com/v1/audio-analysis/35LdDKNMwvKftENaj1WIwF', 'duration_ms': 259680, 'time_signature': 4}, {'danceability': 0.676, 'energy': 0.785, 'key': 11, 'loudness': -5.39, 'mode': 0, 'speechiness': 0.0293, 'acousticness': 0.119, 'instrumentalness': 0, 'liveness': 0.134, 'valence': 0.502, 'tempo': 102.046, 'type': 'audio_features', 'id': '1ozuMsJLTvFIMvlW7AWq95', 'uri': 'spotify:track:1ozuMsJLTvFIMvlW7AWq95', 'track_href': 'https://api.spotify.com/v1/tracks/1ozuMsJLTvFIMvlW7AWq95', 'analysis_url': 'https://api.spotify.com/v1/audio-analysis/1ozuMsJLTvFIMvlW7AWq95', 'duration_ms': 241501, 'time_signature': 4}, {'danceability': 0.616, 'energy': 0.766, 'key': 4, 'loudness': -6.59, 'mode': 0, 'speechiness': 0.0382, 'acousticness': 0.0776, 'instrumentalness': 0, 'liveness': 0.361, 'valence': 0.373, 'tempo': 83.965, 'type': 'audio_features', 'id': '1kEoU9Dmivr2JoOf7ramyT', 'uri': 'spotify:track:1kEoU9Dmivr2JoOf7ramyT', 'track_href': 'https://api.spotify.com/v1/tracks/1kEoU9Dmivr2JoOf7ramyT', 'analysis_url': 'https://api.spotify.com/v1/audio-analysis/1kEoU9Dmivr2JoOf7ramyT', 'duration_ms': 259840, 'time_signature': 4}, {'danceability': 0.661, 'energy': 0.75, 'key': 9, 'loudness': -5.816, 'mode': 0, 'speechiness': 0.0402, 'acousticness': 0.0614, 'instrumentalness': 0, 'liveness': 0.267, 'valence': 0.524, 'tempo': 105.984, 'type': 'audio_features', 'id': '3tUk2PzTp8KCIU4cxstJq1', 'uri': 'spotify:track:3tUk2PzTp8KCIU4cxstJq1', 'track_href': 'https://api.spotify.com/v1/tracks/3tUk2PzTp8KCIU4cxstJq1', 'analysis_url': 'https://api.spotify.com/v1/audio-analysis/3tUk2PzTp8KCIU4cxstJq1', 'duration_ms': 254106, 'time_signature': 4}, {'danceability': 0.57, 'energy': 0.874, 'key': 11, 'loudness': -4.02, 'mode': 0, 'speechiness': 0.0593, 'acousticness': 0.0781, 'instrumentalness': 0, 'liveness': 0.0994, 'valence': 0.329, 'tempo': 88.893, 'type': 'audio_features', 'id': '6Pa10qJeYr5qu777xSieyM', 'uri': 'spotify:track:6Pa10qJeYr5qu777xSieyM', 'track_href': 'https://api.spotify.com/v1/tracks/6Pa10qJeYr5qu777xSieyM', 'analysis_url': 'https://api.spotify.com/v1/audio-analysis/6Pa10qJeYr5qu777xSieyM', 'duration_ms': 249987, 'time_signature': 4}, {'danceability': 0.73, 'energy': 0.866, 'key': 7, 'loudness': -2.693, 'mode': 0, 'speechiness': 0.0263, 'acousticness': 0.0151, 'instrumentalness': 0, 'liveness': 0.249, 'valence': 0.824, 'tempo': 113.004, 'type': 'audio_features', 'id': '6lSypaQOcC6JtzfwpINLGW', 'uri': 'spotify:track:6lSypaQOcC6JtzfwpINLGW', 'track_href': 'https://api.spotify.com/v1/tracks/6lSypaQOcC6JtzfwpINLGW', 'analysis_url': 'https://api.spotify.com/v1/audio-analysis/6lSypaQOcC6JtzfwpINLGW', 'duration_ms': 239293, 'time_signature': 4}, {'danceability': 0.648, 'energy': 0.792, 'key': 0, 'loudness': -6.058, 'mode': 1, 'speechiness': 0.035, 'acousticness': 0.0657, 'instrumentalness': 5.31e-06, 'liveness': 0.0788, 'valence': 0.935, 'tempo': 159.968, 'type': 'audio_features', 'id': '6Vk5QUhQ0v5OjYQIYvL5VL', 'uri': 'spotify:track:6Vk5QUhQ0v5OjYQIYvL5VL', 'track_href': 'https://api.spotify.com/v1/tracks/6Vk5QUhQ0v5OjYQIYvL5VL', 'analysis_url': 'https://api.spotify.com/v1/audio-analysis/6Vk5QUhQ0v5OjYQIYvL5VL', 'duration_ms': 260867, 'time_signature': 4}, {'danceability': 0.639, 'energy': 0.824, 'key': 11, 'loudness': -5.799, 'mode': 0, 'speechiness': 0.153, 'acousticness': 0.12, 'instrumentalness': 0, 'liveness': 0.211, 'valence': 0.612, 'tempo': 100.674, 'type': 'audio_features', 'id': '3v1ipH6EVDlmnTK6tjdgvK', 'uri': 'spotify:track:3v1ipH6EVDlmnTK6tjdgvK', 'track_href': 'https://api.spotify.com/v1/tracks/3v1ipH6EVDlmnTK6tjdgvK', 'analysis_url': 'https://api.spotify.com/v1/audio-analysis/3v1ipH6EVDlmnTK6tjdgvK', 'duration_ms': 222240, 'time_signature': 4}, None, {'danceability': 0.656, 'energy': 0.872, 'key': 11, 'loudness': -5.48, 'mode': 0, 'speechiness': 0.0391, 'acousticness': 0.0291, 'instrumentalness': 0.0248, 'liveness': 0.113, 'valence': 0.619, 'tempo': 114.971, 'type': 'audio_features', 'id': '1tgYWMpHWhhvr0hgOyCZsp', 'uri': 'spotify:track:1tgYWMpHWhhvr0hgOyCZsp', 'track_href': 'https://api.spotify.com/v1/tracks/1tgYWMpHWhhvr0hgOyCZsp', 'analysis_url': 'https://api.spotify.com/v1/audio-analysis/1tgYWMpHWhhvr0hgOyCZsp', 'duration_ms': 293666, 'time_signature': 4}, {'danceability': 0.731, 'energy': 0.784, 'key': 6, 'loudness': -7.183, 'mode': 0, 'speechiness': 0.0437, 'acousticness': 0.121, 'instrumentalness': 0.0492, 'liveness': 0.0983, 'valence': 0.585, 'tempo': 115.495, 'type': 'audio_features', 'id': '2DKrHjjGpq9mWY6iYRsbCW', 'uri': 'spotify:track:2DKrHjjGpq9mWY6iYRsbCW', 'track_href': 'https://api.spotify.com/v1/tracks/2DKrHjjGpq9mWY6iYRsbCW', 'analysis_url': 'https://api.spotify.com/v1/audio-analysis/2DKrHjjGpq9mWY6iYRsbCW', 'duration_ms': 228290, 'time_signature': 4}, {'danceability': 0.564, 'energy': 0.675, 'key': 0, 'loudness': -6.56, 'mode': 0, 'speechiness': 0.0279, 'acousticness': 0.0164, 'instrumentalness': 0.168, 'liveness': 0.224, 'valence': 0.288, 'tempo': 120.042, 'type': 'audio_features', 'id': '0K06J7PCBuocVNdDIFAAHi', 'uri': 'spotify:track:0K06J7PCBuocVNdDIFAAHi', 'track_href': 'https://api.spotify.com/v1/tracks/0K06J7PCBuocVNdDIFAAHi', 'analysis_url': 'https://api.spotify.com/v1/audio-analysis/0K06J7PCBuocVNdDIFAAHi', 'duration_ms': 205366, 'time_signature': 4}, {'danceability': 0.64, 'energy': 0.536, 'key': 11, 'loudness': -7.198, 'mode': 1, 'speechiness': 0.0428, 'acousticness': 0.066, 'instrumentalness': 0.159, 'liveness': 0.165, 'valence': 0.202, 'tempo': 105.039, 'type': 'audio_features', 'id': '61jM1nDeNaCGYkJxdrqZYQ', 'uri': 'spotify:track:61jM1nDeNaCGYkJxdrqZYQ', 'track_href': 'https://api.spotify.com/v1/tracks/61jM1nDeNaCGYkJxdrqZYQ', 'analysis_url': 'https://api.spotify.com/v1/audio-analysis/61jM1nDeNaCGYkJxdrqZYQ', 'duration_ms': 210341, 'time_signature': 4}, {'danceability': 0.698, 'energy': 0.585, 'key': 6, 'loudness': -6.983, 'mode': 0, 'speechiness': 0.0316, 'acousticness': 0.679, 'instrumentalness': 0.0108, 'liveness': 0.0608, 'valence': 0.217, 'tempo': 104.914, 'type': 'audio_features', 'id': '4J7LhtpgtPLzUzfov9p8ed', 'uri': 'spotify:track:4J7LhtpgtPLzUzfov9p8ed', 'track_href': 'https://api.spotify.com/v1/tracks/4J7LhtpgtPLzUzfov9p8ed', 'analysis_url': 'https://api.spotify.com/v1/audio-analysis/4J7LhtpgtPLzUzfov9p8ed', 'duration_ms': 202406, 'time_signature': 4}, {'danceability': 0.598, 'energy': 0.36, 'key': 0, 'loudness': -9.79, 'mode': 1, 'speechiness': 0.0336, 'acousticness': 0.282, 'instrumentalness': 0.000112, 'liveness': 0.107, 'valence': 0.189, 'tempo': 135.017, 'type': 'audio_features', 'id': '03y9nOt5sbZDjY5tDwW5l7', 'uri': 'spotify:track:03y9nOt5sbZDjY5tDwW5l7', 'track_href': 'https://api.spotify.com/v1/tracks/03y9nOt5sbZDjY5tDwW5l7', 'analysis_url': 'https://api.spotify.com/v1/audio-analysis/03y9nOt5sbZDjY5tDwW5l7', 'duration_ms': 293107, 'time_signature': 3}, {'danceability': 0.516, 'energy': 0.729, 'key': 0, 'loudness': -4.926, 'mode': 1, 'speechiness': 0.0367, 'acousticness': 0.0257, 'instrumentalness': 0.00395, 'liveness': 0.399, 'valence': 0.472, 'tempo': 130.014, 'type': 'audio_features', 'id': '5Msgn8PnKtNAu7xqaCyxKS', 'uri': 'spotify:track:5Msgn8PnKtNAu7xqaCyxKS', 'track_href': 'https://api.spotify.com/v1/tracks/5Msgn8PnKtNAu7xqaCyxKS', 'analysis_url': 'https://api.spotify.com/v1/audio-analysis/5Msgn8PnKtNAu7xqaCyxKS', 'duration_ms': 260133, 'time_signature': 4}, {'danceability': 0.401, 'energy': 0.63, 'key': 7, 'loudness': -6.825, 'mode': 0, 'speechiness': 0.0437, 'acousticness': 0.0578, 'instrumentalness': 0.0116, 'liveness': 0.0744, 'valence': 0.314, 'tempo': 135.955, 'type': 'audio_features', 'id': '34B6ugTIaMc30UTou2c171', 'uri': 'spotify:track:34B6ugTIaMc30UTou2c171', 'track_href': 'https://api.spotify.com/v1/tracks/34B6ugTIaMc30UTou2c171', 'analysis_url': 'https://api.spotify.com/v1/audio-analysis/34B6ugTIaMc30UTou2c171', 'duration_ms': 256820, 'time_signature': 3}, None, {'danceability': 0.587, 'energy': 0.561, 'key': 0, 'loudness': -6.569, 'mode': 1, 'speechiness': 0.146, 'acousticness': 0.0466, 'instrumentalness': 0, 'liveness': 0.109, 'valence': 0.351, 'tempo': 80.009, 'type': 'audio_features', 'id': '6Hfu9sc7jvv6coyy2LlzBF', 'uri': 'spotify:track:6Hfu9sc7jvv6coyy2LlzBF', 'track_href': 'https://api.spotify.com/v1/tracks/6Hfu9sc7jvv6coyy2LlzBF', 'analysis_url': 'https://api.spotify.com/v1/audio-analysis/6Hfu9sc7jvv6coyy2LlzBF', 'duration_ms': 243187, 'time_signature': 4}, {'danceability': 0.319, 'energy': 0.236, 'key': 5, 'loudness': -9.644, 'mode': 1, 'speechiness': 0.0318, 'acousticness': 0.898, 'instrumentalness': 1.62e-05, 'liveness': 0.272, 'valence': 0.254, 'tempo': 162.351, 'type': 'audio_features', 'id': '7CC6UbCs4iGsePSzFxYxNn', 'uri': 'spotify:track:7CC6UbCs4iGsePSzFxYxNn', 'track_href': 'https://api.spotify.com/v1/tracks/7CC6UbCs4iGsePSzFxYxNn', 'analysis_url': 'https://api.spotify.com/v1/audio-analysis/7CC6UbCs4iGsePSzFxYxNn', 'duration_ms': 156091, 'time_signature': 4}, {'danceability': 0.789, 'energy': 0.858, 'key': 1, 'loudness': -5.542, 'mode': 1, 'speechiness': 0.311, 'acousticness': 0.127, 'instrumentalness': 0, 'liveness': 0.349, 'valence': 0.775, 'tempo': 140.022, 'type': 'audio_features', 'id': '4Li2WHPkuyCdtmokzW2007', 'uri': 'spotify:track:4Li2WHPkuyCdtmokzW2007', 'track_href': 'https://api.spotify.com/v1/tracks/4Li2WHPkuyCdtmokzW2007', 'analysis_url': 'https://api.spotify.com/v1/audio-analysis/4Li2WHPkuyCdtmokzW2007', 'duration_ms': 219333, 'time_signature': 4}, {'danceability': 0.617, 'energy': 0.717, 'key': 10, 'loudness': -7.858, 'mode': 0, 'speechiness': 0.153, 'acousticness': 0.00564, 'instrumentalness': 0, 'liveness': 0.408, 'valence': 0.49, 'tempo': 103.992, 'type': 'audio_features', 'id': '4fzsfWzRhPawzqhX8Qt9F3', 'uri': 'spotify:track:4fzsfWzRhPawzqhX8Qt9F3', 'track_href': 'https://api.spotify.com/v1/tracks/4fzsfWzRhPawzqhX8Qt9F3', 'analysis_url': 'https://api.spotify.com/v1/audio-analysis/4fzsfWzRhPawzqhX8Qt9F3', 'duration_ms': 311867, 'time_signature': 4}, {'danceability': 0.546, 'energy': 0.64, 'key': 8, 'loudness': -5.582, 'mode': 1, 'speechiness': 0.37, 'acousticness': 0.0438, 'instrumentalness': 0, 'liveness': 0.137, 'valence': 0.63, 'tempo': 137.728, 'type': 'audio_features', 'id': '6LNoArVBBVZzUTUiAX2aKO', 'uri': 'spotify:track:6LNoArVBBVZzUTUiAX2aKO', 'track_href': 'https://api.spotify.com/v1/tracks/6LNoArVBBVZzUTUiAX2aKO', 'analysis_url': 'https://api.spotify.com/v1/audio-analysis/6LNoArVBBVZzUTUiAX2aKO', 'duration_ms': 339250, 'time_signature': 4}, {'danceability': 0.79, 'energy': 0.647, 'key': 10, 'loudness': -5.983, 'mode': 0, 'speechiness': 0.136, 'acousticness': 0.0515, 'instrumentalness': 0, 'liveness': 0.248, 'valence': 0.654, 'tempo': 87.999, 'type': 'audio_features', 'id': '4EWCNWgDS8707fNSZ1oaA5', 'uri': 'spotify:track:4EWCNWgDS8707fNSZ1oaA5', 'track_href': 'https://api.spotify.com/v1/tracks/4EWCNWgDS8707fNSZ1oaA5', 'analysis_url': 'https://api.spotify.com/v1/audio-analysis/4EWCNWgDS8707fNSZ1oaA5', 'duration_ms': 211000, 'time_signature': 4}, {'danceability': 0.639, 'energy': 0.628, 'key': 6, 'loudness': -7.578, 'mode': 0, 'speechiness': 0.0399, 'acousticness': 0.0381, 'instrumentalness': 0, 'liveness': 0.386, 'valence': 0.43, 'tempo': 90.482, 'type': 'audio_features', 'id': '31I3Rt1bPa2LrE74DdNizO', 'uri': 'spotify:track:31I3Rt1bPa2LrE74DdNizO', 'track_href': 'https://api.spotify.com/v1/tracks/31I3Rt1bPa2LrE74DdNizO', 'analysis_url': 'https://api.spotify.com/v1/audio-analysis/31I3Rt1bPa2LrE74DdNizO', 'duration_ms': 237507, 'time_signature': 4}, {'danceability': 0.367, 'energy': 0.665, 'key': 1, 'loudness': -2.821, 'mode': 1, 'speechiness': 0.0465, 'acousticness': 0.145, 'instrumentalness': 0, 'liveness': 0.113, 'valence': 0.31, 'tempo': 148.913, 'type': 'audio_features', 'id': '3sNVsP50132BTNlImLx70i', 'uri': 'spotify:track:3sNVsP50132BTNlImLx70i', 'track_href': 'https://api.spotify.com/v1/tracks/3sNVsP50132BTNlImLx70i', 'analysis_url': 'https://api.spotify.com/v1/audio-analysis/3sNVsP50132BTNlImLx70i', 'duration_ms': 229147, 'time_signature': 4}, {'danceability': 0.724, 'energy': 0.573, 'key': 7, 'loudness': -4.113, 'mode': 1, 'speechiness': 0.0549, 'acousticness': 0.118, 'instrumentalness': 0, 'liveness': 0.538, 'valence': 0.438, 'tempo': 113.088, 'type': 'audio_features', 'id': '4KW1lqgSr8TKrvBII0Brf8', 'uri': 'spotify:track:4KW1lqgSr8TKrvBII0Brf8', 'track_href': 'https://api.spotify.com/v1/tracks/4KW1lqgSr8TKrvBII0Brf8', 'analysis_url': 'https://api.spotify.com/v1/audio-analysis/4KW1lqgSr8TKrvBII0Brf8', 'duration_ms': 135920, 'time_signature': 4}]}\n",
            "{'error': {'status': 400, 'message': 'invalid request'}}\n",
            "{'error': {'status': 400, 'message': 'invalid request'}}\n",
            "{'error': {'status': 400, 'message': 'invalid request'}}\n",
            "{'error': {'status': 400, 'message': 'invalid request'}}\n",
            "{'error': {'status': 400, 'message': 'invalid request'}}\n",
            "{'error': {'status': 400, 'message': 'invalid request'}}\n",
            "{'exception': 'Expecting value: line 1 column 1 (char 0)'}\n"
          ]
        }
      ]
    }
  ]
}